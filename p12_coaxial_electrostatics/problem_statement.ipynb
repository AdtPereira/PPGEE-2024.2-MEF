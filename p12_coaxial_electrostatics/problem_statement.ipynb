{
 "cells": [
  {
   "cell_type": "code",
   "execution_count": null,
   "metadata": {},
   "outputs": [],
   "source": [
    "import gmsh\n",
    "import sys\n",
    "import os\n",
    "import import_ipynb\n",
    "import numpy as np\n",
    "import matplotlib.pyplot as plt\n",
    "from scipy.constants import epsilon_0, mu_0\n",
    "from pathlib import Path\n",
    "\n",
    "# Adicionar o diretório raiz do projeto ao sys.path\n",
    "project_root = Path().resolve().parent  \n",
    "sys.path.append(str(project_root))\n",
    "\n",
    "from fem_pos_processing import graph_results"
   ]
  },
  {
   "cell_type": "markdown",
   "metadata": {},
   "source": [
    "# Project 1: Coaxial Problem \n",
    "\n",
    "Considere um cabo coaxial com dois dielétricos apresentado na Figura $(1)$.\n",
    "\n",
    "<figure>\n",
    "    <img src=\"pre_processing/pictures/coaxial_problem.png\" alt=\"Fig.1\" style=\"width:20%;\" />\n",
    "    <figcaption>Figure 1: Geometry of Coaxial Problem.</figcaption>\n",
    "</figure>\n",
    "\n",
    "O raio do condutor interno é ``a`` e do condutor externo é ``b``. O primeiro dielétrico, $\\varepsilon_{1}$, preenche o anel circular entre os raios ``a`` e ``c``, enquanto o segundo dielétrico, $\\varepsilon_{2}$, preenche o anel entre os raios ``c`` e ``b``.  \n",
    "\n",
    "Entre o condutor interno e o externo é aplicada uma diferença de potencial igual a $V$.  \n",
    "\n",
    "Seja $V = 1$ (potencial zero em ``a`` e um em ``b``), $a = 2 \\, mm$, $b = 8 \\, mm$, $c = 5 \\, mm$, $\\varepsilon_{r1} = 2$ e $\\varepsilon_{r2} = 4$. Para este problema, além da convergência nas normas $L_2$ e da energia, calcule a convergência para o valor da capacitância do dispositivo."
   ]
  },
  {
   "cell_type": "markdown",
   "metadata": {},
   "source": [
    "# `coaxial_geometry()`"
   ]
  },
  {
   "cell_type": "code",
   "execution_count": null,
   "metadata": {},
   "outputs": [],
   "source": [
    "def create_domain(FINITE_ELEMENT, BOUNDARY, MATERIAL, h, view_mesh=False, auto_save=True):\n",
    "    # Define os parâmetros de entrada\n",
    "    type, order = FINITE_ELEMENT\n",
    "    radii = {'a': 2e-3, 'b': 8e-3, 'c': 5e-3}\n",
    "\n",
    "    # Inicializar o Gmsh\n",
    "    gmsh.initialize()\n",
    "    gmsh.model.add(\"coaxial_cable\")\n",
    "    factory = gmsh.model.occ\n",
    "\n",
    "    # Criar os círculos com `gmsh.model.occ.addCircle`\n",
    "    inner_circle = factory.addCircle(0, 0, 0, radii['a'])\n",
    "    dielectric_circle = factory.addCircle(0, 0, 0, radii['c'])\n",
    "    outer_circle = factory.addCircle(0, 0, 0, radii['b'])\n",
    "\n",
    "    # Criar loops das curvas\n",
    "    inner_loop = factory.addCurveLoop([inner_circle])\n",
    "    middle_loop = factory.addCurveLoop([dielectric_circle])\n",
    "    outer_loop = factory.addCurveLoop([outer_circle])\n",
    "\n",
    "    # Criar superfícies para os dielétricos\n",
    "    medium_1 = factory.addPlaneSurface([middle_loop, inner_loop])\n",
    "    medium_2 = factory.addPlaneSurface([outer_loop, middle_loop])\n",
    "\n",
    "    # Sincronizar geometria\n",
    "    factory.synchronize()\n",
    "\n",
    "    # Adicionar grupos físicos para Dim=1\n",
    "    gmsh.model.addPhysicalGroup(1, [inner_circle], tag=BOUNDARY[0]['tag'], name=BOUNDARY[0]['name'])\n",
    "    gmsh.model.addPhysicalGroup(1, [outer_circle], tag=BOUNDARY[1]['tag'], name=BOUNDARY[1]['name'])\n",
    "\n",
    "    # Adicionar grupos físicos para Dim=2\n",
    "    gmsh.model.addPhysicalGroup(2, [medium_1], tag=MATERIAL[0]['tag'], name=MATERIAL[0]['name'])\n",
    "    gmsh.model.addPhysicalGroup(2, [medium_2], tag=MATERIAL[1]['tag'], name=MATERIAL[1]['name'])\n",
    "\n",
    "    # Gerar malha 2D\n",
    "    gmsh.option.setNumber(\"Mesh.SaveAll\", 1)\n",
    "\n",
    "    # Definir tipo de elemento\n",
    "    if type == 'Quadrangle':\n",
    "        gmsh.option.setNumber(\"Mesh.Algorithm\", 8)  \n",
    "        gmsh.option.setNumber(\"Mesh.RecombineAll\", 1)\n",
    "        gmsh.option.setNumber(\"Mesh.ElementOrder\", 1)\n",
    "        \n",
    "    # Definir ordem dos elementos\n",
    "    gmsh.option.setNumber(\"Mesh.MeshSizeMax\", h)\n",
    "    gmsh.option.setNumber(\"Mesh.MeshSizeMin\", h)\n",
    "    gmsh.model.mesh.generate(2)\n",
    "    gmsh.model.mesh.setOrder(order)\n",
    "\n",
    "    if auto_save:\n",
    "        # Salvar malha em arquivo\n",
    "        os.makedirs(\"pre_processing/mesh\", exist_ok=True)\n",
    "        file_path = f\"pre_processing/mesh/coaxial_domain_{type}{order}.msh\"\n",
    "        gmsh.write(file_path)\n",
    "\n",
    "        # Visualizar a malha no Gmsh (opcional)\n",
    "        if view_mesh:\n",
    "            gmsh.fltk.run()\n",
    "\n",
    "        # Finalizar Gmsh\n",
    "        gmsh.finalize()"
   ]
  },
  {
   "cell_type": "markdown",
   "metadata": {},
   "source": [
    "# `apply_physics()`"
   ]
  },
  {
   "cell_type": "code",
   "execution_count": null,
   "metadata": {},
   "outputs": [],
   "source": [
    "def apply_physics(FINITE_ELEMENT, mesh_data):\n",
    "    \"\"\"\n",
    "    Adiciona uma nova chave 'source' a cada dicionário em conn_data.\n",
    "    \n",
    "    Parâmetros:\n",
    "    - mesh_data: Dicionário contendo os dados da malha.\n",
    "    - element_type: Tuple (tipo do elemento, ordem).\n",
    "    \n",
    "    Retorna:\n",
    "    - mesh_data: O dicionário atualizado com a chave 'source' em cada elemento de conn_data.\n",
    "    \"\"\"\n",
    "    # Desempacotar o tipo de elemento\n",
    "    type, order = FINITE_ELEMENT\n",
    "    \n",
    "    for key, cell in mesh_data['cell'].items():\n",
    "        # Obter os índices dos nós conectados ao elemento\n",
    "        conn = cell['conn']\n",
    "\n",
    "        if type == 'Triangle':\n",
    "            # Para elementos P1, P2 ou P3, usar os 3 vértices principais\n",
    "            if order in [1, 2, 3]:\n",
    "                vertices = conn[:3]\n",
    "            else:\n",
    "                raise ValueError(\"Tipo de elemento não suportado para triângulos: P1, P2 ou P3 são esperados.\")\n",
    "\n",
    "        elif type == 'Quadrangle':\n",
    "            # Para elementos quadrangulares Q1 e Q2, considerar todos os nós\n",
    "            if order in [1, 2]:\n",
    "                vertices = conn[:4]\n",
    "            else:\n",
    "                raise ValueError(\"Tipo de elemento não suportado para quadriláteros: Q1 ou Q2 são esperados.\")\n",
    "\n",
    "        else:\n",
    "            raise ValueError(\"Tipo de elemento não suportado: apenas Triangle ou Quadrilateral são esperados.\")\n",
    "\n",
    "        # Adicionar a nova chave 'material' ao dicionário da célula\n",
    "        cell['stiffness_a_value'] = cell['material']['relative_electric_permittivity'] * epsilon_0\n",
    "        cell['mass_a_value'] = 1\n",
    "\n",
    "        # Adicionar a nova chave 'source' ao dicionário da célula\n",
    "        cell['source'] = {'type': 'free_source', 'value': 0}\n",
    "\n",
    "    return mesh_data"
   ]
  },
  {
   "cell_type": "markdown",
   "metadata": {},
   "source": [
    "# `potential_and_gradient()`"
   ]
  },
  {
   "cell_type": "code",
   "execution_count": 2,
   "metadata": {},
   "outputs": [],
   "source": [
    "def potential_and_gradient(x, y):\n",
    "    # Raio dos condutores e divisão dos dielétricos (em metros)\n",
    "    a, b, c = 2e-3, 8e-3, 5e-3  \n",
    "    # Constantes dielétricas\n",
    "    epsilon_r1, epsilon_r2 = 2, 4  \n",
    "    # Converter coordenadas cartesianas para polares\n",
    "    r = np.sqrt(x**2 + y**2)\n",
    "    \n",
    "    # Calcular os coeficientes (pré-calculados anteriormente)\n",
    "    denominator = (epsilon_r1 * np.log(b) - epsilon_r1 * np.log(c) - epsilon_r2 * np.log(a) + epsilon_r2 * np.log(c))\n",
    "    A1 = epsilon_r2 / denominator\n",
    "    B1 = -epsilon_r2 * np.log(a) / denominator\n",
    "    A2 = epsilon_r1 / denominator\n",
    "    B2 = (-epsilon_r1 * np.log(c) - epsilon_r2 * np.log(a) + epsilon_r2 * np.log(c)) / denominator\n",
    "\n",
    "    # Verificar a qual região o ponto pertence e calcular o potencial\n",
    "    if a <= r <= c:\n",
    "        # Região 1\n",
    "        u = A1 * np.log(r) + B1\n",
    "        dV_dr = A1 / r\n",
    "    elif c < r <= b:\n",
    "        # Região 2\n",
    "        u = A2 * np.log(r) + B2\n",
    "        dV_dr = A2 / r\n",
    "    else:\n",
    "        u = 0\n",
    "        dV_dr = np.array([0.0, 0.0])\n",
    "\n",
    "    # Gradiente em coordenadas cartesianas\n",
    "    grad_u = (dV_dr / r) * np.array([x, y])\n",
    "    \n",
    "    return u, grad_u"
   ]
  },
  {
   "cell_type": "markdown",
   "metadata": {},
   "source": [
    "# `capacitance()`"
   ]
  },
  {
   "cell_type": "code",
   "execution_count": null,
   "metadata": {},
   "outputs": [
    {
     "name": "stdout",
     "output_type": "stream",
     "text": [
      "Capacitância Analítica: 96.64 pF\n",
      "Total energy: 48.32 pJ\n"
     ]
    }
   ],
   "source": [
    "def capacitance(a, b, c, epsilon_r1, epsilon_r2):\n",
    "    denominator = (1 / epsilon_r1) * np.log(c / a) + (1 / epsilon_r2) * np.log(b / c)\n",
    "    return 2 * np.pi * epsilon_0 / denominator\n",
    "\n",
    "# # Exemplo:\n",
    "# V0 = 1.0\n",
    "# a, b, c = 2e-3, 8e-3, 5e-3\n",
    "# epsilon_r1, epsilon_r2 = 2, 4\n",
    "# cap = capacitance(a, b, c, epsilon_r1, epsilon_r2)\n",
    "# print(f\"Analytical Capacitance: {cap * 1e12:.2f} pF\")\n",
    "# print(f\"Total Energy stored in capacitor: {0.5 * cap * V0**2 * 1e12:.2f} pJ\")"
   ]
  },
  {
   "cell_type": "markdown",
   "metadata": {},
   "source": [
    "# `plot_analytical_solution()`"
   ]
  },
  {
   "cell_type": "code",
   "execution_count": null,
   "metadata": {},
   "outputs": [],
   "source": [
    "def plot_analytical_solution(Npts=500):\n",
    "    # Raio dos condutores e divisão dos dielétricos (em metros)\n",
    "    a, b, c = 2e-3, 8e-3, 5e-3  \n",
    "    # Constantes dielétricas\n",
    "    epsilon_r1, epsilon_r2 = 2, 4  \n",
    "\n",
    "    # Configurar a grade cartesiana\n",
    "    x = np.linspace(-b, b, Npts)\n",
    "    y = np.linspace(-b, b, Npts)\n",
    "    X, Y = np.meshgrid(x, y)\n",
    "    R = np.sqrt(X**2 + Y**2)  # Coordenadas polares r\n",
    "    \n",
    "    # Calcular os coeficientes\n",
    "    denominator = (epsilon_r1 * np.log(b) - epsilon_r1 * np.log(c) - epsilon_r2 * np.log(a) + epsilon_r2 * np.log(c))\n",
    "    A1 = epsilon_r2 / denominator\n",
    "    B1 = -epsilon_r2 * np.log(a) / denominator\n",
    "    A2 = epsilon_r1 / denominator\n",
    "    B2 = (-epsilon_r1 * np.log(c) - epsilon_r2 * np.log(a) + epsilon_r2 * np.log(c)) / denominator\n",
    "\n",
    "    # Inicializar o potencial com NaN (não definido)\n",
    "    V = np.full_like(R, np.nan)\n",
    "\n",
    "    # Calcular o potencial nas regiões do capacitor\n",
    "    region1 = (R >= a) & (R <= c)\n",
    "    region2 = (R > c) & (R <= b)\n",
    "    \n",
    "    V[region1] = A1 * np.log(R[region1]) + B1\n",
    "    V[region2] = A2 * np.log(R[region2]) + B2\n",
    "\n",
    "    # Plotar a distribuição do potencial\n",
    "    plt.figure(figsize=(8, 8))\n",
    "    plt.contourf(X, Y, V, levels=100, cmap=\"viridis\")\n",
    "    plt.colorbar(label=\"Electric Potential (V)\")\n",
    "    plt.xlabel(r'$x \\,(m)$')\n",
    "    plt.ylabel(r'$y \\,(m)$')\n",
    "    plt.axis(\"equal\")\n",
    "    plt.tight_layout()\n",
    "\n",
    "    # Salvar a figura\n",
    "    filepath = graph_results.get_dir(f\"pos_processing/pictures/analytical_solution.svg\")\n",
    "    plt.savefig(filepath, format=\"svg\")\n",
    "    plt.close()\n",
    "    print(f\"Arquivo salvo em: {filepath}\")"
   ]
  },
  {
   "cell_type": "markdown",
   "metadata": {},
   "source": [
    "Conversão do arquivo Jupyter Notebook para um script Python: ``python -m nbconvert --to script name.ipynb``\n",
    "\n",
    "Belo Horizonte, Brazil. 2024.  \n",
    "Adilton Junio Ladeira Pereira - adt@ufmg.br  \n",
    "&copy; All rights reserved."
   ]
  }
 ],
 "metadata": {
  "kernelspec": {
   "display_name": "Python 3",
   "language": "python",
   "name": "python3"
  },
  "language_info": {
   "codemirror_mode": {
    "name": "ipython",
    "version": 3
   },
   "file_extension": ".py",
   "mimetype": "text/x-python",
   "name": "python",
   "nbconvert_exporter": "python",
   "pygments_lexer": "ipython3",
   "version": "3.12.7"
  }
 },
 "nbformat": 4,
 "nbformat_minor": 2
}
