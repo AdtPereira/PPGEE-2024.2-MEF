{
 "cells": [
  {
   "cell_type": "code",
   "execution_count": 1,
   "metadata": {},
   "outputs": [
    {
     "name": "stdout",
     "output_type": "stream",
     "text": [
      "Project root added to sys.path: C:\\Users\\adilt\\OneDrive\\05 GIT\\PPGEE-2024.2-MEF\n",
      "Todas as propriedades foram verificadas com sucesso para os elementos P1!\n",
      "Todas as propriedades foram verificadas com sucesso para os elementos P2!\n",
      "Todas as propriedades foram verificadas com sucesso para os elementos P3!\n",
      "Todas as propriedades foram verificadas com sucesso para os elementos Q1!\n",
      "Todas as propriedades foram verificadas com sucesso para os elementos Q2!\n",
      "Analytical Capacitance: 96.64 pF\n",
      "Total Energy stored in capacitor: 48.32 pJ\n",
      "Modules imports were successful!\n"
     ]
    }
   ],
   "source": [
    "import sys\n",
    "import import_ipynb\n",
    "from scipy.sparse.linalg import spsolve\n",
    "from pathlib import Path\n",
    "\n",
    "# Adicionar o diretório raiz do projeto ao sys.path\n",
    "project_root = Path().resolve().parent  \n",
    "sys.path.append(str(project_root))\n",
    "print(\"Project root added to sys.path:\", project_root)\n",
    "\n",
    "# Importando notebooks diretamente\n",
    "try:\n",
    "    import problem_statement as ps  \n",
    "    from fem_processing import boundary_conditions\n",
    "    from fem_pos_processing import graph_results, fem_analysis\n",
    "    print(\"Modules imports were successful!\")\n",
    "except ModuleNotFoundError as en:\n",
    "    print(f\"Modules were not found: {en}\")\n",
    "except ImportError as en:\n",
    "    print(f\"Error in import: {en}\")\n",
    "    \n",
    "#run ../setup_project.py"
   ]
  },
  {
   "cell_type": "markdown",
   "metadata": {},
   "source": [
    "# Project 1: Coaxial Problem \n",
    "\n",
    "Considere um cabo coaxial com dois dielétricos apresentado na Figura $(1)$.\n",
    "\n",
    "<figure>\n",
    "    <img src=\"pre_processing/pictures/coaxial_problem.png\" alt=\"Fig.1\" style=\"width:20%;\" />\n",
    "    <figcaption>Figure 1: Geometry of Coaxial Problem.</figcaption>\n",
    "</figure>\n",
    "\n",
    "O raio do condutor interno é ``a`` e do condutor externo é ``b``. O primeiro dielétrico, $\\varepsilon_{1}$, preenche o anel circular entre os raios ``a`` e ``c``, enquanto o segundo dielétrico, $\\varepsilon_{2}$, preenche o anel entre os raios ``c`` e ``b``.  \n",
    "\n",
    "Entre o condutor interno e o externo é aplicada uma diferença de potencial igual a $V$.  \n",
    "\n",
    "Seja $V = 1$ (potencial zero em ``a`` e um em ``b``), $a = 2 \\, mm$, $b = 8 \\, mm$, $c = 5 \\, mm$, $\\varepsilon_{r1} = 2$ e $\\varepsilon_{r2} = 4$. Para este problema, além da convergência nas normas $L_2$ e da energia, calcule a convergência para o valor da capacitância do dispositivo."
   ]
  },
  {
   "cell_type": "markdown",
   "metadata": {},
   "source": [
    "# `setTypeProblem()`"
   ]
  },
  {
   "cell_type": "code",
   "execution_count": 2,
   "metadata": {},
   "outputs": [],
   "source": [
    "def setTypeProblem(FINITE_ELEMENT, h):\n",
    "    BOUNDARY = [{'tag': 101, 'type': 'Dirichlet', 'value': 0.0, 'name': 'inner_conductor'},\n",
    "                {'tag': 102, 'type': 'Dirichlet', 'value': 1.0, 'name': 'outer_conductor'}]\n",
    "\n",
    "    MATERIAL = [{'tag': 201, 'name': 'medium_1', \n",
    "                'relative_electric_permittivity': 2, 'relative_magnetic_permeability': 1},\n",
    "                {'tag': 202, 'name': 'medium_2',\n",
    "                'relative_electric_permittivity': 4, 'relative_magnetic_permeability': 1}]\n",
    "    \n",
    "    # Create mesh Structure Data from gmsh\n",
    "    mesh_data = ps.create_domain(FINITE_ELEMENT, BOUNDARY, MATERIAL, h, auto_save=False)\n",
    "    \n",
    "    # Get FEM solution\n",
    "    Agr, fgr, Mgr, Pgr, Qgr = boundary_conditions.reduced_global_matrices(FINITE_ELEMENT, mesh_data)\n",
    "    uhr = spsolve(Agr.tocsr(), fgr.toarray())\n",
    "    uh =  boundary_conditions.global_potentials_solution(mesh_data, uhr)\n",
    "    return uh, mesh_data"
   ]
  },
  {
   "cell_type": "markdown",
   "metadata": {},
   "source": [
    "# Convergence Analysis"
   ]
  },
  {
   "cell_type": "code",
   "execution_count": 3,
   "metadata": {},
   "outputs": [
    {
     "name": "stdout",
     "output_type": "stream",
     "text": [
      "total_energy: 5.368416446096031e-11\n",
      "total_energy: 4.851735547210478e-11\n",
      "total_energy: 4.8342613804599804e-11\n",
      "total_energy: 4.84370967684331e-11\n",
      "total_energy: 4.832628079846926e-11\n",
      "total_energy: 4.832228217291628e-11\n",
      "total_energy: 4.8321814750970784e-11\n",
      "total_energy: 4.832203549295356e-11\n",
      "total_energy: 4.8321802723113376e-11\n"
     ]
    }
   ],
   "source": [
    "V0 = 1.0  # Diferença de potencial (V)\n",
    "element_types = [('Triangle', 1), ('Triangle', 2), ('Triangle', 3)]\n",
    "u = lambda x, y: ps.set_analytical_solution(x, y)\n",
    "mesh_sizes = [0.5E-2, 1E-3, 0.5E-3]\n",
    "\n",
    "# Inicialização dos dicionários para armazenar erros e capacitâncias\n",
    "errors_l2 = {key: [] for key in element_types}\n",
    "errors_energy = {key: [] for key in element_types}\n",
    "capacitances = {key: [] for key in element_types}\n",
    "\n",
    "for h in mesh_sizes:  # Loop para cada refinamento de malha\n",
    "    for FINITE_ELEMENT in element_types:  # Loop para cada tipo de elemento\n",
    "        # Define o tipo de problema \n",
    "        uh, mesh_data = setTypeProblem(FINITE_ELEMENT, h)  \n",
    "        \n",
    "        # Calcula o erro L2, o erro de energia e a energia total\n",
    "        l2, energy, total_energy = fem_analysis.errors_and_energy(FINITE_ELEMENT, mesh_data, uh, u)\n",
    "\n",
    "        # Capacitância calculada a partir da energia total\n",
    "        capacitance = 2 * total_energy / V0**2\n",
    "        print(\"total_energy:\", total_energy)\n",
    "\n",
    "        # Acumula os resultados nos dicionários correspondentes\n",
    "        errors_l2[FINITE_ELEMENT].append(l2)\n",
    "        errors_energy[FINITE_ELEMENT].append(energy)\n",
    "        capacitances[FINITE_ELEMENT].append(capacitance)"
   ]
  },
  {
   "cell_type": "markdown",
   "metadata": {},
   "source": [
    "# Graphics"
   ]
  },
  {
   "cell_type": "code",
   "execution_count": 4,
   "metadata": {},
   "outputs": [
    {
     "name": "stdout",
     "output_type": "stream",
     "text": [
      "Arquivo salvo em: c:\\Users\\adilt\\OneDrive\\05 GIT\\PPGEE-2024.2-MEF\\p12_coaxial_electrostatics\\pos_processing\\pictures\\coaxial_convergence_L2.svg\n",
      "Arquivo salvo em: c:\\Users\\adilt\\OneDrive\\05 GIT\\PPGEE-2024.2-MEF\\p12_coaxial_electrostatics\\pos_processing\\pictures\\coaxial_convergence_Energy.svg\n",
      "Arquivo salvo em: c:\\Users\\adilt\\OneDrive\\05 GIT\\PPGEE-2024.2-MEF\\p12_coaxial_electrostatics\\pos_processing\\pictures\\coaxial_capacitance_convergence.svg\n"
     ]
    }
   ],
   "source": [
    "graph_results.plot_convergence(mesh_sizes, errors_l2, model='coaxial', name='L2')\n",
    "graph_results.plot_convergence(mesh_sizes, errors_energy, model='coaxial', name='Energy')\n",
    "graph_results.capacitance_convergence(mesh_sizes, capacitances)"
   ]
  },
  {
   "cell_type": "markdown",
   "metadata": {},
   "source": [
    "### Figure 1: Error Convergence for $L_2$ norm\n",
    "<figure>\n",
    "    <img src=\"pos_processing/pictures/coaxial_convergence_L2.svg\" alt=\"Fig.1\" style=\"width:80%;\" />\n",
    "    <figcaption>Figure 1: Convergence of the numerical solution for $L_2$ norm of the error.</figcaption>\n",
    "</figure>\n",
    "\n",
    "### Figure 2: Error Convergence for _Energy_ norm\n",
    "<figure>\n",
    "    <img src=\"pos_processing/pictures/coaxial_convergence_Energy.svg\" alt=\"Fig.2\" style=\"width:80%;\" />\n",
    "    <figcaption>Figure 2: Convergence of the numerical solution for Energy norm of the error.</figcaption>\n",
    "</figure>\n",
    "\n",
    "### Figure 3: Capacitance Convergence\n",
    "<figure>\n",
    "    <img src=\"pos_processing/pictures/coaxial_capacitance_convergence.svg\" alt=\"Fig.3\" style=\"width:80%;\" />\n",
    "    <figcaption>Figure 3: Convergence of the numerical solution for Capacitance.</figcaption>\n",
    "</figure>"
   ]
  },
  {
   "cell_type": "markdown",
   "metadata": {},
   "source": [
    "Conversão do arquivo Jupyter Notebook para um script Python: ``python -m nbconvert --to script name.ipynb``\n",
    "\n",
    "Belo Horizonte, Brazil. 2024.  \n",
    "Adilton Junio Ladeira Pereira - adt@ufmg.br  \n",
    "&copy; All rights reserved."
   ]
  }
 ],
 "metadata": {
  "kernelspec": {
   "display_name": "Python 3",
   "language": "python",
   "name": "python3"
  },
  "language_info": {
   "codemirror_mode": {
    "name": "ipython",
    "version": 3
   },
   "file_extension": ".py",
   "mimetype": "text/x-python",
   "name": "python",
   "nbconvert_exporter": "python",
   "pygments_lexer": "ipython3",
   "version": "3.12.8"
  }
 },
 "nbformat": 4,
 "nbformat_minor": 2
}
