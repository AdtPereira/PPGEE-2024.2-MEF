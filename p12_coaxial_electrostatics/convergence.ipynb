{
 "cells": [
  {
   "cell_type": "code",
   "execution_count": 5,
   "metadata": {},
   "outputs": [
    {
     "name": "stdout",
     "output_type": "stream",
     "text": [
      "Project root added to sys.path: C:\\Users\\adilt\\OneDrive\\01 ACADEMIA\\06 MODELOS\\8.FEM\\ppgee\\projects\n",
      "Modules imports were successful!\n"
     ]
    }
   ],
   "source": [
    "import sys\n",
    "from pathlib import Path\n",
    "import import_ipynb\n",
    "import numpy as np\n",
    "import gmsh\n",
    "from scipy.sparse.linalg import spsolve\n",
    "from analytical_solution import potential_and_gradient\n",
    "\n",
    "# Adicionar o diretório raiz do projeto ao sys.path\n",
    "project_root = Path().resolve().parent  \n",
    "sys.path.append(str(project_root))\n",
    "\n",
    "# Verifique se os caminhos foram adicionados\n",
    "print(\"Project root added to sys.path:\", project_root)\n",
    "\n",
    "# Importando notebooks diretamente\n",
    "try:\n",
    "    from pre_processing import domain, read_mesh\n",
    "    from fem_processing import boundary_conditions\n",
    "    from pos_processing import graph_results, error_evaluation\n",
    "    print(\"Modules imports were successful!\")\n",
    "except ModuleNotFoundError as e:\n",
    "    print(f\"Modules were not found: {e}\")\n",
    "except ImportError as e:\n",
    "    print(f\"Error in import: {e}\")"
   ]
  },
  {
   "cell_type": "markdown",
   "metadata": {},
   "source": [
    "# Project 1: Coaxial Problem \n",
    "\n",
    "Considere um cabo coaxial com dois dielétricos apresentado na Figura $(1)$.\n",
    "\n",
    "<figure>\n",
    "    <img src=\"pre_processing/pictures/coaxial_problem.png\" alt=\"Fig.1\" style=\"width:20%;\" />\n",
    "    <figcaption>Figure 1: Geometry of Coaxial Problem.</figcaption>\n",
    "</figure>\n",
    "\n",
    "O raio do condutor interno é ``a`` e do condutor externo é ``b``. O primeiro dielétrico, $\\varepsilon_{1}$, preenche o anel circular entre os raios ``a`` e ``c``, enquanto o segundo dielétrico, $\\varepsilon_{2}$, preenche o anel entre os raios ``c`` e ``b``.  \n",
    "\n",
    "Entre o condutor interno e o externo é aplicada uma diferença de potencial igual a $V$.  \n",
    "\n",
    "Seja $V = 1$ (potencial zero em ``a`` e um em ``b``), $a = 2 \\, mm$, $b = 8 \\, mm$, $c = 5 \\, mm$, $\\varepsilon_{r1} = 2$ e $\\varepsilon_{r2} = 4$. Para este problema, além da convergência nas normas $L_2$ e da energia, calcule a convergência para o valor da capacitância do dispositivo."
   ]
  },
  {
   "cell_type": "markdown",
   "metadata": {},
   "source": [
    "# `setTypeProblem()`"
   ]
  },
  {
   "cell_type": "code",
   "execution_count": 6,
   "metadata": {},
   "outputs": [],
   "source": [
    "def setTypeProblem(element_type, lc):\n",
    "    mesh_data = {}\n",
    "    gmsh.initialize()\n",
    "\n",
    "    BOUNDARY = [\n",
    "        {'type': 'Dirichlet', 'tag': 101, 'value': 0.0, 'name': 'inner_conductor'},\n",
    "        {'type': 'Dirichlet', 'tag': 102, 'value': 1.0, 'name': 'outer_conductor'}]\n",
    "\n",
    "    MATERIAL = [\n",
    "        {'type': 'relative_electric_permittivity', 'tag': 201, 'value': 2, 'name': 'medium_1'},\n",
    "        {'type': 'relative_electric_permittivity', 'tag': 202, 'value': 4, 'name': 'medium_2'}]\n",
    "    \n",
    "    # Run the domain geometry\n",
    "    domain.get_coaxial_geometry(element_type, BOUNDARY, MATERIAL, lc, auto_save=False)\n",
    "    \n",
    "    # Create mesh Structure Data from gmsh\n",
    "    mesh_data['nodes_data'] = read_mesh.get_nodes_data(BOUNDARY)\n",
    "    mesh_data['conn_data'] = read_mesh.get_conn_data(MATERIAL)\n",
    "    gmsh.finalize()    \n",
    "\n",
    "    # Get FEM solution\n",
    "    rho = np.zeros(len(mesh_data['conn_data']))\n",
    "    Agr, fgr = boundary_conditions.get_reduced_global_matrix(mesh_data, rho, element_type)\n",
    "    ur = spsolve(Agr.tocsr(), fgr.toarray())\n",
    "    u = boundary_conditions.global_potential_vector(mesh_data, ur)\n",
    "    return u, mesh_data"
   ]
  },
  {
   "cell_type": "markdown",
   "metadata": {},
   "source": [
    "# `convergence()`"
   ]
  },
  {
   "cell_type": "code",
   "execution_count": 7,
   "metadata": {},
   "outputs": [],
   "source": [
    "V0 = 1.0  # Diferença de potencial (V)\n",
    "analytical_solution = lambda x, y: potential_and_gradient(x, y)\n",
    "mesh_sizes = [0.5E-2, 1E-3, 0.5E-3]\n",
    "element_types = [('Triangle', 1), ('Triangle', 2), ('Triangle', 3)]\n",
    "\n",
    "# Inicialização dos dicionários para armazenar erros e capacitâncias\n",
    "errors_l2 = {et: [] for et in element_types}\n",
    "errors_energy = {et: [] for et in element_types}\n",
    "capacitances = {et: [] for et in element_types}\n",
    "\n",
    "for lc in mesh_sizes:  # Loop para cada refinamento de malha\n",
    "    for element_type in element_types:  # Loop para cada tipo de elemento\n",
    "        # Define o tipo de problema \n",
    "        uh, mesh_data = setTypeProblem(element_type, lc)  \n",
    "        \n",
    "        # Calcula o erro L2, o erro de energia e a energia total\n",
    "        l2, energy, total_energy = error_evaluation.get_errors_and_energy(\n",
    "            mesh_data, element_type, uh, analytical_solution)\n",
    "\n",
    "        # Capacitância calculada a partir da energia total\n",
    "        capacitance = 2 * total_energy / V0**2\n",
    "\n",
    "        # Acumula os resultados nos dicionários correspondentes\n",
    "        errors_l2[element_type].append(l2)\n",
    "        errors_energy[element_type].append(energy)\n",
    "        capacitances[element_type].append(capacitance)"
   ]
  },
  {
   "cell_type": "markdown",
   "metadata": {},
   "source": [
    "# Graphics"
   ]
  },
  {
   "cell_type": "code",
   "execution_count": 8,
   "metadata": {},
   "outputs": [
    {
     "name": "stdout",
     "output_type": "stream",
     "text": [
      "Arquivo salvo em: c:\\Users\\adilt\\OneDrive\\01 ACADEMIA\\06 MODELOS\\8.FEM\\ppgee\\projects\\2_coaxial_domain\\pos_processing\\pictures\\coaxial_convergence_L2.svg\n",
      "Arquivo salvo em: c:\\Users\\adilt\\OneDrive\\01 ACADEMIA\\06 MODELOS\\8.FEM\\ppgee\\projects\\2_coaxial_domain\\pos_processing\\pictures\\coaxial_convergence_Energy.svg\n",
      "Arquivo salvo em: c:\\Users\\adilt\\OneDrive\\01 ACADEMIA\\06 MODELOS\\8.FEM\\ppgee\\projects\\2_coaxial_domain\\pos_processing\\pictures\\coaxial_capacitance_convergence.svg\n"
     ]
    }
   ],
   "source": [
    "graph_results.plot_convergence_with_slope(mesh_sizes, errors_l2, model='coaxial', name='L2')\n",
    "graph_results.plot_convergence_with_slope(mesh_sizes, errors_energy, model='coaxial', name='Energy')\n",
    "graph_results.capacitance_convergence(mesh_sizes, capacitances)"
   ]
  },
  {
   "cell_type": "markdown",
   "metadata": {},
   "source": [
    "### Figure 1: Error Convergence for $L_2$ norm\n",
    "<figure>\n",
    "    <img src=\"pos_processing/pictures/coaxial_convergence_L2.svg\" alt=\"Fig.1\" style=\"width:100%;\" />\n",
    "    <figcaption>Figure 1: Convergence of the numerical solution for $L_2$ norm of the error.</figcaption>\n",
    "</figure>\n",
    "\n",
    "### Figure 2: Error Convergence for _Energy_ norm\n",
    "<figure>\n",
    "    <img src=\"pos_processing/pictures/coaxial_convergence_Energy.svg\" alt=\"Fig.2\" style=\"width:100%;\" />\n",
    "    <figcaption>Figure 2: Convergence of the numerical solution for Energy norm of the error.</figcaption>\n",
    "</figure>\n",
    "\n",
    "### Figure 3: Capacitance Convergence\n",
    "<figure>\n",
    "    <img src=\"pos_processing/pictures/coaxial_capacitance_convergence.svg\" alt=\"Fig.3\" style=\"width:100%;\" />\n",
    "    <figcaption>Figure 3: Convergence of the numerical solution for Capacitance.</figcaption>\n",
    "</figure>"
   ]
  },
  {
   "cell_type": "markdown",
   "metadata": {},
   "source": [
    "Conversão do arquivo Jupyter Notebook para um script Python: ``python -m nbconvert --to script name.ipynb``\n",
    "\n",
    "Belo Horizonte, Brazil. 2024.  \n",
    "Adilton Junio Ladeira Pereira - adt@ufmg.br  \n",
    "&copy; All rights reserved."
   ]
  }
 ],
 "metadata": {
  "kernelspec": {
   "display_name": "Python 3",
   "language": "python",
   "name": "python3"
  },
  "language_info": {
   "codemirror_mode": {
    "name": "ipython",
    "version": 3
   },
   "file_extension": ".py",
   "mimetype": "text/x-python",
   "name": "python",
   "nbconvert_exporter": "python",
   "pygments_lexer": "ipython3",
   "version": "3.12.7"
  }
 },
 "nbformat": 4,
 "nbformat_minor": 2
}
