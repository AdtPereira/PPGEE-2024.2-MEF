{
 "cells": [
  {
   "cell_type": "code",
   "execution_count": 1,
   "metadata": {},
   "outputs": [
    {
     "name": "stdout",
     "output_type": "stream",
     "text": [
      "Project root added to sys.path: C:\\Users\\adilt\\OneDrive\\01 ACADEMIA\\06 MODELOS\\8.FEM\\ppgee\\projects\n",
      "Todas as propriedades foram verificadas com sucesso para os elementos P1!\n",
      "Todas as propriedades foram verificadas com sucesso para os elementos P2!\n",
      "Todas as propriedades foram verificadas com sucesso para os elementos P3!\n",
      "Todas as propriedades foram verificadas com sucesso para os elementos Q1!\n",
      "Todas as propriedades foram verificadas com sucesso para os elementos Q2!\n",
      "Modules imports were successful!\n",
      "Modules imports were successful!\n",
      "Modules imports were successful!\n"
     ]
    }
   ],
   "source": [
    "import sys\n",
    "import numpy as np\n",
    "import import_ipynb\n",
    "from pathlib import Path\n",
    "from scipy.sparse.linalg import spsolve\n",
    "\n",
    "# Adicionar o diretório raiz do projeto ao sys.path\n",
    "project_root = Path().resolve().parent  \n",
    "sys.path.append(str(project_root))\n",
    "\n",
    "# Verifique se os caminhos foram adicionados\n",
    "print(\"Project root added to sys.path:\", project_root)\n",
    "\n",
    "# Importando notebooks diretamente\n",
    "try:\n",
    "    import problem_statement as ps  \n",
    "    from pre_processing import create_domain, read_mesh\n",
    "    from fem_processing import boundary_conditions,matrices_assembly\n",
    "    from pos_processing import graph_results\n",
    "    print(\"Modules imports were successful!\")\n",
    "except ModuleNotFoundError as e:\n",
    "    print(f\"Modules were not found: {e}\")\n",
    "except ImportError as e:\n",
    "    print(f\"Error in import: {e}\")\n",
    "    \n",
    "#run ../setup_project.py"
   ]
  },
  {
   "cell_type": "markdown",
   "metadata": {},
   "source": [
    "# Project 1: Coaxial Cable\n",
    "\n",
    "Considere um cabo coaxial com dois dielétricos apresentado na Figura $(1)$.\n",
    "\n",
    "<figure>\n",
    "    <img src=\"pre_processing/pictures/coaxial_problem.png\" alt=\"Fig.1\" style=\"width:20%;\" />\n",
    "    <figcaption>Figure 1: Geometry of Coaxial Problem.</figcaption>\n",
    "</figure>\n",
    "\n",
    "O raio do condutor interno é ``a`` e do condutor externo é ``b``. O primeiro dielétrico, $\\varepsilon_{1}$, preenche o anel circular entre os raios ``a`` e ``c``, enquanto o segundo dielétrico, $\\varepsilon_{2}$, preenche o anel entre os raios ``c`` e ``b``.  \n",
    "\n",
    "Entre o condutor interno e o externo é aplicada uma diferença de potencial igual a $V$.  \n",
    "\n",
    "Seja $V = 1$ (potencial zero em ``a`` e um em ``b``), $a = 2 \\, mm$, $b = 8 \\, mm$, $c = 5 \\, mm$, $\\varepsilon_{r1} = 2$ e $\\varepsilon_{r2} = 4$. Para este problema, além da convergência nas normas $L_2$ e da energia, calcule a convergência para o valor da capacitância do dispositivo."
   ]
  },
  {
   "cell_type": "markdown",
   "metadata": {},
   "source": [
    "# 9-noded Quadratic Quadrilateral Lagrangian Element $Q_2$\n",
    "## Pre-processor module\n",
    "### Geometry and mesh Domain"
   ]
  },
  {
   "cell_type": "code",
   "execution_count": 2,
   "metadata": {},
   "outputs": [
    {
     "name": "stdout",
     "output_type": "stream",
     "text": [
      "Model coaxial_domain_Quadrangle2 (2D)\n",
      "Info     : 8 geometric entities\n",
      "Info     : 4 Physical Groups\n",
      "Info     : 3368 nodes in total\n",
      "Info     : 810 2-D elements in total\n",
      "Arquivo salvo em: c:\\Users\\adilt\\OneDrive\\01 ACADEMIA\\06 MODELOS\\8.FEM\\ppgee\\projects\\p12_coaxial_electrostatics\\pre_processing\\pictures\\coaxial_meshed_domain_Quadrangle2.svg\n"
     ]
    }
   ],
   "source": [
    "FINITE_ELEMENT = (\"Quadrangle\", 2)\n",
    "\n",
    "BOUNDARY = [{'type': 'Dirichlet', 'tag': 101, 'value': 0.0, 'name': 'inner_conductor'},\n",
    "                       {'type': 'Dirichlet', 'tag': 102, 'value': 1.0, 'name': 'outer_conductor'}]\n",
    "\n",
    "MATERIAL = [{'type': 'relative_electric_permittivity', 'tag': 201, 'value': 2, 'name': 'medium_1'},\n",
    "                        {'type': 'relative_electric_permittivity', 'tag': 202, 'value': 4, 'name': 'medium_2'}]\n",
    "\n",
    "# Create mesh from file geometry\n",
    "create_domain.coaxial_geometry(FINITE_ELEMENT, BOUNDARY, MATERIAL, h=0.5E-3, view_mesh=True)\n",
    "mesh_data = read_mesh.get_data(FINITE_ELEMENT, BOUNDARY, MATERIAL, model='coaxial')\n",
    "graph_results.plot_mesh(mesh_data, FINITE_ELEMENT, model='coaxial')"
   ]
  },
  {
   "cell_type": "markdown",
   "metadata": {},
   "source": [
    "### Mesh Data Dictionaries\n",
    "#### Node Data"
   ]
  },
  {
   "cell_type": "code",
   "execution_count": 3,
   "metadata": {},
   "outputs": [
    {
     "data": {
      "text/plain": [
       "[{'TagID': 1,\n",
       "  'global_coord': (0.002, 0.0),\n",
       "  'bc': {'type': 'Dirichlet', 'value': 0.0}}]"
      ]
     },
     "execution_count": 3,
     "metadata": {},
     "output_type": "execute_result"
    }
   ],
   "source": [
    "mesh_nodes = mesh_data['nodes_data']; mesh_nodes[:1]"
   ]
  },
  {
   "cell_type": "markdown",
   "metadata": {},
   "source": [
    "#### Conn Data"
   ]
  },
  {
   "cell_type": "code",
   "execution_count": 4,
   "metadata": {},
   "outputs": [
    {
     "data": {
      "text/plain": [
       "[{'TagID': 196,\n",
       "  'conn_list': [628, 508, 570, 605, 630, 631, 632, 633, 634],\n",
       "  'material': {'type': 'relative_electric_permittivity',\n",
       "   'tag': 201,\n",
       "   'value': 2,\n",
       "   'name': 'medium_1'}}]"
      ]
     },
     "execution_count": 4,
     "metadata": {},
     "output_type": "execute_result"
    }
   ],
   "source": [
    "conn_data = mesh_data['conn_data']; conn_data[:1]"
   ]
  },
  {
   "cell_type": "markdown",
   "metadata": {},
   "source": [
    "### Figure 1: Coaxial meshed domain "
   ]
  },
  {
   "cell_type": "code",
   "execution_count": 5,
   "metadata": {},
   "outputs": [
    {
     "name": "stdout",
     "output_type": "stream",
     "text": [
      "Arquivo salvo em: c:\\Users\\adilt\\OneDrive\\01 ACADEMIA\\06 MODELOS\\8.FEM\\ppgee\\projects\\p12_coaxial_electrostatics\\pre_processing\\pictures\\coaxial_meshed_domain_Quadrangle2.svg\n"
     ]
    }
   ],
   "source": [
    "graph_results.plot_mesh(mesh_data, FINITE_ELEMENT, model='coaxial', Numbering=False)"
   ]
  },
  {
   "cell_type": "markdown",
   "metadata": {},
   "source": [
    "<figure>\n",
    "    <img src=\"pre_processing/pictures/coaxial_meshed_domain_Quadrangle2.svg\" alt=\"Fig.1\" style=\"width:100%;\" />\n",
    "    <figcaption>Figure 1: Coaxial meshed domain.</figcaption>\n",
    "</figure>"
   ]
  },
  {
   "cell_type": "code",
   "execution_count": 6,
   "metadata": {},
   "outputs": [],
   "source": [
    "nodes = [node['global_coord'] for node in mesh_data['nodes_data']]\n",
    "conn = [element['conn_list'] for element in mesh_data['conn_data']]"
   ]
  },
  {
   "cell_type": "markdown",
   "metadata": {},
   "source": [
    "#### `apply_physics`"
   ]
  },
  {
   "cell_type": "code",
   "execution_count": 7,
   "metadata": {},
   "outputs": [
    {
     "data": {
      "text/plain": [
       "[{'TagID': 196,\n",
       "  'conn_list': [628, 508, 570, 605, 630, 631, 632, 633, 634],\n",
       "  'material': {'type': 'relative_electric_permittivity',\n",
       "   'tag': 201,\n",
       "   'value': 2,\n",
       "   'name': 'medium_1',\n",
       "   'a_value': 1.77083756256e-11},\n",
       "  'source': {'type': 'free_source', 'value': 0}}]"
      ]
     },
     "execution_count": 7,
     "metadata": {},
     "output_type": "execute_result"
    }
   ],
   "source": [
    "mesh_data = ps.apply_physics(mesh_data, FINITE_ELEMENT)\n",
    "mesh_data['conn_data'][:1]"
   ]
  },
  {
   "cell_type": "markdown",
   "metadata": {},
   "source": [
    "### Imposition of Boundary Conditions"
   ]
  },
  {
   "cell_type": "code",
   "execution_count": 8,
   "metadata": {},
   "outputs": [
    {
     "name": "stdout",
     "output_type": "stream",
     "text": [
      "The entire domain has 3368 nodes: 3112 free nodes and 256 Dirichlet nodes.\n",
      "Free nodes: \n",
      " [   2   55   56 ... 3366 3367 3368]\n",
      "Dirichlet nodes: \n",
      " [  1   3   4   5   6   7   8   9  10  11  12  13  14  15  16  17  18  19\n",
      "  20  21  22  23  24  25  26  27  28  29  30  31  32  33  34  35  36  37\n",
      "  38  39  40  41  42  43  44  45  46  47  48  49  50  51  52  53  54 182\n",
      " 183 184 185 186 187 188 189 190 191 192 193 194 195 196 197 198 199 200\n",
      " 201 202 203 204 205 206 207 208 209 210 211 212 213 214 215 216 217 218\n",
      " 219 220 221 222 223 224 225 226 227 228 229 230 231 232 233 234 235 236\n",
      " 237 238 239 240 241 242 243 244 245 246 247 248 249 250 251 252 253 254\n",
      " 255 256 257 258 259 260 261 262 263 264 265 266 267 268 269 270 271 272\n",
      " 273 274 275 276 277 278 279 280 281 282 283 284 285 286 287 288 289 290\n",
      " 291 292 293 294 295 296 297 298 299 300 301 302 303 304 305 306 307 308\n",
      " 309 310 311 312 313 314 315 316 317 318 319 320 321 322 323 324 325 326\n",
      " 327 328 329 330 331 332 333 334 335 336 337 338 339 340 341 342 343 344\n",
      " 345 346 347 348 349 350 351 352 353 354 355 356 357 358 359 360 361 362\n",
      " 363 364 365 366 367 368 369 370 371 372 373 374 375 376 377 378 379 380\n",
      " 381 382 383 384]\n",
      "Dirichlet nodes values: \n",
      " [0. 1. 0. 0. 0. 0. 0. 0. 0. 0. 0. 0. 0. 0. 0. 0. 0. 0. 0. 0. 0. 0. 0. 0.\n",
      " 0. 0. 0. 0. 0. 0. 0. 0. 0. 0. 0. 0. 0. 0. 0. 0. 0. 0. 0. 0. 0. 0. 0. 0.\n",
      " 0. 0. 0. 0. 0. 1. 1. 1. 1. 1. 1. 1. 1. 1. 1. 1. 1. 1. 1. 1. 1. 1. 1. 1.\n",
      " 1. 1. 1. 1. 1. 1. 1. 1. 1. 1. 1. 1. 1. 1. 1. 1. 1. 1. 1. 1. 1. 1. 1. 1.\n",
      " 1. 1. 1. 1. 1. 1. 1. 1. 1. 1. 1. 1. 1. 1. 1. 1. 1. 1. 1. 1. 1. 1. 1. 1.\n",
      " 1. 1. 1. 1. 1. 1. 1. 1. 1. 1. 1. 1. 1. 1. 1. 1. 1. 1. 1. 1. 1. 1. 1. 1.\n",
      " 1. 1. 1. 1. 1. 1. 1. 1. 1. 1. 1. 1. 1. 1. 1. 1. 1. 1. 1. 1. 1. 1. 1. 1.\n",
      " 1. 1. 1. 1. 1. 1. 1. 1. 1. 1. 1. 1. 1. 1. 1. 1. 1. 1. 1. 1. 1. 1. 1. 1.\n",
      " 1. 1. 1. 1. 1. 1. 1. 1. 1. 1. 1. 1. 1. 1. 1. 1. 1. 1. 1. 1. 1. 1. 1. 1.\n",
      " 1. 1. 1. 1. 1. 1. 1. 1. 1. 1. 1. 1. 1. 1. 1. 1. 1. 1. 1. 1. 1. 1. 1. 1.\n",
      " 1. 1. 1. 1. 1. 1. 1. 1. 1. 1. 1. 1. 1. 1. 1. 1.]\n"
     ]
    }
   ],
   "source": [
    "dirichlet_nodes = [\n",
    "    node['TagID'] for node in mesh_data['nodes_data'] if node['bc']['type'] == 'Dirichlet']\n",
    "dirichlet_values = [\n",
    "    node['bc']['value'] for node in mesh_data['nodes_data'] if node['bc']['type'] == 'Dirichlet']\n",
    "free_nodes = [\n",
    "    node['TagID'] for node in mesh_data['nodes_data'] if node['bc']['type'] == 'Free']\n",
    "\n",
    "print(f\"The entire domain has {len(nodes)} nodes: \" \n",
    "      f\"{len(nodes) - len(dirichlet_nodes)} free nodes and {len(dirichlet_nodes)} Dirichlet nodes.\")\n",
    "print(\"Free nodes: \\n\", np.array(free_nodes))\n",
    "print(\"Dirichlet nodes: \\n\", np.array(dirichlet_nodes))\n",
    "print(\"Dirichlet nodes values: \\n\", np.array(dirichlet_values))"
   ]
  },
  {
   "cell_type": "markdown",
   "metadata": {},
   "source": [
    "## Processor Module\n",
    "### Reduced Global matrix $A_{gr}$ with boundary conditions"
   ]
  },
  {
   "cell_type": "code",
   "execution_count": 9,
   "metadata": {},
   "outputs": [
    {
     "name": "stdout",
     "output_type": "stream",
     "text": [
      "Reduced global matrix shape: (3112, 3112)\n",
      "Reduced global matrix shape:  (3112, 3112)\n",
      "Reduced force vector shape:  (3112, 1)\n"
     ]
    }
   ],
   "source": [
    "Agr, fgr = boundary_conditions.get_reduced_global_matrix(mesh_data, FINITE_ELEMENT)\n",
    "print(\"Reduced global matrix shape:\", Agr.shape)\n",
    "print(\"Reduced global matrix shape: \", Agr.shape)\n",
    "print(\"Reduced force vector shape: \", fgr.shape)"
   ]
  },
  {
   "cell_type": "markdown",
   "metadata": {},
   "source": [
    "### Global Potential Vector"
   ]
  },
  {
   "cell_type": "code",
   "execution_count": 10,
   "metadata": {},
   "outputs": [],
   "source": [
    "ur = spsolve(Agr.tocsr(), fgr.toarray())\n",
    "potential_u = boundary_conditions.get_global_potentials(mesh_data, ur)"
   ]
  },
  {
   "cell_type": "markdown",
   "metadata": {},
   "source": [
    "## Post-Processor"
   ]
  },
  {
   "cell_type": "code",
   "execution_count": 11,
   "metadata": {},
   "outputs": [
    {
     "name": "stdout",
     "output_type": "stream",
     "text": [
      "Arquivo salvo em: c:\\Users\\adilt\\OneDrive\\01 ACADEMIA\\06 MODELOS\\8.FEM\\ppgee\\projects\\p12_coaxial_electrostatics\\pos_processing\\pictures\\coaxial_domain_solution_Quadrangle2_not_structured.svg\n"
     ]
    }
   ],
   "source": [
    "graph_results.approximate_not_structured_quadrangles(FINITE_ELEMENT, mesh_data, potential_u, model='coaxial')"
   ]
  },
  {
   "cell_type": "markdown",
   "metadata": {},
   "source": [
    "### Figure 2: Scalar Field Distribution\n",
    "\n",
    "<figure>\n",
    "    <img src=\"pos_processing/pictures/coaxial_domain_solution_Quadrangle2_not_structured.svg\" alt=\"Fig.2\" style=\"width:100%;\" />\n",
    "    <figcaption>Figure 2: Post-Processor: Scalar Field Distribution.</figcaption>\n",
    "</figure>"
   ]
  },
  {
   "cell_type": "markdown",
   "metadata": {},
   "source": [
    "Conversão do arquivo Jupyter Notebook para um script Python: ``python -m nbconvert --to script name.ipynb``\n",
    "\n",
    "Belo Horizonte, Brazil. 2024.  \n",
    "Adilton Junio Ladeira Pereira - adt@ufmg.br  \n",
    "&copy; All rights reserved."
   ]
  }
 ],
 "metadata": {
  "kernelspec": {
   "display_name": "Python 3",
   "language": "python",
   "name": "python3"
  },
  "language_info": {
   "codemirror_mode": {
    "name": "ipython",
    "version": 3
   },
   "file_extension": ".py",
   "mimetype": "text/x-python",
   "name": "python",
   "nbconvert_exporter": "python",
   "pygments_lexer": "ipython3",
   "version": "3.12.7"
  }
 },
 "nbformat": 4,
 "nbformat_minor": 2
}
