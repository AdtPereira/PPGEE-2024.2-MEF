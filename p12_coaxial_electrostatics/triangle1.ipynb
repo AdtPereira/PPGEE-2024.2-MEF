{
 "cells": [
  {
   "cell_type": "code",
   "execution_count": 19,
   "metadata": {},
   "outputs": [
    {
     "name": "stdout",
     "output_type": "stream",
     "text": [
      "Project root added to sys.path: C:\\Users\\adilt\\OneDrive\\01 ACADEMIA\\06 MODELOS\\8.FEM\\ppgee\\projects\n",
      "Modules imports were successful!\n"
     ]
    }
   ],
   "source": [
    "import sys\n",
    "import numpy as np\n",
    "import import_ipynb\n",
    "from pathlib import Path\n",
    "from scipy.sparse.linalg import spsolve\n",
    "\n",
    "# Adicionar o diretório raiz do projeto ao sys.path\n",
    "project_root = Path().resolve().parent  \n",
    "sys.path.append(str(project_root))\n",
    "\n",
    "# Verifique se os caminhos foram adicionados\n",
    "print(\"Project root added to sys.path:\", project_root)\n",
    "\n",
    "# Importando notebooks diretamente\n",
    "try:\n",
    "    import problem_statement as ps  \n",
    "    from pre_processing import create_domain, read_mesh\n",
    "    from fem_processing import boundary_conditions, matrices_assembly\n",
    "    from pos_processing import graph_results\n",
    "    print(\"Modules imports were successful!\")\n",
    "except ModuleNotFoundError as e:\n",
    "    print(f\"Modules were not found: {e}\")\n",
    "except ImportError as e:\n",
    "    print(f\"Error in import: {e}\")\n",
    "    \n",
    "#run ../setup_project.py"
   ]
  },
  {
   "cell_type": "markdown",
   "metadata": {},
   "source": [
    "# Project 1: Coaxial Cable\n",
    "\n",
    "Considere um cabo coaxial com dois dielétricos apresentado na Figura $(1)$.\n",
    "\n",
    "<figure>\n",
    "    <img src=\"pre_processing/pictures/coaxial_problem.png\" alt=\"Fig.1\" style=\"width:20%;\" />\n",
    "    <figcaption>Figure 1: Geometry of Coaxial Problem.</figcaption>\n",
    "</figure>\n",
    "\n",
    "O raio do condutor interno é ``a`` e do condutor externo é ``b``. O primeiro dielétrico, $\\varepsilon_{1}$, preenche o anel circular entre os raios ``a`` e ``c``, enquanto o segundo dielétrico, $\\varepsilon_{2}$, preenche o anel entre os raios ``c`` e ``b``.  \n",
    "\n",
    "Entre o condutor interno e o externo é aplicada uma diferença de potencial igual a $V$.  \n",
    "\n",
    "Seja $V = 1$ (potencial zero em ``a`` e um em ``b``), $a = 2 \\, mm$, $b = 8 \\, mm$, $c = 5 \\, mm$, $\\varepsilon_{r1} = 2$ e $\\varepsilon_{r2} = 4$. Para este problema, além da convergência nas normas $L_2$ e da energia, calcule a convergência para o valor da capacitância do dispositivo.\n",
    "\n",
    "# 3-noded Linear Triangular Elements, $P_1$\n",
    "## Pre-processor module\n",
    "### Geometry and mesh Domain"
   ]
  },
  {
   "cell_type": "code",
   "execution_count": 20,
   "metadata": {},
   "outputs": [
    {
     "name": "stdout",
     "output_type": "stream",
     "text": [
      "Model coaxial_domain_Triangle1 (2D)\n",
      "Info     : 8 geometric entities\n",
      "Info     : 4 Physical Groups\n",
      "Info     : 26 nodes in total\n",
      "Info     : 38 2-D elements in total\n"
     ]
    }
   ],
   "source": [
    "FINITE_ELEMENT = (\"Triangle\", 1)\n",
    "\n",
    "BOUNDARY = [{'type': 'Dirichlet', 'tag': 101, 'value': 0.0, 'name': 'inner_conductor'},\n",
    "            {'type': 'Dirichlet', 'tag': 102, 'value': 1.0, 'name': 'outer_conductor'}]\n",
    "\n",
    "MATERIAL = [{'type': 'relative_electric_permittivity', 'tag': 201, 'value': 2, 'name': 'medium_1'},\n",
    "            {'type': 'relative_electric_permittivity', 'tag': 202, 'value': 4, 'name': 'medium_2'}]\n",
    "\n",
    "# Create mesh from file geometry\n",
    "create_domain.coaxial_geometry(FINITE_ELEMENT, BOUNDARY, MATERIAL, h=1E-2, view_mesh=True)\n",
    "mesh_data = read_mesh.get_data(FINITE_ELEMENT, BOUNDARY, MATERIAL, model='coaxial', info_mode=False)"
   ]
  },
  {
   "cell_type": "markdown",
   "metadata": {},
   "source": [
    "### Mesh Data Dictionaries"
   ]
  },
  {
   "cell_type": "code",
   "execution_count": 21,
   "metadata": {},
   "outputs": [
    {
     "data": {
      "text/plain": [
       "[{'TagID': 1,\n",
       "  'global_coord': (0.002, 0.0),\n",
       "  'bc': {'type': 'Dirichlet', 'value': 0.0}}]"
      ]
     },
     "execution_count": 21,
     "metadata": {},
     "output_type": "execute_result"
    }
   ],
   "source": [
    "mesh_nodes = mesh_data['nodes_data']; mesh_nodes[:1]"
   ]
  },
  {
   "cell_type": "code",
   "execution_count": 22,
   "metadata": {},
   "outputs": [
    {
     "data": {
      "text/plain": [
       "[{'TagID': 25,\n",
       "  'conn_list': [14, 25, 8],\n",
       "  'material': {'type': 'relative_electric_permittivity',\n",
       "   'tag': 201,\n",
       "   'value': 2,\n",
       "   'name': 'medium_1'}}]"
      ]
     },
     "execution_count": 22,
     "metadata": {},
     "output_type": "execute_result"
    }
   ],
   "source": [
    "conn_data = mesh_data['conn_data']; conn_data[:1]"
   ]
  },
  {
   "cell_type": "markdown",
   "metadata": {},
   "source": [
    "### Figure 1: Coaxial meshed domain "
   ]
  },
  {
   "cell_type": "code",
   "execution_count": 23,
   "metadata": {},
   "outputs": [
    {
     "name": "stderr",
     "output_type": "stream",
     "text": [
      "<string>:38: UserWarning: Tight layout not applied. The bottom and top margins cannot be made large enough to accommodate all axes decorations.\n"
     ]
    },
    {
     "name": "stdout",
     "output_type": "stream",
     "text": [
      "Arquivo salvo em: c:\\Users\\adilt\\OneDrive\\01 ACADEMIA\\06 MODELOS\\8.FEM\\ppgee\\projects\\p12_coaxial_electrostatics\\pre_processing\\pictures\\coaxial_meshed_domain_Triangle1.svg\n"
     ]
    }
   ],
   "source": [
    "graph_results.plot_mesh(mesh_data, FINITE_ELEMENT, model='coaxial', Numbering=True)"
   ]
  },
  {
   "cell_type": "markdown",
   "metadata": {},
   "source": [
    "<figure>\n",
    "    <img src=\"pre_processing/pictures/coaxial_meshed_domain_Triangle1.svg\" alt=\"Fig.1\" style=\"width:100%;\" />\n",
    "    <figcaption>Figure 1: Coaxial meshed domain.</figcaption>\n",
    "</figure>"
   ]
  },
  {
   "cell_type": "code",
   "execution_count": 24,
   "metadata": {},
   "outputs": [],
   "source": [
    "nodes = [node['global_coord'] for node in mesh_data['nodes_data']]\n",
    "conn = [element['conn_list'] for element in mesh_data['conn_data']]"
   ]
  },
  {
   "cell_type": "markdown",
   "metadata": {},
   "source": [
    "### Assembly Matrices\n",
    "#### `assembly.global_nodes_coordinates()` "
   ]
  },
  {
   "cell_type": "code",
   "execution_count": 25,
   "metadata": {},
   "outputs": [
    {
     "name": "stdout",
     "output_type": "stream",
     "text": [
      "'a_1' Global coordinates: [(-0.001112604669781573, -0.004874639560909118), (0.0007016955188292377, -0.003074328940637243), (-0.0004450418679126153, -0.00194985582436365)]\n",
      "'x_1' x-coordinates: [-0.001112604669781573, 0.0007016955188292377, -0.0004450418679126153]\n",
      "'y_1' y-coordinates: [-0.004874639560909118, -0.003074328940637243, -0.00194985582436365]\n"
     ]
    }
   ],
   "source": [
    "ai, xi, yi = matrices_assembly.global_nodes_coordinates(0, mesh_data)\n",
    "print(f\"'a_1' Global coordinates: {ai}\")\n",
    "print(f\"'x_1' x-coordinates: {xi}\")\n",
    "print(f\"'y_1' y-coordinates: {yi}\")"
   ]
  },
  {
   "cell_type": "markdown",
   "metadata": {},
   "source": [
    "#### `map_to_physical_coordinates()`"
   ]
  },
  {
   "cell_type": "code",
   "execution_count": 26,
   "metadata": {},
   "outputs": [
    {
     "name": "stdout",
     "output_type": "stream",
     "text": [
      "'e_1' Master coordinates: (1, 0) --> Global coordinates: (0.0007016955188292377, -0.003074328940637243)\n"
     ]
    }
   ],
   "source": [
    "xi_master = (1, 0)\n",
    "xg, yg = matrices_assembly.isomapping_to_global_coordinates(ai, xi_master, FINITE_ELEMENT)\n",
    "print(f\"'e_1' Master coordinates: {xi_master} --> Global coordinates: ({xg}, {yg})\")"
   ]
  },
  {
   "cell_type": "markdown",
   "metadata": {},
   "source": [
    "#### `apply_physics()`"
   ]
  },
  {
   "cell_type": "code",
   "execution_count": 27,
   "metadata": {},
   "outputs": [
    {
     "data": {
      "text/plain": [
       "[{'TagID': 25,\n",
       "  'conn_list': [14, 25, 8],\n",
       "  'material': {'type': 'relative_electric_permittivity',\n",
       "   'tag': 201,\n",
       "   'value': 2,\n",
       "   'name': 'medium_1',\n",
       "   'a_value': 1.77083756256e-11},\n",
       "  'source': {'type': 'free_source', 'value': 0}}]"
      ]
     },
     "execution_count": 27,
     "metadata": {},
     "output_type": "execute_result"
    }
   ],
   "source": [
    "mesh_data = ps.apply_physics(mesh_data, FINITE_ELEMENT)\n",
    "mesh_data['conn_data'][:1]"
   ]
  },
  {
   "cell_type": "markdown",
   "metadata": {},
   "source": [
    "#### Material Propriety, $a$"
   ]
  },
  {
   "cell_type": "code",
   "execution_count": 28,
   "metadata": {},
   "outputs": [
    {
     "name": "stdout",
     "output_type": "stream",
     "text": [
      "Material 'a' values: \n",
      " [1.77083756e-11 1.77083756e-11 1.77083756e-11 1.77083756e-11\n",
      " 1.77083756e-11 1.77083756e-11 1.77083756e-11 1.77083756e-11\n",
      " 1.77083756e-11 1.77083756e-11 1.77083756e-11 1.77083756e-11\n",
      " 1.77083756e-11 1.77083756e-11 1.77083756e-11 1.77083756e-11\n",
      " 1.77083756e-11 1.77083756e-11 1.77083756e-11 1.77083756e-11\n",
      " 1.77083756e-11 1.77083756e-11 1.77083756e-11 1.77083756e-11\n",
      " 3.54167513e-11 3.54167513e-11 3.54167513e-11 3.54167513e-11\n",
      " 3.54167513e-11 3.54167513e-11 3.54167513e-11 3.54167513e-11\n",
      " 3.54167513e-11 3.54167513e-11 3.54167513e-11 3.54167513e-11\n",
      " 3.54167513e-11 3.54167513e-11]\n"
     ]
    }
   ],
   "source": [
    "a = [element['material']['a_value'] for element in mesh_data['conn_data']]\n",
    "print(\"Material 'a' values: \\n\", np.array(a))"
   ]
  },
  {
   "cell_type": "markdown",
   "metadata": {},
   "source": [
    "#### Source: Analytical source, $f(x)$"
   ]
  },
  {
   "cell_type": "code",
   "execution_count": 29,
   "metadata": {},
   "outputs": [
    {
     "name": "stdout",
     "output_type": "stream",
     "text": [
      "Source vector Fx: \n",
      " [0 0 0 0 0 0 0 0 0 0 0 0 0 0 0 0 0 0 0 0 0 0 0 0 0 0 0 0 0 0 0 0 0 0 0 0 0\n",
      " 0]\n"
     ]
    }
   ],
   "source": [
    "Fx = [element['source']['value'] for element in mesh_data['conn_data']]\n",
    "print(\"Source vector Fx: \\n\", np.array(Fx))"
   ]
  },
  {
   "cell_type": "markdown",
   "metadata": {},
   "source": [
    "#### Linear Jacobian"
   ]
  },
  {
   "cell_type": "code",
   "execution_count": 30,
   "metadata": {},
   "outputs": [
    {
     "name": "stdout",
     "output_type": "stream",
     "text": [
      "Jacobian matrix for element e_0:\n",
      " [[0.0018143  0.00180031]\n",
      " [0.00066756 0.00292478]]\n",
      "Determinant of the Jacobian matrix for element e_0: 4.104615282957137e-06\n"
     ]
    }
   ],
   "source": [
    "Je = matrices_assembly.jacobian(e=0, mesh_data=mesh_data, element_type=FINITE_ELEMENT, xik=(0, 0)) \n",
    "Jdet, Jinv = np.linalg.det(Je), np.linalg.inv(Je)\n",
    "print(\"Jacobian matrix for element e_0:\\n\", Je)\n",
    "print(\"Determinant of the Jacobian matrix for element e_0:\", Jdet)"
   ]
  },
  {
   "cell_type": "markdown",
   "metadata": {},
   "source": [
    "#### Local Elements $e_1$"
   ]
  },
  {
   "cell_type": "code",
   "execution_count": 31,
   "metadata": {},
   "outputs": [
    {
     "name": "stdout",
     "output_type": "stream",
     "text": [
      "Local stiffness matrix for element e_1:\n",
      " [[ 5.56420066e-12 -5.44313183e-12 -1.21068830e-13]\n",
      " [-5.44313183e-12  1.94141679e-11 -1.39710361e-11]\n",
      " [-1.21068830e-13 -1.39710361e-11  1.40921049e-11]]\n",
      "Local load vector for element e_1:\n",
      " [[0.]\n",
      " [0.]\n",
      " [0.]]\n",
      "Area of element e_1:  2.0523076414785684e-06\n"
     ]
    }
   ],
   "source": [
    "Ae, Fe, areae = matrices_assembly.linear_local_matrices(e=0, mesh_data=mesh_data)\n",
    "print(\"Local stiffness matrix for element e_1:\\n\", Ae)\n",
    "print(\"Local load vector for element e_1:\\n\", Fe)\n",
    "print(\"Area of element e_1: \", areae)"
   ]
  },
  {
   "cell_type": "markdown",
   "metadata": {},
   "source": [
    "#### Global “stiffness” matrix, $A_g$"
   ]
  },
  {
   "cell_type": "code",
   "execution_count": 32,
   "metadata": {},
   "outputs": [
    {
     "name": "stdout",
     "output_type": "stream",
     "text": [
      "Global matrix shape: (26, 26)\n"
     ]
    }
   ],
   "source": [
    "Ag, fg = matrices_assembly.get_global_matrix(mesh_data, FINITE_ELEMENT)\n",
    "print(\"Global matrix shape:\", Ag.shape)"
   ]
  },
  {
   "cell_type": "markdown",
   "metadata": {},
   "source": [
    "### Imposition of Boundary Conditions"
   ]
  },
  {
   "cell_type": "code",
   "execution_count": null,
   "metadata": {},
   "outputs": [
    {
     "name": "stdout",
     "output_type": "stream",
     "text": [
      "The entire domain has 26 nodes: 12 free nodes and 14 Dirichlet nodes.\n",
      "Free nodes: \n",
      " [ 2 10 11 12 13 14 15 22 23 24 25 26]\n",
      "Dirichlet nodes: \n",
      " [ 1  3  4  5  6  7  8  9 16 17 18 19 20 21]\n",
      "Dirichlet nodes values: \n",
      " [0. 1. 0. 0. 0. 0. 0. 0. 1. 1. 1. 1. 1. 1.]\n"
     ]
    }
   ],
   "source": [
    "dirichlet_nodes = [\n",
    "    node['TagID'] for node in mesh_data['nodes_data'] if node['bc']['type'] == 'Dirichlet']\n",
    "dirichlet_values = [\n",
    "    node['bc']['value'] for node in mesh_data['nodes_data'] if node['bc']['type'] == 'Dirichlet']\n",
    "free_nodes = [\n",
    "    node['TagID'] for node in mesh_data['nodes_data'] if node['bc']['type'] == 'Free']\n",
    "\n",
    "print(f\"The entire domain has {len(nodes)} nodes: \" \n",
    "      f\"{len(nodes) - len(dirichlet_nodes)} free nodes and {len(dirichlet_nodes)} Dirichlet nodes.\")\n",
    "print(\"Free nodes: \\n\", np.array(free_nodes))\n",
    "print(\"Dirichlet nodes: \\n\", np.array(dirichlet_nodes))\n",
    "print(\"Dirichlet nodes values: \\n\", np.array(dirichlet_values))"
   ]
  },
  {
   "cell_type": "markdown",
   "metadata": {},
   "source": [
    "### Mapping Global nodes to reduced system\n",
    "\n",
    "This code creates a dictionary called ``global_to_reduced``, which maps the global indices of the mesh nodes to the reduced indices, i.e. the indices that correspond only to the nodes that are not in the _Dirichlet boundary conditions_."
   ]
  },
  {
   "cell_type": "code",
   "execution_count": 34,
   "metadata": {},
   "outputs": [
    {
     "name": "stdout",
     "output_type": "stream",
     "text": [
      "Global to reduced nodes mapping:\n"
     ]
    },
    {
     "data": {
      "text/plain": [
       "{2: 0,\n",
       " 10: 1,\n",
       " 11: 2,\n",
       " 12: 3,\n",
       " 13: 4,\n",
       " 14: 5,\n",
       " 15: 6,\n",
       " 22: 7,\n",
       " 23: 8,\n",
       " 24: 9,\n",
       " 25: 10,\n",
       " 26: 11}"
      ]
     },
     "execution_count": 34,
     "metadata": {},
     "output_type": "execute_result"
    }
   ],
   "source": [
    "global_to_reduced = {node: i for i, node in enumerate(\n",
    "        idx_n for idx_n in range(1, len(nodes)+1) if idx_n not in dirichlet_nodes\n",
    "    )}\n",
    "print(\"Global to reduced nodes mapping:\"); global_to_reduced"
   ]
  },
  {
   "cell_type": "markdown",
   "metadata": {},
   "source": [
    "## Processor Module\n",
    "### Reduced Global matrix $A_{gr}$ with boundary conditions"
   ]
  },
  {
   "cell_type": "code",
   "execution_count": 35,
   "metadata": {},
   "outputs": [
    {
     "name": "stdout",
     "output_type": "stream",
     "text": [
      "Reduced global matrix shape: (12, 12)\n",
      "Reduced global matrix: \n",
      "   (0, 0)\t1.4605304934885143e-10\n",
      "  (0, 1)\t-1.7769121477991374e-11\n",
      "  (0, 6)\t-2.464882842781293e-11\n",
      "  (0, 7)\t-1.9656305570919502e-11\n",
      "  (1, 0)\t-1.776912147799138e-11\n",
      "  (1, 1)\t1.490014951844895e-10\n",
      "  (1, 2)\t-1.7769121477991335e-11\n",
      "  (1, 7)\t-1.9656305570919512e-11\n",
      "  (1, 8)\t-1.965630557091949e-11\n",
      "  (2, 1)\t-1.7769121477991335e-11\n",
      "  (2, 2)\t1.4900149518448945e-10\n",
      "  (2, 3)\t-1.7769121477991258e-11\n",
      "  (2, 8)\t-1.9656305570919522e-11\n",
      "  (2, 9)\t-1.9656305570919483e-11\n",
      "  (3, 2)\t-1.7769121477991258e-11\n",
      "  (3, 3)\t1.490014951844892e-10\n",
      "  (3, 4)\t-1.7769121477991125e-11\n",
      "  (3, 9)\t-1.9656305570919512e-11\n",
      "  (3, 11)\t-1.965630557091945e-11\n",
      "  (4, 3)\t-1.7769121477991122e-11\n",
      "  (4, 4)\t1.4605304934885117e-10\n",
      "  (4, 5)\t-2.4648828427812826e-11\n",
      "  (4, 11)\t-1.9656305570919564e-11\n",
      "  (5, 4)\t-2.4648828427812826e-11\n",
      "  (5, 5)\t1.4605304934885073e-10\n",
      "  (5, 6)\t-1.776912147799085e-11\n",
      "  (5, 10)\t-1.965630557091945e-11\n",
      "  (6, 0)\t-2.4648828427812923e-11\n",
      "  (6, 5)\t-1.7769121477990857e-11\n",
      "  (6, 6)\t1.4605304934885104e-10\n",
      "  (6, 10)\t-1.9656305570919583e-11\n",
      "  (7, 0)\t-1.9656305570919502e-11\n",
      "  (7, 1)\t-1.965630557091951e-11\n",
      "  (7, 7)\t7.8625222283678e-11\n",
      "  (8, 1)\t-1.965630557091949e-11\n",
      "  (8, 2)\t-1.9656305570919522e-11\n",
      "  (8, 8)\t7.862522228367801e-11\n",
      "  (9, 2)\t-1.9656305570919483e-11\n",
      "  (9, 3)\t-1.9656305570919512e-11\n",
      "  (9, 9)\t7.862522228367801e-11\n",
      "  (10, 5)\t-1.965630557091945e-11\n",
      "  (10, 6)\t-1.965630557091958e-11\n",
      "  (10, 10)\t7.862522228367807e-11\n",
      "  (11, 3)\t-1.965630557091945e-11\n",
      "  (11, 4)\t-1.9656305570919564e-11\n",
      "  (11, 11)\t7.862522228367802e-11\n",
      "Reduced force vector: \n",
      "   (0, 0)\t7.390850342719002e-11\n",
      "  (1, 0)\t7.390850342718998e-11\n",
      "  (2, 0)\t7.390850342719002e-11\n",
      "  (3, 0)\t7.390850342719006e-11\n",
      "  (4, 0)\t7.39085034271901e-11\n",
      "  (5, 0)\t7.390850342719e-11\n",
      "  (6, 0)\t7.390850342719011e-11\n"
     ]
    }
   ],
   "source": [
    "Agr, fgr = boundary_conditions.get_reduced_global_matrix(mesh_data, FINITE_ELEMENT)\n",
    "print(\"Reduced global matrix shape:\", Agr.shape)\n",
    "print(\"Reduced global matrix: \\n\", Agr)\n",
    "print(\"Reduced force vector: \\n\", fgr)"
   ]
  },
  {
   "cell_type": "markdown",
   "metadata": {},
   "source": [
    "### Global Potential Vector"
   ]
  },
  {
   "cell_type": "code",
   "execution_count": 36,
   "metadata": {},
   "outputs": [
    {
     "name": "stdout",
     "output_type": "stream",
     "text": [
      "The reduced solution vector ur is: \n",
      " [0.78787879 0.78787879 0.78787879 0.78787879 0.78787879 0.78787879\n",
      " 0.78787879 0.39393939 0.39393939 0.39393939 0.39393939 0.39393939]\n",
      "The global potential vector V is: \n",
      " [0.         0.78787879 1.         0.         0.         0.\n",
      " 0.         0.         0.         0.78787879 0.78787879 0.78787879\n",
      " 0.78787879 0.78787879 0.78787879 1.         1.         1.\n",
      " 1.         1.         1.         0.39393939 0.39393939 0.39393939\n",
      " 0.39393939 0.39393939]\n"
     ]
    }
   ],
   "source": [
    "ur = spsolve(Agr.tocsr(), fgr.toarray())\n",
    "potential_u = boundary_conditions.get_global_potentials(mesh_data, ur)\n",
    "print(\"The reduced solution vector ur is: \\n\", ur)\n",
    "print(\"The global potential vector V is: \\n\", potential_u)"
   ]
  },
  {
   "cell_type": "markdown",
   "metadata": {},
   "source": [
    "### Solution at each element"
   ]
  },
  {
   "cell_type": "code",
   "execution_count": 37,
   "metadata": {},
   "outputs": [
    {
     "name": "stdout",
     "output_type": "stream",
     "text": [
      "The solution u for Node Element is: \n",
      " [[0.78787879 0.39393939 0.        ]\n",
      " [0.78787879 0.39393939 0.        ]\n",
      " [0.         0.39393939 0.78787879]\n",
      " [0.         0.39393939 0.78787879]\n",
      " [0.78787879 0.39393939 0.        ]\n",
      " [0.         0.39393939 0.78787879]\n",
      " [0.         0.39393939 0.78787879]\n",
      " [0.         0.39393939 0.78787879]\n",
      " [0.78787879 0.39393939 0.        ]\n",
      " [0.78787879 0.39393939 0.        ]\n",
      " [0.         0.39393939 0.        ]\n",
      " [0.         0.39393939 0.        ]\n",
      " [0.         0.39393939 0.        ]\n",
      " [0.         0.39393939 0.        ]\n",
      " [0.         0.39393939 0.        ]\n",
      " [0.78787879 0.39393939 0.78787879]\n",
      " [0.78787879 0.39393939 0.78787879]\n",
      " [0.78787879 0.39393939 0.78787879]\n",
      " [0.78787879 0.39393939 0.78787879]\n",
      " [0.78787879 0.39393939 0.78787879]\n",
      " [0.78787879 0.         0.        ]\n",
      " [0.         0.78787879 0.78787879]\n",
      " [0.78787879 0.         0.        ]\n",
      " [0.78787879 0.         0.78787879]\n",
      " [1.         0.78787879 0.78787879]\n",
      " [1.         0.78787879 1.        ]\n",
      " [1.         0.78787879 0.78787879]\n",
      " [1.         0.78787879 1.        ]\n",
      " [1.         0.78787879 0.78787879]\n",
      " [1.         0.78787879 0.78787879]\n",
      " [1.         0.78787879 1.        ]\n",
      " [1.         0.78787879 0.78787879]\n",
      " [1.         0.78787879 1.        ]\n",
      " [1.         0.78787879 0.78787879]\n",
      " [1.         0.78787879 1.        ]\n",
      " [0.78787879 0.78787879 1.        ]\n",
      " [1.         0.78787879 1.        ]\n",
      " [1.         1.         0.78787879]]\n"
     ]
    }
   ],
   "source": [
    "u_list = []\n",
    "for e in range(len(conn)):\n",
    "    uh_values = [potential_u[id - 1] for id in conn[e]]\n",
    "    u_list.append(uh_values)\n",
    "print(\"The solution u for Node Element is: \\n\", np.array(u_list))"
   ]
  },
  {
   "cell_type": "markdown",
   "metadata": {},
   "source": [
    "## Post-Processor"
   ]
  },
  {
   "cell_type": "code",
   "execution_count": 38,
   "metadata": {},
   "outputs": [
    {
     "name": "stdout",
     "output_type": "stream",
     "text": [
      "Arquivo salvo em: c:\\Users\\adilt\\OneDrive\\01 ACADEMIA\\06 MODELOS\\8.FEM\\ppgee\\projects\\p12_coaxial_electrostatics\\pos_processing\\pictures\\coaxial_domain_solution_Triangle1.svg\n",
      "Arquivo salvo em: c:\\Users\\adilt\\OneDrive\\01 ACADEMIA\\06 MODELOS\\8.FEM\\ppgee\\projects\\p12_coaxial_electrostatics\\pos_processing\\pictures\\coaxial_analytical_solution.svg\n"
     ]
    }
   ],
   "source": [
    "graph_results.approximate_fem_solution(FINITE_ELEMENT, mesh_data, potential_u, model='coaxial')\n",
    "graph_results.coaxial_analytical_solution()"
   ]
  },
  {
   "cell_type": "markdown",
   "metadata": {},
   "source": [
    "### Figure 2: Scalar Field Distribution on a Triangular Mesh\n",
    "\n",
    "<figure>\n",
    "    <img src=\"pos_processing/pictures/coaxial_domain_solution_Triangle1.svg\" alt=\"Fig.2\" style=\"width:100%;\" />\n",
    "    <figcaption>Figure 2: Scalar Field Distribution on a Triangular Mesh.</figcaption>\n",
    "</figure>\n",
    "\n",
    "### Figure 3: Analytical Solution for a Scalar Field Distribution\n",
    "\n",
    "<figure>\n",
    "    <img src=\"pos_processing/pictures/coaxial_analytical_solution.svg\" alt=\"Fig.3\" style=\"width:100%;\" />\n",
    "    <figcaption>Figure 3: Analytical Solution for a Scalar Field Distribution.</figcaption>\n",
    "</figure>"
   ]
  },
  {
   "cell_type": "markdown",
   "metadata": {},
   "source": [
    "Conversão do arquivo Jupyter Notebook para um script Python: ``python -m nbconvert --to script name.ipynb``\n",
    "\n",
    "Belo Horizonte, Brazil. 2024.  \n",
    "Adilton Junio Ladeira Pereira - adt@ufmg.br  \n",
    "&copy; All rights reserved."
   ]
  }
 ],
 "metadata": {
  "kernelspec": {
   "display_name": "Python 3",
   "language": "python",
   "name": "python3"
  },
  "language_info": {
   "codemirror_mode": {
    "name": "ipython",
    "version": 3
   },
   "file_extension": ".py",
   "mimetype": "text/x-python",
   "name": "python",
   "nbconvert_exporter": "python",
   "pygments_lexer": "ipython3",
   "version": "3.12.8"
  }
 },
 "nbformat": 4,
 "nbformat_minor": 2
}
