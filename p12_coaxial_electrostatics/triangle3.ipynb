{
 "cells": [
  {
   "cell_type": "code",
   "execution_count": 1,
   "metadata": {},
   "outputs": [
    {
     "name": "stdout",
     "output_type": "stream",
     "text": [
      "Project root added to sys.path: C:\\Users\\adilt\\OneDrive\\01 ACADEMIA\\06 MODELOS\\8.FEM\\ppgee\\projects\n",
      "Todas as propriedades foram verificadas com sucesso para os elementos P1!\n",
      "Todas as propriedades foram verificadas com sucesso para os elementos P2!\n",
      "Todas as propriedades foram verificadas com sucesso para os elementos P3!\n",
      "Todas as propriedades foram verificadas com sucesso para os elementos Q1!\n",
      "Todas as propriedades foram verificadas com sucesso para os elementos Q2!\n",
      "Modules imports were successful!\n",
      "Modules imports were successful!\n",
      "Modules imports were successful!\n"
     ]
    }
   ],
   "source": [
    "import sys\n",
    "import numpy as np\n",
    "import import_ipynb\n",
    "from pathlib import Path\n",
    "from scipy.sparse.linalg import spsolve\n",
    "\n",
    "# Adicionar o diretório raiz do projeto ao sys.path\n",
    "project_root = Path().resolve().parent  \n",
    "sys.path.append(str(project_root))\n",
    "\n",
    "# Verifique se os caminhos foram adicionados\n",
    "print(\"Project root added to sys.path:\", project_root)\n",
    "\n",
    "# Importando notebooks diretamente\n",
    "try:\n",
    "    import problem_statement as ps  \n",
    "    from pre_processing import create_domain, read_mesh\n",
    "    from fem_processing import boundary_conditions\n",
    "    from pos_processing import graph_results\n",
    "    print(\"Modules imports were successful!\")\n",
    "except ModuleNotFoundError as e:\n",
    "    print(f\"Modules were not found: {e}\")\n",
    "except ImportError as e:\n",
    "    print(f\"Error in import: {e}\")\n",
    "    \n",
    "#run ../setup_project.py"
   ]
  },
  {
   "cell_type": "markdown",
   "metadata": {},
   "source": [
    "# Project 1: Coaxial Cable\n",
    "\n",
    "Considere um cabo coaxial com dois dielétricos apresentado na Figura $(1)$.\n",
    "\n",
    "<figure>\n",
    "    <img src=\"pre_processing/pictures/coaxial_problem.png\" alt=\"Fig.1\" style=\"width:20%;\" />\n",
    "    <figcaption>Figure 1: Geometry of Coaxial Problem.</figcaption>\n",
    "</figure>\n",
    "\n",
    "O raio do condutor interno é ``a`` e do condutor externo é ``b``. O primeiro dielétrico, $\\varepsilon_{1}$, preenche o anel circular entre os raios ``a`` e ``c``, enquanto o segundo dielétrico, $\\varepsilon_{2}$, preenche o anel entre os raios ``c`` e ``b``.  \n",
    "\n",
    "Entre o condutor interno e o externo é aplicada uma diferença de potencial igual a $V$.  \n",
    "\n",
    "Seja $V = 1$ (potencial zero em ``a`` e um em ``b``), $a = 2 \\, mm$, $b = 8 \\, mm$, $c = 5 \\, mm$, $\\varepsilon_{r1} = 2$ e $\\varepsilon_{r2} = 4$. Para este problema, além da convergência nas normas $L_2$ e da energia, calcule a convergência para o valor da capacitância do dispositivo."
   ]
  },
  {
   "cell_type": "markdown",
   "metadata": {},
   "source": [
    "# 10-noded cubic Triangular Elements, $P_3$\n",
    "## Pre-processor module\n",
    "### Geometry and mesh Domain"
   ]
  },
  {
   "cell_type": "code",
   "execution_count": 2,
   "metadata": {},
   "outputs": [
    {
     "name": "stdout",
     "output_type": "stream",
     "text": [
      "Model coaxial_domain_Triangle3 (2D)\n",
      "Info     : 8 geometric entities\n",
      "Info     : 4 Physical Groups\n",
      "Info     : 2373 nodes in total\n",
      "Info     : 506 2-D elements in total\n",
      "Arquivo salvo em: c:\\Users\\adilt\\OneDrive\\01 ACADEMIA\\06 MODELOS\\8.FEM\\ppgee\\projects\\p12_coaxial_electrostatics\\pre_processing\\pictures\\coaxial_meshed_domain_Triangle3.svg\n"
     ]
    }
   ],
   "source": [
    "FINITE_ELEMENT = (\"Triangle\", 3)\n",
    "\n",
    "BOUNDARY = [{'type': 'Dirichlet', 'tag': 101, 'value': 0.0, 'name': 'inner_conductor'},\n",
    "                       {'type': 'Dirichlet', 'tag': 102, 'value': 1.0, 'name': 'outer_conductor'}]\n",
    "\n",
    "MATERIAL = [{'type': 'relative_electric_permittivity', 'tag': 201, 'value': 2, 'name': 'medium_1'},\n",
    "                        {'type': 'relative_electric_permittivity', 'tag': 202, 'value': 4, 'name': 'medium_2'}]\n",
    "\n",
    "# Create mesh from file geometry\n",
    "create_domain.coaxial_geometry(FINITE_ELEMENT, BOUNDARY, MATERIAL, h=1E-3, view_mesh=True)\n",
    "mesh_data = read_mesh.get_data(FINITE_ELEMENT, BOUNDARY, MATERIAL, model='coaxial')\n",
    "graph_results.plot_mesh(mesh_data, FINITE_ELEMENT, model='coaxial')"
   ]
  },
  {
   "cell_type": "markdown",
   "metadata": {},
   "source": [
    "### Figure 1: Coaxial meshed domain \n",
    "\n",
    "<figure>\n",
    "    <img src=\"pre_processing/pictures/coaxial_meshed_domain_Triangle3.svg\" alt=\"Fig.1\" style=\"width:100%;\" />\n",
    "    <figcaption>Figure 1: Coaxial meshed domain.</figcaption>\n",
    "</figure>"
   ]
  },
  {
   "cell_type": "code",
   "execution_count": 3,
   "metadata": {},
   "outputs": [],
   "source": [
    "nodes = [node['global_coord'] for node in mesh_data['nodes_data']]\n",
    "conn = [element['conn_list'] for element in mesh_data['conn_data']]"
   ]
  },
  {
   "cell_type": "markdown",
   "metadata": {},
   "source": [
    "#### `apply_physics`"
   ]
  },
  {
   "cell_type": "code",
   "execution_count": 4,
   "metadata": {},
   "outputs": [
    {
     "data": {
      "text/plain": [
       "[{'TagID': 100,\n",
       "  'conn_list': [296, 314, 295, 360, 361, 362, 363, 364, 365, 366],\n",
       "  'material': {'type': 'relative_electric_permittivity',\n",
       "   'tag': 201,\n",
       "   'value': 2,\n",
       "   'name': 'medium_1',\n",
       "   'a_value': 1.77083756256e-11},\n",
       "  'source': {'type': 'free_source', 'value': 0}}]"
      ]
     },
     "execution_count": 4,
     "metadata": {},
     "output_type": "execute_result"
    }
   ],
   "source": [
    "mesh_data = ps.apply_physics(mesh_data, FINITE_ELEMENT)\n",
    "mesh_data['conn_data'][:1]"
   ]
  },
  {
   "cell_type": "markdown",
   "metadata": {},
   "source": [
    "### Imposition of Boundary Conditions"
   ]
  },
  {
   "cell_type": "code",
   "execution_count": 5,
   "metadata": {},
   "outputs": [
    {
     "name": "stdout",
     "output_type": "stream",
     "text": [
      "The entire domain has 2373 nodes: 2181 free nodes and 192 Dirichlet nodes.\n"
     ]
    }
   ],
   "source": [
    "dirichlet_nodes = [\n",
    "    node['TagID'] for node in mesh_data['nodes_data'] if node['bc']['type'] == 'Dirichlet']\n",
    "dirichlet_values = [\n",
    "    node['bc']['value'] for node in mesh_data['nodes_data'] if node['bc']['type'] == 'Dirichlet']\n",
    "free_nodes = [\n",
    "    node['TagID'] for node in mesh_data['nodes_data'] if node['bc']['type'] == 'Free']\n",
    "\n",
    "print(f\"The entire domain has {len(nodes)} nodes: \" \n",
    "      f\"{len(nodes) - len(dirichlet_nodes)} free nodes and {len(dirichlet_nodes)} Dirichlet nodes.\")"
   ]
  },
  {
   "cell_type": "markdown",
   "metadata": {},
   "source": [
    "### Reduced Global matrix $A_{gr}$ with boundary conditions"
   ]
  },
  {
   "cell_type": "code",
   "execution_count": 6,
   "metadata": {},
   "outputs": [
    {
     "name": "stdout",
     "output_type": "stream",
     "text": [
      "Reduced global matrix shape: (2181, 2181)\n"
     ]
    }
   ],
   "source": [
    "Agr, fgr = boundary_conditions.get_reduced_global_matrix(mesh_data, FINITE_ELEMENT)\n",
    "print(\"Reduced global matrix shape:\", Agr.shape)"
   ]
  },
  {
   "cell_type": "markdown",
   "metadata": {},
   "source": [
    "## Processor Module\n",
    "### Reduced Global matrix"
   ]
  },
  {
   "cell_type": "code",
   "execution_count": 7,
   "metadata": {},
   "outputs": [],
   "source": [
    "ur = spsolve(Agr.tocsr(), fgr.toarray())\n",
    "potential_u = boundary_conditions.get_global_potentials(mesh_data, ur)"
   ]
  },
  {
   "cell_type": "markdown",
   "metadata": {},
   "source": [
    "## Post-Processor"
   ]
  },
  {
   "cell_type": "code",
   "execution_count": 8,
   "metadata": {},
   "outputs": [
    {
     "name": "stdout",
     "output_type": "stream",
     "text": [
      "Arquivo salvo em: c:\\Users\\adilt\\OneDrive\\01 ACADEMIA\\06 MODELOS\\8.FEM\\ppgee\\projects\\p12_coaxial_electrostatics\\pos_processing\\pictures\\coaxial_domain_solution_Triangle3.svg\n"
     ]
    }
   ],
   "source": [
    "graph_results.approximate_fem_solution(FINITE_ELEMENT, mesh_data, potential_u, model='coaxial')"
   ]
  },
  {
   "cell_type": "markdown",
   "metadata": {},
   "source": [
    "### Figure 2: Scalar Field Distribution on a Triangular Mesh\n",
    "\n",
    "<figure>\n",
    "    <img src=\"pos_processing/pictures/coaxial_domain_solution_Triangle3.svg\" alt=\"Fig.2\" style=\"width:100%;\" />\n",
    "    <figcaption>Figure 2: Post-Processor: Scalar Field Distribution.</figcaption>\n",
    "</figure>"
   ]
  },
  {
   "cell_type": "markdown",
   "metadata": {},
   "source": [
    "Conversão do arquivo Jupyter Notebook para um script Python: ``python -m nbconvert --to script name.ipynb``\n",
    "\n",
    "Belo Horizonte, Brazil. 2024.  \n",
    "Adilton Junio Ladeira Pereira - adt@ufmg.br  \n",
    "&copy; All rights reserved."
   ]
  }
 ],
 "metadata": {
  "kernelspec": {
   "display_name": "Python 3",
   "language": "python",
   "name": "python3"
  },
  "language_info": {
   "codemirror_mode": {
    "name": "ipython",
    "version": 3
   },
   "file_extension": ".py",
   "mimetype": "text/x-python",
   "name": "python",
   "nbconvert_exporter": "python",
   "pygments_lexer": "ipython3",
   "version": "3.12.7"
  }
 },
 "nbformat": 4,
 "nbformat_minor": 2
}
