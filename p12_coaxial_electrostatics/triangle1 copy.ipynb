{
 "cells": [
  {
   "cell_type": "code",
   "execution_count": 1,
   "metadata": {},
   "outputs": [
    {
     "name": "stdout",
     "output_type": "stream",
     "text": [
      "Project root added to sys.path: C:\\Users\\adilt\\OneDrive\\01 ACADEMIA\\06 MODELOS\\8.FEM\\ppgee\\projects\n",
      "Error in import: cannot import name 'graph_results' from 'pos_processing' (unknown location)\n"
     ]
    }
   ],
   "source": [
    "import sys\n",
    "import numpy as np\n",
    "import import_ipynb\n",
    "from scipy.sparse.linalg import spsolve\n",
    "from pathlib import Path\n",
    "\n",
    "# Adicionar o diretório raiz do projeto ao sys.path\n",
    "project_root = Path().resolve().parent  \n",
    "sys.path.append(str(project_root))\n",
    "\n",
    "# Verifique se os caminhos foram adicionados\n",
    "print(\"Project root added to sys.path:\", project_root)\n",
    "\n",
    "# Importando notebooks diretamente\n",
    "try:\n",
    "    import problem_statement as ps  \n",
    "    from fem_pre_processing import read_mesh\n",
    "    from fem_processing import boundary_conditions, matrices_assembly\n",
    "    from fem_pos_processing import graph_results\n",
    "    print(\"Modules imports were successful!\")\n",
    "except ModuleNotFoundError as en:\n",
    "    print(f\"Modules were not found: {en}\")\n",
    "except ImportError as en:\n",
    "    print(f\"Error in import: {en}\")\n",
    "    \n",
    "#run ../setup_project.py"
   ]
  },
  {
   "cell_type": "markdown",
   "metadata": {},
   "source": [
    "# Project 1: Coaxial Cable\n",
    "\n",
    "Considere um cabo coaxial com dois dielétricos apresentado na Figura $(1)$.\n",
    "\n",
    "<figure>\n",
    "    <img src=\"pre_processing/pictures/coaxial_problem.png\" alt=\"Fig.1\" style=\"width:20%;\" />\n",
    "    <figcaption>Figure 1: Geometry of Coaxial Problem.</figcaption>\n",
    "</figure>\n",
    "\n",
    "O raio do condutor interno é ``a`` e do condutor externo é ``b``. O primeiro dielétrico, $\\varepsilon_{1}$, preenche o anel circular entre os raios ``a`` e ``c``, enquanto o segundo dielétrico, $\\varepsilon_{2}$, preenche o anel entre os raios ``c`` e ``b``.  \n",
    "\n",
    "Entre o condutor interno e o externo é aplicada uma diferença de potencial igual a $V$.  \n",
    "\n",
    "Seja $V = 1$ (potencial zero em ``a`` e um em ``b``), $a = 2 \\, mm$, $b = 8 \\, mm$, $c = 5 \\, mm$, $\\varepsilon_{r1} = 2$ e $\\varepsilon_{r2} = 4$. Para este problema, além da convergência nas normas $L_2$ e da energia, calcule a convergência para o valor da capacitância do dispositivo.\n",
    "\n",
    "# 3-noded Linear Triangular Elements, $P_1$\n",
    "## Pre-processor module\n",
    "### Geometry and mesh Domain"
   ]
  },
  {
   "cell_type": "code",
   "execution_count": 2,
   "metadata": {},
   "outputs": [
    {
     "ename": "NameError",
     "evalue": "name 'ps' is not defined",
     "output_type": "error",
     "traceback": [
      "\u001b[1;31m---------------------------------------------------------------------------\u001b[0m",
      "\u001b[1;31mNameError\u001b[0m                                 Traceback (most recent call last)",
      "Cell \u001b[1;32mIn[2], line 12\u001b[0m\n\u001b[0;32m      6\u001b[0m MATERIAL \u001b[38;5;241m=\u001b[39m [{\u001b[38;5;124m'\u001b[39m\u001b[38;5;124mtag\u001b[39m\u001b[38;5;124m'\u001b[39m: \u001b[38;5;241m201\u001b[39m, \u001b[38;5;124m'\u001b[39m\u001b[38;5;124mname\u001b[39m\u001b[38;5;124m'\u001b[39m: \u001b[38;5;124m'\u001b[39m\u001b[38;5;124mmedium_1\u001b[39m\u001b[38;5;124m'\u001b[39m, \n\u001b[0;32m      7\u001b[0m              \u001b[38;5;124m'\u001b[39m\u001b[38;5;124mrelative_electric_permittivity\u001b[39m\u001b[38;5;124m'\u001b[39m: \u001b[38;5;241m2\u001b[39m, \u001b[38;5;124m'\u001b[39m\u001b[38;5;124mrelative_magnetic_permeability\u001b[39m\u001b[38;5;124m'\u001b[39m: \u001b[38;5;241m1\u001b[39m},\n\u001b[0;32m      8\u001b[0m             {\u001b[38;5;124m'\u001b[39m\u001b[38;5;124mtag\u001b[39m\u001b[38;5;124m'\u001b[39m: \u001b[38;5;241m202\u001b[39m, \u001b[38;5;124m'\u001b[39m\u001b[38;5;124mname\u001b[39m\u001b[38;5;124m'\u001b[39m: \u001b[38;5;124m'\u001b[39m\u001b[38;5;124mmedium_2\u001b[39m\u001b[38;5;124m'\u001b[39m,\n\u001b[0;32m      9\u001b[0m              \u001b[38;5;124m'\u001b[39m\u001b[38;5;124mrelative_electric_permittivity\u001b[39m\u001b[38;5;124m'\u001b[39m: \u001b[38;5;241m4\u001b[39m, \u001b[38;5;124m'\u001b[39m\u001b[38;5;124mrelative_magnetic_permeability\u001b[39m\u001b[38;5;124m'\u001b[39m: \u001b[38;5;241m1\u001b[39m}]\n\u001b[0;32m     11\u001b[0m \u001b[38;5;66;03m# Create mesh from file geometry\u001b[39;00m\n\u001b[1;32m---> 12\u001b[0m \u001b[43mps\u001b[49m\u001b[38;5;241m.\u001b[39mcreate_domain(FINITE_ELEMENT, BOUNDARY, MATERIAL, h\u001b[38;5;241m=\u001b[39m\u001b[38;5;241m1\u001b[39m, view_mesh\u001b[38;5;241m=\u001b[39m\u001b[38;5;28;01mFalse\u001b[39;00m)\n\u001b[0;32m     14\u001b[0m \u001b[38;5;66;03m# Create mesh from file geometry\u001b[39;00m\n\u001b[0;32m     15\u001b[0m mesh_data \u001b[38;5;241m=\u001b[39m read_mesh\u001b[38;5;241m.\u001b[39mget_data(FINITE_ELEMENT, BOUNDARY, MATERIAL, model\u001b[38;5;241m=\u001b[39m\u001b[38;5;124m'\u001b[39m\u001b[38;5;124mcoaxial\u001b[39m\u001b[38;5;124m'\u001b[39m)\n",
      "\u001b[1;31mNameError\u001b[0m: name 'ps' is not defined"
     ]
    }
   ],
   "source": [
    "FINITE_ELEMENT = (\"Triangle\", 1)\n",
    "\n",
    "BOUNDARY = [{'tag': 101, 'type': 'Dirichlet', 'value': 0.0, 'name': 'inner_conductor'},\n",
    "            {'tag': 102, 'type': 'Dirichlet', 'value': 1.0, 'name': 'outer_conductor'}]\n",
    "\n",
    "MATERIAL = [{'tag': 201, 'name': 'medium_1', \n",
    "             'relative_electric_permittivity': 2, 'relative_magnetic_permeability': 1},\n",
    "            {'tag': 202, 'name': 'medium_2',\n",
    "             'relative_electric_permittivity': 4, 'relative_magnetic_permeability': 1}]\n",
    "\n",
    "# Create mesh from file geometry\n",
    "ps.create_domain(FINITE_ELEMENT, BOUNDARY, MATERIAL, h=1, view_mesh=False)\n",
    "\n",
    "# Create mesh from file geometry\n",
    "mesh_data = read_mesh.get_data(FINITE_ELEMENT, BOUNDARY, MATERIAL, model='coaxial')"
   ]
  },
  {
   "cell_type": "markdown",
   "metadata": {},
   "source": [
    "## Mesh Data Dictionaries"
   ]
  },
  {
   "cell_type": "code",
   "execution_count": 3,
   "metadata": {},
   "outputs": [
    {
     "data": {
      "text/plain": [
       "{'Tag': 25,\n",
       " 'conn': [7, 25, 13],\n",
       " 'material': {'tag': 201,\n",
       "  'name': 'medium_1',\n",
       "  'relative_electric_permittivity': 2,\n",
       "  'relative_magnetic_permeability': 1}}"
      ]
     },
     "execution_count": 3,
     "metadata": {},
     "output_type": "execute_result"
    }
   ],
   "source": [
    "cell_data = mesh_data['cell']; cell_data[1]"
   ]
  },
  {
   "cell_type": "code",
   "execution_count": null,
   "metadata": {},
   "outputs": [
    {
     "data": {
      "text/plain": [
       "{'xg': (0.002, 0.0), 'bc': {'type': 'Dirichlet', 'value': 0.0}}"
      ]
     },
     "execution_count": 4,
     "metadata": {},
     "output_type": "execute_result"
    }
   ],
   "source": [
    "nodes_data = mesh_data['nodes']; nodes_data[1]"
   ]
  },
  {
   "cell_type": "code",
   "execution_count": 5,
   "metadata": {},
   "outputs": [
    {
     "data": {
      "text/plain": [
       "[7, 25, 13]"
      ]
     },
     "execution_count": 5,
     "metadata": {},
     "output_type": "execute_result"
    }
   ],
   "source": [
    "conn = {key: cell['conn'] for key, cell in cell_data.items()}; conn[1]"
   ]
  },
  {
   "cell_type": "markdown",
   "metadata": {},
   "source": [
    "## Figure 1: Rectangular meshed domain $\\Omega=[0,1]^2$"
   ]
  },
  {
   "cell_type": "code",
   "execution_count": 6,
   "metadata": {},
   "outputs": [
    {
     "name": "stdout",
     "output_type": "stream",
     "text": [
      "Arquivo salvo em: c:\\Users\\adilt\\OneDrive\\01 ACADEMIA\\06 MODELOS\\8.FEM\\ppgee\\projects\\p12_coaxial_electrostatics\\pre_processing\\pictures\\coaxial_meshed_domain_Triangle1.svg\n"
     ]
    }
   ],
   "source": [
    "graph_results.plot_mesh(FINITE_ELEMENT, mesh_data, model='coaxial', Numbering=True)"
   ]
  },
  {
   "cell_type": "markdown",
   "metadata": {},
   "source": [
    "<figure>\n",
    "    <img src=\"pre_processing/pictures/coaxial_meshed_domain_Triangle1.svg\" alt=\"Fig.1\" style=\"width:100%;\" />\n",
    "    <figcaption>Figure 1: Rectangular meshed domain $\\Omega=[0,1]^2$.</figcaption>\n",
    "</figure>"
   ]
  },
  {
   "cell_type": "markdown",
   "metadata": {},
   "source": [
    "## `apply_physics()`"
   ]
  },
  {
   "cell_type": "code",
   "execution_count": 7,
   "metadata": {},
   "outputs": [
    {
     "data": {
      "text/plain": [
       "{'Tag': 25,\n",
       " 'conn': [7, 25, 13],\n",
       " 'material': {'tag': 201,\n",
       "  'name': 'medium_1',\n",
       "  'relative_electric_permittivity': 2,\n",
       "  'relative_magnetic_permeability': 1},\n",
       " 'stiffness_a_value': 1.77083756256e-11,\n",
       " 'mass_a_value': 1,\n",
       " 'source': {'type': 'free_source', 'value': 0}}"
      ]
     },
     "execution_count": 7,
     "metadata": {},
     "output_type": "execute_result"
    }
   ],
   "source": [
    "mesh_data = ps.apply_physics(FINITE_ELEMENT, mesh_data); mesh_data['cell'][1]"
   ]
  },
  {
   "cell_type": "markdown",
   "metadata": {},
   "source": [
    "## ``global_nodes_coordinates()``"
   ]
  },
  {
   "cell_type": "code",
   "execution_count": 8,
   "metadata": {},
   "outputs": [
    {
     "data": {
      "text/plain": [
       "(0.002, 0.0)"
      ]
     },
     "execution_count": 8,
     "metadata": {},
     "output_type": "execute_result"
    }
   ],
   "source": [
    "nodes_coord = {key: value['xg'] for key, value in nodes_data.items()}; nodes_coord[1]"
   ]
  },
  {
   "cell_type": "markdown",
   "metadata": {},
   "source": [
    "## $x_g, y_g$ global coordinate"
   ]
  },
  {
   "cell_type": "code",
   "execution_count": 9,
   "metadata": {},
   "outputs": [
    {
     "data": {
      "text/plain": [
       "0.002"
      ]
     },
     "execution_count": 9,
     "metadata": {},
     "output_type": "execute_result"
    }
   ],
   "source": [
    "xg = {key: value['xg'][0] for key, value in nodes_data.items()}; xg[1]"
   ]
  },
  {
   "cell_type": "markdown",
   "metadata": {},
   "source": [
    "## $a_e = (x_e, y_e)$ global element coordinate"
   ]
  },
  {
   "cell_type": "code",
   "execution_count": 10,
   "metadata": {},
   "outputs": [
    {
     "name": "stdout",
     "output_type": "stream",
     "text": [
      "'a_e' global coordinates: \n"
     ]
    },
    {
     "data": {
      "text/plain": [
       "[(-0.001801937735804846, -0.0008677674782351008),\n",
       " (-0.003153391037658468, 1.23521800690691e-17),\n",
       " (-0.004504844339512103, -0.002169418695587776)]"
      ]
     },
     "execution_count": 10,
     "metadata": {},
     "output_type": "execute_result"
    }
   ],
   "source": [
    "ai = {key: [nodes_data[id]['xg'] for id in node_ids] for key, node_ids in conn.items()}\n",
    "xi = {key: [coord[0] for coord in coords] for key, coords in ai.items()}\n",
    "yi = {key: [coord[1] for coord in coords] for key, coords in ai.items()}\n",
    "print(\"'a_e' global coordinates: \"); ai[1]"
   ]
  },
  {
   "cell_type": "code",
   "execution_count": 11,
   "metadata": {},
   "outputs": [
    {
     "name": "stdout",
     "output_type": "stream",
     "text": [
      "'a_1' global coordinates: \n"
     ]
    },
    {
     "data": {
      "text/plain": [
       "[(-0.001801937735804846, -0.0008677674782351008),\n",
       " (-0.003153391037658468, 1.23521800690691e-17),\n",
       " (-0.004504844339512103, -0.002169418695587776)]"
      ]
     },
     "execution_count": 11,
     "metadata": {},
     "output_type": "execute_result"
    }
   ],
   "source": [
    "print(\"'a_1' global coordinates: \"); ai[1]"
   ]
  },
  {
   "cell_type": "code",
   "execution_count": 12,
   "metadata": {},
   "outputs": [
    {
     "name": "stdout",
     "output_type": "stream",
     "text": [
      "'Node 2' global coordinates: \n"
     ]
    },
    {
     "data": {
      "text/plain": [
       "(0.005, 0.0)"
      ]
     },
     "execution_count": 12,
     "metadata": {},
     "output_type": "execute_result"
    }
   ],
   "source": [
    "print(\"'Node 2' global coordinates: \"); nodes_data[2]['xg']"
   ]
  },
  {
   "cell_type": "code",
   "execution_count": 13,
   "metadata": {},
   "outputs": [
    {
     "name": "stdout",
     "output_type": "stream",
     "text": [
      "'x_1' x-coordinates: \n"
     ]
    },
    {
     "data": {
      "text/plain": [
       "[-0.001801937735804846, -0.003153391037658468, -0.004504844339512103]"
      ]
     },
     "execution_count": 13,
     "metadata": {},
     "output_type": "execute_result"
    }
   ],
   "source": [
    "print(\"'x_1' x-coordinates: \"); xi[1]"
   ]
  },
  {
   "cell_type": "markdown",
   "metadata": {},
   "source": [
    "## `map_to_physical_coordinates()`"
   ]
  },
  {
   "cell_type": "code",
   "execution_count": 14,
   "metadata": {},
   "outputs": [
    {
     "name": "stdout",
     "output_type": "stream",
     "text": [
      "'e_1' Master coordinates: (0, 1) --> Global coordinates: (-0.004504844339512103, -0.002169418695587776)\n"
     ]
    }
   ],
   "source": [
    "xi_master = (0, 1)\n",
    "xg_1, yg_1 = matrices_assembly.isomapping_to_global_coordinates(ai[1], xi_master, FINITE_ELEMENT)\n",
    "print(f\"'e_1' Master coordinates: {xi_master} --> Global coordinates: ({xg_1}, {yg_1})\")"
   ]
  },
  {
   "cell_type": "markdown",
   "metadata": {},
   "source": [
    "## Material Proprieties, $k_a$"
   ]
  },
  {
   "cell_type": "code",
   "execution_count": 15,
   "metadata": {},
   "outputs": [],
   "source": [
    "ka = {key: value['stiffness_a_value'] for key, value in cell_data.items()}"
   ]
  },
  {
   "cell_type": "markdown",
   "metadata": {},
   "source": [
    "## Source: Analytical source, $f(x)$"
   ]
  },
  {
   "cell_type": "code",
   "execution_count": 16,
   "metadata": {},
   "outputs": [],
   "source": [
    "fx = {key: value['source']['value'] for key, value in cell_data.items()}"
   ]
  },
  {
   "cell_type": "markdown",
   "metadata": {},
   "source": [
    "## Jacobian Matrix Transform"
   ]
  },
  {
   "cell_type": "code",
   "execution_count": 17,
   "metadata": {},
   "outputs": [
    {
     "name": "stdout",
     "output_type": "stream",
     "text": [
      "Jacobian matrix for element e_1:\n",
      " [[-0.00135145  0.00086777]\n",
      " [-0.00270291 -0.00130165]]\n",
      "Determinant of the Jacobian matrix for element e_1: 4.104615282957144e-06\n"
     ]
    }
   ],
   "source": [
    "Je = matrices_assembly.jacobian(FINITE_ELEMENT, mesh_data, e=1, xik=(0, 0)) \n",
    "Jdet, Jinv = np.linalg.det(Je), np.linalg.inv(Je)\n",
    "print(\"Jacobian matrix for element e_1:\\n\", Je)\n",
    "print(\"Determinant of the Jacobian matrix for element e_1:\", Jdet)"
   ]
  },
  {
   "cell_type": "markdown",
   "metadata": {},
   "source": [
    "## Local Elements $e_1$"
   ]
  },
  {
   "cell_type": "code",
   "execution_count": 18,
   "metadata": {},
   "outputs": [
    {
     "name": "stdout",
     "output_type": "stream",
     "text": [
      "Local stiffness matrix for element e_1:\n",
      " [[ 1.40921048e-11+0.j -1.39710359e-11+0.j -1.21068829e-13+0.j]\n",
      " [-1.39710359e-11+0.j  1.94141677e-11+0.j -5.44313178e-12+0.j]\n",
      " [-1.21068829e-13+0.j -5.44313178e-12+0.j  5.56420061e-12+0.j]]\n",
      "Local load vector for element e_1:\n",
      " [[0.+0.j]\n",
      " [0.+0.j]\n",
      " [0.+0.j]]\n",
      "Area of element e_1:  2.0523076209554954e-06\n"
     ]
    }
   ],
   "source": [
    "Ae, fe, Me, area_e = matrices_assembly.local_matrices(FINITE_ELEMENT, mesh_data, e=1)\n",
    "print(\"Local stiffness matrix for element e_1:\\n\", Ae)\n",
    "print(\"Local load vector for element e_1:\\n\", fe)\n",
    "print(\"Area of element e_1: \", area_e)"
   ]
  },
  {
   "cell_type": "markdown",
   "metadata": {},
   "source": [
    "## Global “stiffness” matrix, $A_g$"
   ]
  },
  {
   "cell_type": "code",
   "execution_count": null,
   "metadata": {},
   "outputs": [
    {
     "name": "stdout",
     "output_type": "stream",
     "text": [
      "Global matrix shape: (26, 26)\n"
     ]
    }
   ],
   "source": [
    "Ag, fg, Mg = matrices_assembly.global_matrix(FINITE_ELEMENT, mesh_data)\n",
    "print(\"Global matrix shape:\", Ag.shape)"
   ]
  },
  {
   "cell_type": "markdown",
   "metadata": {},
   "source": [
    "## Imposition of Boundary Conditions\n",
    "### $Dirichlet$ nodes"
   ]
  },
  {
   "cell_type": "code",
   "execution_count": null,
   "metadata": {},
   "outputs": [
    {
     "data": {
      "text/plain": [
       "{1: {'xg': (0.002, 0.0), 'bc': {'type': 'Dirichlet', 'value': 0.0}},\n",
       " 3: {'xg': (0.008, 0.0), 'bc': {'type': 'Dirichlet', 'value': 1.0}},\n",
       " 4: {'xg': (0.00124697960371747, 0.001563662964936058),\n",
       "  'bc': {'type': 'Dirichlet', 'value': 0.0}},\n",
       " 5: {'xg': (-0.0004450418679126261, 0.001949855824363648),\n",
       "  'bc': {'type': 'Dirichlet', 'value': 0.0}},\n",
       " 6: {'xg': (-0.001801937735804834, 0.0008677674782351253),\n",
       "  'bc': {'type': 'Dirichlet', 'value': 0.0}},\n",
       " 7: {'xg': (-0.001801937735804846, -0.0008677674782351008),\n",
       "  'bc': {'type': 'Dirichlet', 'value': 0.0}},\n",
       " 8: {'xg': (-0.0004450418679126447, -0.001949855824363644),\n",
       "  'bc': {'type': 'Dirichlet', 'value': 0.0}},\n",
       " 9: {'xg': (0.00124697960371746, -0.001563662964936065),\n",
       "  'bc': {'type': 'Dirichlet', 'value': 0.0}},\n",
       " 16: {'xg': (0.004987918414869878, 0.006254651859744231),\n",
       "  'bc': {'type': 'Dirichlet', 'value': 1.0}},\n",
       " 17: {'xg': (-0.001780167471650504, 0.007799423297454592),\n",
       "  'bc': {'type': 'Dirichlet', 'value': 1.0}},\n",
       " 18: {'xg': (-0.007207750943219336, 0.003471069912940501),\n",
       "  'bc': {'type': 'Dirichlet', 'value': 1.0}},\n",
       " 19: {'xg': (-0.007207750943219383, -0.003471069912940403),\n",
       "  'bc': {'type': 'Dirichlet', 'value': 1.0}},\n",
       " 20: {'xg': (-0.001780167471650579, -0.007799423297454575),\n",
       "  'bc': {'type': 'Dirichlet', 'value': 1.0}},\n",
       " 21: {'xg': (0.00498791841486984, -0.006254651859744262),\n",
       "  'bc': {'type': 'Dirichlet', 'value': 1.0}}}"
      ]
     },
     "execution_count": 20,
     "metadata": {},
     "output_type": "execute_result"
    }
   ],
   "source": [
    "dirichlet_nodes = {key: value \n",
    "                   for key, value in nodes_data.items() if value['bc']['type'] == 'Dirichlet'}\n",
    "dirichlet_nodes"
   ]
  },
  {
   "cell_type": "code",
   "execution_count": 21,
   "metadata": {},
   "outputs": [
    {
     "name": "stdout",
     "output_type": "stream",
     "text": [
      "The entire domain has 26 nodes: 12 free nodes; 14 Dirichlet nodes.\n"
     ]
    }
   ],
   "source": [
    "Nn = len(nodes_data); Nd = len(dirichlet_nodes)\n",
    "print(f\"The entire domain has {Nn} nodes: {Nn - Nd} free nodes; {Nd} Dirichlet nodes.\")"
   ]
  },
  {
   "cell_type": "code",
   "execution_count": 22,
   "metadata": {},
   "outputs": [],
   "source": [
    "free_nodes = {key: value for key, value in nodes_data.items() if value['bc']['type'] != 'Dirichlet'}"
   ]
  },
  {
   "cell_type": "markdown",
   "metadata": {},
   "source": [
    "## Mapping Global nodes to reduced system\n",
    "\n",
    "This code creates a dictionary called ``global_to_reduced``, which maps the global indices of the mesh nodes to the reduced indices, i.e. the indices that correspond only to the nodes that are not in the _Dirichlet boundary conditions_."
   ]
  },
  {
   "cell_type": "code",
   "execution_count": 23,
   "metadata": {},
   "outputs": [
    {
     "data": {
      "text/plain": [
       "{2: 1,\n",
       " 10: 2,\n",
       " 11: 3,\n",
       " 12: 4,\n",
       " 13: 5,\n",
       " 14: 6,\n",
       " 15: 7,\n",
       " 22: 8,\n",
       " 23: 9,\n",
       " 24: 10,\n",
       " 25: 11,\n",
       " 26: 12}"
      ]
     },
     "execution_count": 23,
     "metadata": {},
     "output_type": "execute_result"
    }
   ],
   "source": [
    "{global_id: idx + 1 for idx, global_id in enumerate(free_nodes.keys())}"
   ]
  },
  {
   "cell_type": "markdown",
   "metadata": {},
   "source": [
    "## Processor Module\n",
    "## Asymmetric Global matrix $A_g$ with boundary conditions"
   ]
  },
  {
   "cell_type": "code",
   "execution_count": 24,
   "metadata": {},
   "outputs": [
    {
     "name": "stdout",
     "output_type": "stream",
     "text": [
      "Global matrix shape: (26, 26)\n"
     ]
    }
   ],
   "source": [
    "Ag, fg = boundary_conditions.apply_simple_dirichlet(Ag, fg, mesh_data)\n",
    "print(\"Global matrix shape:\", Ag.shape)"
   ]
  },
  {
   "cell_type": "markdown",
   "metadata": {},
   "source": [
    "## Global Potential Vector"
   ]
  },
  {
   "cell_type": "code",
   "execution_count": 25,
   "metadata": {},
   "outputs": [
    {
     "name": "stdout",
     "output_type": "stream",
     "text": [
      "The solution vector u is: \n",
      " [0.        +0.j 0.78787879+0.j 1.        +0.j 0.        +0.j\n",
      " 0.        +0.j 0.        +0.j 0.        +0.j 0.        +0.j\n",
      " 0.        +0.j 0.78787879+0.j 0.78787879+0.j 0.78787879+0.j\n",
      " 0.78787879+0.j 0.78787879+0.j 0.78787879+0.j 1.        +0.j\n",
      " 1.        +0.j 1.        +0.j 1.        +0.j 1.        +0.j\n",
      " 1.        +0.j 0.39393939+0.j 0.39393939+0.j 0.39393939+0.j\n",
      " 0.39393939+0.j 0.39393939+0.j]\n"
     ]
    }
   ],
   "source": [
    "ug = spsolve(Ag.tocsr(), fg.toarray())\n",
    "print(\"The solution vector u is: \\n\", ug)"
   ]
  },
  {
   "cell_type": "markdown",
   "metadata": {},
   "source": [
    "## Reduced Global matrix $A_{gr}$ with boundary conditions"
   ]
  },
  {
   "cell_type": "code",
   "execution_count": 26,
   "metadata": {},
   "outputs": [
    {
     "name": "stdout",
     "output_type": "stream",
     "text": [
      "Reduced global matrix shape: (12, 12)\n"
     ]
    }
   ],
   "source": [
    "Agr, fgr, Mgr = boundary_conditions.reduced_global_matrices(FINITE_ELEMENT, mesh_data)\n",
    "print(\"Reduced global matrix shape:\", Agr.shape)"
   ]
  },
  {
   "cell_type": "markdown",
   "metadata": {},
   "source": [
    "## Global Potential Solution"
   ]
  },
  {
   "cell_type": "code",
   "execution_count": 27,
   "metadata": {},
   "outputs": [
    {
     "name": "stdout",
     "output_type": "stream",
     "text": [
      "Reduced solution vector ur:  [0.78787879+0.j 0.78787879+0.j 0.78787879+0.j 0.78787879+0.j\n",
      " 0.78787879+0.j 0.78787879+0.j 0.78787879+0.j 0.39393939+0.j\n",
      " 0.39393939+0.j 0.39393939+0.j 0.39393939+0.j 0.39393939+0.j]\n",
      "Global potential vector V: \n"
     ]
    },
    {
     "data": {
      "text/plain": [
       "{1: 0.0,\n",
       " 2: (0.7878787878787882+0j),\n",
       " 3: 1.0,\n",
       " 4: 0.0,\n",
       " 5: 0.0,\n",
       " 6: 0.0,\n",
       " 7: 0.0,\n",
       " 8: 0.0,\n",
       " 9: 0.0,\n",
       " 10: (0.7878787878787882+0j),\n",
       " 11: (0.7878787878787877+0j),\n",
       " 12: (0.787878787878788+0j),\n",
       " 13: (0.7878787878787882+0j),\n",
       " 14: (0.7878787878787878+0j),\n",
       " 15: (0.7878787878787882+0j),\n",
       " 16: 1.0,\n",
       " 17: 1.0,\n",
       " 18: 1.0,\n",
       " 19: 1.0,\n",
       " 20: 1.0,\n",
       " 21: 1.0,\n",
       " 22: (0.3939393939393942+0j),\n",
       " 23: (0.39393939393939376+0j),\n",
       " 24: (0.39393939393939414+0j),\n",
       " 25: (0.3939393939393938+0j),\n",
       " 26: (0.39393939393939376+0j)}"
      ]
     },
     "execution_count": 27,
     "metadata": {},
     "output_type": "execute_result"
    }
   ],
   "source": [
    "ur = spsolve(Agr.tocsr(), fgr.toarray())\n",
    "potential_u = boundary_conditions.global_potentials_solution(mesh_data, ur)\n",
    "print(\"Reduced solution vector ur: \", ur)\n",
    "print(\"Global potential vector V: \"); potential_u"
   ]
  },
  {
   "cell_type": "markdown",
   "metadata": {},
   "source": [
    "## Solution at each element"
   ]
  },
  {
   "cell_type": "code",
   "execution_count": 28,
   "metadata": {},
   "outputs": [
    {
     "name": "stdout",
     "output_type": "stream",
     "text": [
      "The complete solution for each cell.\n"
     ]
    },
    {
     "data": {
      "text/plain": [
       "[0.0, (0.3939393939393938+0j), (0.7878787878787882+0j)]"
      ]
     },
     "execution_count": 28,
     "metadata": {},
     "output_type": "execute_result"
    }
   ],
   "source": [
    "u_for_cell = {}\n",
    "for en, cell in mesh_data['cell'].items():\n",
    "    u_e = []\n",
    "    for node in cell['conn']:\n",
    "        u_e.append(potential_u[node])\n",
    "    u_for_cell[en] = u_e\n",
    "\n",
    "print(\"The complete solution for each cell.\"); u_for_cell[1]"
   ]
  },
  {
   "cell_type": "markdown",
   "metadata": {},
   "source": [
    "## Interpolate Solution at element, $e_n$"
   ]
  },
  {
   "cell_type": "code",
   "execution_count": 29,
   "metadata": {},
   "outputs": [
    {
     "name": "stdout",
     "output_type": "stream",
     "text": [
      "Element e_1: Potential 'u' interpolate at xi = (0, 0.5) --> u(xi): [0.39393939+0.j]\n"
     ]
    }
   ],
   "source": [
    "xi_master = (0, 0.5)\n",
    "en = 1\n",
    "u_at_node = matrices_assembly.isomapping_to_global_coordinates(u_for_cell[en], xi_master, FINITE_ELEMENT)\n",
    "\n",
    "print(f\"Element e_{en}: Potential 'u' interpolate at xi = {xi_master} --> u(xi): {u_at_node}\")"
   ]
  },
  {
   "cell_type": "markdown",
   "metadata": {},
   "source": [
    "## Post-Processor"
   ]
  },
  {
   "cell_type": "code",
   "execution_count": 30,
   "metadata": {},
   "outputs": [
    {
     "name": "stdout",
     "output_type": "stream",
     "text": [
      "Arquivo salvo em: c:\\Users\\adilt\\OneDrive\\01 ACADEMIA\\06 MODELOS\\8.FEM\\ppgee\\projects\\p12_coaxial_electrostatics\\pos_processing\\pictures\\fem_solution_Triangle1.svg\n",
      "Arquivo salvo em: c:\\Users\\adilt\\OneDrive\\01 ACADEMIA\\06 MODELOS\\8.FEM\\ppgee\\projects\\p12_coaxial_electrostatics\\pos_processing\\pictures\\analytical_solution.svg\n"
     ]
    }
   ],
   "source": [
    "graph_results.fem_solution(FINITE_ELEMENT, mesh_data, potential_u, type='real')\n",
    "ps.plot_analytical_solution()"
   ]
  },
  {
   "cell_type": "markdown",
   "metadata": {},
   "source": [
    "### Figure 2: Scalar Field Distribution on a Triangular Mesh\n",
    "<figure>\n",
    "    <img src=\"pos_processing/pictures/fem_solution_Triangle1.svg\" alt=\"Fig.2\" style=\"width:100%;\" />\n",
    "    <figcaption>Figure 2: Post-Processor: Scalar Field Distribution.</figcaption>\n",
    "</figure>\n",
    "\n",
    "### Figure 4: Analytical Scalar Field Distribution on a Triangular Mesh\n",
    "<figure>\n",
    "    <img src=\"pos_processing/pictures/analytical_solution.svg\" alt=\"Fig.4\" style=\"width:100%;\" />\n",
    "    <figcaption>Figure 4: Analytical Scalar Field Distribution on a Triangular Mesh.</figcaption>\n",
    "</figure>"
   ]
  },
  {
   "cell_type": "markdown",
   "metadata": {},
   "source": [
    "Conversão do arquivo Jupyter Notebook para um script Python: ``python -m nbconvert --to script name.ipynb``\n",
    "\n",
    "Belo Horizonte, Brazil. 2024.  \n",
    "Adilton Junio Ladeira Pereira - adt@ufmg.br  \n",
    "&copy; All rights reserved."
   ]
  }
 ],
 "metadata": {
  "kernelspec": {
   "display_name": "Python 3",
   "language": "python",
   "name": "python3"
  },
  "language_info": {
   "codemirror_mode": {
    "name": "ipython",
    "version": 3
   },
   "file_extension": ".py",
   "mimetype": "text/x-python",
   "name": "python",
   "nbconvert_exporter": "python",
   "pygments_lexer": "ipython3",
   "version": "3.12.8"
  }
 },
 "nbformat": 4,
 "nbformat_minor": 2
}
