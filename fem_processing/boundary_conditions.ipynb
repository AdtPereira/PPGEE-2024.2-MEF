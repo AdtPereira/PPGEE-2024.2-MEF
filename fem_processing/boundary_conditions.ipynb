{
 "cells": [
  {
   "cell_type": "code",
   "execution_count": null,
   "metadata": {},
   "outputs": [],
   "source": [
    "import import_ipynb\n",
    "import numpy as np\n",
    "from scipy.sparse import lil_matrix\n",
    "\n",
    "# Importando notebooks diretamente\n",
    "try:\n",
    "    from fem_processing import matrices_assembly\n",
    "    print(\"Modules imports were successful!\")\n",
    "except ModuleNotFoundError as e:\n",
    "    print(f\"Modules were not found: {e}\")\n",
    "except ImportError as e:\n",
    "    print(f\"Error in import: {e}\")"
   ]
  },
  {
   "cell_type": "markdown",
   "metadata": {},
   "source": [
    "# `apply_simple_dirichlet()`"
   ]
  },
  {
   "cell_type": "code",
   "execution_count": null,
   "metadata": {},
   "outputs": [],
   "source": [
    "def apply_simple_dirichlet(Ag, fg, mesh_data):\n",
    "    for key, node in mesh_data['nodes'].items():\n",
    "        # Verifica se o nó é de Dirichlet\n",
    "        if node['bc']['type'] == 'Dirichlet':\n",
    "            e = int(key) - 1\n",
    "            \n",
    "            # Zera a linha correspondente ao nó de Dirichlet\n",
    "            Ag[e, :] = 0\n",
    "            \n",
    "            # Define o valor 1 na diagonal para evitar singularidade\n",
    "            Ag[e, e] = 1\n",
    "            \n",
    "            # Ajusta o vetor de forças com o valor de Dirichlet\n",
    "            fg[e] = node['bc']['value']\n",
    "\n",
    "    return Ag, fg"
   ]
  },
  {
   "cell_type": "markdown",
   "metadata": {},
   "source": [
    "# `get_reduced_global_matrices()`"
   ]
  },
  {
   "cell_type": "code",
   "execution_count": null,
   "metadata": {},
   "outputs": [],
   "source": [
    "def reduced_global_matrices(FINITE_ELEMENT, mesh_data):\n",
    "    # Element connectivity, nodes and material properties\n",
    "    type, order = FINITE_ELEMENT    \n",
    "    nodes_data = mesh_data['nodes']\n",
    "    free_nodes = {key: value for key, value in nodes_data.items() if value['bc']['type'] != 'Dirichlet'}\n",
    "\n",
    "    # Mapeamento de índices globais para índices reduzidos\n",
    "    global_to_reduced = {global_id: idx + 1 for idx, global_id in enumerate(free_nodes.keys())}\n",
    "\n",
    "    # Initialize the global matrix and vector\n",
    "    Agr = lil_matrix((len(free_nodes), len(free_nodes)), dtype='complex128')\n",
    "    Mgr = lil_matrix((len(free_nodes), len(free_nodes)), dtype='complex128')\n",
    "    fgr = lil_matrix((len(free_nodes), 1), dtype='complex128')\n",
    "    Pgr = lil_matrix((len(free_nodes), len(free_nodes)), dtype='complex128')\n",
    "    Qgr = lil_matrix((len(free_nodes), len(free_nodes)), dtype='complex128')\n",
    "\n",
    "    # Início do processo de montagem\n",
    "    for e, cell in mesh_data['cell'].items():\n",
    "        # Get the cell's element number of nodes\n",
    "        Ne = len(cell['conn'])\n",
    "\n",
    "        # Compute the local data\n",
    "        Ae, fe, Me, Pe, Qe = matrices_assembly.local_matrices(FINITE_ELEMENT, mesh_data, e)\n",
    "\n",
    "        # loop sobre os nós locais de cada elemento\n",
    "        for i in range(Ne):  \n",
    "            # Índice global do nó local i\n",
    "            ig = cell['conn'][i]\n",
    "\n",
    "            # Verifica se o nó é livre\n",
    "            if ig in free_nodes:\n",
    "                # Índice reduzido\n",
    "                ig_red = global_to_reduced[ig] - 1\n",
    "                \n",
    "                # loop sobre os nós locais de cada elemento\n",
    "                for j in range(Ne):\n",
    "                    # Índice global do nó local j  \n",
    "                    jg = cell['conn'][j]\n",
    "\n",
    "                    # Verifica se o nó é livre\n",
    "                    if jg in free_nodes:\n",
    "                        # Índice reduzido\n",
    "                        jg_red = global_to_reduced[jg] - 1\n",
    "\n",
    "                        # preenche a matriz global A reduzida\n",
    "                        Agr[ig_red, jg_red] += Ae[i, j]\n",
    "                        Mgr[ig_red, jg_red] += Me[i, j]\n",
    "                        Pgr[ig_red, jg_red] += Pe[i, j]\n",
    "                        Qgr[ig_red, jg_red] += Qe[i, j]\n",
    "\n",
    "                    # O nó global é de Dirichlet\n",
    "                    else:\n",
    "                        # Contribuição de Dirichlet para o vetor reduzido\n",
    "                        fgr[ig_red, 0] += -Ae[i, j] * nodes_data[jg]['bc']['value']\n",
    "                \n",
    "                # preenche o vetor global b\n",
    "                fgr[ig_red, 0] += fe[i]\n",
    "    \n",
    "    return Agr, fgr, Mgr, Pgr, Qgr"
   ]
  },
  {
   "cell_type": "markdown",
   "metadata": {},
   "source": [
    "# `get_global_u()`"
   ]
  },
  {
   "cell_type": "code",
   "execution_count": null,
   "metadata": {},
   "outputs": [],
   "source": [
    "def global_potentials_solution(mesh_data, free_potentials):\n",
    "    \"\"\"\n",
    "    Monta o vetor de potenciais globais V combinando potenciais calculados (livres) e prescritos (Dirichlet),\n",
    "    utilizando o mapeamento global_to_reduced.\n",
    "\n",
    "    Parâmetros:\n",
    "    - mesh_data: Dados da malha, contendo nós e condições de contorno.\n",
    "    - free_potentials: Potenciais calculados para os graus de liberdade livres (nós não-Dirichlet).\n",
    "\n",
    "    Retorna:\n",
    "    - V: Vetor contendo os potenciais globais de todos os nós.\n",
    "    \"\"\"\n",
    "    # Número total de nós\n",
    "    nodes_data = mesh_data['nodes']\n",
    "\n",
    "    # Inicializa o vetor de potenciais globais com zeros\n",
    "    u = {}\n",
    "\n",
    "    # Nós livres\n",
    "    free_nodes = {key: value for key, value in nodes_data.items() if value['bc']['type'] != 'Dirichlet'}\n",
    "\n",
    "    # Mapeamento de índices globais para índices reduzidos\n",
    "    global_to_reduced = {global_id: idx + 1 for idx, global_id in enumerate(free_nodes.keys())}\n",
    "\n",
    "    # Preenche o vetor V\n",
    "    for key, node in nodes_data.items():\n",
    "        # Verifica se o nó é livre\n",
    "        if key in free_nodes:\n",
    "            # Mapeamento global para reduzido\n",
    "            reduced_index = global_to_reduced[key]\n",
    "            u[int(key)] = free_potentials[reduced_index - 1]\n",
    "\n",
    "        # Nó de Dirichlet\n",
    "        else:\n",
    "            u[int(key)] = node['bc']['value']\n",
    "\n",
    "    return u"
   ]
  },
  {
   "cell_type": "markdown",
   "metadata": {},
   "source": [
    "# `assign_dirichlet_potential()`"
   ]
  },
  {
   "cell_type": "code",
   "execution_count": null,
   "metadata": {},
   "outputs": [],
   "source": [
    "def assign_dirichlet_potential(mesh_data, potential_function):\n",
    "    \"\"\"\n",
    "    Atribui o valor do potencial aos nós de Dirichlet com base em uma função fornecida.\n",
    "\n",
    "    Parâmetros:\n",
    "        mesh_nodes (list): Lista de dicionários com dados dos nós. \n",
    "                           Cada nó deve conter 'TagID', 'global_coord', e 'bc'.\n",
    "        potential_function (callable): Função que calcula o potencial em coordenadas polares. \n",
    "                                        Deve aceitar (R, theta) como entrada.\n",
    "    Retorna:\n",
    "        None: Atualiza os valores de 'bc' diretamente na lista `mesh_nodes`.\n",
    "    \"\"\"\n",
    "    mesh_nodes = mesh_data['nodes_data']\n",
    "\n",
    "    for node in mesh_nodes:\n",
    "        if node['bc']['type'] == 'Dirichlet':\n",
    "            # Coordenadas cartesianas do nó\n",
    "            x, y = node['global_coord']  \n",
    "                      \n",
    "            # Calcular o potencial usando a função fornecida\n",
    "            potential_value = potential_function(x, y)\n",
    "            \n",
    "            # Atualizar o valor de Dirichlet para o nó\n",
    "            node['bc']['value'] = potential_value"
   ]
  }
 ],
 "metadata": {
  "kernelspec": {
   "display_name": "Python 3",
   "language": "python",
   "name": "python3"
  },
  "language_info": {
   "name": "python",
   "version": "3.12.7"
  }
 },
 "nbformat": 4,
 "nbformat_minor": 2
}
