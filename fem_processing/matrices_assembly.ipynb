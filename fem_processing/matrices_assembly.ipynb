{
 "cells": [
  {
   "cell_type": "code",
   "execution_count": null,
   "metadata": {},
   "outputs": [],
   "source": [
    "import import_ipynb\n",
    "import numpy as np\n",
    "from scipy.sparse import lil_matrix\n",
    "from fem_processing import master_domain, gaussian_quadrature"
   ]
  },
  {
   "cell_type": "markdown",
   "metadata": {},
   "source": [
    "# Element “stiffness” matrix, $A_e$\n",
    "\n",
    "\n",
    "$$\n",
    "\\mathbf{A}_e = \\left( \\int_{\\hat{K}} a \\left( J^{-1} \\hat{\\nabla} \\hat{\\varphi}_i \\right) \\cdot \\left( J^{-1} \\hat{\\nabla} \\hat{\\varphi}_j \\right) |J| \\, d\\hat{\\mathbf{\\xi}} \\right) _{1 \\leq \\, i,j \\, \\leq \\hat{N}}\n",
    "\\tag{1}\n",
    "$$"
   ]
  },
  {
   "cell_type": "markdown",
   "metadata": {},
   "source": [
    "# `global_nodes_coordinates()`"
   ]
  },
  {
   "cell_type": "code",
   "execution_count": 2,
   "metadata": {},
   "outputs": [],
   "source": [
    "def global_nodes_coordinates(e, mesh_data):\n",
    "    conn_list = [element['conn_list'] for element in mesh_data['conn_data']]\n",
    "    node_list = [node['global_coord'] for node in mesh_data['nodes_data']]\n",
    "    \n",
    "    ai = [node_list[node - 1] for node in conn_list[e]]\n",
    "    xi = [node[0] for node in ai]\n",
    "    yi = [node[1] for node in ai]\n",
    "\n",
    "    return ai, xi, yi"
   ]
  },
  {
   "cell_type": "markdown",
   "metadata": {},
   "source": [
    "# `derivatives_at_master_domain()`"
   ]
  },
  {
   "cell_type": "code",
   "execution_count": null,
   "metadata": {},
   "outputs": [],
   "source": [
    "def derivatives_at_master_domain(FINITE_ELEMENT, xik):\n",
    "    type, order = FINITE_ELEMENT\n",
    "    xi, eta = xik\n",
    "\n",
    "    # Shape functions and derivatives\n",
    "    if type == 'Triangle':\n",
    "        if order == 1:\n",
    "            varphi = master_domain.shape_functions_p1(xi, eta)\n",
    "            dN_dxi, dN_deta = master_domain.derivatives_shape_functions_p1()\n",
    "        elif order == 2:\n",
    "            varphi = master_domain.shape_functions_p2(xi, eta)\n",
    "            dN_dxi, dN_deta = master_domain.derivatives_shape_functions_p2(xi, eta)\n",
    "        elif order == 3:\n",
    "            varphi = master_domain.shape_functions_p3(xi, eta)\n",
    "            dN_dxi, dN_deta = master_domain.derivatives_shape_functions_p3(xi, eta)\n",
    "        else:\n",
    "            raise ValueError('Invalid order for triangle element.')\n",
    "        \n",
    "    elif type == 'Quadrangle':\n",
    "        if order == 1:\n",
    "            varphi = master_domain.shape_functions_q1(xi, eta)\n",
    "            dN_dxi, dN_deta = master_domain.derivatives_shape_functions_q1(xi, eta)\n",
    "        elif order == 2:\n",
    "            varphi = master_domain.shape_functions_q2(xi, eta)\n",
    "            dN_dxi, dN_deta = master_domain.derivatives_shape_functions_q2(xi, eta)\n",
    "        else:\n",
    "            raise ValueError('Invalid order for quadrilateral element.')\n",
    "    \n",
    "    else:\n",
    "        raise ValueError('Invalid element type.')\n",
    "    \n",
    "    # Verifica se as listas têm o mesmo tamanho\n",
    "    if len(dN_dxi) != len(dN_deta):\n",
    "        raise ValueError(\"As listas dN_dxi e dN_deta devem ter o mesmo tamanho.\")\n",
    "\n",
    "    Grad_phi = np.array([dN_dxi, dN_deta])\n",
    "\n",
    "    return varphi, dN_dxi, dN_deta, Grad_phi"
   ]
  },
  {
   "cell_type": "markdown",
   "metadata": {},
   "source": [
    "# `isomapping_to_global_coordinates()`"
   ]
  },
  {
   "cell_type": "code",
   "execution_count": null,
   "metadata": {},
   "outputs": [],
   "source": [
    "def isomapping_to_global_coordinates(FINITE_ELEMENT, ai, xi):\n",
    "    varphi, dN_dxi, dN_deta, GradN = derivatives_at_master_domain(FINITE_ELEMENT, xi)\n",
    "    \n",
    "    return sum(Ni * ai[i] for i, Ni in enumerate(varphi))"
   ]
  },
  {
   "cell_type": "markdown",
   "metadata": {},
   "source": [
    "# `jacobian()` "
   ]
  },
  {
   "cell_type": "code",
   "execution_count": null,
   "metadata": {},
   "outputs": [],
   "source": [
    "def jacobian(FINITE_ELEMENT, mesh_data, cell, xik):\n",
    "    Je = np.zeros((2, 2))\n",
    "\n",
    "    # Get the element cell\n",
    "    Ne = len(cell['conn'])\n",
    "\n",
    "    # Get the global coordinates of the nodes\n",
    "    xi = [mesh_data['nodes'][node]['xg'][0] for node in cell['conn']]\n",
    "    yi = [mesh_data['nodes'][node]['xg'][1] for node in cell['conn']]\n",
    "\n",
    "    # Shape functions and derivatives\n",
    "    varphi, dN_dxi, dN_deta, grad_phi = derivatives_at_master_domain(FINITE_ELEMENT, xik)\n",
    "    \n",
    "    # Calcular o Jacobiano\n",
    "    Je[0, 0] = sum(dN_dxi[i] * xi[i] for i in range(Ne))  # dx/dxi\n",
    "    Je[0, 1] = sum(dN_dxi[i] * yi[i] for i in range(Ne))  # dy/dxi\n",
    "    Je[1, 0] = sum(dN_deta[i] * xi[i] for i in range(Ne)) # dx/deta\n",
    "    Je[1, 1] = sum(dN_deta[i] * yi[i] for i in range(Ne)) # dy/deta\n",
    "\n",
    "    return Je"
   ]
  },
  {
   "cell_type": "markdown",
   "metadata": {},
   "source": [
    "# `local_matrices()`"
   ]
  },
  {
   "cell_type": "code",
   "execution_count": null,
   "metadata": {},
   "outputs": [],
   "source": [
    "def local_matrices(FINITE_ELEMENT, mesh_data, cell):\n",
    "    # Get the element cell\n",
    "    Ne = len(cell['conn'])\n",
    "\n",
    "    # Initialize the local matrices\n",
    "    Ae = np.zeros((Ne, Ne), dtype='complex128') # Matriz de rigidez do elemento\n",
    "    Me = np.zeros((Ne, Ne), dtype='complex128') # Matriz de massa do elemento\n",
    "    Pe = np.zeros((Ne, Ne), dtype='complex128') # Matriz de rigidez do contorno artificial\n",
    "    Qe = np.zeros((Ne, Ne), dtype='complex128') # Matriz de massa do contorno artificial\n",
    "    fe = np.zeros((Ne, 1))                      # Vetor de carga do elemento\n",
    "    Je = np.zeros((2, 2))                       # Jacobiano do elemento\n",
    "\n",
    "    # Get the Gauss points and weights\n",
    "    gauss_points, gauss_weights = gaussian_quadrature.gauss_data(FINITE_ELEMENT)\n",
    "\n",
    "    # Integração sobre o contorno Gamma_R\n",
    "    gauss_points_1d = [\n",
    "        (0.069432, 0.173928), (0.330009, 0.326072),\n",
    "        (0.669991, 0.326072), (0.930568, 0.173928)\n",
    "    ]\n",
    "    \n",
    "    for i, (xik, wk) in enumerate(zip(gauss_points, gauss_weights)):       \n",
    "        # Material properties\n",
    "        ka = cell['stiffness_term'][i]\n",
    "        ma = cell['mass_term'][i]\n",
    "\n",
    "        # Get the material properties\n",
    "        rho = cell['source'][i]\n",
    "\n",
    "        # Shape functions and derivatives\n",
    "        varphi, _, _, grad_phi = derivatives_at_master_domain(FINITE_ELEMENT, xik)\n",
    "        \n",
    "        # Jacobian\n",
    "        Je = jacobian(FINITE_ELEMENT, mesh_data, cell, xik) \n",
    "        \n",
    "        # Determinante do Jacobiano\n",
    "        Jdet, Jinv = np.abs(np.linalg.det(Je)), np.linalg.inv(Je)        \n",
    "        \n",
    "        # Matriz de rigidez\n",
    "        Be = Jinv @ grad_phi\n",
    "        Ae += Be.T @ ka @ Be * Jdet * wk\n",
    "\n",
    "        # Matriz de massa\n",
    "        Me += varphi.T * varphi * Jdet * wk * ma            \n",
    "        \n",
    "        # Element right-hand-side vector\n",
    "        fe += varphi * Jdet * wk * rho\n",
    "\n",
    "    # Integração sobre o contorno artificial Gamma_R\n",
    "    if cell['abc']['type'] == 'BGT':\n",
    "        # Get the global indices of the abc nodes\n",
    "        abc_dict = cell['abc']['conn_idx']\n",
    "\n",
    "        # Get the global coordinates of the abc nodes\n",
    "        x1, x2 = [mesh_data['nodes'][idx]['xg'][0] for idx in abc_dict.values()]\n",
    "        y1, y2 = [mesh_data['nodes'][idx]['xg'][1] for idx in abc_dict.values()]\n",
    "\n",
    "        # Radius R (constant for the element)\n",
    "        R = (np.sqrt(x1**2 + y1**2) + np.sqrt(x2**2 + y2**2)) / 2\n",
    "\n",
    "        # Comprimento do elemento\n",
    "        Je = np.sqrt((x2 - x1)**2 + (y2 - y1)**2)\n",
    "\n",
    "        # Shape function derivatives (constant for linear elements)\n",
    "        dphi_dl = [-1 / Je, 1 / Je]\n",
    "\n",
    "        # Loop sobre os pontos de quadratura\n",
    "        for (xi, wk) in gauss_points_1d:\n",
    "            # Funções de forma no ponto xi\n",
    "            phi = [(1 - xi), xi]\n",
    "\n",
    "            # Compute q_ij matrix with weights, Jacobian, and R^2 factor\n",
    "            for i, key_i in enumerate(abc_dict.keys()):\n",
    "                for j, key_j in enumerate(abc_dict.keys()):\n",
    "                    Pe[key_i, key_j] += wk * phi[i] * phi[j] * Je\n",
    "                    Qe[key_i, key_j] += wk * R**2 * dphi_dl[i] * dphi_dl[j] * Je\n",
    "            \n",
    "    return Ae, fe, Me, Pe, Qe"
   ]
  },
  {
   "cell_type": "markdown",
   "metadata": {},
   "source": [
    "# `global_matrices()`"
   ]
  },
  {
   "cell_type": "code",
   "execution_count": null,
   "metadata": {},
   "outputs": [],
   "source": [
    "def global_matrices(FINITE_ELEMENT, mesh_data):\n",
    "    # Inicializa a matriz global como uma matriz esparsa zero (tamanho NxN)\n",
    "    Nn = len(mesh_data['nodes'])\n",
    "    Ag = lil_matrix((Nn, Nn), dtype='complex128')\n",
    "    Mg = lil_matrix((Nn, Nn), dtype='complex128')\n",
    "    Pg = lil_matrix((Nn, Nn), dtype='complex128')\n",
    "    Qg = lil_matrix((Nn, Nn), dtype='complex128')\n",
    "    fg = lil_matrix((Nn, 1), dtype='complex128')\n",
    "\n",
    "    # Início do processo de montagem\n",
    "    for cell in mesh_data['cell'].values(): \n",
    "        # Get the cell's element number of nodes\n",
    "        Ne = len(cell['conn'])\n",
    "\n",
    "        # Compute the local data\n",
    "        Ae, fe, Me, Pe, Qe = local_matrices(FINITE_ELEMENT, mesh_data, cell)\n",
    "\n",
    "        # loop sobre os nós locais de cada elemento\n",
    "        for i in range(Ne):  \n",
    "            # Índice global do nó local i\n",
    "            ig = cell['conn'][i]  \n",
    "            \n",
    "            # loop sobre os nós locais de cada elemento\n",
    "            for j in range(Ne):  \n",
    "                # nó global correspondente a j\n",
    "                jg = cell['conn'][j]\n",
    "                \n",
    "                # preenche a matriz global A e M\n",
    "                Ag[ig-1, jg-1] += Ae[i, j]\n",
    "                Mg[ig-1, jg-1] += Me[i, j]\n",
    "                Pg[ig-1, jg-1] += Pe[i, j]\n",
    "                Qg[ig-1, jg-1] += Qe[i, j]  \n",
    "            \n",
    "            # preenche o vetor global b\n",
    "            fg[ig-1, 0] += fe[i]\n",
    "\n",
    "    return Ag, fg, Mg, Pg, Qg"
   ]
  },
  {
   "cell_type": "markdown",
   "metadata": {},
   "source": [
    "Conversão do arquivo Jupyter Notebook para um script Python: ``python -m nbconvert --to script name.ipynb``\n",
    "\n",
    "Belo Horizonte, Brazil.  \n",
    "Adilton Junio Ladeira Pereira - adt@ufmg.br  \n",
    "&copy; All rights reserved.\n",
    "\n",
    "version 1.0. November, 2024."
   ]
  }
 ],
 "metadata": {
  "kernelspec": {
   "display_name": "Python 3",
   "language": "python",
   "name": "python3"
  },
  "language_info": {
   "codemirror_mode": {
    "name": "ipython",
    "version": 3
   },
   "file_extension": ".py",
   "mimetype": "text/x-python",
   "name": "python",
   "nbconvert_exporter": "python",
   "pygments_lexer": "ipython3",
   "version": "3.12.8"
  }
 },
 "nbformat": 4,
 "nbformat_minor": 2
}
