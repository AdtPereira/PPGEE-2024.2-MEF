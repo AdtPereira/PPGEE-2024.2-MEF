{
 "cells": [
  {
   "cell_type": "code",
   "execution_count": null,
   "metadata": {},
   "outputs": [],
   "source": [
    "import import_ipynb\n",
    "import numpy as np\n",
    "from scipy.sparse import lil_matrix\n",
    "from fem_processing import master_domain, gaussian_quadrature"
   ]
  },
  {
   "cell_type": "markdown",
   "metadata": {},
   "source": [
    "# `jacobian()`"
   ]
  },
  {
   "cell_type": "code",
   "execution_count": null,
   "metadata": {},
   "outputs": [],
   "source": [
    "def jacobian(mesh_data, cell):\n",
    "\n",
    "    # Get the global coordinates of the nodes\n",
    "    xi = [mesh_data['nodes'][node]['xg'][0] for node in cell['conn_sorted']]\n",
    "    yi = [mesh_data['nodes'][node]['xg'][1] for node in cell['conn_sorted']]\n",
    "\n",
    "    # Calcular o Jacobiano\n",
    "    Je = np.array([\n",
    "        [xi[1] - xi[0], xi[2] - xi[0]], \n",
    "        [yi[1] - yi[0], yi[2] - yi[0]]\n",
    "    ])\n",
    "\n",
    "    return Je"
   ]
  },
  {
   "cell_type": "markdown",
   "metadata": {},
   "source": [
    "# `local_matrices()`"
   ]
  },
  {
   "cell_type": "code",
   "execution_count": null,
   "metadata": {},
   "outputs": [],
   "source": [
    "def local_matrices(FINITE_ELEMENT, mesh_data, cell):\n",
    "    # Initialize the local matrices\n",
    "    Ne = len(cell['conn_edge'])\n",
    "    Me = np.zeros((Ne, Ne), dtype='complex128') # Matriz de massa do elemento\n",
    "    fe = np.zeros((Ne, 1))      # Vetor de carga do elemento\n",
    "\n",
    "    # Get the Gauss points and weights\n",
    "    gauss_points, gauss_weights = gaussian_quadrature.gauss_data(FINITE_ELEMENT)\n",
    "\n",
    "    # Cálculo da matriz Jacobiana\n",
    "    Je = jacobian(mesh_data, cell)\n",
    "\n",
    "    # Determinante e inversa transposta do Jacobiano\n",
    "    Jdet, JinvT = np.abs(np.linalg.det(Je)), np.linalg.inv(Je).T       \n",
    "\n",
    "    # Matriz de rigidez do elemento\n",
    "    Se = 2 / Jdet * np.array([\n",
    "        [1, -1, 1], \n",
    "        [-1, 1, -1],\n",
    "        [1, -1, 1]\n",
    "    ])\n",
    "\n",
    "    for ik, (xik, wk) in enumerate(zip(gauss_points, gauss_weights)):\n",
    "        # Material properties\n",
    "        ma = cell['mass_term'][ik]\n",
    "        rho = cell['source'][ik]\n",
    "\n",
    "        # Função de forma vetorial no ponto de integração\n",
    "        phi_hat = master_domain.shape_functions_n0(*xik)\n",
    "\n",
    "        # Montagem da matriz de massa\n",
    "        for i in range(Ne):\n",
    "            # Transformação de Piola Covariante\n",
    "            phi_i = JinvT @ phi_hat[i]\n",
    "\n",
    "            # Vetor de cargas\n",
    "            fe[i] += (rho.T @ phi_i).item() * Jdet * wk\n",
    "            \n",
    "            for j in range(Ne):\n",
    "                # Transformação de Piola Covariante\n",
    "                phi_j = JinvT @ phi_hat[j]\n",
    "                \n",
    "                # Matriz de massa\n",
    "                Me[i, j] += ma * (phi_i.T @ phi_j).item() * Jdet * wk \n",
    "    \n",
    "    return Se, fe, Me"
   ]
  },
  {
   "cell_type": "markdown",
   "metadata": {},
   "source": [
    "# `reduced_global_matrices()`"
   ]
  },
  {
   "cell_type": "code",
   "execution_count": null,
   "metadata": {},
   "outputs": [],
   "source": [
    "def reduced_global_matrices(FINITE_ELEMENT, mesh_data, jw=0):\n",
    "    # Arestas livres\n",
    "    free_edges = {key: value\n",
    "                   for key, value in mesh_data['edges'].items() if value['bc']['type'] != 'Dirichlet'}\n",
    "\n",
    "    # Mapeamento de índices globais para índices reduzidos\n",
    "    global_to_reduced = {global_edge: idx\n",
    "                          for idx, global_edge in enumerate(free_edges.keys())}\n",
    "\n",
    "    # Initialize the global matrix and vector\n",
    "    Sgr = lil_matrix((len(free_edges), len(free_edges)), dtype='complex128')\n",
    "    Mgr = lil_matrix((len(free_edges), len(free_edges)), dtype='complex128')\n",
    "    fgr = lil_matrix((len(free_edges), 1), dtype='complex128')\n",
    "\n",
    "    # Início do processo de montagem\n",
    "    for cell in mesh_data['cell'].values():\n",
    "        # Compute the local data\n",
    "        Se, fe, Me = local_matrices(FINITE_ELEMENT, mesh_data, cell)\n",
    "\n",
    "        for i, ig in enumerate(cell['conn_edge']):      # Loop sobre os índices globais do elemento\n",
    "            if ig in free_edges:                        # Verifica se o nó 'i' é livre\n",
    "                ig_red = global_to_reduced[ig]          # Índice reduzido\n",
    "                \n",
    "                for j, jg in enumerate(cell['conn_edge']):\n",
    "                    if jg in free_edges:\n",
    "                        jg_red = global_to_reduced[jg]\n",
    "                        Sgr[ig_red, jg_red] += Se[i, j]\n",
    "                        Mgr[ig_red, jg_red] += Me[i, j]\n",
    "\n",
    "                    # A aresta global é de Dirichlet\n",
    "                    else:\n",
    "                        # Contribuição de Dirichlet para o vetor reduzido\n",
    "                        fgr[ig_red, 0] += -(Se[i, j] + jw * Me[i, j]) * mesh_data['edges'][jg]['bc']['value']\n",
    "                \n",
    "                # preenche o vetor global de carga\n",
    "                fgr[ig_red, 0] += fe[i]\n",
    "\n",
    "    return Sgr, fgr, Mgr"
   ]
  },
  {
   "cell_type": "markdown",
   "metadata": {},
   "source": [
    "# `global_potentials()`"
   ]
  },
  {
   "cell_type": "code",
   "execution_count": null,
   "metadata": {},
   "outputs": [],
   "source": [
    "def global_potentials(mesh_data, free_potentials):\n",
    "    \"\"\"\n",
    "    Monta o vetor de potenciais globais V combinando potenciais calculados (livres) e prescritos (Dirichlet),\n",
    "    utilizando o mapeamento global_to_reduced.\n",
    "\n",
    "    Parâmetros:\n",
    "    - mesh_data: Dados da malha, contendo nós e condições de contorno.\n",
    "    - free_potentials: Potenciais calculados para os graus de liberdade livres (nós não-Dirichlet).\n",
    "\n",
    "    Retorna:\n",
    "    - V: Vetor contendo os potenciais globais de todos os nós.\n",
    "    \"\"\"\n",
    "    # Inicializa o vetor de potenciais globais com zeros\n",
    "    uh = {}\n",
    "\n",
    "    # Arestas livres\n",
    "    free_edges = {key: value\n",
    "                   for key, value in mesh_data['edges'].items() if value['bc']['type'] != 'Dirichlet'}\n",
    "\n",
    "    # Mapeamento de índices globais para índices reduzidos\n",
    "    global_to_reduced = {global_edge: idx\n",
    "                         for idx, global_edge in enumerate(free_edges.keys())}\n",
    "\n",
    "    # Preenche o vetor solução\n",
    "    for key, edge in mesh_data['edges'].items():\n",
    "        # Verifica se a aresta é livre\n",
    "        if key in free_edges:\n",
    "            # Mapeamento global para reduzido\n",
    "            uh[int(key)] = free_potentials[global_to_reduced[key]]\n",
    "\n",
    "        # Nó de Dirichlet\n",
    "        else:\n",
    "            uh[int(key)] = edge['bc']['value']\n",
    "\n",
    "    return uh"
   ]
  },
  {
   "cell_type": "markdown",
   "metadata": {},
   "source": [
    "# `apply_simple_dirichlet()`"
   ]
  },
  {
   "cell_type": "code",
   "execution_count": null,
   "metadata": {},
   "outputs": [],
   "source": [
    "def apply_simple_dirichlet(Sg, fg, mesh_data):\n",
    "    for key, edge in mesh_data['edges'].items():\n",
    "        # Verifica se a aresta é de Dirichlet\n",
    "        if edge['bc']['type'] == 'Dirichlet':\n",
    "            e = int(key) - 1\n",
    "            \n",
    "            # Zera a linha e coluna correspondente a aresta de Dirichlet\n",
    "            Sg[e, :] = 0\n",
    "            \n",
    "            # Define o valor 1 na diagonal para evitar singularidade\n",
    "            Sg[e, e] = 1\n",
    "            \n",
    "            # Ajusta o vetor de forças com o valor de Dirichlet\n",
    "            fg[e] = edge['bc']['value']\n",
    "\n",
    "    return Sg, fg"
   ]
  },
  {
   "cell_type": "markdown",
   "metadata": {},
   "source": [
    "# `global_matrices()`"
   ]
  },
  {
   "cell_type": "code",
   "execution_count": null,
   "metadata": {},
   "outputs": [],
   "source": [
    "def global_matrices(FINITE_ELEMENT, mesh_data):\n",
    "    Nedges = len(mesh_data['edges'])\n",
    "\n",
    "    # Inicializa a matriz global como uma matriz esparsa zero (tamanho NxN)\n",
    "    Sg = lil_matrix((Nedges, Nedges), dtype='complex128')\n",
    "    Mg = lil_matrix((Nedges, Nedges), dtype='complex128')\n",
    "    fg = lil_matrix((Nedges, 1), dtype='complex128')\n",
    "\n",
    "    # Início do processo de montagem\n",
    "    for cell in mesh_data['cell'].values(): \n",
    "        # Computa as matrizes locais\n",
    "        Se, fe, Me = local_matrices(FINITE_ELEMENT, mesh_data, cell)\n",
    "\n",
    "        # loop sobre os nós locais de cada elemento\n",
    "        for i, ig in enumerate(cell['conn_edge']):\n",
    "            ig = int(ig)-1\n",
    "            for j, jg in enumerate(cell['conn_edge']):\n",
    "                jg = int(jg)-1\n",
    "                Sg[ig, jg] += Se[i, j]\n",
    "                Mg[ig, jg] += Me[i, j]\n",
    "                \n",
    "            # preenche o vetor global b\n",
    "            fg[ig, 0] += fe[i]\n",
    "\n",
    "    return Sg, fg, Mg"
   ]
  },
  {
   "cell_type": "markdown",
   "metadata": {},
   "source": [
    "Conversão do arquivo Jupyter Notebook para um script Python: ``python -m nbconvert --to script name.ipynb``\n",
    "\n",
    "Belo Horizonte, Brazil, 2025.  \n",
    "Adilton Junio Ladeira Pereira - adt@ufmg.br  \n",
    "&copy; All rights reserved."
   ]
  }
 ],
 "metadata": {
  "kernelspec": {
   "display_name": "Python 3",
   "language": "python",
   "name": "python3"
  },
  "language_info": {
   "codemirror_mode": {
    "name": "ipython",
    "version": 3
   },
   "file_extension": ".py",
   "mimetype": "text/x-python",
   "name": "python",
   "nbconvert_exporter": "python",
   "pygments_lexer": "ipython3",
   "version": "3.12.8"
  }
 },
 "nbformat": 4,
 "nbformat_minor": 2
}
