{
 "cells": [
  {
   "cell_type": "code",
   "execution_count": null,
   "metadata": {},
   "outputs": [],
   "source": [
    "import numpy as np"
   ]
  },
  {
   "cell_type": "code",
   "execution_count": null,
   "metadata": {},
   "outputs": [],
   "source": [
    "def general_1d(n):\n",
    "    # Tabela original para o intervalo [-1, 1]\n",
    "    gauss_points_original = {\n",
    "        1: ([0], [2]),\n",
    "        2: ([np.sqrt(1/3), -np.sqrt(1/3)],\n",
    "            [1, 1]),\n",
    "        3: ([0, np.sqrt(3/5), -np.sqrt(3/5)],\n",
    "            [8/9, 5/9, 5/9]),\n",
    "        4: (\n",
    "            [\n",
    "                +np.sqrt(3/7 - 2/7 * np.sqrt(6/5)),\n",
    "                -np.sqrt(3/7 - 2/7 * np.sqrt(6/5)),\n",
    "                +np.sqrt(3/7 + 2/7 * np.sqrt(6/5)),\n",
    "                -np.sqrt(3/7 + 2/7 * np.sqrt(6/5)),\n",
    "            ],\n",
    "            [\n",
    "                (18 + np.sqrt(30)) / 36,\n",
    "                (18 + np.sqrt(30)) / 36,\n",
    "                (18 - np.sqrt(30)) / 36,\n",
    "                (18 - np.sqrt(30)) / 36,\n",
    "            ],\n",
    "        ),\n",
    "    }\n",
    "\n",
    "    # Verificar se a ordem 'n' está disponível na tabela\n",
    "    if n not in gauss_points_original:\n",
    "        raise ValueError(f\"Ordem de quadratura {n} não suportada.\")\n",
    "\n",
    "    # Obter pontos e pesos para a ordem m\n",
    "    points, weights = gauss_points_original[n]\n",
    "\n",
    "    # Transformar para o intervalo [0, 1]\n",
    "    transformed_points = [(1 + p) / 2 for p in points]\n",
    "    transformed_weights = [w / 2 for w in weights]\n",
    "\n",
    "    return transformed_points, transformed_weights\n"
   ]
  },
  {
   "cell_type": "markdown",
   "metadata": {},
   "source": [
    "# `general_triangle_rule()`"
   ]
  },
  {
   "cell_type": "code",
   "execution_count": null,
   "metadata": {},
   "outputs": [],
   "source": [
    "def general_triangle_rule(m, p):\n",
    "    # Tabela 4.1: Dados da Quadratura de Gauss para Triângulos\n",
    "    quadrature_table = {\n",
    "        (1, 1): [  # m=1, p=1\n",
    "            {\"i\": 1, \"L1\": 0.33333333, \"L2\": 0.33333333, \"L3\": 0.33333333, \"W\": 1.00000000}\n",
    "        ],\n",
    "        (3, 2): [  # m=3, p=2\n",
    "            {\"i\": 1, \"L1\": 0.5, \"L2\": 0.5, \"L3\": 0.0, \"W\": 0.33333333},\n",
    "            {\"i\": 2, \"L1\": 0.0, \"L2\": 0.5, \"L3\": 0.5, \"W\": 0.33333333},\n",
    "            {\"i\": 3, \"L1\": 0.5, \"L2\": 0.0, \"L3\": 0.5, \"W\": 0.33333333}\n",
    "        ],\n",
    "        (4, 3): [  # m=4, p=3\n",
    "            {\"i\": 1, \"L1\": 0.33333333, \"L2\": 0.33333333, \"L3\": 0.33333333, \"W\": -0.56250000},\n",
    "            {\"i\": 2, \"L1\": 0.73333333, \"L2\": 0.13333333, \"L3\": 0.13333333, \"W\": 0.52083333},\n",
    "            {\"i\": 3, \"L1\": 0.13333333, \"L2\": 0.73333333, \"L3\": 0.13333333, \"W\": 0.52083333},\n",
    "            {\"i\": 4, \"L1\": 0.13333333, \"L2\": 0.13333333, \"L3\": 0.73333333, \"W\": 0.52083333}\n",
    "        ],\n",
    "        (7, 4): [  # m=7, p=4\n",
    "            {\"i\": 1, \"L1\": 0.33333333, \"L2\": 0.33333333, \"L3\": 0.33333333, \"W\": 0.45000000},\n",
    "            {\"i\": 2, \"L1\": 0.5, \"L2\": 0.5, \"L3\": 0.0, \"W\": 0.13333333},\n",
    "            {\"i\": 3, \"L1\": 0.0, \"L2\": 0.5, \"L3\": 0.5, \"W\": 0.13333333},\n",
    "            {\"i\": 4, \"L1\": 0.5, \"L2\": 0.0, \"L3\": 0.5, \"W\": 0.13333333},\n",
    "            {\"i\": 5, \"L1\": 1.0, \"L2\": 0.0, \"L3\": 0.0, \"W\": 0.05000000},\n",
    "            {\"i\": 6, \"L1\": 0.0, \"L2\": 1.0, \"L3\": 0.0, \"W\": 0.05000000},\n",
    "            {\"i\": 7, \"L1\": 0.0, \"L2\": 0.0, \"L3\": 1.0, \"W\": 0.05000000}\n",
    "        ],\n",
    "        (7, 5): [  # m=7, p=5\n",
    "            {\"i\": 1, \"L1\": 0.33333333, \"L2\": 0.33333333, \"L3\": 0.33333333, \"W\": 0.22500000},\n",
    "            {\"i\": 2, \"L1\": 0.05971587, \"L2\": 0.47014206, \"L3\": 0.47014206, \"W\": 0.13239415},\n",
    "            {\"i\": 3, \"L1\": 0.47014206, \"L2\": 0.05971587, \"L3\": 0.47014206, \"W\": 0.13239415},\n",
    "            {\"i\": 4, \"L1\": 0.47014206, \"L2\": 0.47014206, \"L3\": 0.05971587, \"W\": 0.13239415},\n",
    "            {\"i\": 5, \"L1\": 0.79742699, \"L2\": 0.10128651, \"L3\": 0.10128651, \"W\": 0.12593918},\n",
    "            {\"i\": 6, \"L1\": 0.10128651, \"L2\": 0.79742699, \"L3\": 0.10128651, \"W\": 0.12593918},\n",
    "            {\"i\": 7, \"L1\": 0.10128651, \"L2\": 0.10128651, \"L3\": 0.79742699, \"W\": 0.12593918}\n",
    "        ]\n",
    "    }\n",
    "    \n",
    "    # Obter os dados de quadratura a partir do dicionário quadrature_table\n",
    "    if (m, p) not in quadrature_table:\n",
    "        raise ValueError(f\"Regra de quadratura não definida para m={m}, p={p}.\")\n",
    "\n",
    "    # Recuperar os pontos e pesos da quadratura\n",
    "    data = quadrature_table[(m, p)]\n",
    "    points = [(entry['L2'], entry['L3']) for entry in data]  # Convertendo para (ξ, η)\n",
    "    weights = [0.5 * entry['W'] for entry in data]\n",
    "    \n",
    "    return points, weights"
   ]
  },
  {
   "cell_type": "markdown",
   "metadata": {},
   "source": [
    "# `triangle_rule()`"
   ]
  },
  {
   "cell_type": "code",
   "execution_count": null,
   "metadata": {},
   "outputs": [],
   "source": [
    "def triangle_rule(ng):\n",
    "    \"\"\"\n",
    "    Realiza a integração de uma função g(ξ, η) sobre o triângulo mestre utilizando quadratura de Gauss.\n",
    "    \n",
    "    Parâmetros:\n",
    "    g : função - A função a ser integrada, deve aceitar dois argumentos (ξ, η).\n",
    "    n : int - Número de pontos de quadratura (1, 3 ou 4 conforme a Tabela 5.9).\n",
    "    \n",
    "    Retorna:\n",
    "    float - O valor aproximado da integral.\n",
    "    \"\"\"\n",
    "    # Definição dos pontos e pesos de quadratura conforme a Tabela 5.9\n",
    "    if ng == 1:\n",
    "        points = [(1/3, 1/3)]\n",
    "        weights = [0.5]\n",
    "    elif ng == 3:\n",
    "        points = [(0.5, 0), (0, 0.5), (0.5, 0.5)]\n",
    "        weights = [1/6, 1/6, 1/6]\n",
    "    elif ng == 4:\n",
    "        points = [(1/3, 1/3), (0.6, 0.2), (0.2, 0.6), (0.2, 0.2)]\n",
    "        weights = [-27/96, 25/96, 25/96, 25/96]\n",
    "    elif ng == 6:\n",
    "        points = [\n",
    "            (0.44594849091597, 0.44594849091597),\n",
    "            (0.44594849091597, 0.10810301816807),\n",
    "            (0.10810301816807, 0.44594849091597),\n",
    "            (0.09157621350977, 0.09157621350977),\n",
    "            (0.09157621350977, 0.81684757298046),\n",
    "            (0.81684757298046, 0.09157621350977),\n",
    "        ]\n",
    "        weights = [\n",
    "            0.111690794839, 0.111690794839, 0.111690794839,\n",
    "            0.054975871827, 0.054975871827, 0.054975871827,\n",
    "        ]\n",
    "    elif ng == 7:\n",
    "        points = [\n",
    "            (0.33333333333333, 0.33333333333333),\n",
    "            (0.47014206410511, 0.47014206410511),\n",
    "            (0.47014206410511, 0.05971587178977),\n",
    "            (0.05971587178977, 0.47014206410511),\n",
    "            (0.10128650732346, 0.10128650732346),\n",
    "            (0.10128650732346, 0.79742698535309),\n",
    "            (0.79742698535309, 0.10128650732346),\n",
    "        ]\n",
    "        weights = [\n",
    "            0.225000000000, 0.132394152788, 0.132394152788,\n",
    "            0.132394152788, 0.125939180544, 0.125939180544,\n",
    "            0.125939180544,\n",
    "        ]\n",
    "    else:\n",
    "        raise ValueError(\"Número de pontos de quadratura não suportado.\")\n",
    "    \n",
    "    return (points, weights)"
   ]
  },
  {
   "cell_type": "markdown",
   "metadata": {},
   "source": [
    "# `square_rule()`"
   ]
  },
  {
   "cell_type": "code",
   "execution_count": null,
   "metadata": {},
   "outputs": [],
   "source": [
    "def square_rule(ng):\n",
    "    \"\"\"\n",
    "    Realiza a integração de uma função g(ξ, η) sobre o quadrado mestre utilizando quadratura de Gauss.\n",
    "    \n",
    "    Parâmetros:\n",
    "    g : função - A função a ser integrada, deve aceitar dois argumentos (ξ, η).\n",
    "    n : int - Número de pontos de quadratura ao quadrado (1, 4 ou 9 conforme a Tabela 5.10).\n",
    "    \n",
    "    Retorna:\n",
    "    float - O valor aproximado da integral.\n",
    "    \"\"\"\n",
    "    # Definição dos pontos e pesos de quadratura conforme a Tabela 5.10\n",
    "    if ng == 1:\n",
    "        points = [(0, 0)]\n",
    "        weights = [4]\n",
    "    elif ng == 4:\n",
    "        sqrt1_3 = 1 / np.sqrt(3)\n",
    "        points = [(-sqrt1_3, -sqrt1_3), (sqrt1_3, -sqrt1_3),\n",
    "                  (-sqrt1_3, sqrt1_3), (sqrt1_3, sqrt1_3)]\n",
    "        weights = [1, 1, 1, 1]\n",
    "    elif ng == 9:\n",
    "        sqrt_06 = np.sqrt(0.6)\n",
    "        points = [(-sqrt_06, -sqrt_06), (0, -sqrt_06), (sqrt_06, -sqrt_06),\n",
    "                  (-sqrt_06, 0), (0, 0), (sqrt_06, 0),\n",
    "                  (-sqrt_06, sqrt_06), (0, sqrt_06), (sqrt_06, sqrt_06)]\n",
    "        weights = [25/81, 40/81, 25/81, 40/81, 64/81, 40/81, 25/81, 40/81, 25/81]\n",
    "    else:\n",
    "        raise ValueError(\"Número de pontos de quadratura não suportado. Escolha entre 1, 4 ou 9.\")\n",
    "    \n",
    "    return (points, weights)   "
   ]
  },
  {
   "cell_type": "markdown",
   "metadata": {},
   "source": [
    "# `quad_integrate()`"
   ]
  },
  {
   "cell_type": "code",
   "execution_count": null,
   "metadata": {},
   "outputs": [],
   "source": [
    "def quad_integrate(f, rule):\n",
    "    points, weights = rule\n",
    "    # Cálculo da integral usando a fórmula de quadratura\n",
    "    integral = 0\n",
    "    for (xi, eta), w in zip(points, weights):\n",
    "        integral += w * f(xi, eta)    \n",
    "    return integral"
   ]
  },
  {
   "cell_type": "markdown",
   "metadata": {},
   "source": [
    "# `gauss_data()`"
   ]
  },
  {
   "cell_type": "code",
   "execution_count": null,
   "metadata": {},
   "outputs": [],
   "source": [
    "def gauss_data(FINITE_ELEMENT):\n",
    "    # Desempacotar o tipo de elemento\n",
    "    type, order = FINITE_ELEMENT\n",
    "\n",
    "    # Get the Gauss points and weights\n",
    "    if type == 'Triangle' and order in [1]:\n",
    "        points, weights = general_triangle_rule(m=7, p=5)\n",
    "    \n",
    "    elif type == 'Triangle' and order in [2, 3]:\n",
    "        points, weights = general_triangle_rule(m=7, p=5)\n",
    "   \n",
    "    elif type == 'Quadrangle':\n",
    "        points, weights = square_rule(ng=9)\n",
    "\n",
    "    return points, weights"
   ]
  },
  {
   "cell_type": "code",
   "execution_count": null,
   "metadata": {},
   "outputs": [],
   "source": [
    "# # Exemplo de uso\n",
    "# # Defina a função g(ξ, η) que deseja integrar, por exemplo:\n",
    "# g = lambda xi, eta: xi ** 2 + eta ** 3 # Função exemplo\n",
    "\n",
    "# # Calcule a integral usando 3 pontos de quadratura\n",
    "# quad_triangle_3 = quad_integrate(g, triangle_rule(n=3))\n",
    "# quad_square_4 = quad_integrate(g, square_rule(n=4))\n",
    "# print(\"quad_triangle_3:\", quad_triangle_3)\n",
    "# print(\"quad_square_4:\", quad_square_4)"
   ]
  }
 ],
 "metadata": {
  "kernelspec": {
   "display_name": "Python 3",
   "language": "python",
   "name": "python3"
  },
  "language_info": {
   "codemirror_mode": {
    "name": "ipython",
    "version": 3
   },
   "file_extension": ".py",
   "mimetype": "text/x-python",
   "name": "python",
   "nbconvert_exporter": "python",
   "pygments_lexer": "ipython3",
   "version": "3.12.7"
  }
 },
 "nbformat": 4,
 "nbformat_minor": 2
}
