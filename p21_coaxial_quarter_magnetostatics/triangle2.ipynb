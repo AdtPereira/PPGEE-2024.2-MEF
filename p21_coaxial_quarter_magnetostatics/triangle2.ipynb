{
 "cells": [
  {
   "cell_type": "code",
   "execution_count": 36,
   "metadata": {},
   "outputs": [
    {
     "name": "stdout",
     "output_type": "stream",
     "text": [
      "Project root added to sys.path: C:\\Users\\adilt\\OneDrive\\01 ACADEMIA\\06 MODELOS\\8.FEM\\ppgee\\projects\n",
      "Modules imports were successful!\n"
     ]
    }
   ],
   "source": [
    "import sys\n",
    "import numpy as np\n",
    "import import_ipynb\n",
    "from pathlib import Path\n",
    "from scipy.sparse.linalg import spsolve\n",
    "\n",
    "# Adicionar o diretório raiz do projeto ao sys.path\n",
    "project_root = Path().resolve().parent  \n",
    "sys.path.append(str(project_root))\n",
    "\n",
    "# Verifique se os caminhos foram adicionados\n",
    "print(\"Project root added to sys.path:\", project_root)\n",
    "\n",
    "# Importando notebooks diretamente\n",
    "try:\n",
    "    import problem_statement as ps\n",
    "    from pre_processing import create_domain, read_mesh\n",
    "    from fem_processing import boundary_conditions, matrices_assembly\n",
    "    from pos_processing import graph_results, fem_analysis\n",
    "    print(\"Modules imports were successful!\")\n",
    "except ModuleNotFoundError as e:\n",
    "    print(f\"Modules were not found: {e}\")\n",
    "except ImportError as e:\n",
    "    print(f\"Error in import: {e}\")\n",
    "    \n",
    "#run ../setup_project.py"
   ]
  },
  {
   "cell_type": "markdown",
   "metadata": {},
   "source": [
    "# Project 2: Coaxial Cable with longitudinal symmetry and a quarter domain\n",
    "\n",
    "Considere a seção reta transversal de um cabo coaxial singelo apresentado na Figura $(1)$.\n",
    "\n",
    "<figure>\n",
    "    <img src=\"pre_processing/pictures/coaxial_longitudinal.png\" alt=\"Fig.1\" style=\"width:20%;\" />\n",
    "    <figcaption>Figure 1: Geometry of Coaxial Problem.</figcaption>\n",
    "</figure>\n",
    "\n",
    "# 6-noded Quadratic Triangular Elements, $P_2$\n",
    "## Pre-processor module\n",
    "### Geometry and mesh Domain"
   ]
  },
  {
   "cell_type": "code",
   "execution_count": 37,
   "metadata": {},
   "outputs": [
    {
     "name": "stdout",
     "output_type": "stream",
     "text": [
      "Malha salva em pre_processing/mesh/coax_quarter_domain_Triangle2.msh\n",
      "Model coax_quarter_domain_Triangle2 (2D)\n",
      "Info     : 19 geometric entities\n",
      "Info     : 4 Physical Groups\n",
      "Info     : 1675 nodes in total\n",
      "Info     : 800 2-D elements in total\n"
     ]
    }
   ],
   "source": [
    "FINITE_ELEMENT = (\"Triangle\", 2)\n",
    "\n",
    "BOUNDARY = [{'tag': 101, 'type': 'Dirichlet',  'value': 0, 'name': 'outer_sheath'}]\n",
    "\n",
    "MATERIAL = [{'tag': 201, 'name': 'core', 'relative_magnetic_permeability': 1},\n",
    "            {'tag': 202, 'name': 'dielectric', 'relative_magnetic_permeability': 1},\n",
    "            {'tag': 203, 'name': 'sheath', 'relative_magnetic_permeability': 1}]\n",
    "\n",
    "# Criar geometria coaxial\n",
    "create_domain.coaxial_quarter_longitudinal(FINITE_ELEMENT, BOUNDARY, MATERIAL, h=1E-3, view_mesh=False)\n",
    "\n",
    "# Create mesh from file geometry\n",
    "mesh_data = read_mesh.get_data(FINITE_ELEMENT, BOUNDARY, MATERIAL, model='coax_quarter', info_mode=False)"
   ]
  },
  {
   "cell_type": "markdown",
   "metadata": {},
   "source": [
    "### Mesh Data Dictionaries"
   ]
  },
  {
   "cell_type": "code",
   "execution_count": 38,
   "metadata": {},
   "outputs": [
    {
     "data": {
      "text/plain": [
       "[{'TagID': 1,\n",
       "  'global_coord': (0.0, 0.0),\n",
       "  'bc': {'type': 'Free', 'value': None}}]"
      ]
     },
     "execution_count": 38,
     "metadata": {},
     "output_type": "execute_result"
    }
   ],
   "source": [
    "mesh_nodes = mesh_data['nodes_data']; mesh_nodes[:1]"
   ]
  },
  {
   "cell_type": "code",
   "execution_count": 39,
   "metadata": {},
   "outputs": [
    {
     "data": {
      "text/plain": [
       "[{'TagID': 126,\n",
       "  'conn_list': [236, 287, 271, 316, 317, 318],\n",
       "  'material': {'tag': 201,\n",
       "   'name': 'core',\n",
       "   'relative_magnetic_permeability': 1}}]"
      ]
     },
     "execution_count": 39,
     "metadata": {},
     "output_type": "execute_result"
    }
   ],
   "source": [
    "conn_data = mesh_data['conn_data']; conn_data[:1]"
   ]
  },
  {
   "cell_type": "markdown",
   "metadata": {},
   "source": [
    "### ``Nodes`` and ``conn`` list"
   ]
  },
  {
   "cell_type": "code",
   "execution_count": 40,
   "metadata": {},
   "outputs": [],
   "source": [
    "nodes = [node['global_coord'] for node in mesh_data['nodes_data']]\n",
    "conn = [element['conn_list'] for element in mesh_data['conn_data']]"
   ]
  },
  {
   "cell_type": "markdown",
   "metadata": {},
   "source": [
    "### Figure 1: Coaxial meshed domain "
   ]
  },
  {
   "cell_type": "code",
   "execution_count": 41,
   "metadata": {},
   "outputs": [
    {
     "name": "stdout",
     "output_type": "stream",
     "text": [
      "Arquivo salvo em: c:\\Users\\adilt\\OneDrive\\01 ACADEMIA\\06 MODELOS\\8.FEM\\ppgee\\projects\\p21_coaxial_quarter_magnetostatics\\pre_processing\\pictures\\coax_quarter_meshed_domain_Triangle2.svg\n"
     ]
    }
   ],
   "source": [
    "graph_results.plot_mesh(mesh_data, FINITE_ELEMENT, model='coax_quarter', Numbering=False)"
   ]
  },
  {
   "cell_type": "markdown",
   "metadata": {},
   "source": [
    "<figure>\n",
    "    <img src=\"pre_processing/pictures/coax_quarter_meshed_domain_Triangle2.svg\" alt=\"Fig.1\" style=\"width:90%;\" />\n",
    "    <figcaption>Figure 1: Coaxial meshed domain.</figcaption>\n",
    "</figure>"
   ]
  },
  {
   "cell_type": "markdown",
   "metadata": {},
   "source": [
    "### Assembly Matrices\n",
    "#### `assembly.global_nodes_coordinates()` "
   ]
  },
  {
   "cell_type": "code",
   "execution_count": 42,
   "metadata": {},
   "outputs": [
    {
     "name": "stdout",
     "output_type": "stream",
     "text": [
      "'a_1' Global coordinates: [(0.004569148134344793, 0.000909757283515022), (0.005532691729608888, 0.000864570036453122), (0.005117508794767472, 0.001888591451683152), (0.005050919931976841, 0.000887163659984072), (0.00532510026218818, 0.001376580744068137), (0.004843328464556133, 0.001399174367599087)]\n",
      "'x_1' x-coordinates: [0.004569148134344793, 0.005532691729608888, 0.005117508794767472, 0.005050919931976841, 0.00532510026218818, 0.004843328464556133]\n",
      "'y_1' y-coordinates: [0.000909757283515022, 0.000864570036453122, 0.001888591451683152, 0.000887163659984072, 0.001376580744068137, 0.001399174367599087]\n"
     ]
    }
   ],
   "source": [
    "ai, xi, yi = matrices_assembly.global_nodes_coordinates(0, mesh_data)\n",
    "print(f\"'a_1' Global coordinates: {ai}\")\n",
    "print(f\"'x_1' x-coordinates: {xi}\")\n",
    "print(f\"'y_1' y-coordinates: {yi}\")"
   ]
  },
  {
   "cell_type": "markdown",
   "metadata": {},
   "source": [
    "#### `map_to_physical_coordinates()`"
   ]
  },
  {
   "cell_type": "code",
   "execution_count": 43,
   "metadata": {},
   "outputs": [
    {
     "name": "stdout",
     "output_type": "stream",
     "text": [
      "'e_1' Master coordinates: (1, 0) --> Global coordinates: (0.005532691729608888, 0.000864570036453122)\n"
     ]
    }
   ],
   "source": [
    "xi_master = (1, 0)\n",
    "xg, yg = matrices_assembly.isomapping_to_global_coordinates(ai, xi_master, FINITE_ELEMENT)\n",
    "print(f\"'e_1' Master coordinates: {xi_master} --> Global coordinates: ({xg}, {yg})\")"
   ]
  },
  {
   "cell_type": "markdown",
   "metadata": {},
   "source": [
    "#### `apply_physics()`"
   ]
  },
  {
   "cell_type": "code",
   "execution_count": 44,
   "metadata": {},
   "outputs": [
    {
     "data": {
      "text/plain": [
       "[{'TagID': 126,\n",
       "  'conn_list': [236, 287, 271, 316, 317, 318],\n",
       "  'material': {'tag': 201,\n",
       "   'name': 'core',\n",
       "   'relative_magnetic_permeability': 1},\n",
       "  'source': {'type': 'uniform_current_density_Jz', 'value': 3183.098861837907},\n",
       "  'stiffness_a_value': 795774.7150262763}]"
      ]
     },
     "execution_count": 44,
     "metadata": {},
     "output_type": "execute_result"
    }
   ],
   "source": [
    "mesh_data = ps.apply_physics(mesh_data, FINITE_ELEMENT)\n",
    "mesh_data['conn_data'][:1]"
   ]
  },
  {
   "cell_type": "markdown",
   "metadata": {},
   "source": [
    "#### Material Proprieties, $k_a$"
   ]
  },
  {
   "cell_type": "code",
   "execution_count": 45,
   "metadata": {},
   "outputs": [
    {
     "name": "stdout",
     "output_type": "stream",
     "text": [
      "Stiffness Material values:  [795774.7150262763, 795774.7150262763, 795774.7150262763]\n",
      "Mass Material values:  []\n"
     ]
    }
   ],
   "source": [
    "Ka = [cell['stiffness_a_value'] for cell in mesh_data['conn_data']]\n",
    "Ma = [cell['mass_a_value'] for cell in mesh_data['conn_data'] if 'mass_a_value' in cell.keys()]\n",
    "print(\"Stiffness Material values: \", Ka[:3])\n",
    "print(\"Mass Material values: \", Ma[:3])"
   ]
  },
  {
   "cell_type": "markdown",
   "metadata": {},
   "source": [
    "#### Source: Current density, $J_z$"
   ]
  },
  {
   "cell_type": "code",
   "execution_count": 46,
   "metadata": {},
   "outputs": [
    {
     "name": "stdout",
     "output_type": "stream",
     "text": [
      "Source current density vector Jz: \n",
      " [3183.098861837907]\n"
     ]
    }
   ],
   "source": [
    "Jz = [element['source']['value'] for element in mesh_data['conn_data']]\n",
    "print(\"Source current density vector Jz: \\n\", Jz[:1])"
   ]
  },
  {
   "cell_type": "markdown",
   "metadata": {},
   "source": [
    "#### Jacobian Matrix Transform"
   ]
  },
  {
   "cell_type": "code",
   "execution_count": 47,
   "metadata": {},
   "outputs": [
    {
     "name": "stdout",
     "output_type": "stream",
     "text": [
      "Jacobian matrix for element e_0:\n",
      " [[ 9.63543595e-04 -4.51872471e-05]\n",
      " [ 5.48360660e-04  9.78834168e-04]]\n",
      "Determinant of the Jacobian matrix for element e_0: 9.67928302205606e-07\n"
     ]
    }
   ],
   "source": [
    "Je = matrices_assembly.jacobian(e=0, mesh_data=mesh_data, element_type=FINITE_ELEMENT, xik=(0, 0)) \n",
    "Jdet, Jinv = np.linalg.det(Je), np.linalg.inv(Je)\n",
    "print(\"Jacobian matrix for element e_0:\\n\", Je)\n",
    "print(\"Determinant of the Jacobian matrix for element e_0:\", Jdet)"
   ]
  },
  {
   "cell_type": "markdown",
   "metadata": {},
   "source": [
    "#### Local Elements $e_1$"
   ]
  },
  {
   "cell_type": "code",
   "execution_count": 48,
   "metadata": {},
   "outputs": [
    {
     "name": "stdout",
     "output_type": "stream",
     "text": [
      "Local stiffness matrix for element e_1:\n",
      " [[ 5.01916473e+05  1.06149131e+05  6.11563586e+04 -4.24596527e+05\n",
      "  -3.29796204e-03 -2.44625434e+05]\n",
      " [ 1.06149131e+05  5.17462774e+05  6.63384606e+04 -4.24596526e+05\n",
      "  -2.65353842e+05  2.69544082e-03]\n",
      " [ 6.11563586e+04  6.63384606e+04  3.82484456e+05  1.82320406e-03\n",
      "  -2.65353842e+05 -2.44625435e+05]\n",
      " [-4.24596527e+05 -4.24596526e+05  1.82320406e-03  1.86915160e+06\n",
      "  -4.89250864e+05 -5.30707690e+05]\n",
      " [-3.29796204e-03 -2.65353842e+05 -2.65353842e+05 -4.89250864e+05\n",
      "   1.86915160e+06 -8.49193047e+05]\n",
      " [-2.44625434e+05  2.69544082e-03 -2.44625435e+05 -5.30707690e+05\n",
      "  -8.49193047e+05  1.86915160e+06]]\n",
      "Local load vector for element e_1:\n",
      " [[ 1.23388978e-12]\n",
      " [-2.09288085e-14]\n",
      " [-2.09288018e-14]\n",
      " [ 5.13501909e-04]\n",
      " [ 5.13501904e-04]\n",
      " [ 5.13501909e-04]]\n",
      "Area of element e_1:  4.839641462631615e-07\n"
     ]
    }
   ],
   "source": [
    "#Ae, fe, areae = matrices_assembly.linear_local_matrices(e=0, mesh_data=mesh_data)\n",
    "Ae, fe, Me, area_e = matrices_assembly.higher_order_local_matrices(0, mesh_data, FINITE_ELEMENT)\n",
    "print(\"Local stiffness matrix for element e_1:\\n\", Ae)\n",
    "print(\"Local load vector for element e_1:\\n\", fe)\n",
    "print(\"Area of element e_1: \", area_e)"
   ]
  },
  {
   "cell_type": "markdown",
   "metadata": {},
   "source": [
    "#### Global “stiffness” matrix, $A_g$"
   ]
  },
  {
   "cell_type": "code",
   "execution_count": 49,
   "metadata": {},
   "outputs": [
    {
     "name": "stdout",
     "output_type": "stream",
     "text": [
      "Global matrix shape: (1675, 1675)\n"
     ]
    }
   ],
   "source": [
    "Ag, fg, Mg = matrices_assembly.get_global_matrix(mesh_data, FINITE_ELEMENT)\n",
    "print(\"Global matrix shape:\", Ag.shape)"
   ]
  },
  {
   "cell_type": "markdown",
   "metadata": {},
   "source": [
    "### Imposition of Boundary Conditions"
   ]
  },
  {
   "cell_type": "code",
   "execution_count": 50,
   "metadata": {},
   "outputs": [
    {
     "name": "stdout",
     "output_type": "stream",
     "text": [
      "The entire domain has 1675 nodes: 1610 free nodes and 65 Dirichlet nodes.\n"
     ]
    }
   ],
   "source": [
    "dirichlet_data = {node['TagID']: node['bc']['value'] for node in mesh_data['nodes_data'] if node['bc']['type'] == 'Dirichlet'}\n",
    "Nu = len(mesh_data['nodes_data'])\n",
    "Nd = len(dirichlet_data)\n",
    "print(f\"The entire domain has {Nu} nodes: {Nu - Nd} free nodes and {Nd} Dirichlet nodes.\")"
   ]
  },
  {
   "cell_type": "markdown",
   "metadata": {},
   "source": [
    "### Mapping Global nodes to reduced system\n",
    "\n",
    "This code creates a dictionary called ``global_to_reduced``, which maps the global indices of the mesh nodes to the reduced indices, i.e. the indices that correspond only to the nodes that are not in the _Dirichlet boundary conditions_."
   ]
  },
  {
   "cell_type": "code",
   "execution_count": 51,
   "metadata": {},
   "outputs": [],
   "source": [
    "global_to_reduced = {node: i for i, node in enumerate(\n",
    "        idx_n for idx_n in range(1, len(nodes)+1) if idx_n not in dirichlet_data)}"
   ]
  },
  {
   "cell_type": "markdown",
   "metadata": {},
   "source": [
    "## Processor Module\n",
    "### Reduced Global matrix $A_{gr}$ with boundary conditions"
   ]
  },
  {
   "cell_type": "code",
   "execution_count": 52,
   "metadata": {},
   "outputs": [
    {
     "name": "stdout",
     "output_type": "stream",
     "text": [
      "Reduced global matrix shape: (1610, 1610)\n"
     ]
    }
   ],
   "source": [
    "Agr, fgr, Mgr = boundary_conditions.get_reduced_global_matrices(mesh_data, FINITE_ELEMENT)\n",
    "print(\"Reduced global matrix shape:\", Agr.shape)"
   ]
  },
  {
   "cell_type": "markdown",
   "metadata": {},
   "source": [
    "### Global Potential Vector"
   ]
  },
  {
   "cell_type": "code",
   "execution_count": 53,
   "metadata": {},
   "outputs": [
    {
     "name": "stdout",
     "output_type": "stream",
     "text": [
      "Reduced solution vector ur shape:  (1610,)\n",
      "Global potential vector V shape:  (1675,)\n"
     ]
    }
   ],
   "source": [
    "ur = spsolve(Agr.tocsr(), fgr.toarray())\n",
    "potential_u = boundary_conditions.get_global_potentials(mesh_data, ur)\n",
    "print(\"Reduced solution vector ur shape: \", ur.shape)\n",
    "print(\"Global potential vector V shape: \", potential_u.shape)"
   ]
  },
  {
   "cell_type": "markdown",
   "metadata": {},
   "source": [
    "### Solution at each element"
   ]
  },
  {
   "cell_type": "code",
   "execution_count": 54,
   "metadata": {},
   "outputs": [
    {
     "name": "stdout",
     "output_type": "stream",
     "text": [
      "The solution u for Node Element is: \n",
      " [[2.03229195e-07 1.93575810e-07 1.95178293e-07 1.98635117e-07\n",
      "  1.94682301e-07 1.99518448e-07]\n",
      " [2.18187257e-07 2.22088271e-07 2.18313082e-07 2.20431544e-07\n",
      "  2.20424467e-07 2.18570332e-07]\n",
      " [1.24932921e-07 1.46030644e-07 1.24932777e-07 1.35877450e-07\n",
      "  1.35826846e-07 1.24934917e-07]]\n"
     ]
    }
   ],
   "source": [
    "u_list = []\n",
    "for e in range(len(conn)):\n",
    "    uh_values = [potential_u[id - 1] for id in conn[e]]\n",
    "    u_list.append(uh_values)\n",
    "print(\"The solution u for Node Element is: \\n\", np.array(u_list[:3]))"
   ]
  },
  {
   "cell_type": "markdown",
   "metadata": {},
   "source": [
    "## Post-Processor"
   ]
  },
  {
   "cell_type": "code",
   "execution_count": 55,
   "metadata": {},
   "outputs": [
    {
     "name": "stdout",
     "output_type": "stream",
     "text": [
      "Arquivo salvo em: c:\\Users\\adilt\\OneDrive\\01 ACADEMIA\\06 MODELOS\\8.FEM\\ppgee\\projects\\p21_coaxial_quarter_magnetostatics\\pos_processing\\pictures\\coax_quarter_domain_solution_Triangle2.svg\n"
     ]
    }
   ],
   "source": [
    "graph_results.approximate_fem_solution(FINITE_ELEMENT, mesh_data, potential_u, model='coax_quarter')"
   ]
  },
  {
   "cell_type": "markdown",
   "metadata": {},
   "source": [
    "### Figure 2: Scalar Field Distribution on a Triangular Mesh\n",
    "\n",
    "<figure>\n",
    "    <img src=\"pos_processing/pictures/coax_quarter_domain_solution_Triangle2.svg\" alt=\"Fig.2\" style=\"width:70%;\" />\n",
    "    <figcaption>Figure 2: Scalar Field Distribution on a Triangular Mesh.</figcaption>\n",
    "</figure>"
   ]
  },
  {
   "cell_type": "markdown",
   "metadata": {},
   "source": [
    "### Magnetic Energy Stored"
   ]
  },
  {
   "cell_type": "code",
   "execution_count": 56,
   "metadata": {},
   "outputs": [
    {
     "name": "stdout",
     "output_type": "stream",
     "text": [
      "Partial magnetic energy stored: 2.1269e-08 J.\n",
      "Total magnetic energy stored: 8.5076e-08 J.\n"
     ]
    }
   ],
   "source": [
    "analytical_solution = lambda x, y: ps.potential_and_gradient(x, y)\n",
    "norm_l2, norm_energy, total_energy = fem_analysis.errors_and_energy(\n",
    "            mesh_data, FINITE_ELEMENT, potential_u, analytical_solution)\n",
    "print(f\"Partial magnetic energy stored: {total_energy:.5} J.\")\n",
    "print(f\"Total magnetic energy stored: {4*total_energy:.5} J.\")"
   ]
  },
  {
   "cell_type": "markdown",
   "metadata": {},
   "source": [
    "### `magnetic_field(mesh_data, element_type, uh)`"
   ]
  },
  {
   "cell_type": "code",
   "execution_count": 57,
   "metadata": {},
   "outputs": [
    {
     "name": "stdout",
     "output_type": "stream",
     "text": [
      "Arquivo salvo em: c:\\Users\\adilt\\OneDrive\\01 ACADEMIA\\06 MODELOS\\8.FEM\\ppgee\\projects\\p21_coaxial_quarter_magnetostatics\\pos_processing\\pictures\\b_field_Triangle2.svg\n",
      "Arquivo salvo em: c:\\Users\\adilt\\OneDrive\\01 ACADEMIA\\06 MODELOS\\8.FEM\\ppgee\\projects\\p21_coaxial_quarter_magnetostatics\\pos_processing\\pictures\\radial_b_profile_Triangle2.svg\n"
     ]
    }
   ],
   "source": [
    "B_field = fem_analysis.magnetic_field_density(mesh_data, FINITE_ELEMENT, potential_u)\n",
    "graph_results.magnetic_field_distribution(mesh_data, B_field, FINITE_ELEMENT)\n",
    "graph_results.radial_profile(mesh_data, B_field, FINITE_ELEMENT)"
   ]
  },
  {
   "cell_type": "markdown",
   "metadata": {},
   "source": [
    "### Figure 3: Magnetic field density distribution\n",
    "\n",
    "<figure>\n",
    "    <img src=\"pos_processing/pictures/b_field_Triangle2.svg\" alt=\"Fig.3\" style=\"width:70%;\" />\n",
    "    <figcaption>Figure 3: Magnetic field density distribution.</figcaption>\n",
    "</figure>\n",
    "\n",
    "### Figure 4: Magnetic density field radial profile\n",
    "\n",
    "<figure>\n",
    "    <img src=\"pos_processing/pictures/radial_b_profile_Triangle2.svg\" alt=\"Fig.4\" style=\"width:70%;\" />\n",
    "    <figcaption>Figure 4: Magnetic field density radial profile.</figcaption>\n",
    "</figure>"
   ]
  },
  {
   "cell_type": "markdown",
   "metadata": {},
   "source": [
    "Conversão do arquivo Jupyter Notebook para um script Python: ``python -m nbconvert --to script name.ipynb``\n",
    "\n",
    "Belo Horizonte, Brazil. 2024.  \n",
    "Adilton Junio Ladeira Pereira - adt@ufmg.br  \n",
    "&copy; All rights reserved."
   ]
  }
 ],
 "metadata": {
  "kernelspec": {
   "display_name": "Python 3",
   "language": "python",
   "name": "python3"
  },
  "language_info": {
   "codemirror_mode": {
    "name": "ipython",
    "version": 3
   },
   "file_extension": ".py",
   "mimetype": "text/x-python",
   "name": "python",
   "nbconvert_exporter": "python",
   "pygments_lexer": "ipython3",
   "version": "3.12.8"
  }
 },
 "nbformat": 4,
 "nbformat_minor": 2
}
