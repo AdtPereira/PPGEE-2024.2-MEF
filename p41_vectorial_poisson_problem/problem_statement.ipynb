{
 "cells": [
  {
   "cell_type": "code",
   "execution_count": null,
   "metadata": {},
   "outputs": [],
   "source": [
    "import gmsh\n",
    "import sys\n",
    "import os\n",
    "import numpy as np\n",
    "import import_ipynb\n",
    "import matplotlib.pyplot as plt\n",
    "from pathlib import Path\n",
    "\n",
    "# Adicionar o diretório raiz do projeto ao sys.path\n",
    "project_root = Path().resolve().parent  \n",
    "sys.path.append(str(project_root))\n",
    "from fem_processing import master_domain, gaussian_quadrature, matrices_assembly\n",
    "from fem_pos_processing import graph_results"
   ]
  },
  {
   "cell_type": "markdown",
   "metadata": {},
   "source": [
    "# `add_points()`"
   ]
  },
  {
   "cell_type": "code",
   "execution_count": null,
   "metadata": {},
   "outputs": [],
   "source": [
    "def add_points(points, lc):\n",
    "    point_tags = []\n",
    "    for i, (x, y, z) in enumerate(points):\n",
    "        tag = gmsh.model.geo.addPoint(x, y, z, lc, i + 1)\n",
    "        point_tags.append(tag)\n",
    "    return point_tags"
   ]
  },
  {
   "cell_type": "markdown",
   "metadata": {},
   "source": [
    "# `add_lines()`"
   ]
  },
  {
   "cell_type": "code",
   "execution_count": null,
   "metadata": {},
   "outputs": [],
   "source": [
    "def add_lines(point_tags):\n",
    "    line_tags = []\n",
    "    for i in range(len(point_tags)):\n",
    "        start_point = point_tags[i]\n",
    "        # a % b retorna o resto da divisão inteira de 'a' por 'b', quando a é maior que b;\n",
    "        # ou retorna o próprio número 'a' quando ele é menor que 'b', pois a divisão inteira resulta em 0 e todo o valor de a se torna o resto;\n",
    "        # ou retorna 0 quando 'a' é múltiplo de 'b'.\n",
    "        end_point = point_tags[(i + 1) % len(point_tags)]  \n",
    "        tag = gmsh.model.geo.addLine(start_point, end_point)\n",
    "        line_tags.append(tag)\n",
    "    return line_tags"
   ]
  },
  {
   "cell_type": "markdown",
   "metadata": {},
   "source": [
    "# `add_surface()`"
   ]
  },
  {
   "cell_type": "code",
   "execution_count": null,
   "metadata": {},
   "outputs": [],
   "source": [
    "def add_surface(line_tags):\n",
    "    tag_curve = gmsh.model.geo.addCurveLoop(line_tags)\n",
    "    tag_surface = gmsh.model.geo.addPlaneSurface([tag_curve])\n",
    "    gmsh.model.geo.synchronize()\n",
    "    return tag_surface"
   ]
  },
  {
   "cell_type": "markdown",
   "metadata": {},
   "source": [
    "# `create_domain()`"
   ]
  },
  {
   "cell_type": "code",
   "execution_count": null,
   "metadata": {},
   "outputs": [],
   "source": [
    "def create_domain(FINITE_ELEMENT, BOUNDARY, MATERIAL, h, auto_save=True, view_mesh=False):\n",
    "    type, order = FINITE_ELEMENT\n",
    "    vertices = [(-1, -1, 0), (-1, 1, 0), (1, 1, 0), (1, -1, 0)]\n",
    "\n",
    "    # Define a new model\n",
    "    gmsh.initialize()\n",
    "    gmsh.model.add(\"vectorial_poisson\")\n",
    "\n",
    "    # Define the points of the domain.\n",
    "    point_tags = add_points(vertices, h)\n",
    "\n",
    "    # Criar linhas para formar as bordas do quadrado\n",
    "    line_tags = add_lines(point_tags)\n",
    "    \n",
    "    # Criar um loop de linha e uma superfície plana\n",
    "    free_space = add_surface(line_tags)\n",
    "\n",
    "    # Adicionar grupos físicos para Dim=1\n",
    "    for i, tag in enumerate([line_tags]):\n",
    "        gmsh.model.addPhysicalGroup(1, tags=tag, tag=BOUNDARY[i]['tag'], name=BOUNDARY[i]['name'])\n",
    "\n",
    "    # Adicionar grupos físicos para Dim=2\n",
    "    gmsh.model.addPhysicalGroup(2, [free_space], tag=MATERIAL[0]['tag'], name=MATERIAL[0]['name'])  \n",
    "    \n",
    "    # Gerar a malha 2D\n",
    "    gmsh.option.setNumber(\"Mesh.SaveAll\", 1)\n",
    "\n",
    "    # Definir o tipo de elemento\n",
    "    if type == 'Quadrangle':\n",
    "        gmsh.model.mesh.setTransfiniteSurface(free_space, \"Alternate\")\n",
    "        gmsh.model.mesh.setRecombine(2, free_space)\n",
    "\n",
    "    # Define a ordem dos elementos\n",
    "    gmsh.model.mesh.generate(2)\n",
    "    gmsh.model.mesh.setOrder(order)\n",
    "\n",
    "    # Visualizar a malha no ambiente Gmsh (opcional)\n",
    "    if view_mesh:\n",
    "        gmsh.fltk.run()\n",
    "    \n",
    "    if auto_save:\n",
    "        os.makedirs(\"pre_processing/mesh\", exist_ok=True)\n",
    "        file_path = f\"pre_processing/mesh/vectorial_poisson_domain_{type}{order}.msh\"\n",
    "        gmsh.write(file_path)\n",
    "        gmsh.finalize()"
   ]
  },
  {
   "cell_type": "markdown",
   "metadata": {},
   "source": [
    "# `apply_physics()`"
   ]
  },
  {
   "cell_type": "code",
   "execution_count": null,
   "metadata": {},
   "outputs": [],
   "source": [
    "def apply_physics(FINITE_ELEMENT, mesh_data):\n",
    "    \"\"\"\n",
    "    Adiciona uma nova chave 'source' a cada dicionário em conn_data.\n",
    "    \n",
    "    Parâmetros:\n",
    "    - mesh_data: Dicionário contendo os dados da malha.\n",
    "    - element_type: Tuple (tipo do elemento, ordem).\n",
    "    \n",
    "    Retorna:\n",
    "    - mesh_data: O dicionário atualizado com a chave 'source' em cada elemento de conn_data.\n",
    "    \"\"\"\n",
    "    # Desempacotar o tipo de elemento\n",
    "    type, order = FINITE_ELEMENT\n",
    "\n",
    "    # Dictionary with all nodes in the mesh\n",
    "    cell_data = mesh_data['cell']\n",
    "    nodes_data = mesh_data['nodes']\n",
    "\n",
    "    # Função forçante (fonte)\n",
    "    def source_function(x, y):\n",
    "        vector =  np.array([[np.cos(np.pi * x) * np.sin(np.pi * x)], \n",
    "                            [-np.sin(np.pi * x) * np.cos(np.pi * y)]])\n",
    "        \n",
    "        return (2 * np.pi ** 2 + 1) * vector\n",
    "\n",
    "    for key, cell in cell_data.items():  \n",
    "        # Adicionar as propriedades do materiais ao dicionário da célula\n",
    "        cell['stiffness_term'] = []\n",
    "        cell['mass_term'] = []\n",
    "        cell['source'] = []\n",
    "        \n",
    "        # Calcular o valor de 'a' de acordo com a física do problema\n",
    "        # mur = cell['material']['relative_magnetic_permeability']\n",
    "        # er = cell['material']['relative_electric_permittivity']\n",
    "        a = cell['material']['a_constant']\n",
    "        \n",
    "        # Get the global coordinates of the nodes\n",
    "        ai = [nodes_data[idx]['xg'] for idx in cell['conn']]\n",
    "\n",
    "        # Get the Gauss points and weights\n",
    "        gauss_points, _ = gaussian_quadrature.gauss_data(FINITE_ELEMENT)\n",
    "\n",
    "        # Adicionar a nova chave 'material' ao dicionário da célula\n",
    "        for xik in gauss_points: \n",
    "            xg_e, yg_e = matrices_assembly.isomapping_to_global_coordinates(FINITE_ELEMENT, ai, xik)\n",
    "            cell['stiffness_term'].append(a * np.eye(2))\n",
    "            cell['mass_term'].append(1)           \n",
    "        \n",
    "            # Adicionar a fonte ao dicionário da célula\n",
    "            cell['source'].append(source_function(xg_e, yg_e))\n",
    "\n",
    "        # Dictionary with boundary nodes\n",
    "        cell_data[key]['abc'] = {'type': None, 'conn_idx': None}\n",
    "\n",
    "    return mesh_data"
   ]
  },
  {
   "cell_type": "markdown",
   "metadata": {},
   "source": [
    "# `plot_shape_functions()`"
   ]
  },
  {
   "cell_type": "code",
   "execution_count": null,
   "metadata": {},
   "outputs": [],
   "source": [
    "def plot_shape_functions_n0():\n",
    "    \"\"\"\n",
    "    Plota as funções de forma vetoriais de Nedelec do tipo 1 no triângulo de referência.\n",
    "    \"\"\"\n",
    "    # Definir uma grade de pontos dentro do triângulo de referência\n",
    "    xi = np.linspace(0, 1, 10)\n",
    "    eta = np.linspace(0, 1, 10)\n",
    "    xi_grid, eta_grid = np.meshgrid(xi, eta)\n",
    "    \n",
    "    # Filtrar pontos dentro do triângulo de referência\n",
    "    inside_triangle = xi_grid + eta_grid <= 1\n",
    "    xi_grid = xi_grid[inside_triangle]\n",
    "    eta_grid = eta_grid[inside_triangle]\n",
    "\n",
    "    # Criar uma figura\n",
    "    plt.figure(figsize=(16, 6))\n",
    "\n",
    "    # Lista de cores\n",
    "    colors = ['blue', 'red', 'green']\n",
    "    \n",
    "    # Iterar sobre cada função de forma\n",
    "    for idx in range(3):\n",
    "        plt.subplot(1, 3, idx + 1)  # Subplots para cada função de forma\n",
    "        plt.title(fr'$\\varphi_{idx+1}$')\n",
    "        plt.xlabel(r'$\\xi$')\n",
    "        plt.ylabel(r'$\\eta$')\n",
    "        \n",
    "        # Inicializar vetores para quiver\n",
    "        u = np.zeros_like(xi_grid)\n",
    "        v = np.zeros_like(eta_grid)\n",
    "        \n",
    "        # Calcular os vetores das funções de forma\n",
    "        for i, (xi, eta) in enumerate(zip(xi_grid, eta_grid)):\n",
    "            N = master_domain.shape_functions_n0(xi, eta)\n",
    "            u[i], v[i] = N[idx][0, 0], N[idx][1, 0]\n",
    "        \n",
    "        # Plotar vetores com quiver\n",
    "        plt.quiver(xi_grid, eta_grid, u, v,\n",
    "                    angles='xy', scale_units='xy', scale=10, color=colors[idx]\n",
    "        )\n",
    "        \n",
    "        # Plotar o triângulo de referência\n",
    "        plt.plot([0, 1, 0, 0], [0, 0, 1, 0], 'k-')\n",
    "        plt.axis('equal')\n",
    "        plt.xlim(-0.2, 1.2)\n",
    "    \n",
    "    plt.tight_layout()\n",
    "    plt.show()"
   ]
  },
  {
   "cell_type": "markdown",
   "metadata": {},
   "source": [
    "# `set_analytical_solution()`"
   ]
  },
  {
   "cell_type": "code",
   "execution_count": null,
   "metadata": {},
   "outputs": [],
   "source": [
    "def set_analytical_solution(x, y):\n",
    "    \"\"\"\n",
    "    Calculate the vector solution u(x, y) and its gradient ∇u(x, y) in a 2D matrix form.\n",
    "\n",
    "    Parameters:\n",
    "    x (float or array-like): x-coordinate(s)\n",
    "    y (float or array-like): y-coordinate(s)\n",
    "    \n",
    "    Returns:\n",
    "    tuple:\n",
    "        - u (ndarray): Vector solution u(x, y) as a 2D column matrix:\n",
    "            [[cos(πx)sin(πx)],\n",
    "             [-sin(πx)cos(πy)]]\n",
    "        - grad_u (ndarray): Gradient ∇u(x, y), a 2x2 matrix with:\n",
    "            [[∂u1/∂x, ∂u1/∂y],\n",
    "             [∂u2/∂x, ∂u2/∂y]]\n",
    "    \"\"\"\n",
    "    # Vector solution (2x1 matrix)\n",
    "    u = np.array([[np.cos(np.pi * x) * np.sin(np.pi * x)],\n",
    "                  [-np.sin(np.pi * x) * np.cos(np.pi * y)]])\n",
    "    \n",
    "    # Gradient of u (Jacobian matrix, 2x2)\n",
    "    grad_u = np.array([[ np.pi * (np.cos(2 * np.pi * x) - 0.5),  0],\n",
    "                       [-np.pi * np.cos(np.pi * x) * np.cos(np.pi * y),  np.pi * np.sin(np.pi * x) * np.sin(np.pi * y)]])\n",
    "    \n",
    "    return u, grad_u"
   ]
  },
  {
   "cell_type": "markdown",
   "metadata": {},
   "source": [
    "# `plot_analytical_solution()`"
   ]
  },
  {
   "cell_type": "code",
   "execution_count": null,
   "metadata": {},
   "outputs": [],
   "source": [
    "def plot_analytical_solution():\n",
    "    \"\"\"\n",
    "    Plot the exact vector solution u(x, y) using quiver() over the domain [-1, 1]².\n",
    "    The solution is defined as:\n",
    "        u1(x, y) = cos(πx)sin(πx)\n",
    "        u2(x, y) = -sin(πx)cos(πy)\n",
    "    \"\"\"\n",
    "    # Define the exact solution\n",
    "    x, y = np.meshgrid(\n",
    "        np.linspace(-1, 1, 30),\n",
    "        np.linspace(-1, 1, 30)\n",
    "    )\n",
    "\n",
    "    # Compute the exact solution components\n",
    "    u_1 = np.cos(np.pi * x) * np.sin(np.pi * y)  # First component of u\n",
    "    u_2 = -np.sin(np.pi * x) * np.cos(np.pi * y)  # Second component of u\n",
    "\n",
    "    # Plot the vector field using quiver()\n",
    "    plt.figure(figsize=(8, 8))\n",
    "    plt.quiver(x, y, u_1, u_2,\n",
    "                color='b', angles='xy', scale_units='xy', scale=15, width=0.003)\n",
    "    plt.title(\"Exact Solution $\\\\mathbf{u}(x, y)$ over $[-1, 1]^2$\")\n",
    "    plt.xlabel(\"$x$\")\n",
    "    plt.ylabel(\"$y$\")\n",
    "    plt.xlim([-1, 1])\n",
    "    plt.ylim([-1, 1])\n",
    "    plt.axis('equal') \n",
    "    plt.show()"
   ]
  },
  {
   "cell_type": "markdown",
   "metadata": {},
   "source": [
    "# `plot_analytical_source()`"
   ]
  },
  {
   "cell_type": "code",
   "execution_count": null,
   "metadata": {},
   "outputs": [],
   "source": [
    "def plot_analytical_source():\n",
    "    \"\"\"\n",
    "    Plot the source vector f(x, y) using quiver() over the domain [-1, 1]².\n",
    "    The solution is defined as:\n",
    "        u1(x, y) = cos(πx)sin(πx)\n",
    "        u2(x, y) = -sin(πx)cos(πy)\n",
    "    \"\"\"\n",
    "    # Define the exact solution\n",
    "    x, y = np.meshgrid(\n",
    "        np.linspace(-1, 1, 30),\n",
    "        np.linspace(-1, 1, 30)\n",
    "    )\n",
    "\n",
    "    # Compute the exact solution components\n",
    "    # First component of u\n",
    "    u_1 = (2*np.pi**2+1) * np.cos(np.pi * x) * np.sin(np.pi * x)  \n",
    "    # Second component of u\n",
    "    u_2 = -(2*np.pi**2+1) * np.sin(np.pi * x) * np.cos(np.pi * y)  \n",
    "\n",
    "    # Plot the vector field using quiver()\n",
    "    plt.figure(figsize=(8, 8))\n",
    "    plt.quiver(x, y, u_1, u_2,\n",
    "                color='r', angles='xy', scale_units='xy', scale=300, width=0.003)\n",
    "    plt.title(\"Source $\\\\mathbf{f}(x, y)$ over $[-1, 1]^2$\")\n",
    "    plt.xlabel(\"$x$\")\n",
    "    plt.ylabel(\"$y$\")\n",
    "    plt.xlim([-1, 1])\n",
    "    plt.ylim([-1, 1])\n",
    "    plt.axis('equal') \n",
    "    plt.show()"
   ]
  }
 ],
 "metadata": {
  "kernelspec": {
   "display_name": "Python 3",
   "language": "python",
   "name": "python3"
  },
  "language_info": {
   "name": "python",
   "version": "3.12.6"
  }
 },
 "nbformat": 4,
 "nbformat_minor": 2
}
