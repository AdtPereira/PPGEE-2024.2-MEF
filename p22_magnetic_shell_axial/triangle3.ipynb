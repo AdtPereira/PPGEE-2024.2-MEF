{
 "cells": [
  {
   "cell_type": "code",
   "execution_count": 1,
   "metadata": {},
   "outputs": [
    {
     "name": "stdout",
     "output_type": "stream",
     "text": [
      "Project root added to sys.path: C:\\Users\\adilt\\OneDrive\\01 ACADEMIA\\06 MODELOS\\8.FEM\\ppgee\\projects\n",
      "Todas as propriedades foram verificadas com sucesso para os elementos P1!\n",
      "Todas as propriedades foram verificadas com sucesso para os elementos P2!\n",
      "Todas as propriedades foram verificadas com sucesso para os elementos P3!\n",
      "Todas as propriedades foram verificadas com sucesso para os elementos Q1!\n",
      "Todas as propriedades foram verificadas com sucesso para os elementos Q2!\n",
      "Modules imports were successful!\n",
      "Modules imports were successful!\n",
      "Modules imports were successful!\n",
      "Modules imports were successful!\n"
     ]
    }
   ],
   "source": [
    "import sys\n",
    "import numpy as np\n",
    "import import_ipynb\n",
    "from scipy.sparse.linalg import spsolve\n",
    "from pathlib import Path\n",
    "\n",
    "# Adicionar o diretório raiz do projeto ao sys.path\n",
    "project_root = Path().resolve().parent  \n",
    "sys.path.append(str(project_root))\n",
    "\n",
    "# Verifique se os caminhos foram adicionados\n",
    "print(\"Project root added to sys.path:\", project_root)\n",
    "\n",
    "# Importando notebooks diretamente\n",
    "try:\n",
    "    import problem_statement as ps  \n",
    "    from pre_processing import create_domain, read_mesh\n",
    "    from fem_processing import boundary_conditions\n",
    "    from pos_processing import graph_results, fem_analysis\n",
    "    print(\"Modules imports were successful!\")\n",
    "except ModuleNotFoundError as e:\n",
    "    print(f\"Modules were not found: {e}\")\n",
    "except ImportError as e:\n",
    "    print(f\"Error in import: {e}\")\n",
    "    \n",
    "#run ../setup_project.py"
   ]
  },
  {
   "cell_type": "markdown",
   "metadata": {},
   "source": [
    "# Project 2: Magnetic Shielding, Spherical Shell of Permeable Material in a Uniform Field\n",
    "\n",
    "# 3-noded Linear Triangular Elements, $P_1$\n",
    "## Pre-processor module\n",
    "### Geometry and mesh Domain"
   ]
  },
  {
   "cell_type": "code",
   "execution_count": 2,
   "metadata": {},
   "outputs": [
    {
     "name": "stdout",
     "output_type": "stream",
     "text": [
      "Malha salva em pre_processing/mesh/axial_rectangular_domain_Triangle3.msh\n",
      "Model axial_rectangular_domain_Triangle3 (2D)\n",
      "Info     : 21 geometric entities\n",
      "Info     : 5 Physical Groups\n",
      "Info     : 13228 nodes in total\n",
      "Info     : 2887 2-D elements in total\n"
     ]
    }
   ],
   "source": [
    "FINITE_ELEMENT = (\"Triangle\", 3)\n",
    "\n",
    "BOUNDARY = [{'type': 'Dirichlet', 'tag': 101, 'value': 0.0, 'name': 'Az_0'}, \n",
    "            {'type': 'Dirichlet', 'tag': 102, 'value': 0.05, 'name': 'Az_0.05'}]\n",
    "\n",
    "MATERIAL = [{'type': 'relative_magnetic_permeability', 'tag': 201, 'value': 1, 'name': 'cavity'},\n",
    "            {'type': 'relative_magnetic_permeability', 'tag': 202, 'value': 1E4, 'name': 'magnetic_shell'},\n",
    "            {'type': 'relative_magnetic_permeability', 'tag': 203, 'value': 1, 'name': 'free_space'}]\n",
    "\n",
    "# Create mesh from file geometry\n",
    "create_domain.axial_rectangular_geometry(FINITE_ELEMENT, BOUNDARY, MATERIAL, lc=0.05, view_mesh=True)\n",
    "mesh_data = read_mesh.get_data(FINITE_ELEMENT, BOUNDARY, MATERIAL, model='axial_rectangular', info_mode=False)"
   ]
  },
  {
   "cell_type": "markdown",
   "metadata": {},
   "source": [
    "### Mesh Data Dictionaries"
   ]
  },
  {
   "cell_type": "code",
   "execution_count": 3,
   "metadata": {},
   "outputs": [
    {
     "data": {
      "text/plain": [
       "[{'TagID': 1,\n",
       "  'global_coord': (0.0, 0.0),\n",
       "  'bc': {'type': 'Dirichlet', 'value': 0.0}}]"
      ]
     },
     "execution_count": 3,
     "metadata": {},
     "output_type": "execute_result"
    }
   ],
   "source": [
    "mesh_nodes = mesh_data['nodes_data']; mesh_nodes[:1]"
   ]
  },
  {
   "cell_type": "code",
   "execution_count": 4,
   "metadata": {},
   "outputs": [
    {
     "data": {
      "text/plain": [
       "[{'TagID': 110,\n",
       "  'conn_list': [900, 946, 1011, 1029, 1030, 1031, 1032, 1033, 1034, 1035],\n",
       "  'material': {'type': 'relative_magnetic_permeability',\n",
       "   'tag': 201,\n",
       "   'value': 1,\n",
       "   'name': 'cavity'}}]"
      ]
     },
     "execution_count": 4,
     "metadata": {},
     "output_type": "execute_result"
    }
   ],
   "source": [
    "conn_data = mesh_data['conn_data']; conn_data[:1]"
   ]
  },
  {
   "cell_type": "code",
   "execution_count": 5,
   "metadata": {},
   "outputs": [],
   "source": [
    "nodes = [node['global_coord'] for node in mesh_data['nodes_data']]\n",
    "conn = [element['conn_list'] for element in mesh_data['conn_data']]"
   ]
  },
  {
   "cell_type": "markdown",
   "metadata": {},
   "source": [
    "### Figure 1: Rectangular meshed domain $\\Omega=[0,1]^2$"
   ]
  },
  {
   "cell_type": "code",
   "execution_count": 6,
   "metadata": {},
   "outputs": [
    {
     "name": "stdout",
     "output_type": "stream",
     "text": [
      "Arquivo salvo em: c:\\Users\\adilt\\OneDrive\\01 ACADEMIA\\06 MODELOS\\8.FEM\\ppgee\\projects\\p22_magnetic_shell_axial\\pre_processing\\pictures\\axial_rectangular_meshed_domain_Triangle3.svg\n"
     ]
    }
   ],
   "source": [
    "graph_results.plot_mesh(mesh_data, FINITE_ELEMENT, model='axial_rectangular', Numbering=False)"
   ]
  },
  {
   "cell_type": "markdown",
   "metadata": {},
   "source": [
    "<figure>\n",
    "    <img src=\"pre_processing/pictures/axial_rectangular_meshed_domain_Triangle3.svg\" alt=\"Fig.1\" style=\"width:100%;\" />\n",
    "    <figcaption>Figure 1: Rectangular meshed domain $\\Omega=[0,1]^2$.</figcaption>\n",
    "</figure>"
   ]
  },
  {
   "cell_type": "markdown",
   "metadata": {},
   "source": [
    "#### `apply_physics()`"
   ]
  },
  {
   "cell_type": "code",
   "execution_count": 7,
   "metadata": {},
   "outputs": [
    {
     "data": {
      "text/plain": [
       "[{'TagID': 110,\n",
       "  'conn_list': [900, 946, 1011, 1029, 1030, 1031, 1032, 1033, 1034, 1035],\n",
       "  'material': {'type': 'relative_magnetic_permeability',\n",
       "   'tag': 201,\n",
       "   'value': 1,\n",
       "   'name': 'cavity',\n",
       "   'a_value': 795774.7150262763},\n",
       "  'source': {'type': 'free_source', 'value': 0}}]"
      ]
     },
     "execution_count": 7,
     "metadata": {},
     "output_type": "execute_result"
    }
   ],
   "source": [
    "mesh_data = ps.apply_physics(mesh_data, FINITE_ELEMENT)\n",
    "mesh_data['conn_data'][:1]"
   ]
  },
  {
   "cell_type": "markdown",
   "metadata": {},
   "source": [
    "#### Material Propriety, $a$"
   ]
  },
  {
   "cell_type": "code",
   "execution_count": 8,
   "metadata": {},
   "outputs": [
    {
     "name": "stdout",
     "output_type": "stream",
     "text": [
      "Material 'a' values: \n",
      " [795774.71502628 795774.71502628 795774.71502628 ... 795774.71502628\n",
      " 795774.71502628 795774.71502628]\n"
     ]
    }
   ],
   "source": [
    "a = [element['material']['a_value'] for element in mesh_data['conn_data']]\n",
    "print(\"Material 'a' values: \\n\", np.array(a))"
   ]
  },
  {
   "cell_type": "markdown",
   "metadata": {},
   "source": [
    "### Imposition of Boundary Conditions"
   ]
  },
  {
   "cell_type": "code",
   "execution_count": 9,
   "metadata": {},
   "outputs": [
    {
     "name": "stdout",
     "output_type": "stream",
     "text": [
      "The entire domain has 13228 nodes: 12899 free nodes and 329 Dirichlet nodes.\n"
     ]
    }
   ],
   "source": [
    "dirichlet_nodes = [\n",
    "    node['TagID'] for node in mesh_data['nodes_data'] if node['bc']['type'] == 'Dirichlet']\n",
    "dirichlet_values = [\n",
    "    node['bc']['value'] for node in mesh_data['nodes_data'] if node['bc']['type'] == 'Dirichlet']\n",
    "free_nodes = [\n",
    "    node['TagID'] for node in mesh_data['nodes_data'] if node['bc']['type'] == 'Free']\n",
    "\n",
    "print(f\"The entire domain has {len(nodes)} nodes: \" \n",
    "      f\"{len(nodes) - len(dirichlet_nodes)} free nodes and {len(dirichlet_nodes)} Dirichlet nodes.\")"
   ]
  },
  {
   "cell_type": "markdown",
   "metadata": {},
   "source": [
    "## Processor Module"
   ]
  },
  {
   "cell_type": "markdown",
   "metadata": {},
   "source": [
    "### Reduced Global matrix $A_{gr}$ with boundary conditions"
   ]
  },
  {
   "cell_type": "code",
   "execution_count": 10,
   "metadata": {},
   "outputs": [
    {
     "name": "stdout",
     "output_type": "stream",
     "text": [
      "Reduced global matrix shape: (12899, 12899)\n"
     ]
    }
   ],
   "source": [
    "Agr, fgr = boundary_conditions.get_reduced_global_matrix(mesh_data, FINITE_ELEMENT)\n",
    "print(\"Reduced global matrix shape:\", Agr.shape)"
   ]
  },
  {
   "cell_type": "markdown",
   "metadata": {},
   "source": [
    "### Global Potential Vector"
   ]
  },
  {
   "cell_type": "code",
   "execution_count": 11,
   "metadata": {},
   "outputs": [
    {
     "name": "stdout",
     "output_type": "stream",
     "text": [
      "Reduced solution vector shape:  (12899,)\n",
      "Global potential vector shape:  (13228,)\n"
     ]
    }
   ],
   "source": [
    "ur = spsolve(Agr.tocsr(), fgr.toarray())\n",
    "potential_u = boundary_conditions.get_global_potentials(mesh_data, ur)\n",
    "print(\"Reduced solution vector shape: \", ur.shape)\n",
    "print(\"Global potential vector shape: \", potential_u.shape)"
   ]
  },
  {
   "cell_type": "markdown",
   "metadata": {},
   "source": [
    "# Magnetic Potencial Vector, $A_{\\varphi}$"
   ]
  },
  {
   "cell_type": "markdown",
   "metadata": {},
   "source": [
    "## Post-Processor"
   ]
  },
  {
   "cell_type": "code",
   "execution_count": 12,
   "metadata": {},
   "outputs": [
    {
     "name": "stdout",
     "output_type": "stream",
     "text": [
      "Arquivo salvo em: c:\\Users\\adilt\\OneDrive\\01 ACADEMIA\\06 MODELOS\\8.FEM\\ppgee\\projects\\p22_magnetic_shell_axial\\pos_processing\\pictures\\axial_rectangular_domain_solution_Triangle3.svg\n"
     ]
    }
   ],
   "source": [
    "graph_results.approximate_fem_solution(FINITE_ELEMENT, mesh_data, potential_u, model='axial_rectangular')"
   ]
  },
  {
   "cell_type": "markdown",
   "metadata": {},
   "source": [
    "### Figure 2: Scalar Field Distribution on a Triangular Mesh\n",
    "<figure>\n",
    "    <img src=\"pos_processing/pictures/axial_rectangular_domain_solution_Triangle3.svg\" alt=\"Fig.2\" style=\"width:60%;\" />\n",
    "    <figcaption>Figure 2: Post-Processor: Scalar Field Distribution.</figcaption>\n",
    "</figure>"
   ]
  },
  {
   "cell_type": "markdown",
   "metadata": {},
   "source": [
    "### `magnetic_field()`"
   ]
  },
  {
   "cell_type": "code",
   "execution_count": 13,
   "metadata": {},
   "outputs": [
    {
     "name": "stdout",
     "output_type": "stream",
     "text": [
      "Arquivo salvo em: c:\\Users\\adilt\\OneDrive\\01 ACADEMIA\\06 MODELOS\\8.FEM\\ppgee\\projects\\p22_magnetic_shell_axial\\pos_processing\\pictures\\b_field_Triangle3.svg\n",
      "Linhas de fluxo magnético salvas em: c:\\Users\\adilt\\OneDrive\\01 ACADEMIA\\06 MODELOS\\8.FEM\\ppgee\\projects\\p22_magnetic_shell_axial\\pos_processing\\pictures\\flux_lines_Triangle3.svg\n",
      "Arquivo salvo em: c:\\Users\\adilt\\OneDrive\\01 ACADEMIA\\06 MODELOS\\8.FEM\\ppgee\\projects\\p22_magnetic_shell_axial\\pos_processing\\pictures\\lateral_b_profile_Triangle3.svg\n",
      "Arquivo salvo em: c:\\Users\\adilt\\OneDrive\\01 ACADEMIA\\06 MODELOS\\8.FEM\\ppgee\\projects\\p22_magnetic_shell_axial\\pos_processing\\pictures\\diagonal_b_profile_Triangle3.svg\n"
     ]
    }
   ],
   "source": [
    "B_field = fem_analysis.magnetic_field_density(mesh_data, FINITE_ELEMENT, potential_u)\n",
    "graph_results.magnetic_field_distribution(mesh_data, B_field, FINITE_ELEMENT)\n",
    "graph_results.magnetic_flux_lines(mesh_data, B_field, FINITE_ELEMENT)\n",
    "graph_results.lateral_profile(mesh_data, B_field, FINITE_ELEMENT, y=0.0)\n",
    "graph_results.diagonal_profile(mesh_data, B_field, FINITE_ELEMENT)"
   ]
  },
  {
   "cell_type": "markdown",
   "metadata": {},
   "source": [
    "### Figure 3: Magnetic field density distribution\n",
    "\n",
    "<figure>\n",
    "    <img src=\"pos_processing/pictures/b_field_Triangle3.svg\" alt=\"Fig.3\" style=\"width:60%;\" />\n",
    "    <figcaption>Figure 3: Magnetic field density distribution.</figcaption>\n",
    "</figure>\n",
    "\n",
    "### Figure 4: Magnetic flux lines\n",
    "\n",
    "<figure>\n",
    "    <img src=\"pos_processing/pictures/flux_lines_Triangle3.svg\" alt=\"Fig.4\" style=\"width:60%;\" />\n",
    "    <figcaption>Figure 4: Magnetic flux lines.</figcaption>\n",
    "</figure>\n",
    "\n",
    "### Figure 5: Magnetic density field radial profile\n",
    "\n",
    "<figure>\n",
    "    <img src=\"pos_processing/pictures/lateral_b_profile_Triangle3.svg\" alt=\"Fig.5\" style=\"width:60%;\" />\n",
    "    <figcaption>Figure 5: Magnetic field density radial profile.</figcaption>\n",
    "</figure>"
   ]
  },
  {
   "cell_type": "markdown",
   "metadata": {},
   "source": [
    "Conversão do arquivo Jupyter Notebook para um script Python: ``python -m nbconvert --to script name.ipynb``\n",
    "\n",
    "Belo Horizonte, Brazil. 2024.  \n",
    "Adilton Junio Ladeira Pereira - adt@ufmg.br  \n",
    "&copy; All rights reserved."
   ]
  }
 ],
 "metadata": {
  "kernelspec": {
   "display_name": "Python 3",
   "language": "python",
   "name": "python3"
  },
  "language_info": {
   "codemirror_mode": {
    "name": "ipython",
    "version": 3
   },
   "file_extension": ".py",
   "mimetype": "text/x-python",
   "name": "python",
   "nbconvert_exporter": "python",
   "pygments_lexer": "ipython3",
   "version": "3.12.7"
  }
 },
 "nbformat": 4,
 "nbformat_minor": 2
}
