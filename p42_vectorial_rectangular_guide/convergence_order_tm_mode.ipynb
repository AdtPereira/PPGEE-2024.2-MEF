{
 "cells": [
  {
   "cell_type": "code",
   "execution_count": 1,
   "metadata": {},
   "outputs": [
    {
     "name": "stdout",
     "output_type": "stream",
     "text": [
      "Project root added to sys.path: C:\\Users\\adilt\\OneDrive\\05_GIT\\PPGEE-2024.2-MEF\n",
      "Todas as propriedades foram verificadas com sucesso para os elementos P1!\n",
      "Todas as propriedades foram verificadas com sucesso para os elementos P2!\n",
      "Todas as propriedades foram verificadas com sucesso para os elementos P3!\n",
      "Todas as propriedades foram verificadas com sucesso para os elementos Q1!\n",
      "Todas as propriedades foram verificadas com sucesso para os elementos Q2!\n",
      "Modules imports were successful!\n"
     ]
    }
   ],
   "source": [
    "import sys\n",
    "import numpy as np\n",
    "import import_ipynb\n",
    "from pathlib import Path\n",
    "from scipy.sparse.linalg import eigsh\n",
    "\n",
    "# Adicionar o diretório raiz do projeto ao sys.path\n",
    "project_root = Path().resolve().parent  \n",
    "sys.path.append(str(project_root))\n",
    "print(\"Project root added to sys.path:\", project_root)\n",
    "\n",
    "# Importando notebooks diretamente\n",
    "try:\n",
    "    import problem_statement as ps  \n",
    "    from fem_processing import vectorial_matrices_assembly as assembly\n",
    "    print(\"Modules imports were successful!\")\n",
    "except ModuleNotFoundError as en:\n",
    "    print(f\"Modules were not found: {en}\")\n",
    "except ImportError as en:\n",
    "    print(f\"Error in import: {en}\")"
   ]
  },
  {
   "cell_type": "markdown",
   "metadata": {},
   "source": [
    "# Project 4: Rectangular Guide"
   ]
  },
  {
   "cell_type": "markdown",
   "metadata": {},
   "source": [
    "# `setTypeProblem()`"
   ]
  },
  {
   "cell_type": "code",
   "execution_count": 2,
   "metadata": {},
   "outputs": [],
   "source": [
    "def setTypeProblem(FINITE_ELEMENT, h):\n",
    "    # Create mesh using gmsh\n",
    "    BOUNDARY = [{'tag': 101, 'type': 'Neumann', 'value': 0.0, 'name': 'Ez_0'}]\n",
    "    MATERIAL = [{'tag': 201, 'name': 'free_space', \n",
    "                'relative_magnetic_permeability': 1, 'relative_electric_permittivity': 1}]\n",
    "    \n",
    "    # Create mesh Structure Data from gmsh\n",
    "    mesh_data = ps.create_rectangular_guide(FINITE_ELEMENT, BOUNDARY, MATERIAL, h, auto_save=False)\n",
    "\n",
    "    # Get FEM solution\n",
    "    Sgr, Mgr, _ = assembly.reduced_global_matrices(FINITE_ELEMENT, mesh_data)\n",
    "    \n",
    "    # Resolver o problema de autovalor generalizado\n",
    "    eigenvalues, _ = eigsh(Sgr, k=35, M=Mgr, which='SM')\n",
    "\n",
    "    # Definir um limiar para eliminar erros de truncamento\n",
    "    positive_indices = np.where(eigenvalues > 1e-8)[0]\n",
    "\n",
    "    # Filtrar autovalores positivos e ordenar\n",
    "    sp_eigenvalues = eigenvalues[positive_indices]\n",
    "\n",
    "    # Ordenar os autovalores positivos e ajustar os autovetores na mesma ordem\n",
    "    sp_eigenvalues = sp_eigenvalues[np.argsort(sp_eigenvalues)]\n",
    "\n",
    "    return sp_eigenvalues, mesh_data"
   ]
  },
  {
   "cell_type": "markdown",
   "metadata": {},
   "source": [
    "# Convergence Analysis"
   ]
  },
  {
   "cell_type": "code",
   "execution_count": 3,
   "metadata": {},
   "outputs": [
    {
     "name": "stdout",
     "output_type": "stream",
     "text": [
      "\n",
      "5 menores autovalores analíticos dos modos TM:\n",
      "TM_11: kc2 = 7710.628 rad2/m2\n",
      "TM_21: kc2 = 12337.006 rad2/m2\n",
      "TM_31: kc2 = 20047.634 rad2/m2\n",
      "TM_12: kc2 = 26216.137 rad2/m2\n",
      "TM_22: kc2 = 30842.514 rad2/m2\n",
      "\n",
      "Calculating for Mesh size h=0.008 and element ('Triangle', 1).\n",
      "Modo TM_11: Erro percentual = 0.0489\n",
      "Modo TM_21: Erro percentual = 0.0671\n",
      "Modo TM_31: Erro percentual = 0.1407\n",
      "Modo TM_12: Erro percentual = 0.0849\n",
      "Modo TM_22: Erro percentual = 0.0633\n",
      "\n",
      "Calculating for Mesh size h=0.004 and element ('Triangle', 1).\n",
      "Modo TM_11: Erro percentual = 0.0010\n",
      "Modo TM_21: Erro percentual = 0.0091\n",
      "Modo TM_31: Erro percentual = 0.0065\n",
      "Modo TM_12: Erro percentual = 0.0187\n",
      "Modo TM_22: Erro percentual = 0.0038\n",
      "\n",
      "Calculating for Mesh size h=0.002 and element ('Triangle', 1).\n",
      "Modo TM_11: Erro percentual = 0.0031\n",
      "Modo TM_21: Erro percentual = 0.0046\n",
      "Modo TM_31: Erro percentual = 0.0020\n",
      "Modo TM_12: Erro percentual = 0.0044\n",
      "Modo TM_22: Erro percentual = 0.0005\n"
     ]
    }
   ],
   "source": [
    "element_types = [('Triangle', 1)]\n",
    "mesh_sizes = [0.008 / (2**i) for i in range(0, 3)]\n",
    "\n",
    "# Inicialização dos dicionários para armazenar erros acumulados para cada tipo de elemento\n",
    "errors = {et: {} for et in element_types}\n",
    "num_modes = {et: {} for et in element_types}\n",
    "\n",
    "# Modos analíticos\n",
    "tm_modes = ps.waveguide_modes(mn_max=5, mode_type='TM')\n",
    "\n",
    "for h in mesh_sizes:  \n",
    "    for FINITE_ELEMENT in element_types: \n",
    "        print(f\"\\nCalculating for Mesh size h={h} and element {FINITE_ELEMENT}.\")\n",
    "        # Resolve a solução numérica para o tipo de elemento e refinamento de malha\n",
    "        eigenvalues, mesh_data = setTypeProblem(FINITE_ELEMENT, h)  \n",
    "\n",
    "        # Preenche o dicionário dos autovalores\n",
    "        num_modes[FINITE_ELEMENT][h] = eigenvalues\n",
    "\n",
    "        # Acumula os erros nos dicionários correspondentes\n",
    "        errors[FINITE_ELEMENT][h] = ps.calculate_error(tm_modes, eigenvalues)"
   ]
  },
  {
   "cell_type": "markdown",
   "metadata": {},
   "source": [
    "# Convergence Order, $\\alpha$"
   ]
  },
  {
   "cell_type": "code",
   "execution_count": 4,
   "metadata": {},
   "outputs": [
    {
     "data": {
      "text/plain": [
       "{'TM_11': {'analytic': 7710.628438351061,\n",
       "  'lh1': 7714.397385542101,\n",
       "  'lh2': 7710.552996219378,\n",
       "  'lh3': 7710.870662809221,\n",
       "  'alfa': 3.5971691761365383},\n",
       " 'TM_21': {'analytic': 12337.0055013617,\n",
       "  'lh1': 12345.288168185423,\n",
       "  'lh2': 12335.880424910916,\n",
       "  'lh3': 12337.578695090131,\n",
       "  'alfa': 2.469782694672809},\n",
       " 'TM_31': {'analytic': 20047.633939712763,\n",
       "  'lh1': 20075.842493413205,\n",
       "  'lh2': 20048.94338096872,\n",
       "  'lh3': 20048.03409297919,\n",
       "  'alfa': 4.886677463669662},\n",
       " 'TM_12': {'analytic': 26216.136690393614,\n",
       "  'lh1': 26193.872576802474,\n",
       "  'lh2': 26221.02936608858,\n",
       "  'lh3': 26217.29226921482,\n",
       "  'alfa': 2.861323054459015},\n",
       " 'TM_22': {'analytic': 30842.513753404244,\n",
       "  'lh1': 30822.97897331943,\n",
       "  'lh2': 30841.353995947855,\n",
       "  'lh3': 30842.678602131164,\n",
       "  'alfa': 3.794110623572509}}"
      ]
     },
     "execution_count": 4,
     "metadata": {},
     "output_type": "execute_result"
    }
   ],
   "source": [
    "lambdas = num_modes[('Triangle', 1)]\n",
    "table = {mode: {} for mode in tm_modes.keys()}\n",
    "for i, mode in enumerate(table.keys()):\n",
    "    table[mode]['analytic'] = tm_modes[mode]    \n",
    "    table[mode]['lh1'] = lambdas[mesh_sizes[0]][i]   \n",
    "    table[mode]['lh2'] = lambdas[mesh_sizes[1]][i]   \n",
    "    table[mode]['lh3'] = lambdas[mesh_sizes[2]][i]   \n",
    "    table[mode]['alfa'] = np.log(\n",
    "        np.abs(table[mode]['lh1'] - table[mode]['lh2'])/np.abs(table[mode]['lh2'] - table[mode]['lh3'])) / np.log(2)  \n",
    "table"
   ]
  },
  {
   "cell_type": "markdown",
   "metadata": {},
   "source": [
    "Conversão do arquivo Jupyter Notebook para um script Python: ``python -m nbconvert --to script name.ipynb``\n",
    "\n",
    "Belo Horizonte, Brazil. 2025.  \n",
    "Adilton Junio Ladeira Pereira - adt@ufmg.br  \n",
    "&copy; All rights reserved."
   ]
  }
 ],
 "metadata": {
  "kernelspec": {
   "display_name": "Python 3",
   "language": "python",
   "name": "python3"
  },
  "language_info": {
   "codemirror_mode": {
    "name": "ipython",
    "version": 3
   },
   "file_extension": ".py",
   "mimetype": "text/x-python",
   "name": "python",
   "nbconvert_exporter": "python",
   "pygments_lexer": "ipython3",
   "version": "3.12.8"
  }
 },
 "nbformat": 4,
 "nbformat_minor": 2
}
