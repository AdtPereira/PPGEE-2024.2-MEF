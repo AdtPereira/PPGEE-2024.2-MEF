{
 "cells": [
  {
   "cell_type": "code",
   "execution_count": 1,
   "metadata": {},
   "outputs": [
    {
     "name": "stdout",
     "output_type": "stream",
     "text": [
      "Project root added to sys.path: C:\\Users\\adilt\\OneDrive\\05_GIT\\PPGEE-2024.2-MEF\n",
      "Todas as propriedades foram verificadas com sucesso para os elementos P1!\n",
      "Todas as propriedades foram verificadas com sucesso para os elementos P2!\n",
      "Todas as propriedades foram verificadas com sucesso para os elementos P3!\n",
      "Todas as propriedades foram verificadas com sucesso para os elementos Q1!\n",
      "Todas as propriedades foram verificadas com sucesso para os elementos Q2!\n",
      "Modules imports were successful!\n"
     ]
    }
   ],
   "source": [
    "import sys\n",
    "import import_ipynb\n",
    "import numpy as np\n",
    "from pathlib import Path\n",
    "from scipy.sparse.linalg import eigsh\n",
    "\n",
    "# Adicionar o diretório raiz do projeto ao sys.path\n",
    "project_root = Path().resolve().parent  \n",
    "sys.path.append(str(project_root))\n",
    "print(\"Project root added to sys.path:\", project_root)\n",
    "\n",
    "# Importando notebooks diretamente\n",
    "try:\n",
    "    import problem_statement as ps  \n",
    "    from fem_processing import vectorial_matrices_assembly as assembly\n",
    "    print(\"Modules imports were successful!\")\n",
    "except ModuleNotFoundError as en:\n",
    "    print(f\"Modules were not found: {en}\")\n",
    "except ImportError as en:\n",
    "    print(f\"Error in import: {en}\")\n",
    "    \n",
    "#run ../setup_project.py"
   ]
  },
  {
   "cell_type": "markdown",
   "metadata": {},
   "source": [
    "# Project 4: Rectangular Guide"
   ]
  },
  {
   "cell_type": "markdown",
   "metadata": {},
   "source": [
    "# `setTypeProblem()`"
   ]
  },
  {
   "cell_type": "code",
   "execution_count": 2,
   "metadata": {},
   "outputs": [],
   "source": [
    "def setTypeProblem(FINITE_ELEMENT, h):\n",
    "    # Create mesh using gmsh\n",
    "    BOUNDARY = [{'tag': 101, 'type': 'Dirichlet', 'value': 0.0, 'name': 'Ez_0'}]\n",
    "    MATERIAL = [{'tag': 201, 'name': 'free_space', \n",
    "                'relative_magnetic_permeability': 1, 'relative_electric_permittivity': 1}]\n",
    "    \n",
    "    # Create mesh Structure Data from gmsh\n",
    "    mesh_data = ps.create_rectangular_guide(FINITE_ELEMENT, BOUNDARY, MATERIAL, h, auto_save=False)\n",
    "\n",
    "    # Get FEM solution\n",
    "    Sgr, fgr, Mgr = assembly.reduced_global_matrices(FINITE_ELEMENT, mesh_data)\n",
    "    \n",
    "    # Resolver o problema de autovalor generalizado\n",
    "    eigenvalues, _ = eigsh(Sgr, k=30, M=Mgr, which='SM')\n",
    "\n",
    "    # Definir um limiar para eliminar erros de truncamento\n",
    "    positive_indices = np.where(eigenvalues > 1e-8)[0]\n",
    "\n",
    "    # Filtrar autovalores positivos e ordenar\n",
    "    sp_eigenvalues = eigenvalues[positive_indices]\n",
    "\n",
    "    # Ordenar os autovalores positivos e ajustar os autovetores na mesma ordem\n",
    "    sp_eigenvalues = sp_eigenvalues[np.argsort(sp_eigenvalues)]\n",
    "\n",
    "    return sp_eigenvalues, mesh_data"
   ]
  },
  {
   "cell_type": "markdown",
   "metadata": {},
   "source": [
    "# Convergence Analysis"
   ]
  },
  {
   "cell_type": "code",
   "execution_count": 3,
   "metadata": {},
   "outputs": [
    {
     "name": "stdout",
     "output_type": "stream",
     "text": [
      "\n",
      "5 menores autovalores analíticos dos modos TE:\n",
      "TE_10: kc2 = 1542.126 rad2/m2\n",
      "TE_01: kc2 = 6168.503 rad2/m2\n",
      "TE_20: kc2 = 6168.503 rad2/m2\n",
      "TE_11: kc2 = 7710.628 rad2/m2\n",
      "TE_21: kc2 = 12337.006 rad2/m2\n",
      "\n",
      "Calculating for Mesh size h=0.01 and element ('Triangle', 1).\n",
      "Modo TE_10: Erro percentual = 0.0375\n",
      "Modo TE_01: Erro percentual = 0.2318\n",
      "Modo TE_20: Erro percentual = 0.1563\n",
      "Modo TE_11: Erro percentual = 0.1692\n",
      "Modo TE_21: Erro percentual = 0.1482\n",
      "\n",
      "Calculating for Mesh size h=0.005 and element ('Triangle', 1).\n",
      "Modo TE_10: Erro percentual = 0.0034\n",
      "Modo TE_01: Erro percentual = 0.0139\n",
      "Modo TE_20: Erro percentual = 0.0290\n",
      "Modo TE_11: Erro percentual = 0.0029\n",
      "Modo TE_21: Erro percentual = 0.0168\n",
      "\n",
      "Calculating for Mesh size h=0.0025 and element ('Triangle', 1).\n",
      "Modo TE_10: Erro percentual = 0.0005\n",
      "Modo TE_01: Erro percentual = 0.0008\n",
      "Modo TE_20: Erro percentual = 0.0031\n",
      "Modo TE_11: Erro percentual = 0.0005\n",
      "Modo TE_21: Erro percentual = 0.0010\n"
     ]
    }
   ],
   "source": [
    "element_types = [('Triangle', 1)]\n",
    "mesh_sizes = [1E-2 / (2**i) for i in range(0, 3)]\n",
    "\n",
    "# Inicialização dos dicionários para armazenar erros acumulados para cada tipo de elemento\n",
    "errors = {et: {} for et in element_types}\n",
    "num_modes = {et: {} for et in element_types}\n",
    "\n",
    "# Modos analíticos\n",
    "te_modes = ps.waveguide_modes(mn_max=5, mode_type='TE')\n",
    "\n",
    "for h in mesh_sizes:  \n",
    "    for FINITE_ELEMENT in element_types: \n",
    "        print(f\"\\nCalculating for Mesh size h={h} and element {FINITE_ELEMENT}.\")\n",
    "        # Resolve a solução numérica para o tipo de elemento e refinamento de malha\n",
    "        eigenvalues, mesh_data = setTypeProblem(FINITE_ELEMENT, h)  \n",
    "\n",
    "        # Preenche o dicionário dos autovalores\n",
    "        num_modes[FINITE_ELEMENT][h] = eigenvalues\n",
    "\n",
    "        # Acumula os erros nos dicionários correspondentes\n",
    "        errors[FINITE_ELEMENT][h] = ps.calculate_error(te_modes, eigenvalues)"
   ]
  },
  {
   "cell_type": "markdown",
   "metadata": {},
   "source": [
    "# Convergence Order, $\\alpha$"
   ]
  },
  {
   "cell_type": "code",
   "execution_count": 4,
   "metadata": {},
   "outputs": [
    {
     "data": {
      "text/plain": [
       "{'TE_10': {'analytic': 1542.1256876702123,\n",
       "  'lh1': 1542.7036316684926,\n",
       "  'lh2': 1542.1778419176333,\n",
       "  'lh3': 1542.1339026540281,\n",
       "  'alfa': 3.5809034235920714},\n",
       " 'TE_01': {'analytic': 6168.502750680849,\n",
       "  'lh1': 6154.205470773092,\n",
       "  'lh2': 6169.363131003612,\n",
       "  'lh3': 6168.45188592002,\n",
       "  'alfa': 4.056064137178605},\n",
       " 'TE_20': {'analytic': 6168.502750680849,\n",
       "  'lh1': 6178.145340568397,\n",
       "  'lh2': 6170.292318377429,\n",
       "  'lh3': 6168.693654115591,\n",
       "  'alfa': 2.2963809860312687},\n",
       " 'TE_11': {'analytic': 7710.628438351061,\n",
       "  'lh1': 7697.584307284608,\n",
       "  'lh2': 7710.407050883695,\n",
       "  'lh3': 7710.593271737197,\n",
       "  'alfa': 6.1055465301008836},\n",
       " 'TE_21': {'analytic': 12337.0055013617,\n",
       "  'lh1': 12355.287456957327,\n",
       "  'lh2': 12334.936524850613,\n",
       "  'lh3': 12337.130060509464,\n",
       "  'alfa': 3.2137648092549895}}"
      ]
     },
     "execution_count": 4,
     "metadata": {},
     "output_type": "execute_result"
    }
   ],
   "source": [
    "lambdas = num_modes[('Triangle', 1)]\n",
    "table = {mode: {} for mode in te_modes.keys()}\n",
    "for i, mode in enumerate(table.keys()):\n",
    "    table[mode]['analytic'] = te_modes[mode]    \n",
    "    table[mode]['lh1'] = lambdas[mesh_sizes[0]][i]   \n",
    "    table[mode]['lh2'] = lambdas[mesh_sizes[1]][i]   \n",
    "    table[mode]['lh3'] = lambdas[mesh_sizes[2]][i]   \n",
    "    table[mode]['alfa'] = np.log(\n",
    "        np.abs(table[mode]['lh1'] - table[mode]['lh2'])/np.abs(table[mode]['lh2'] - table[mode]['lh3'])) / np.log(2)  \n",
    "table"
   ]
  },
  {
   "cell_type": "markdown",
   "metadata": {},
   "source": [
    "Conversão do arquivo Jupyter Notebook para um script Python: ``python -m nbconvert --to script name.ipynb``\n",
    "\n",
    "Belo Horizonte, Brazil. 2025.  \n",
    "Adilton Junio Ladeira Pereira - adt@ufmg.br  \n",
    "&copy; All rights reserved."
   ]
  }
 ],
 "metadata": {
  "kernelspec": {
   "display_name": "Python 3",
   "language": "python",
   "name": "python3"
  },
  "language_info": {
   "codemirror_mode": {
    "name": "ipython",
    "version": 3
   },
   "file_extension": ".py",
   "mimetype": "text/x-python",
   "name": "python",
   "nbconvert_exporter": "python",
   "pygments_lexer": "ipython3",
   "version": "3.12.8"
  }
 },
 "nbformat": 4,
 "nbformat_minor": 2
}
