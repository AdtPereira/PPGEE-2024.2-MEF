{
 "cells": [
  {
   "cell_type": "code",
   "execution_count": null,
   "metadata": {},
   "outputs": [],
   "source": [
    "import os\n",
    "import gmsh\n",
    "import numpy as np\n",
    "import import_ipynb\n",
    "import matplotlib.pyplot as plt\n",
    "from matplotlib.tri import Triangulation\n",
    "from fem_pre_processing import read_mesh as mesh\n",
    "from fem_processing import vectorial_matrices_assembly as assembly\n",
    "from fem_processing import master_domain as master\n",
    "from fem_pos_processing import graph_results as graph"
   ]
  },
  {
   "cell_type": "markdown",
   "metadata": {},
   "source": [
    "# `apply_physics()`"
   ]
  },
  {
   "cell_type": "code",
   "execution_count": 2,
   "metadata": {},
   "outputs": [],
   "source": [
    "def apply_physics(mesh_data):\n",
    "    for cell in mesh_data['cell'].values():  \n",
    "        # Geometric data    \n",
    "        xc = np.mean([mesh_data['nodes'][node]['xg'][0] for node in cell['conn']])\n",
    "        yc = np.mean([mesh_data['nodes'][node]['xg'][1] for node in cell['conn']])\n",
    "        zc = np.mean([mesh_data['nodes'][node]['xg'][2] for node in cell['conn']])\n",
    "        Je = assembly.jacobian_tetrahedra(mesh_data, cell)\n",
    "        \n",
    "        # Propriedades geométricas da célula\n",
    "        cell['geo']['centroid'] = (xc, yc, zc)\n",
    "        cell['geo']['jacobian'] = Je\n",
    "        cell['geo']['dim'] = np.abs(np.linalg.det(Je)) * 0.5 \n",
    "\n",
    "        # Adicionar as propriedades do materiais ao dicionário da célula\n",
    "        cell['p(x)'] = 1\n",
    "        cell['q(x)'] = np.eye(3)\n",
    "        cell['f(x)'] = np.zeros((3, 1))\n",
    "\n",
    "        # Atualiza dados físicos das arestas\n",
    "        for edge in mesh_data['edges'].values():\n",
    "            # Coordenadas dos nós inicial e final\n",
    "            n0, n1 = edge['conn'][0], edge['conn'][1]\n",
    "            x0, y0, z0 = mesh_data['nodes'][n0]['xg']\n",
    "            x1, y1, z1 = mesh_data['nodes'][n1]['xg']\n",
    "        \n",
    "            # Adiciona o tamanho da aresta\n",
    "            edge['len'] = ((x1 - x0)**2 + (y1 - y0)**2 + (z1 - z0)**2) ** 0.5\n",
    "    \n",
    "    return mesh_data"
   ]
  },
  {
   "cell_type": "markdown",
   "metadata": {},
   "source": [
    "# `create_rectangular_guide()`"
   ]
  },
  {
   "cell_type": "code",
   "execution_count": null,
   "metadata": {},
   "outputs": [],
   "source": [
    "def create_rectangular_cavity(FINITE_ELEMENT, BOUNDARY, MATERIAL, h, auto_save=True, view_mesh=False):\n",
    "    ElementType, ElementOrder = FINITE_ELEMENT\n",
    "    problem_dim = 3\n",
    "\n",
    "    # Dimensões da cavidade retangular (metros)\n",
    "    a, b, c = 1.0, 0.6, 0.4\n",
    "\n",
    "    # Inicializar o Gmsh\n",
    "    gmsh.initialize()\n",
    "    gmsh.model.add(\"rectangular_cavity\")\n",
    "\n",
    "    # Criar volume da cavidade retangular (dim=3)\n",
    "    TagVolume = gmsh.model.occ.addBox(0, 0, 0, a, b, c)\n",
    "    gmsh.model.occ.synchronize()\n",
    "\n",
    "    gmsh.option.setNumber(\"Mesh.MeshSizeMin\", h)\n",
    "    gmsh.option.setNumber(\"Mesh.MeshSizeMax\", h)\n",
    "\n",
    "    gmsh.model.mesh.generate(problem_dim)\n",
    "    gmsh.model.mesh.setOrder(ElementOrder)\n",
    "\n",
    "    # Obter os contornos (superfícies, dim=2) do volume\n",
    "    BoundaryDimTags = gmsh.model.getBoundary([(3, TagVolume)], oriented=True, recursive=False)\n",
    "\n",
    "    # Exibir os TAGs das superfícies associadas a cada contorno\n",
    "    BoundaryTags = [Dimtags[1] for Dimtags in BoundaryDimTags]\n",
    "\n",
    "    # Definindo as superfícies de contorno de Dirichlet (dim=2)\n",
    "    gmsh.model.addPhysicalGroup(dim=2, tags=BoundaryTags, tag=BOUNDARY[0]['tag'], name=BOUNDARY[0]['name'])\n",
    "\n",
    "    # Adicionar grupos físicos para Dim=3 (volume)\n",
    "    gmsh.model.addPhysicalGroup(dim=3, tags=[TagVolume], tag=MATERIAL[0]['tag'], name=MATERIAL[0]['name'])\n",
    "\n",
    "    if view_mesh:\n",
    "        gmsh.fltk.run()\n",
    "    \n",
    "    if auto_save:\n",
    "        os.makedirs(\"pre_processing/mesh\", exist_ok=True)\n",
    "        file_path_1 = f\"pre_processing/mesh/rectangular_cavity_domain_{ElementType}{ElementOrder}.msh\"\n",
    "        file_path_2 = f\"pre_processing/mesh/rectangular_cavity_domain_{ElementType}{ElementOrder}.vtk\"\n",
    "        print(f\"Malha salva em {file_path_1}\")\n",
    "        print(f\"Malha salva em {file_path_2}\")\n",
    "        gmsh.write(file_path_1)\n",
    "        gmsh.write(file_path_2)\n",
    "\n",
    "    # Create mesh Structure Data from gmsh\n",
    "    mesh.basic_info(problem_dim)\n",
    "    mesh_data = {'cell': mesh.get_new_cell_data(MATERIAL, problem_dim),\n",
    "                    'boundary': mesh.get_boundary_data(BOUNDARY, problem_dim),\n",
    "                    'nodes': mesh.get_nodes_data(BOUNDARY, problem_dim),\n",
    "                    'edges': mesh.get_new_edge_data(BOUNDARY, problem_dim)\n",
    "    }\n",
    "\n",
    "    # Finalize the gmsh model e return the mesh data\n",
    "    gmsh.finalize()\n",
    "    return mesh_data"
   ]
  },
  {
   "cell_type": "markdown",
   "metadata": {},
   "source": [
    "# `waveguide_modes()`"
   ]
  },
  {
   "cell_type": "code",
   "execution_count": null,
   "metadata": {},
   "outputs": [],
   "source": [
    "def waveguide_modes(mn_max, mode_type):\n",
    "    \"\"\"\n",
    "    Calcula os modos TE ou TM para um guia de onda retangular.\n",
    "\n",
    "    Parâmetros:\n",
    "    a (float): Dimensão transversal a (em metros).\n",
    "    b (float): Dimensão transversal b (em metros).\n",
    "    m_max (int): Número máximo de modos para m.\n",
    "    n_max (int): Número máximo de modos para n.\n",
    "    mode_type (str): Tipo de modo, 'TE' ou 'TM'.\n",
    "\n",
    "    Retorna:\n",
    "    dict: Dicionário com os modos e seus respectivos kc.\n",
    "    \"\"\"\n",
    "    # Dimensões do guia de onda retangular\n",
    "    a, b = 8e-2, 4e-2 \n",
    "\n",
    "    if mode_type not in ['TE', 'TM']:\n",
    "        raise ValueError(\"mode_type deve ser 'TE' ou 'TM'\")\n",
    "\n",
    "    modes = {}\n",
    "    for m in range(mn_max + 1):\n",
    "        for n in range(mn_max + 1):\n",
    "            if mode_type == 'TE' and m == 0 and n == 0:\n",
    "                continue  # Excluir o modo (0,0) para TE\n",
    "            if mode_type == 'TM' and (m == 0 or n == 0):\n",
    "                continue  # Excluir modos onde m=0 ou n=0 para TM\n",
    "            kc = np.sqrt((m * np.pi / a)**2 + (n * np.pi / b)**2)\n",
    "            modes[f\"{mode_type}_{m}{n}\"] = kc**2\n",
    "\n",
    "    # Ordenar os autovalores e listar os cinco menores\n",
    "    sorted_te_modes = sorted(modes.items(), key=lambda x: x[1])\n",
    "    smallest_modes = {key: value \n",
    "                      for i, (key, value) in enumerate(sorted_te_modes) if i < mn_max}\n",
    "\n",
    "    # Imprimir os menores autovalores\n",
    "    print(f\"\\n{mn_max} menores autovalores analíticos dos modos {mode_type}:\")\n",
    "    for mode, kc2 in smallest_modes.items():\n",
    "        print(f\"{mode}: kc2 = {kc2:.3f} rad2/m2\")\n",
    "    \n",
    "    return smallest_modes"
   ]
  },
  {
   "cell_type": "markdown",
   "metadata": {},
   "source": [
    "# `calculate_error()`"
   ]
  },
  {
   "cell_type": "code",
   "execution_count": 2,
   "metadata": {},
   "outputs": [],
   "source": [
    "def calculate_error(modes_u, modes_uh):\n",
    "    \"\"\"\n",
    "    Calcula o erro entre os valores de referência (modos analíticos) e os modos computados numericamente.\n",
    "\n",
    "    Parâmetros:\n",
    "    reference_modes (list): Lista de tuplas representando os modos analíticos, onde cada tupla contém o nome do modo e o valor de kc.\n",
    "    computed_modes (list): Lista de valores computados numericamente para os menores kc^2.\n",
    "\n",
    "    Retorna:\n",
    "    dict: Um dicionário contendo os erros absolutos para cada modo correspondente.\n",
    "    \"\"\"\n",
    "    # Compatibilizar tamanhos\n",
    "    smallest_modes_uh = modes_uh[:len(modes_u)]\n",
    "    \n",
    "    # Calcular os erros percentuais\n",
    "    errors = [abs(ref - comp)/ref * 100\n",
    "               for ref, comp in zip(modes_u.values(), smallest_modes_uh)]\n",
    "\n",
    "    # Retornar os erros em um dicionário\n",
    "    errors_dict = {mode: error for mode, error in zip(modes_u.keys(), errors)}\n",
    "\n",
    "    # Imprimir dicionário de erros\n",
    "    for mode, error in errors_dict.items():\n",
    "        print(f\"Modo {mode}: Erro percentual = {error:.4f}\")\n",
    "\n",
    "    return errors_dict"
   ]
  },
  {
   "cell_type": "markdown",
   "metadata": {},
   "source": [
    "Conversão do arquivo Jupyter Notebook para um script Python: ``python -m nbconvert --to script name.ipynb``\n",
    "\n",
    "Belo Horizonte, Brazil. 2025.  \n",
    "Adilton Junio Ladeira Pereira - adt@ufmg.br  \n",
    "&copy; All rights reserved."
   ]
  }
 ],
 "metadata": {
  "kernelspec": {
   "display_name": "Python 3",
   "language": "python",
   "name": "python3"
  },
  "language_info": {
   "codemirror_mode": {
    "name": "ipython",
    "version": 3
   },
   "file_extension": ".py",
   "mimetype": "text/x-python",
   "name": "python",
   "nbconvert_exporter": "python",
   "pygments_lexer": "ipython3",
   "version": "3.12.8"
  }
 },
 "nbformat": 4,
 "nbformat_minor": 2
}
