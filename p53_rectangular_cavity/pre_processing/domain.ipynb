{
 "cells": [
  {
   "cell_type": "markdown",
   "metadata": {},
   "source": [
    "# Imports"
   ]
  },
  {
   "cell_type": "code",
   "execution_count": 18,
   "metadata": {},
   "outputs": [
    {
     "data": {
      "text/plain": [
       "0"
      ]
     },
     "execution_count": 18,
     "metadata": {},
     "output_type": "execute_result"
    }
   ],
   "source": [
    "import gmsh\n",
    "import os\n",
    "# Limpar o terminal\n",
    "os.system('cls' if os.name == 'nt' else 'clear')"
   ]
  },
  {
   "cell_type": "markdown",
   "metadata": {},
   "source": [
    "# Mesh Parameters"
   ]
  },
  {
   "cell_type": "code",
   "execution_count": 19,
   "metadata": {},
   "outputs": [],
   "source": [
    "FINITE_ELEMENT = (\"Tetrahedron\", 1)\n",
    "BOUNDARY = [{'tag': 201, 'type': 'Dirichlet', 'value': 0.0, 'name': 'nxE=0'}]\n",
    "MATERIAL = [{'tag': 301, 'name': 'free_space', 'ur': 1, 'er': 1}]\n",
    "element, order = FINITE_ELEMENT\n",
    "h = 1  # Tamanho do elemento da malha"
   ]
  },
  {
   "cell_type": "markdown",
   "metadata": {},
   "source": [
    "# Geometrical Data"
   ]
  },
  {
   "cell_type": "code",
   "execution_count": 20,
   "metadata": {},
   "outputs": [],
   "source": [
    "# Dimensões da cavidade retangular, metros\n",
    "# a, b, c = 1.0, 0.6, 0.4\n",
    "a, b, c = 1.0, 1.0, 1.0"
   ]
  },
  {
   "cell_type": "markdown",
   "metadata": {},
   "source": [
    "# Gmsh Initialize"
   ]
  },
  {
   "cell_type": "code",
   "execution_count": 21,
   "metadata": {},
   "outputs": [],
   "source": [
    "gmsh.initialize()\n",
    "gmsh.model.add(\"rectangular_cavity\")"
   ]
  },
  {
   "cell_type": "markdown",
   "metadata": {},
   "source": [
    "## Define domain"
   ]
  },
  {
   "cell_type": "code",
   "execution_count": 22,
   "metadata": {},
   "outputs": [
    {
     "name": "stdout",
     "output_type": "stream",
     "text": [
      "\n",
      "rectangular_cavity_Tag: 1\n"
     ]
    }
   ],
   "source": [
    "rectangular_cavity = gmsh.model.occ.addBox(0, 0, 0, a, b, c)\n",
    "print(f\"\\nrectangular_cavity_Tag: {rectangular_cavity}\")\n",
    "gmsh.model.occ.synchronize()"
   ]
  },
  {
   "cell_type": "markdown",
   "metadata": {},
   "source": [
    "## Mesh Size "
   ]
  },
  {
   "cell_type": "code",
   "execution_count": 23,
   "metadata": {},
   "outputs": [],
   "source": [
    "# gmsh.option.setNumber(\"Mesh.MeshSizeMax\", h)\n",
    "gmsh.option.setNumber(\"Mesh.MeshSizeMin\", h)\n",
    "gmsh.model.mesh.generate(dim=3)\n",
    "gmsh.model.mesh.setOrder(order)"
   ]
  },
  {
   "cell_type": "markdown",
   "metadata": {},
   "source": [
    "## 1. _Edge mapping_"
   ]
  },
  {
   "cell_type": "code",
   "execution_count": 24,
   "metadata": {},
   "outputs": [
    {
     "name": "stdout",
     "output_type": "stream",
     "text": [
      "Total number of edges: 49\n",
      "Total number of edgeNodes: 98\n"
     ]
    }
   ],
   "source": [
    "gmsh.model.mesh.createEdges()\n",
    "edgeTags, edgeNodes = gmsh.model.mesh.getAllEdges()\n",
    "print(f\"Total number of edges: {len(edgeTags)}\")\n",
    "print(f\"Total number of edgeNodes: {len(edgeNodes)}\")"
   ]
  },
  {
   "cell_type": "code",
   "execution_count": 25,
   "metadata": {},
   "outputs": [
    {
     "name": "stdout",
     "output_type": "stream",
     "text": [
      "edge_mapping:\n",
      " {(9, 13): 1, (9, 12): 2, (9, 11): 3, (9, 14): 4, (12, 14): 5, (10, 13): 6, (11, 13): 7, (11, 12): 8, (1, 14): 9, (10, 12): 10, (8, 13): 11, (10, 14): 12, (6, 13): 13, (5, 14): 14, (4, 9): 15, (11, 14): 16, (5, 10): 17, (2, 13): 18, (3, 7): 19, (4, 8): 20, (8, 10): 21, (3, 14): 22, (6, 8): 23, (5, 6): 24, (2, 4): 25, (2, 9): 26, (12, 13): 27, (2, 6): 28, (3, 12): 29, (1, 3): 30, (6, 10): 31, (2, 11): 32, (4, 12): 33, (1, 9): 34, (5, 7): 35, (7, 8): 36, (3, 4): 37, (1, 2): 38, (6, 11): 39, (4, 13): 40, (1, 5): 41, (3, 9): 42, (10, 11): 43, (8, 12): 44, (7, 10): 45, (7, 14): 46, (1, 11): 47, (5, 11): 48, (7, 12): 49}\n"
     ]
    }
   ],
   "source": [
    "# Criar edge_mapping\n",
    "edge_mapping = {tuple(sorted([edgeNodes[2*i], edgeNodes[2*i + 1]])): tag\n",
    "                 for i, tag in enumerate(sorted(edgeTags))}\n",
    "print(f\"edge_mapping:\\n {edge_mapping}\")"
   ]
  },
  {
   "cell_type": "markdown",
   "metadata": {},
   "source": [
    "## 2. _Face mapping_"
   ]
  },
  {
   "cell_type": "code",
   "execution_count": 26,
   "metadata": {},
   "outputs": [
    {
     "name": "stdout",
     "output_type": "stream",
     "text": [
      "Total number of faces: 60\n",
      "Total number of faceNodes: 180\n"
     ]
    }
   ],
   "source": [
    "gmsh.model.mesh.createFaces()\n",
    "faceTags, faceNodes = gmsh.model.mesh.getAllFaces(3)\n",
    "print(f\"Total number of faces: {len(faceTags)}\")\n",
    "print(f\"Total number of faceNodes: {len(faceNodes)}\")"
   ]
  },
  {
   "cell_type": "code",
   "execution_count": 27,
   "metadata": {},
   "outputs": [
    {
     "name": "stdout",
     "output_type": "stream",
     "text": [
      "face_mapping:\n",
      " {(6, 10, 13): 1, (11, 12, 14): 2, (5, 11, 14): 3, (8, 12, 13): 4, (3, 7, 14): 5, (7, 10, 12): 6, (10, 11, 12): 7, (1, 3, 9): 8, (5, 7, 14): 9, (3, 7, 12): 10, (6, 8, 13): 11, (2, 9, 11): 12, (6, 8, 10): 13, (1, 5, 14): 14, (10, 11, 13): 15, (2, 4, 13): 16, (3, 4, 12): 17, (4, 8, 12): 18, (5, 6, 10): 19, (10, 12, 13): 20, (8, 10, 12): 21, (2, 4, 9): 22, (7, 12, 14): 23, (1, 3, 14): 24, (2, 6, 13): 25, (5, 7, 10): 26, (4, 12, 13): 27, (7, 8, 12): 28, (11, 12, 13): 29, (3, 4, 9): 30, (2, 6, 11): 31, (1, 2, 11): 32, (1, 2, 9): 33, (7, 8, 10): 34, (1, 5, 11): 35, (5, 6, 11): 36, (10, 11, 14): 37, (1, 11, 14): 38, (8, 10, 13): 39, (9, 12, 14): 40, (6, 11, 13): 41, (9, 11, 14): 42, (4, 9, 12): 43, (9, 11, 12): 44, (2, 9, 13): 45, (9, 11, 13): 46, (3, 9, 12): 47, (1, 9, 14): 48, (5, 10, 14): 49, (4, 8, 13): 50, (1, 9, 11): 51, (3, 12, 14): 52, (10, 12, 14): 53, (5, 10, 11): 54, (6, 10, 11): 55, (9, 12, 13): 56, (2, 11, 13): 57, (3, 9, 14): 58, (7, 10, 14): 59, (4, 9, 13): 60}\n"
     ]
    }
   ],
   "source": [
    "# Criar face_mapping\n",
    "face_mapping = {tuple(sorted([faceNodes[3*i], faceNodes[3*i + 1], faceNodes[3*i + 2]])): tag\n",
    "                 for i, tag in enumerate(sorted(faceTags))}\n",
    "print(f\"face_mapping:\\n {face_mapping}\")"
   ]
  },
  {
   "cell_type": "markdown",
   "metadata": {},
   "source": [
    "## 3. Applying _Physical Groups_"
   ]
  },
  {
   "cell_type": "code",
   "execution_count": 28,
   "metadata": {},
   "outputs": [
    {
     "name": "stdout",
     "output_type": "stream",
     "text": [
      "BoundaryDimTags: [(2, -1), (2, 2), (2, -3), (2, 4), (2, -5), (2, 6)]\n"
     ]
    }
   ],
   "source": [
    "# Obter os contornos (superfícies, dim=2) do volume\n",
    "BoundaryDimTags = gmsh.model.getBoundary([(3, rectangular_cavity)], oriented=True, recursive=False)\n",
    "print(f\"BoundaryDimTags: {BoundaryDimTags}\")"
   ]
  },
  {
   "cell_type": "code",
   "execution_count": 29,
   "metadata": {},
   "outputs": [
    {
     "data": {
      "text/plain": [
       "301"
      ]
     },
     "execution_count": 29,
     "metadata": {},
     "output_type": "execute_result"
    }
   ],
   "source": [
    "# Exibir os TAGs das superfícies associadas a cada contorno\n",
    "BoundaryTags = [Dimtags[1] for Dimtags in BoundaryDimTags]\n",
    "\n",
    "# Definindo as superfícies de contorno de Dirichlet (dim=2)\n",
    "gmsh.model.addPhysicalGroup(dim=2, tags=BoundaryTags, tag=BOUNDARY[0]['tag'], name=BOUNDARY[0]['name'])\n",
    "\n",
    "# Adicionar grupos físicos para Dim=3 (volume)\n",
    "gmsh.model.addPhysicalGroup(dim=3, tags=[rectangular_cavity], tag=MATERIAL[0]['tag'], name=MATERIAL[0]['name'])"
   ]
  },
  {
   "cell_type": "markdown",
   "metadata": {},
   "source": [
    "## 4. Mesh Elements by Dimension\n",
    "### Dimension 0 (1-node point)"
   ]
  },
  {
   "cell_type": "code",
   "execution_count": 30,
   "metadata": {},
   "outputs": [
    {
     "name": "stdout",
     "output_type": "stream",
     "text": [
      "elemTypes: [15] (1-node point)\n",
      "elemTags: [array([1, 2, 3, 4, 5, 6, 7, 8], dtype=uint64)]\n",
      "len(elemTag): [8]\n",
      "elemNodeTags: [array([1, 2, 3, 4, 5, 6, 7, 8], dtype=uint64)]\n",
      "len(nodeTag): [8]\n"
     ]
    }
   ],
   "source": [
    "elementTypes, elementTags, nodeTags = gmsh.model.mesh.getElements(dim=0)\n",
    "print(f\"elemTypes: {elementTypes}\")\n",
    "print(f\"elemTags: {elementTags}\")\n",
    "print(f\"len(elemTag): {[len(elementTag) for elementTag in elementTags]}\")\n",
    "print(f\"elemNodeTags: {nodeTags}\")\n",
    "print(f\"len(nodeTag): {[len(nodeTag) for nodeTag in nodeTags]}\")"
   ]
  },
  {
   "cell_type": "markdown",
   "metadata": {},
   "source": [
    "### Dimension 1 (2-node line)"
   ]
  },
  {
   "cell_type": "code",
   "execution_count": 31,
   "metadata": {},
   "outputs": [
    {
     "name": "stdout",
     "output_type": "stream",
     "text": [
      "elemTypes: [1] (2-node line)\n",
      "elemTags: [array([ 9, 10, 11, 12, 13, 14, 15, 16, 17, 18, 19, 20], dtype=uint64)]\n",
      "len(elemTag): [12]\n",
      "elemNodeTags: [array([2, 1, 1, 3, 4, 3, 2, 4, 6, 5, 5, 7, 8, 7, 6, 8, 2, 6, 1, 5, 4, 8,\n",
      "       3, 7], dtype=uint64)]\n",
      "len(nodeTag): [24]\n"
     ]
    }
   ],
   "source": [
    "elementTypes, elementTags, nodeTags = gmsh.model.mesh.getElements(dim=1)\n",
    "print(f\"elemTypes: {elementTypes}\")\n",
    "print(f\"elemTags: {elementTags}\")\n",
    "print(f\"len(elemTag): {[len(elementTag) for elementTag in elementTags]}\")\n",
    "print(f\"elemNodeTags: {nodeTags}\")\n",
    "print(f\"len(nodeTag): {[len(nodeTag) for nodeTag in nodeTags]}\")"
   ]
  },
  {
   "cell_type": "markdown",
   "metadata": {},
   "source": [
    "### Dimension 2 (3-node triangle)"
   ]
  },
  {
   "cell_type": "code",
   "execution_count": 32,
   "metadata": {},
   "outputs": [
    {
     "name": "stdout",
     "output_type": "stream",
     "text": [
      "elemTypes: [2] (3-node triangle)\n",
      "elemTags: [array([21, 22, 23, 24, 25, 26, 27, 28, 29, 30, 31, 32, 33, 34, 35, 36, 37,\n",
      "       38, 39, 40, 41, 42, 43, 44], dtype=uint64)]\n",
      "len(elemTag): [24]\n",
      "elemNodeTags: [array([ 2,  1,  9,  1,  3,  9,  4,  2,  9,  3,  4,  9,  6, 10,  5,  5, 10,\n",
      "        7,  8, 10,  6,  7, 10,  8,  1,  2, 11,  5,  1, 11,  2,  6, 11,  6,\n",
      "        5, 11,  3, 12,  4,  7, 12,  3,  4, 12,  8,  8, 12,  7,  2,  4, 13,\n",
      "        6,  2, 13,  4,  8, 13,  8,  6, 13,  1, 14,  3,  5, 14,  1,  3, 14,\n",
      "        7,  7, 14,  5], dtype=uint64)]\n",
      "len(nodeTag): [72]\n"
     ]
    }
   ],
   "source": [
    "elementTypes, elementTags, nodeTags = gmsh.model.mesh.getElements(dim=2)\n",
    "print(f\"elemTypes: {elementTypes}\")\n",
    "print(f\"elemTags: {elementTags}\")\n",
    "print(f\"len(elemTag): {[len(elementTag) for elementTag in elementTags]}\")\n",
    "print(f\"elemNodeTags: {nodeTags}\")\n",
    "print(f\"len(nodeTag): {[len(nodeTag) for nodeTag in nodeTags]}\")"
   ]
  },
  {
   "cell_type": "markdown",
   "metadata": {},
   "source": [
    "### Dimension 3 (4-node tetrahedron)"
   ]
  },
  {
   "cell_type": "code",
   "execution_count": 33,
   "metadata": {},
   "outputs": [
    {
     "name": "stdout",
     "output_type": "stream",
     "text": [
      "elemTypes: [4] (4-node tetrahedron)\n",
      "elemTags: [array([45, 46, 47, 48, 49, 50, 51, 52, 53, 54, 55, 56, 57, 58, 59, 60, 61,\n",
      "       62, 63, 64, 65, 66, 67, 68], dtype=uint64)]\n",
      "len(elemTag): [24]\n",
      "elemNodeTags: [array([11, 12, 10, 13, 11, 12, 14, 10, 14, 12, 11,  9,  9, 12, 11, 13, 11,\n",
      "       14,  1,  5,  4, 12,  3,  9,  3, 14,  1,  9,  1, 11,  2,  9, 12,  3,\n",
      "       14,  7,  8, 12,  4, 13, 10,  5, 11,  6, 14,  5, 10,  7,  7, 10, 12,\n",
      "        8,  2,  4,  9, 13, 11,  2, 13,  6, 13,  8, 10,  6, 14,  3, 12,  9,\n",
      "        5, 11, 14, 10,  1, 14, 11,  9,  8, 10, 12, 13,  4, 12,  9, 13,  9,\n",
      "       11,  2, 13, 12, 14, 10,  7, 13, 10, 11,  6], dtype=uint64)]\n",
      "len(nodeTag): [96]\n"
     ]
    }
   ],
   "source": [
    "elementTypes, elementTags, nodeTags = gmsh.model.mesh.getElements(dim=3)\n",
    "print(f\"elemTypes: {elementTypes}\")\n",
    "print(f\"elemTags: {elementTags}\")\n",
    "print(f\"len(elemTag): {[len(elementTag) for elementTag in elementTags]}\")\n",
    "print(f\"elemNodeTags: {nodeTags}\")\n",
    "print(f\"len(nodeTag): {[len(nodeTag) for nodeTag in nodeTags]}\")"
   ]
  },
  {
   "cell_type": "markdown",
   "metadata": {},
   "source": [
    "## 5. Geometrical Entities by Dimension\n",
    "dimTags (vector of pairs of integers)\n",
    "### Dimension 0 (Points)"
   ]
  },
  {
   "cell_type": "code",
   "execution_count": null,
   "metadata": {},
   "outputs": [
    {
     "data": {
      "text/plain": [
       "[(0, 1), (0, 2), (0, 3), (0, 4), (0, 5), (0, 6), (0, 7), (0, 8)]"
      ]
     },
     "execution_count": 36,
     "metadata": {},
     "output_type": "execute_result"
    }
   ],
   "source": [
    "gmsh.model.getEntities(dim=0)"
   ]
  },
  {
   "cell_type": "markdown",
   "metadata": {},
   "source": [
    "### Dimension 1 (Edges)"
   ]
  },
  {
   "cell_type": "markdown",
   "metadata": {},
   "source": [
    "gmsh.model.getEntities(dim=1)"
   ]
  },
  {
   "cell_type": "markdown",
   "metadata": {},
   "source": [
    "### Dimension 2 (Surfaces)"
   ]
  },
  {
   "cell_type": "code",
   "execution_count": 38,
   "metadata": {},
   "outputs": [
    {
     "data": {
      "text/plain": [
       "[(2, 1), (2, 2), (2, 3), (2, 4), (2, 5), (2, 6)]"
      ]
     },
     "execution_count": 38,
     "metadata": {},
     "output_type": "execute_result"
    }
   ],
   "source": [
    "gmsh.model.getEntities(dim=2)"
   ]
  },
  {
   "cell_type": "markdown",
   "metadata": {},
   "source": [
    "### Dimension 3 (Regions)"
   ]
  },
  {
   "cell_type": "code",
   "execution_count": 39,
   "metadata": {},
   "outputs": [
    {
     "data": {
      "text/plain": [
       "[(3, 1)]"
      ]
     },
     "execution_count": 39,
     "metadata": {},
     "output_type": "execute_result"
    }
   ],
   "source": [
    "gmsh.model.getEntities(dim=3)"
   ]
  },
  {
   "cell_type": "markdown",
   "metadata": {},
   "source": [
    "## 6. ``mesh_data['cell']``: Material Physical Groups (dim=3)"
   ]
  },
  {
   "cell_type": "code",
   "execution_count": 40,
   "metadata": {},
   "outputs": [
    {
     "name": "stdout",
     "output_type": "stream",
     "text": [
      "Entities of free_space with dim3: [1]\n",
      "mesh_elements of entity (dim, tag) = (3, 1): elemTags = [array([45, 46, 47, 48, 49, 50, 51, 52, 53, 54, 55, 56, 57, 58, 59, 60, 61,\n",
      "       62, 63, 64, 65, 66, 67, 68], dtype=uint64)]\n",
      "mesh_elements of entity (dim, tag) = (3, 1): nodeTags = [array([11, 12, 10, 13, 11, 12, 14, 10, 14, 12, 11,  9,  9, 12, 11, 13, 11,\n",
      "       14,  1,  5,  4, 12,  3,  9,  3, 14,  1,  9,  1, 11,  2,  9, 12,  3,\n",
      "       14,  7,  8, 12,  4, 13, 10,  5, 11,  6, 14,  5, 10,  7,  7, 10, 12,\n",
      "        8,  2,  4,  9, 13, 11,  2, 13,  6, 13,  8, 10,  6, 14,  3, 12,  9,\n",
      "        5, 11, 14, 10,  1, 14, 11,  9,  8, 10, 12, 13,  4, 12,  9, 13,  9,\n",
      "       11,  2, 13, 12, 14, 10,  7, 13, 10, 11,  6], dtype=uint64)]\n"
     ]
    }
   ],
   "source": [
    "cell_data = {}\n",
    "for material in MATERIAL:\n",
    "    # Obter as entidades físicas (grupo físico) associadas ao material\n",
    "    MaterialEntitiesTags = gmsh.model.getEntitiesForPhysicalGroup(dim=3, tag=material['tag'])\n",
    "    print(f\"Entities of {material['name']} with dim3: {MaterialEntitiesTags}\")\n",
    "    \n",
    "    for EntityTag in MaterialEntitiesTags:\n",
    "        elementTypes, elementTags, nodeTags = gmsh.model.mesh.getElements(dim=3, tag=EntityTag)\n",
    "        print(f\"mesh_elements of entity (dim, tag) = (3, {EntityTag}): elemTags = {elementTags}\")\n",
    "        print(f\"mesh_elements of entity (dim, tag) = (3, {EntityTag}): nodeTags = {nodeTags}\")\n",
    "        \n",
    "        for elemType, elemTag, elemNode in zip(elementTypes, elementTags, nodeTags):            \n",
    "            # Obter as propriedades do elemento\n",
    "            _, _, _, nodes_per_element, _, _ = gmsh.model.mesh.getElementProperties(elemType)\n",
    "\n",
    "            # Número de elementos\n",
    "            N_tet = len(elemNode) // nodes_per_element\n",
    "\n",
    "            # Criar dicionário associando cada elemento à sua conectividade de nós\n",
    "            for i, Tag in enumerate(elemTag):                \n",
    "                # Obter a conectividade do elemento\n",
    "                # conn_node = list(sorted(elemNodes[0][4 * i : 4 * (i + 1)])) \n",
    "                conn_node = elemNode[nodes_per_element * i: nodes_per_element * (i + 1)].tolist()\n",
    "                conn_std = sorted(conn_node)\n",
    "\n",
    "                # Tetrahedron element\n",
    "                if nodes_per_element == 4:\n",
    "                    conn_edge = [\n",
    "                        edge_mapping[(conn_std[0], conn_std[1])],  # e1: 1 -> 2\n",
    "                        edge_mapping[(conn_std[0], conn_std[2])],  # e2: 1 -> 3\n",
    "                        edge_mapping[(conn_std[0], conn_std[3])],  # e3: 1 -> 4\n",
    "                        edge_mapping[(conn_std[1], conn_std[2])],  # e4: 2 -> 3\n",
    "                        edge_mapping[(conn_std[1], conn_std[3])],  # e5: 2 -> 4\n",
    "                        edge_mapping[(conn_std[2], conn_std[3])]   # e6: 3 -> 4\n",
    "                    ]\n",
    "\n",
    "                    # Conectividade de faces (cada face tem 3 nós)\n",
    "                    conn_face = [\n",
    "                        sorted([conn_node[0], conn_node[1], conn_node[2]]),  # Face 1\n",
    "                        sorted([conn_node[0], conn_node[1], conn_node[3]]),  # Face 2\n",
    "                        sorted([conn_node[0], conn_node[2], conn_node[3]]),  # Face 3\n",
    "                        sorted([conn_node[1], conn_node[2], conn_node[3]])   # Face 4\n",
    "                    ]\n",
    "                \n",
    "                # Adicionar ao dicionário de células\n",
    "                cell_data[Tag] = {\n",
    "                    'tag': Tag,\n",
    "                    'conn': conn_node,\n",
    "                    'conn_sorted': conn_std,\n",
    "                    'conn_edge': conn_edge,\n",
    "                    'conn_face': conn_face,\n",
    "                    # 'geo': {'centroid': None, 'dim': None},\n",
    "                    # 'contour': {'type': None, 'conn_contour': None},\n",
    "                    'material': material['tag']}"
   ]
  },
  {
   "cell_type": "code",
   "execution_count": 46,
   "metadata": {},
   "outputs": [
    {
     "data": {
      "text/plain": [
       "{1: {'tag': 45,\n",
       "  'conn': [11, 12, 10, 13],\n",
       "  'conn_sorted': [10, 11, 12, 13],\n",
       "  'conn_edge': [43, 10, 6, 8, 7, 27],\n",
       "  'conn_face': [[10, 11, 12], [11, 12, 13], [10, 11, 13], [10, 12, 13]],\n",
       "  'material': 301},\n",
       " 2: {'tag': 46,\n",
       "  'conn': [11, 12, 14, 10],\n",
       "  'conn_sorted': [10, 11, 12, 14],\n",
       "  'conn_edge': [43, 10, 12, 8, 16, 5],\n",
       "  'conn_face': [[11, 12, 14], [10, 11, 12], [10, 11, 14], [10, 12, 14]],\n",
       "  'material': 301},\n",
       " 3: {'tag': 47,\n",
       "  'conn': [14, 12, 11, 9],\n",
       "  'conn_sorted': [9, 11, 12, 14],\n",
       "  'conn_edge': [3, 2, 4, 8, 16, 5],\n",
       "  'conn_face': [[11, 12, 14], [9, 12, 14], [9, 11, 14], [9, 11, 12]],\n",
       "  'material': 301},\n",
       " 4: {'tag': 48,\n",
       "  'conn': [9, 12, 11, 13],\n",
       "  'conn_sorted': [9, 11, 12, 13],\n",
       "  'conn_edge': [3, 2, 1, 8, 7, 27],\n",
       "  'conn_face': [[9, 11, 12], [9, 12, 13], [9, 11, 13], [11, 12, 13]],\n",
       "  'material': 301},\n",
       " 5: {'tag': 49,\n",
       "  'conn': [11, 14, 1, 5],\n",
       "  'conn_sorted': [1, 5, 11, 14],\n",
       "  'conn_edge': [41, 47, 9, 48, 14, 16],\n",
       "  'conn_face': [[1, 11, 14], [5, 11, 14], [1, 5, 11], [1, 5, 14]],\n",
       "  'material': 301},\n",
       " 6: {'tag': 50,\n",
       "  'conn': [4, 12, 3, 9],\n",
       "  'conn_sorted': [3, 4, 9, 12],\n",
       "  'conn_edge': [37, 42, 29, 15, 33, 2],\n",
       "  'conn_face': [[3, 4, 12], [4, 9, 12], [3, 4, 9], [3, 9, 12]],\n",
       "  'material': 301},\n",
       " 7: {'tag': 51,\n",
       "  'conn': [3, 14, 1, 9],\n",
       "  'conn_sorted': [1, 3, 9, 14],\n",
       "  'conn_edge': [30, 34, 9, 42, 22, 4],\n",
       "  'conn_face': [[1, 3, 14], [3, 9, 14], [1, 3, 9], [1, 9, 14]],\n",
       "  'material': 301},\n",
       " 8: {'tag': 52,\n",
       "  'conn': [1, 11, 2, 9],\n",
       "  'conn_sorted': [1, 2, 9, 11],\n",
       "  'conn_edge': [38, 34, 47, 26, 32, 3],\n",
       "  'conn_face': [[1, 2, 11], [1, 9, 11], [1, 2, 9], [2, 9, 11]],\n",
       "  'material': 301},\n",
       " 9: {'tag': 53,\n",
       "  'conn': [12, 3, 14, 7],\n",
       "  'conn_sorted': [3, 7, 12, 14],\n",
       "  'conn_edge': [19, 29, 22, 49, 46, 5],\n",
       "  'conn_face': [[3, 12, 14], [3, 7, 12], [7, 12, 14], [3, 7, 14]],\n",
       "  'material': 301},\n",
       " 10: {'tag': 54,\n",
       "  'conn': [8, 12, 4, 13],\n",
       "  'conn_sorted': [4, 8, 12, 13],\n",
       "  'conn_edge': [20, 33, 40, 44, 11, 27],\n",
       "  'conn_face': [[4, 8, 12], [8, 12, 13], [4, 8, 13], [4, 12, 13]],\n",
       "  'material': 301},\n",
       " 11: {'tag': 55,\n",
       "  'conn': [10, 5, 11, 6],\n",
       "  'conn_sorted': [5, 6, 10, 11],\n",
       "  'conn_edge': [24, 17, 48, 31, 39, 43],\n",
       "  'conn_face': [[5, 10, 11], [5, 6, 10], [6, 10, 11], [5, 6, 11]],\n",
       "  'material': 301},\n",
       " 12: {'tag': 56,\n",
       "  'conn': [14, 5, 10, 7],\n",
       "  'conn_sorted': [5, 7, 10, 14],\n",
       "  'conn_edge': [35, 17, 14, 45, 46, 12],\n",
       "  'conn_face': [[5, 10, 14], [5, 7, 14], [7, 10, 14], [5, 7, 10]],\n",
       "  'material': 301},\n",
       " 13: {'tag': 57,\n",
       "  'conn': [7, 10, 12, 8],\n",
       "  'conn_sorted': [7, 8, 10, 12],\n",
       "  'conn_edge': [36, 45, 49, 21, 44, 10],\n",
       "  'conn_face': [[7, 10, 12], [7, 8, 10], [7, 8, 12], [8, 10, 12]],\n",
       "  'material': 301},\n",
       " 14: {'tag': 58,\n",
       "  'conn': [2, 4, 9, 13],\n",
       "  'conn_sorted': [2, 4, 9, 13],\n",
       "  'conn_edge': [25, 26, 18, 15, 40, 1],\n",
       "  'conn_face': [[2, 4, 9], [2, 4, 13], [2, 9, 13], [4, 9, 13]],\n",
       "  'material': 301},\n",
       " 15: {'tag': 59,\n",
       "  'conn': [11, 2, 13, 6],\n",
       "  'conn_sorted': [2, 6, 11, 13],\n",
       "  'conn_edge': [28, 32, 18, 39, 13, 7],\n",
       "  'conn_face': [[2, 11, 13], [2, 6, 11], [6, 11, 13], [2, 6, 13]],\n",
       "  'material': 301},\n",
       " 16: {'tag': 60,\n",
       "  'conn': [13, 8, 10, 6],\n",
       "  'conn_sorted': [6, 8, 10, 13],\n",
       "  'conn_edge': [23, 31, 13, 21, 11, 6],\n",
       "  'conn_face': [[8, 10, 13], [6, 8, 13], [6, 10, 13], [6, 8, 10]],\n",
       "  'material': 301},\n",
       " 17: {'tag': 61,\n",
       "  'conn': [14, 3, 12, 9],\n",
       "  'conn_sorted': [3, 9, 12, 14],\n",
       "  'conn_edge': [42, 29, 22, 2, 4, 5],\n",
       "  'conn_face': [[3, 12, 14], [3, 9, 14], [9, 12, 14], [3, 9, 12]],\n",
       "  'material': 301},\n",
       " 18: {'tag': 62,\n",
       "  'conn': [5, 11, 14, 10],\n",
       "  'conn_sorted': [5, 10, 11, 14],\n",
       "  'conn_edge': [17, 48, 14, 43, 12, 16],\n",
       "  'conn_face': [[5, 11, 14], [5, 10, 11], [5, 10, 14], [10, 11, 14]],\n",
       "  'material': 301},\n",
       " 19: {'tag': 63,\n",
       "  'conn': [1, 14, 11, 9],\n",
       "  'conn_sorted': [1, 9, 11, 14],\n",
       "  'conn_edge': [34, 47, 9, 3, 4, 16],\n",
       "  'conn_face': [[1, 11, 14], [1, 9, 14], [1, 9, 11], [9, 11, 14]],\n",
       "  'material': 301},\n",
       " 20: {'tag': 64,\n",
       "  'conn': [8, 10, 12, 13],\n",
       "  'conn_sorted': [8, 10, 12, 13],\n",
       "  'conn_edge': [21, 44, 11, 10, 6, 27],\n",
       "  'conn_face': [[8, 10, 12], [8, 10, 13], [8, 12, 13], [10, 12, 13]],\n",
       "  'material': 301},\n",
       " 21: {'tag': 65,\n",
       "  'conn': [4, 12, 9, 13],\n",
       "  'conn_sorted': [4, 9, 12, 13],\n",
       "  'conn_edge': [15, 33, 40, 2, 1, 27],\n",
       "  'conn_face': [[4, 9, 12], [4, 12, 13], [4, 9, 13], [9, 12, 13]],\n",
       "  'material': 301},\n",
       " 22: {'tag': 66,\n",
       "  'conn': [9, 11, 2, 13],\n",
       "  'conn_sorted': [2, 9, 11, 13],\n",
       "  'conn_edge': [26, 32, 18, 3, 1, 7],\n",
       "  'conn_face': [[2, 9, 11], [9, 11, 13], [2, 9, 13], [2, 11, 13]],\n",
       "  'material': 301},\n",
       " 23: {'tag': 67,\n",
       "  'conn': [12, 14, 10, 7],\n",
       "  'conn_sorted': [7, 10, 12, 14],\n",
       "  'conn_edge': [45, 49, 46, 10, 12, 5],\n",
       "  'conn_face': [[10, 12, 14], [7, 12, 14], [7, 10, 12], [7, 10, 14]],\n",
       "  'material': 301},\n",
       " 24: {'tag': 68,\n",
       "  'conn': [13, 10, 11, 6],\n",
       "  'conn_sorted': [6, 10, 11, 13],\n",
       "  'conn_edge': [31, 39, 13, 43, 6, 7],\n",
       "  'conn_face': [[10, 11, 13], [6, 10, 13], [6, 11, 13], [6, 10, 11]],\n",
       "  'material': 301}}"
      ]
     },
     "execution_count": 46,
     "metadata": {},
     "output_type": "execute_result"
    }
   ],
   "source": [
    "# Adiciona nova chave sequencial ao cell_data\n",
    "cell_data = {i+1: cell_data[Tag] for i, Tag in enumerate(cell_data)}; cell_data"
   ]
  },
  {
   "cell_type": "markdown",
   "metadata": {},
   "source": [
    "## 7. `mesh_data['boundary']`: Boundary Physical Groups (dim=2)"
   ]
  },
  {
   "cell_type": "code",
   "execution_count": 42,
   "metadata": {},
   "outputs": [
    {
     "name": "stdout",
     "output_type": "stream",
     "text": [
      "Entities of nxE=0 with dim2: [1 2 3 4 5 6]\n",
      "mesh_elements of entity (dim, tag) = (2, 1): elemTags = [array([21, 22, 23, 24], dtype=uint64)]\n",
      "mesh_elements of entity (dim, tag) = (2, 1): nodeTags = [array([2, 1, 9, 1, 3, 9, 4, 2, 9, 3, 4, 9], dtype=uint64)]\n",
      "mesh_elements of entity (dim, tag) = (2, 2): elemTags = [array([25, 26, 27, 28], dtype=uint64)]\n",
      "mesh_elements of entity (dim, tag) = (2, 2): nodeTags = [array([ 6, 10,  5,  5, 10,  7,  8, 10,  6,  7, 10,  8], dtype=uint64)]\n",
      "mesh_elements of entity (dim, tag) = (2, 3): elemTags = [array([29, 30, 31, 32], dtype=uint64)]\n",
      "mesh_elements of entity (dim, tag) = (2, 3): nodeTags = [array([ 1,  2, 11,  5,  1, 11,  2,  6, 11,  6,  5, 11], dtype=uint64)]\n",
      "mesh_elements of entity (dim, tag) = (2, 4): elemTags = [array([33, 34, 35, 36], dtype=uint64)]\n",
      "mesh_elements of entity (dim, tag) = (2, 4): nodeTags = [array([ 3, 12,  4,  7, 12,  3,  4, 12,  8,  8, 12,  7], dtype=uint64)]\n",
      "mesh_elements of entity (dim, tag) = (2, 5): elemTags = [array([37, 38, 39, 40], dtype=uint64)]\n",
      "mesh_elements of entity (dim, tag) = (2, 5): nodeTags = [array([ 2,  4, 13,  6,  2, 13,  4,  8, 13,  8,  6, 13], dtype=uint64)]\n",
      "mesh_elements of entity (dim, tag) = (2, 6): elemTags = [array([41, 42, 43, 44], dtype=uint64)]\n",
      "mesh_elements of entity (dim, tag) = (2, 6): nodeTags = [array([ 1, 14,  3,  5, 14,  1,  3, 14,  7,  7, 14,  5], dtype=uint64)]\n"
     ]
    }
   ],
   "source": [
    "boundary_data = {}\n",
    "for bc in BOUNDARY:\n",
    "    # Obter as entidades físicas (grupo físico) associadas ao contorno\n",
    "    BoundaryEntitiesTags = gmsh.model.getEntitiesForPhysicalGroup(dim=2, tag=bc['tag'])\n",
    "    print(f\"Entities of {bc['name']} with dim2: {BoundaryEntitiesTags}\")\n",
    "    \n",
    "    for EntityTag in BoundaryEntitiesTags:\n",
    "        elementTypes, elementTags, nodeTags = gmsh.model.mesh.getElements(dim=2, tag=EntityTag)\n",
    "        print(f\"mesh_elements of entity (dim, tag) = (2, {EntityTag}): elemTags = {elementTags}\")\n",
    "        print(f\"mesh_elements of entity (dim, tag) = (2, {EntityTag}): nodeTags = {nodeTags}\")\n",
    "        \n",
    "        for elemType, elemTag, elemNode in zip(elementTypes, elementTags, nodeTags):   \n",
    "            # Obter as propriedades do elemento\n",
    "            _, _, _, nodes_per_element, _, _ = gmsh.model.mesh.getElementProperties(elemType)\n",
    "\n",
    "            # Número de elementos\n",
    "            N_tri = len(elemNode) // nodes_per_element             \n",
    "\n",
    "            # Criar dicionário associando cada elemento à sua conectividade de nós\n",
    "            for i, Tag in enumerate(elemTag):    \n",
    "                # Obter a conectividade do elemento            \n",
    "                # conn_node = list(sorted(nodeTags[0][3 * i : 3 * (i + 1)]))\n",
    "                conn_node = elemNode[nodes_per_element * i: nodes_per_element * (i + 1)].tolist()\n",
    "                conn_std = sorted(conn_node)\n",
    "\n",
    "                # Triangular element\n",
    "                if nodes_per_element == 3:\n",
    "                    conn_edge = [\n",
    "                        edge_mapping[(conn_std[0], conn_std[1])],  # e1: 1 -> 2\n",
    "                        edge_mapping[(conn_std[0], conn_std[2])],  # e2: 1 -> 3\n",
    "                        edge_mapping[(conn_std[1], conn_std[2])],  # e3: 2 -> 3\n",
    "                    ]\n",
    "\n",
    "                # Dicionário de contorno\n",
    "                boundary_data[Tag] = {\n",
    "                    'tag': Tag,\n",
    "                    'conn': conn_node,\n",
    "                    'conn_sorted': conn_std,\n",
    "                    'conn_edge': conn_edge,\n",
    "                    'boundary': bc['tag']}"
   ]
  },
  {
   "cell_type": "code",
   "execution_count": 47,
   "metadata": {},
   "outputs": [
    {
     "data": {
      "text/plain": [
       "{1: {'tag': 21,\n",
       "  'conn': [2, 1, 9],\n",
       "  'conn_sorted': [1, 2, 9],\n",
       "  'conn_edge': [38, 34, 26],\n",
       "  'boundary': 201},\n",
       " 2: {'tag': 22,\n",
       "  'conn': [1, 3, 9],\n",
       "  'conn_sorted': [1, 3, 9],\n",
       "  'conn_edge': [30, 34, 42],\n",
       "  'boundary': 201},\n",
       " 3: {'tag': 23,\n",
       "  'conn': [4, 2, 9],\n",
       "  'conn_sorted': [2, 4, 9],\n",
       "  'conn_edge': [25, 26, 15],\n",
       "  'boundary': 201},\n",
       " 4: {'tag': 24,\n",
       "  'conn': [3, 4, 9],\n",
       "  'conn_sorted': [3, 4, 9],\n",
       "  'conn_edge': [37, 42, 15],\n",
       "  'boundary': 201},\n",
       " 5: {'tag': 25,\n",
       "  'conn': [6, 10, 5],\n",
       "  'conn_sorted': [5, 6, 10],\n",
       "  'conn_edge': [24, 17, 31],\n",
       "  'boundary': 201},\n",
       " 6: {'tag': 26,\n",
       "  'conn': [5, 10, 7],\n",
       "  'conn_sorted': [5, 7, 10],\n",
       "  'conn_edge': [35, 17, 45],\n",
       "  'boundary': 201},\n",
       " 7: {'tag': 27,\n",
       "  'conn': [8, 10, 6],\n",
       "  'conn_sorted': [6, 8, 10],\n",
       "  'conn_edge': [23, 31, 21],\n",
       "  'boundary': 201},\n",
       " 8: {'tag': 28,\n",
       "  'conn': [7, 10, 8],\n",
       "  'conn_sorted': [7, 8, 10],\n",
       "  'conn_edge': [36, 45, 21],\n",
       "  'boundary': 201},\n",
       " 9: {'tag': 29,\n",
       "  'conn': [1, 2, 11],\n",
       "  'conn_sorted': [1, 2, 11],\n",
       "  'conn_edge': [38, 47, 32],\n",
       "  'boundary': 201},\n",
       " 10: {'tag': 30,\n",
       "  'conn': [5, 1, 11],\n",
       "  'conn_sorted': [1, 5, 11],\n",
       "  'conn_edge': [41, 47, 48],\n",
       "  'boundary': 201},\n",
       " 11: {'tag': 31,\n",
       "  'conn': [2, 6, 11],\n",
       "  'conn_sorted': [2, 6, 11],\n",
       "  'conn_edge': [28, 32, 39],\n",
       "  'boundary': 201},\n",
       " 12: {'tag': 32,\n",
       "  'conn': [6, 5, 11],\n",
       "  'conn_sorted': [5, 6, 11],\n",
       "  'conn_edge': [24, 48, 39],\n",
       "  'boundary': 201},\n",
       " 13: {'tag': 33,\n",
       "  'conn': [3, 12, 4],\n",
       "  'conn_sorted': [3, 4, 12],\n",
       "  'conn_edge': [37, 29, 33],\n",
       "  'boundary': 201},\n",
       " 14: {'tag': 34,\n",
       "  'conn': [7, 12, 3],\n",
       "  'conn_sorted': [3, 7, 12],\n",
       "  'conn_edge': [19, 29, 49],\n",
       "  'boundary': 201},\n",
       " 15: {'tag': 35,\n",
       "  'conn': [4, 12, 8],\n",
       "  'conn_sorted': [4, 8, 12],\n",
       "  'conn_edge': [20, 33, 44],\n",
       "  'boundary': 201},\n",
       " 16: {'tag': 36,\n",
       "  'conn': [8, 12, 7],\n",
       "  'conn_sorted': [7, 8, 12],\n",
       "  'conn_edge': [36, 49, 44],\n",
       "  'boundary': 201},\n",
       " 17: {'tag': 37,\n",
       "  'conn': [2, 4, 13],\n",
       "  'conn_sorted': [2, 4, 13],\n",
       "  'conn_edge': [25, 18, 40],\n",
       "  'boundary': 201},\n",
       " 18: {'tag': 38,\n",
       "  'conn': [6, 2, 13],\n",
       "  'conn_sorted': [2, 6, 13],\n",
       "  'conn_edge': [28, 18, 13],\n",
       "  'boundary': 201},\n",
       " 19: {'tag': 39,\n",
       "  'conn': [4, 8, 13],\n",
       "  'conn_sorted': [4, 8, 13],\n",
       "  'conn_edge': [20, 40, 11],\n",
       "  'boundary': 201},\n",
       " 20: {'tag': 40,\n",
       "  'conn': [8, 6, 13],\n",
       "  'conn_sorted': [6, 8, 13],\n",
       "  'conn_edge': [23, 13, 11],\n",
       "  'boundary': 201},\n",
       " 21: {'tag': 41,\n",
       "  'conn': [1, 14, 3],\n",
       "  'conn_sorted': [1, 3, 14],\n",
       "  'conn_edge': [30, 9, 22],\n",
       "  'boundary': 201},\n",
       " 22: {'tag': 42,\n",
       "  'conn': [5, 14, 1],\n",
       "  'conn_sorted': [1, 5, 14],\n",
       "  'conn_edge': [41, 9, 14],\n",
       "  'boundary': 201},\n",
       " 23: {'tag': 43,\n",
       "  'conn': [3, 14, 7],\n",
       "  'conn_sorted': [3, 7, 14],\n",
       "  'conn_edge': [19, 22, 46],\n",
       "  'boundary': 201},\n",
       " 24: {'tag': 44,\n",
       "  'conn': [7, 14, 5],\n",
       "  'conn_sorted': [5, 7, 14],\n",
       "  'conn_edge': [35, 14, 46],\n",
       "  'boundary': 201}}"
      ]
     },
     "execution_count": 47,
     "metadata": {},
     "output_type": "execute_result"
    }
   ],
   "source": [
    "# Adiciona nova chave sequencial ao boundary_data\n",
    "boundary_data = {i+1: boundary_data[Tag] for i, Tag in enumerate(boundary_data)}; boundary_data"
   ]
  },
  {
   "cell_type": "markdown",
   "metadata": {},
   "source": [
    "# Gmsh Finalize"
   ]
  },
  {
   "cell_type": "code",
   "execution_count": null,
   "metadata": {},
   "outputs": [],
   "source": [
    "# Visualizar a malha no ambiente Gmsh (opcional)\n",
    "# gmsh.fltk.run()\n",
    "\n",
    "# Finalizar o Gmsh\n",
    "gmsh.finalize()"
   ]
  }
 ],
 "metadata": {
  "kernelspec": {
   "display_name": "Python 3",
   "language": "python",
   "name": "python3"
  },
  "language_info": {
   "codemirror_mode": {
    "name": "ipython",
    "version": 3
   },
   "file_extension": ".py",
   "mimetype": "text/x-python",
   "name": "python",
   "nbconvert_exporter": "python",
   "pygments_lexer": "ipython3",
   "version": "3.12.9"
  }
 },
 "nbformat": 4,
 "nbformat_minor": 2
}
