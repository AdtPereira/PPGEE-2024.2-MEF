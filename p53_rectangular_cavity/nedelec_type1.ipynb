{
 "cells": [
  {
   "cell_type": "code",
   "execution_count": 8,
   "metadata": {},
   "outputs": [
    {
     "name": "stdout",
     "output_type": "stream",
     "text": [
      "Project root added to sys.path: C:\\Users\\adilt\\OneDrive\\05_GIT\\PPGEE-2024.2-MEF\n",
      "Modules imports were successful!\n"
     ]
    }
   ],
   "source": [
    "%matplotlib notebook\n",
    "\n",
    "import pickle\n",
    "import sys\n",
    "import numpy as np\n",
    "import import_ipynb\n",
    "import matplotlib.pyplot as plt\n",
    "from pathlib import Path\n",
    "from scipy.sparse.linalg import eigsh\n",
    "from IPython.display import SVG, display\n",
    "from mpl_toolkits.mplot3d.art3d import Poly3DCollection\n",
    "from matplotlib.animation import FuncAnimation\n",
    "\n",
    "# Adicionar o diretório raiz do projeto ao sys.path\n",
    "project_root = Path().resolve().parent  \n",
    "sys.path.append(str(project_root))\n",
    "print(\"Project root added to sys.path:\", project_root)\n",
    "\n",
    "# Importando notebooks diretamente\n",
    "try:\n",
    "    import problem_statement as ps  \n",
    "    from fem_processing import vectorial_matrices_assembly as assembly\n",
    "    from fem_processing import master_domain as master\n",
    "    from fem_pos_processing import graph_results as graph\n",
    "    print(\"Modules imports were successful!\")\n",
    "except ModuleNotFoundError as e:\n",
    "    print(f\"Modules were not found: {e}\")\n",
    "except ImportError as e:\n",
    "    print(f\"Error in import: {e}\")"
   ]
  },
  {
   "cell_type": "markdown",
   "metadata": {},
   "source": [
    "# Project 5: Rectangular Guide Cavity\n",
    "# 6-edge Nedelec Tetrahedron"
   ]
  },
  {
   "cell_type": "code",
   "execution_count": 9,
   "metadata": {},
   "outputs": [
    {
     "name": "stdout",
     "output_type": "stream",
     "text": [
      "Malha salva em pre_processing/mesh/rectangular_cavity_domain_Tetrahedron1.msh\n",
      "Malha salva em pre_processing/mesh/rectangular_cavity_domain_Tetrahedron1.vtk\n",
      "Model rectangular_cavity (3D)\n",
      "Info     : 27 geometric entities\n",
      "Info     : 2 physical groups\n",
      "Info     : 396 nodes in total\n",
      "Info     : 2024 edges in total\n",
      "Info     : 1311 3-D elements in total\n"
     ]
    }
   ],
   "source": [
    "FINITE_ELEMENT = (\"Tetrahedron\", 1)\n",
    "BOUNDARY = [{'tag': 201, 'type': 'Dirichlet', 'value': 0.0, 'name': 'nxE=0'}]\n",
    "MATERIAL = [{'tag': 301, 'name': 'free_space', 'ur': 1, 'er': 1}]\n",
    "\n",
    "# Create mesh from file geometry\n",
    "mesh_data = ps.create_rectangular_cavity(FINITE_ELEMENT, BOUNDARY, MATERIAL, h=0.1, view_mesh=False)\n",
    "\n",
    "# Applying additional physical properties to the mesh\n",
    "mesh_data = ps.apply_physics(mesh_data)"
   ]
  },
  {
   "cell_type": "code",
   "execution_count": 10,
   "metadata": {},
   "outputs": [],
   "source": [
    "dirichlet_edges = {key: edge for key, edge in mesh_data['edges'].items() if edge['bc']['tag'] == 201}"
   ]
  },
  {
   "cell_type": "markdown",
   "metadata": {},
   "source": [
    "# FEM Solution\n",
    "## `assembly.local_matrices()`"
   ]
  },
  {
   "cell_type": "code",
   "execution_count": 11,
   "metadata": {},
   "outputs": [],
   "source": [
    "import numpy as np\n",
    "from scipy.sparse import lil_matrix\n",
    "from fem_processing import gaussian_quadrature\n",
    "from fem_processing import master_domain\n",
    "\n",
    "# Arestas livres\n",
    "free_edges = {key: value\n",
    "                for key, value in mesh_data['edges'].items() if value['bc']['type'] != 'Dirichlet'}\n",
    "\n",
    "# Mapeamento de índices globais para índices reduzidos\n",
    "global_to_reduced = {global_edge: idx\n",
    "                        for idx, global_edge in enumerate(free_edges.keys())}\n",
    "\n",
    "# Initialize the global matrix and vector\n",
    "Sgr = lil_matrix((len(free_edges), len(free_edges)), dtype='complex128')\n",
    "Mgr = lil_matrix((len(free_edges), len(free_edges)), dtype='complex128')\n",
    "bgr = lil_matrix((len(free_edges), 1), dtype='complex128')"
   ]
  },
  {
   "cell_type": "markdown",
   "metadata": {},
   "source": [
    "## `assembly.local_matrices()`"
   ]
  },
  {
   "cell_type": "code",
   "execution_count": 12,
   "metadata": {},
   "outputs": [],
   "source": [
    "for cell in mesh_data['cell'].values():\n",
    "    Ne = len(cell['conn_edge'])\n",
    "    Se = np.zeros((Ne, Ne), dtype='complex128') # Matriz de massa do elemento\n",
    "    Me = np.zeros((Ne, Ne), dtype='complex128') # Matriz de massa do elemento\n",
    "    be = np.zeros((Ne, 1), dtype='complex128')  # Vetor de carga do elemento\n",
    "\n",
    "    # Define the Finite Element Type\n",
    "    ElementType, ElementOrder = FINITE_ELEMENT\n",
    "\n",
    "    # Material properties\n",
    "    pe = cell['p(x)']\n",
    "    qe = cell['q(x)']\n",
    "    fe = cell['f(x)']\n",
    "\n",
    "    # Cálculo da matriz Jacobiana\n",
    "    Je = cell['geo']['jacobian']\n",
    "    Jdet, JinvT = np.abs(np.linalg.det(Je)), np.linalg.inv(Je).T  \n",
    "\n",
    "    # Rotacional das funções de forma\n",
    "    curl_phi_hat = [\n",
    "        np.array([[ 0], [-2], [ 2]]),\n",
    "        np.array([[ 2], [ 0], [-2]]),\n",
    "        np.array([[-2], [ 2], [ 0]]),\n",
    "        np.array([[ 0], [ 0], [ 2]]),\n",
    "        np.array([[ 0], [-2], [ 0]]),\n",
    "        np.array([[ 2], [ 0], [ 0]])\n",
    "    ]\n",
    "\n",
    "    # Tensor métrico contravariante\n",
    "    Gn = JinvT.T @ JinvT\n",
    "\n",
    "    # Get the Gauss points and weights\n",
    "    gauss_points, gauss_weights = gaussian_quadrature.gauss_data(FINITE_ELEMENT)\n",
    "    for xik, wk in zip(gauss_points, gauss_weights):\n",
    "        # Função de forma vetorial no ponto de integração\n",
    "        if ElementType == 'Triangle':\n",
    "            phi_hat = master_domain.shape_functions_nedelec_3d(*xik)\n",
    "        elif ElementType == 'Tetrahedron':\n",
    "            phi_hat = master_domain.shape_functions_nedelec_tetrahedra(*xik)\n",
    "\n",
    "        for i in range(Ne):\n",
    "            # Transformação de Piola Covariante\n",
    "            phi_i = JinvT @ phi_hat[i]\n",
    "            curl_phi_i = 1/Jdet * Je @ curl_phi_hat[i]\n",
    "\n",
    "            # Vetor de cargas\n",
    "            be[i] += (fe.T @ phi_i).item() * Jdet * wk\n",
    "            \n",
    "            for j in range(Ne):\n",
    "                # Transformação de Piola Covariante\n",
    "                phi_j = JinvT @ phi_hat[j]\n",
    "                curl_phi_j = 1/Jdet * Je @ curl_phi_hat[j]\n",
    "\n",
    "                # Matriz de rigidez\n",
    "                Se[i, j] += (curl_phi_i.T @ curl_phi_j).item() * Jdet * wk\n",
    "\n",
    "                # Matriz de massa\n",
    "                Me[i, j] += (phi_hat[i].T @ Gn @ phi_hat[j]).item() * Jdet * wk\n",
    "    \n",
    "    # Início do processo de montagem do sistema global\n",
    "    for i, ig in enumerate(cell['conn_edge']):\n",
    "        if ig in free_edges:\n",
    "            ig_red = global_to_reduced[ig]     \n",
    "                               \n",
    "            for j, jg in enumerate(cell['conn_edge']):\n",
    "                if jg in free_edges:\n",
    "                    jg_red = global_to_reduced[jg]\n",
    "                    Sgr[ig_red, jg_red] += Se[i, j]\n",
    "                    Mgr[ig_red, jg_red] += Me[i, j]\n",
    "\n",
    "                # A aresta global é de Dirichlet\n",
    "                else:\n",
    "                    # Contribuição de Dirichlet para o vetor reduzido\n",
    "                    bgr[ig_red, 0] += -(Se[i, j] + Me[i, j]) * mesh_data['edges'][jg]['bc']['value']\n",
    "            \n",
    "            # preenche o vetor global de carga\n",
    "            bgr[ig_red, 0] += be[i]"
   ]
  },
  {
   "cell_type": "markdown",
   "metadata": {},
   "source": [
    "## Eigenvalue Problem"
   ]
  },
  {
   "cell_type": "code",
   "execution_count": 15,
   "metadata": {},
   "outputs": [
    {
     "name": "stdout",
     "output_type": "stream",
     "text": [
      "Eigenvector shape: (1070, 30)\n"
     ]
    },
    {
     "data": {
      "text/html": [
       "<style type=\"text/css\">\n",
       "#T_35fa9 caption {\n",
       "  caption-side: top;\n",
       "  text-align: center;\n",
       "  font-size: 18px;\n",
       "  font-weight: bold;\n",
       "}\n",
       "</style>\n",
       "<table id=\"T_35fa9\">\n",
       "  <caption>Menores autovalores positivos</caption>\n",
       "  <thead>\n",
       "    <tr>\n",
       "      <th class=\"blank level0\" >&nbsp;</th>\n",
       "      <th id=\"T_35fa9_level0_col0\" class=\"col_heading level0 col0\" >1</th>\n",
       "    </tr>\n",
       "  </thead>\n",
       "  <tbody>\n",
       "    <tr>\n",
       "      <th id=\"T_35fa9_level0_row0\" class=\"row_heading level0 row0\" >1</th>\n",
       "      <td id=\"T_35fa9_row0_col0\" class=\"data row0 col0\" >6.074e+00</td>\n",
       "    </tr>\n",
       "    <tr>\n",
       "      <th id=\"T_35fa9_level0_row1\" class=\"row_heading level0 row1\" >2</th>\n",
       "      <td id=\"T_35fa9_row1_col0\" class=\"data row1 col0\" >8.094e+00</td>\n",
       "    </tr>\n",
       "    <tr>\n",
       "      <th id=\"T_35fa9_level0_row2\" class=\"row_heading level0 row2\" >3</th>\n",
       "      <td id=\"T_35fa9_row2_col0\" class=\"data row2 col0\" >8.406e+00</td>\n",
       "    </tr>\n",
       "    <tr>\n",
       "      <th id=\"T_35fa9_level0_row3\" class=\"row_heading level0 row3\" >4</th>\n",
       "      <td id=\"T_35fa9_row3_col0\" class=\"data row3 col0\" >9.294e+00</td>\n",
       "    </tr>\n",
       "    <tr>\n",
       "      <th id=\"T_35fa9_level0_row4\" class=\"row_heading level0 row4\" >5</th>\n",
       "      <td id=\"T_35fa9_row4_col0\" class=\"data row4 col0\" >9.817e+00</td>\n",
       "    </tr>\n",
       "    <tr>\n",
       "      <th id=\"T_35fa9_level0_row5\" class=\"row_heading level0 row5\" >6</th>\n",
       "      <td id=\"T_35fa9_row5_col0\" class=\"data row5 col0\" >9.867e+00</td>\n",
       "    </tr>\n",
       "    <tr>\n",
       "      <th id=\"T_35fa9_level0_row6\" class=\"row_heading level0 row6\" >7</th>\n",
       "      <td id=\"T_35fa9_row6_col0\" class=\"data row6 col0\" >9.945e+00</td>\n",
       "    </tr>\n",
       "    <tr>\n",
       "      <th id=\"T_35fa9_level0_row7\" class=\"row_heading level0 row7\" >8</th>\n",
       "      <td id=\"T_35fa9_row7_col0\" class=\"data row7 col0\" >1.061e+01</td>\n",
       "    </tr>\n",
       "    <tr>\n",
       "      <th id=\"T_35fa9_level0_row8\" class=\"row_heading level0 row8\" >9</th>\n",
       "      <td id=\"T_35fa9_row8_col0\" class=\"data row8 col0\" >1.072e+01</td>\n",
       "    </tr>\n",
       "    <tr>\n",
       "      <th id=\"T_35fa9_level0_row9\" class=\"row_heading level0 row9\" >10</th>\n",
       "      <td id=\"T_35fa9_row9_col0\" class=\"data row9 col0\" >1.120e+01</td>\n",
       "    </tr>\n",
       "    <tr>\n",
       "      <th id=\"T_35fa9_level0_row10\" class=\"row_heading level0 row10\" >11</th>\n",
       "      <td id=\"T_35fa9_row10_col0\" class=\"data row10 col0\" >1.123e+01</td>\n",
       "    </tr>\n",
       "    <tr>\n",
       "      <th id=\"T_35fa9_level0_row11\" class=\"row_heading level0 row11\" >12</th>\n",
       "      <td id=\"T_35fa9_row11_col0\" class=\"data row11 col0\" >1.191e+01</td>\n",
       "    </tr>\n",
       "    <tr>\n",
       "      <th id=\"T_35fa9_level0_row12\" class=\"row_heading level0 row12\" >13</th>\n",
       "      <td id=\"T_35fa9_row12_col0\" class=\"data row12 col0\" >1.201e+01</td>\n",
       "    </tr>\n",
       "    <tr>\n",
       "      <th id=\"T_35fa9_level0_row13\" class=\"row_heading level0 row13\" >14</th>\n",
       "      <td id=\"T_35fa9_row13_col0\" class=\"data row13 col0\" >1.272e+01</td>\n",
       "    </tr>\n",
       "    <tr>\n",
       "      <th id=\"T_35fa9_level0_row14\" class=\"row_heading level0 row14\" >15</th>\n",
       "      <td id=\"T_35fa9_row14_col0\" class=\"data row14 col0\" >1.302e+01</td>\n",
       "    </tr>\n",
       "    <tr>\n",
       "      <th id=\"T_35fa9_level0_row15\" class=\"row_heading level0 row15\" >16</th>\n",
       "      <td id=\"T_35fa9_row15_col0\" class=\"data row15 col0\" >1.316e+01</td>\n",
       "    </tr>\n",
       "    <tr>\n",
       "      <th id=\"T_35fa9_level0_row16\" class=\"row_heading level0 row16\" >17</th>\n",
       "      <td id=\"T_35fa9_row16_col0\" class=\"data row16 col0\" >1.322e+01</td>\n",
       "    </tr>\n",
       "    <tr>\n",
       "      <th id=\"T_35fa9_level0_row17\" class=\"row_heading level0 row17\" >18</th>\n",
       "      <td id=\"T_35fa9_row17_col0\" class=\"data row17 col0\" >1.328e+01</td>\n",
       "    </tr>\n",
       "  </tbody>\n",
       "</table>\n"
      ],
      "text/plain": [
       "<pandas.io.formats.style.Styler at 0x20350918c50>"
      ]
     },
     "metadata": {},
     "output_type": "display_data"
    }
   ],
   "source": [
    "# Resolver o problema de autovalor generalizado\n",
    "# k Número de autovalores/autovetores desejados\n",
    "eigenvalues, eigenvectors = eigsh(Sgr, k=30, M=Mgr, which='SM')\n",
    "\n",
    "# Definir um limiar para eliminar erros de truncamento\n",
    "threshold = 1e-8\n",
    "positive_indices = np.where(eigenvalues > threshold)[0]\n",
    "\n",
    "# Filtrar autovalores positivos e ordenar\n",
    "sp_eigenvalues = eigenvalues[positive_indices]\n",
    "sp_eigenvectors = eigenvectors[:, positive_indices]\n",
    "\n",
    "# Ordenar os autovalores positivos e ajustar os autovetores na mesma ordem\n",
    "s_indices = np.argsort(sp_eigenvalues)\n",
    "sp_eigenvalues = sp_eigenvalues[s_indices]\n",
    "sp_eigenvectors = sp_eigenvectors[:, s_indices]\n",
    "\n",
    "print(\"Eigenvector shape:\", eigenvectors.shape)\n",
    "graph.matrix2table(np.sqrt(sp_eigenvalues), title='Menores autovalores positivos')"
   ]
  },
  {
   "cell_type": "markdown",
   "metadata": {},
   "source": [
    "Conversão do arquivo Jupyter Notebook para um script Python: ``python -m nbconvert --to script name.ipynb``\n",
    "\n",
    "Belo Horizonte, Brazil. 2025.  \n",
    "Adilton Junio Ladeira Pereira - adt@ufmg.br  \n",
    "&copy; All rights reserved."
   ]
  }
 ],
 "metadata": {
  "kernelspec": {
   "display_name": "Python 3",
   "language": "python",
   "name": "python3"
  },
  "language_info": {
   "codemirror_mode": {
    "name": "ipython",
    "version": 3
   },
   "file_extension": ".py",
   "mimetype": "text/x-python",
   "name": "python",
   "nbconvert_exporter": "python",
   "pygments_lexer": "ipython3",
   "version": "3.12.8"
  }
 },
 "nbformat": 4,
 "nbformat_minor": 2
}
