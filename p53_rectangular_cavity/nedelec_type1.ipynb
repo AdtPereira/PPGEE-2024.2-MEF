{
 "cells": [
  {
   "cell_type": "code",
   "execution_count": 7,
   "metadata": {},
   "outputs": [
    {
     "name": "stdout",
     "output_type": "stream",
     "text": [
      "Project root added to sys.path: C:\\Users\\adilt\\OneDrive\\05_GIT\\PPGEE-2024.2-MEF\n",
      "Modules imports were successful!\n"
     ]
    }
   ],
   "source": [
    "%matplotlib notebook\n",
    "\n",
    "import pickle\n",
    "import sys\n",
    "import numpy as np\n",
    "import import_ipynb\n",
    "import matplotlib.pyplot as plt\n",
    "from pathlib import Path\n",
    "from scipy.sparse.linalg import eigsh\n",
    "from IPython.display import SVG, display\n",
    "from mpl_toolkits.mplot3d.art3d import Poly3DCollection\n",
    "from matplotlib.animation import FuncAnimation\n",
    "\n",
    "# Adicionar o diretório raiz do projeto ao sys.path\n",
    "project_root = Path().resolve().parent  \n",
    "sys.path.append(str(project_root))\n",
    "print(\"Project root added to sys.path:\", project_root)\n",
    "\n",
    "# Importando notebooks diretamente\n",
    "try:\n",
    "    import problem_statement as ps  \n",
    "    from fem_processing import vectorial_matrices_assembly as assembly\n",
    "    from fem_processing import master_domain as master\n",
    "    from fem_pos_processing import graph_results as graph\n",
    "    print(\"Modules imports were successful!\")\n",
    "except ModuleNotFoundError as e:\n",
    "    print(f\"Modules were not found: {e}\")\n",
    "except ImportError as e:\n",
    "    print(f\"Error in import: {e}\")"
   ]
  },
  {
   "cell_type": "markdown",
   "metadata": {},
   "source": [
    "# Project 4: Rectangular Guide\n",
    "# 3-noded Linear Triangular Elements, $P_1$"
   ]
  },
  {
   "cell_type": "code",
   "execution_count": null,
   "metadata": {},
   "outputs": [
    {
     "name": "stdout",
     "output_type": "stream",
     "text": [
      "Malha salva em pre_processing/mesh/rectangular_cavity_domain_Tetrahedron1.msh\n",
      "Model rectangular_cavity (3D)\n",
      "Info     : 27 geometric entities\n",
      "Info     : 2 Physical Groups\n",
      "Info     : 45 nodes in total\n",
      "Info     : 100 3-D elements in total\n"
     ]
    }
   ],
   "source": [
    "FINITE_ELEMENT = (\"Tetrahedron\", 1)\n",
    "BOUNDARY = [{'tag': 101, 'type': 'Dirichlet', 'value': 0.0, 'name': 'nxE=0'}]\n",
    "MATERIAL = [{'tag': 201, 'name': 'free_space', 'ur': 1, 'er': 1}]\n",
    "\n",
    "# Create mesh from file geometry\n",
    "mesh_data = ps.create_rectangular_cavity(FINITE_ELEMENT, BOUNDARY, MATERIAL, h=0.5, view_mesh=False)\n",
    "\n",
    "# Applying physical properties to the mesh\n",
    "mesh_data = ps.apply_physics(mesh_data)\n",
    "\n",
    "# # Salvar mesh_data com pickle\n",
    "# with open('mesh_data.pkl', 'wb') as f:\n",
    "#     pickle.dump(mesh_data, f)"
   ]
  },
  {
   "cell_type": "code",
   "execution_count": 9,
   "metadata": {},
   "outputs": [
    {
     "data": {
      "text/plain": [
       "{1: {'xg': (0.0, 0.0, 1.0),\n",
       "  'bc': {'tag': 101, 'type': 'Dirichlet', 'value': 0.0, 'name': 'nxE=0'}},\n",
       " 2: {'xg': (0.0, 0.0, 0.0),\n",
       "  'bc': {'tag': 101, 'type': 'Dirichlet', 'value': 0.0, 'name': 'nxE=0'}},\n",
       " 3: {'xg': (0.0, 1.0, 1.0),\n",
       "  'bc': {'tag': 101, 'type': 'Dirichlet', 'value': 0.0, 'name': 'nxE=0'}},\n",
       " 4: {'xg': (0.0, 1.0, 0.0),\n",
       "  'bc': {'tag': 101, 'type': 'Dirichlet', 'value': 0.0, 'name': 'nxE=0'}},\n",
       " 5: {'xg': (1.0, 0.0, 1.0),\n",
       "  'bc': {'tag': 101, 'type': 'Dirichlet', 'value': 0.0, 'name': 'nxE=0'}},\n",
       " 6: {'xg': (1.0, 0.0, 0.0),\n",
       "  'bc': {'tag': 101, 'type': 'Dirichlet', 'value': 0.0, 'name': 'nxE=0'}},\n",
       " 7: {'xg': (1.0, 1.0, 1.0),\n",
       "  'bc': {'tag': 101, 'type': 'Dirichlet', 'value': 0.0, 'name': 'nxE=0'}},\n",
       " 8: {'xg': (1.0, 1.0, 0.0),\n",
       "  'bc': {'tag': 101, 'type': 'Dirichlet', 'value': 0.0, 'name': 'nxE=0'}},\n",
       " 9: {'xg': (0.0, 0.0, 0.5),\n",
       "  'bc': {'tag': 101, 'type': 'Dirichlet', 'value': 0.0, 'name': 'nxE=0'}},\n",
       " 10: {'xg': (0.0, 0.5, 1.0),\n",
       "  'bc': {'tag': 101, 'type': 'Dirichlet', 'value': 0.0, 'name': 'nxE=0'}},\n",
       " 11: {'xg': (0.0, 1.0, 0.5),\n",
       "  'bc': {'tag': 101, 'type': 'Dirichlet', 'value': 0.0, 'name': 'nxE=0'}},\n",
       " 12: {'xg': (0.0, 0.5, 0.0),\n",
       "  'bc': {'tag': 101, 'type': 'Dirichlet', 'value': 0.0, 'name': 'nxE=0'}},\n",
       " 13: {'xg': (1.0, 0.0, 0.5),\n",
       "  'bc': {'tag': 101, 'type': 'Dirichlet', 'value': 0.0, 'name': 'nxE=0'}},\n",
       " 14: {'xg': (1.0, 0.5, 1.0),\n",
       "  'bc': {'tag': 101, 'type': 'Dirichlet', 'value': 0.0, 'name': 'nxE=0'}},\n",
       " 15: {'xg': (1.0, 1.0, 0.5),\n",
       "  'bc': {'tag': 101, 'type': 'Dirichlet', 'value': 0.0, 'name': 'nxE=0'}},\n",
       " 16: {'xg': (1.0, 0.5, 0.0),\n",
       "  'bc': {'tag': 101, 'type': 'Dirichlet', 'value': 0.0, 'name': 'nxE=0'}},\n",
       " 17: {'xg': (0.5, 0.0, 0.0),\n",
       "  'bc': {'tag': 101, 'type': 'Dirichlet', 'value': 0.0, 'name': 'nxE=0'}},\n",
       " 18: {'xg': (0.5, 0.0, 1.0),\n",
       "  'bc': {'tag': 101, 'type': 'Dirichlet', 'value': 0.0, 'name': 'nxE=0'}},\n",
       " 19: {'xg': (0.5, 1.0, 0.0),\n",
       "  'bc': {'tag': 101, 'type': 'Dirichlet', 'value': 0.0, 'name': 'nxE=0'}},\n",
       " 20: {'xg': (0.5, 1.0, 1.0),\n",
       "  'bc': {'tag': 101, 'type': 'Dirichlet', 'value': 0.0, 'name': 'nxE=0'}},\n",
       " 21: {'xg': (0.0, 0.75, 0.75),\n",
       "  'bc': {'tag': 101, 'type': 'Dirichlet', 'value': 0.0, 'name': 'nxE=0'}},\n",
       " 22: {'xg': (0.0, 0.625, 0.37499999999999994),\n",
       "  'bc': {'tag': 101, 'type': 'Dirichlet', 'value': 0.0, 'name': 'nxE=0'}},\n",
       " 23: {'xg': (0.0, 0.28125, 0.2812500000000001),\n",
       "  'bc': {'tag': 101, 'type': 'Dirichlet', 'value': 0.0, 'name': 'nxE=0'}},\n",
       " 24: {'xg': (0.0, 0.3457031249999999, 0.6542968750000001),\n",
       "  'bc': {'tag': 101, 'type': 'Dirichlet', 'value': 0.0, 'name': 'nxE=0'}},\n",
       " 25: {'xg': (1.0, 0.75, 0.75),\n",
       "  'bc': {'tag': 101, 'type': 'Dirichlet', 'value': 0.0, 'name': 'nxE=0'}},\n",
       " 26: {'xg': (1.0, 0.625, 0.37499999999999994),\n",
       "  'bc': {'tag': 101, 'type': 'Dirichlet', 'value': 0.0, 'name': 'nxE=0'}},\n",
       " 27: {'xg': (1.0, 0.28125, 0.2812500000000001),\n",
       "  'bc': {'tag': 101, 'type': 'Dirichlet', 'value': 0.0, 'name': 'nxE=0'}},\n",
       " 28: {'xg': (1.0, 0.3457031249999999, 0.6542968750000001),\n",
       "  'bc': {'tag': 101, 'type': 'Dirichlet', 'value': 0.0, 'name': 'nxE=0'}},\n",
       " 29: {'xg': (0.75, 0.0, 0.75),\n",
       "  'bc': {'tag': 101, 'type': 'Dirichlet', 'value': 0.0, 'name': 'nxE=0'}},\n",
       " 30: {'xg': (0.37499999999999994, 0.0, 0.625),\n",
       "  'bc': {'tag': 101, 'type': 'Dirichlet', 'value': 0.0, 'name': 'nxE=0'}},\n",
       " 31: {'xg': (0.2812500000000001, 0.0, 0.28125),\n",
       "  'bc': {'tag': 101, 'type': 'Dirichlet', 'value': 0.0, 'name': 'nxE=0'}},\n",
       " 32: {'xg': (0.6542968750000001, 0.0, 0.3457031249999999),\n",
       "  'bc': {'tag': 101, 'type': 'Dirichlet', 'value': 0.0, 'name': 'nxE=0'}},\n",
       " 33: {'xg': (0.75, 1.0, 0.75),\n",
       "  'bc': {'tag': 101, 'type': 'Dirichlet', 'value': 0.0, 'name': 'nxE=0'}},\n",
       " 34: {'xg': (0.37499999999999994, 1.0, 0.625),\n",
       "  'bc': {'tag': 101, 'type': 'Dirichlet', 'value': 0.0, 'name': 'nxE=0'}},\n",
       " 35: {'xg': (0.2812500000000001, 1.0, 0.28125),\n",
       "  'bc': {'tag': 101, 'type': 'Dirichlet', 'value': 0.0, 'name': 'nxE=0'}},\n",
       " 36: {'xg': (0.6542968750000001, 1.0, 0.3457031249999999),\n",
       "  'bc': {'tag': 101, 'type': 'Dirichlet', 'value': 0.0, 'name': 'nxE=0'}},\n",
       " 37: {'xg': (0.75, 0.25, 0.0),\n",
       "  'bc': {'tag': 101, 'type': 'Dirichlet', 'value': 0.0, 'name': 'nxE=0'}},\n",
       " 38: {'xg': (0.625, 0.625, 0.0),\n",
       "  'bc': {'tag': 101, 'type': 'Dirichlet', 'value': 0.0, 'name': 'nxE=0'}},\n",
       " 39: {'xg': (0.28124999999999994, 0.71875, 0.0),\n",
       "  'bc': {'tag': 101, 'type': 'Dirichlet', 'value': 0.0, 'name': 'nxE=0'}},\n",
       " 40: {'xg': (0.34570312500000006, 0.34570312500000006, 0.0),\n",
       "  'bc': {'tag': 101, 'type': 'Dirichlet', 'value': 0.0, 'name': 'nxE=0'}},\n",
       " 41: {'xg': (0.75, 0.25, 1.0),\n",
       "  'bc': {'tag': 101, 'type': 'Dirichlet', 'value': 0.0, 'name': 'nxE=0'}},\n",
       " 42: {'xg': (0.625, 0.625, 1.0),\n",
       "  'bc': {'tag': 101, 'type': 'Dirichlet', 'value': 0.0, 'name': 'nxE=0'}},\n",
       " 43: {'xg': (0.28124999999999994, 0.71875, 1.0),\n",
       "  'bc': {'tag': 101, 'type': 'Dirichlet', 'value': 0.0, 'name': 'nxE=0'}},\n",
       " 44: {'xg': (0.34570312500000006, 0.34570312500000006, 1.0),\n",
       "  'bc': {'tag': 101, 'type': 'Dirichlet', 'value': 0.0, 'name': 'nxE=0'}},\n",
       " 45: {'xg': (0.4755859374999999, 0.49511718749999983, 0.5244140625),\n",
       "  'bc': {'tag': None, 'type': 'Free', 'value': None, 'name': 'free_node'}}}"
      ]
     },
     "execution_count": 9,
     "metadata": {},
     "output_type": "execute_result"
    }
   ],
   "source": [
    "mesh_data['nodes']"
   ]
  },
  {
   "cell_type": "markdown",
   "metadata": {},
   "source": [
    "Conversão do arquivo Jupyter Notebook para um script Python: ``python -m nbconvert --to script name.ipynb``\n",
    "\n",
    "Belo Horizonte, Brazil. 2025.  \n",
    "Adilton Junio Ladeira Pereira - adt@ufmg.br  \n",
    "&copy; All rights reserved."
   ]
  }
 ],
 "metadata": {
  "kernelspec": {
   "display_name": "Python 3",
   "language": "python",
   "name": "python3"
  },
  "language_info": {
   "codemirror_mode": {
    "name": "ipython",
    "version": 3
   },
   "file_extension": ".py",
   "mimetype": "text/x-python",
   "name": "python",
   "nbconvert_exporter": "python",
   "pygments_lexer": "ipython3",
   "version": "3.12.8"
  }
 },
 "nbformat": 4,
 "nbformat_minor": 2
}
