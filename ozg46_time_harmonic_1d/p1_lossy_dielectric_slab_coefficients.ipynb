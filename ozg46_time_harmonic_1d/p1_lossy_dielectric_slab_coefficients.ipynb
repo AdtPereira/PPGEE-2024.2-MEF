{
 "cells": [
  {
   "cell_type": "code",
   "execution_count": 1,
   "metadata": {},
   "outputs": [
    {
     "name": "stdout",
     "output_type": "stream",
     "text": [
      "Project root added to sys.path: C:\\Users\\adilt\\OneDrive\\05_GIT\\PPGEE-2024.2-MEF\n",
      "Todas as propriedades foram verificadas com sucesso para os elementos P1!\n",
      "Todas as propriedades foram verificadas com sucesso para os elementos P2!\n",
      "Todas as propriedades foram verificadas com sucesso para os elementos P3!\n",
      "Todas as propriedades foram verificadas com sucesso para os elementos Q1!\n",
      "Todas as propriedades foram verificadas com sucesso para os elementos Q2!\n",
      "Modules imports were successful!\n"
     ]
    }
   ],
   "source": [
    "import sys\n",
    "import numpy as np\n",
    "import import_ipynb\n",
    "from pathlib import Path\n",
    "from scipy.sparse.linalg import spsolve\n",
    "from scipy.constants import mu_0, epsilon_0\n",
    "\n",
    "# Adicionar o diretório raiz do projeto ao sys.path\n",
    "project_root = Path().resolve().parent\n",
    "sys.path.append(str(project_root))\n",
    "print(\"Project root added to sys.path:\", project_root)\n",
    "\n",
    "# Importando notebooks diretamente\n",
    "try:\n",
    "    import problem_statement as ps\n",
    "    import matrices_assembly as assembly\n",
    "    print(\"Modules imports were successful!\")\n",
    "except ModuleNotFoundError as e:\n",
    "    print(f\"Modules were not found: {e}\")\n",
    "except ImportError as e:\n",
    "    print(f\"Error in import: {e}\")"
   ]
  },
  {
   "cell_type": "markdown",
   "metadata": {},
   "source": [
    "## Physics Constants"
   ]
  },
  {
   "cell_type": "code",
   "execution_count": 2,
   "metadata": {},
   "outputs": [],
   "source": [
    "K0 = 2 * np.pi * 3E8 * np.sqrt(mu_0 * epsilon_0)\n",
    "WAVELENGTH = 2 * np.pi / K0"
   ]
  },
  {
   "cell_type": "markdown",
   "metadata": {},
   "source": [
    "# 2-noded Linear Elements, $P_1$"
   ]
  },
  {
   "cell_type": "code",
   "execution_count": 3,
   "metadata": {},
   "outputs": [],
   "source": [
    "FINITE_ELEMENT = (\"Triangle\", 1)\n",
    "\n",
    "BOUNDARY = [{'tag': 101,'type': 'ABC', 'value': None, 'name': 'x0'},\n",
    "            {'tag': 102, 'type': 'ABC', 'value': None, 'name': 'xL'}]\n",
    "\n",
    "MATERIAL = [{'tag': 201, 'name': 'free_space', 'electric_conductivity': 0,\n",
    "              'relative_magnetic_permeability': 1, 'relative_electric_permittivity': 1},\n",
    "            {'tag': 202, 'name': 'lossy_slab', 'electric_conductivity': 5E-3,\n",
    "              'relative_magnetic_permeability': 1, 'relative_electric_permittivity': 2.7}]\n",
    "\n",
    "INTERFACES = [{'tag': 301, 'type': 'Interface', 'value': None, 'name': 'xa'},\n",
    "              {'tag': 302, 'type': 'Interface', 'value': None, 'name': 'xb'}]"
   ]
  },
  {
   "cell_type": "markdown",
   "metadata": {},
   "source": [
    "## FEM Formulation"
   ]
  },
  {
   "cell_type": "code",
   "execution_count": null,
   "metadata": {},
   "outputs": [
    {
     "name": "stdout",
     "output_type": "stream",
     "text": [
      "Model lossy_dielectric_slab_abc (1D)\n",
      "Info     : 7 geometric entities\n",
      "Info     : 6 Physical Groups\n",
      "Info     : 42 nodes in total\n",
      "Info     : 41 1 elements in total\n",
      "Applying ABC at node 1 with value 6.287535065855045j\n",
      "Applying ABC at node 4 with value 6.287535065855045j\n",
      "Model lossy_dielectric_slab_abc (1D)\n",
      "Info     : 7 geometric entities\n",
      "Info     : 6 Physical Groups\n",
      "Info     : 81 nodes in total\n",
      "Info     : 80 1 elements in total\n",
      "Applying ABC at node 1 with value 6.287535065855045j\n",
      "Applying ABC at node 4 with value 6.287535065855045j\n",
      "Model lossy_dielectric_slab_abc (1D)\n",
      "Info     : 7 geometric entities\n",
      "Info     : 6 Physical Groups\n",
      "Info     : 161 nodes in total\n",
      "Info     : 160 1 elements in total\n",
      "Applying ABC at node 1 with value 6.287535065855045j\n",
      "Applying ABC at node 4 with value 6.287535065855045j\n"
     ]
    }
   ],
   "source": [
    "# Define o domínio do problema\n",
    "GEOMETRY = {'a': {'h': WAVELENGTH/20, 'L': WAVELENGTH*2, 'd': WAVELENGTH/4},\n",
    "            'b': {'h': WAVELENGTH/40, 'L': WAVELENGTH*2, 'd': WAVELENGTH/4},\n",
    "            'c': {'h': WAVELENGTH/80, 'L': WAVELENGTH*2, 'd': WAVELENGTH/4}}\n",
    "\n",
    "data_resume = {}\n",
    "for item in ['a', 'b', 'c']:\n",
    "    # Criação da malha\n",
    "    mesh_data = ps.create_p1_domain(\n",
    "        FINITE_ELEMENT, BOUNDARY, MATERIAL, INTERFACES, GEOMETRY[item], auto_save=False)\n",
    "\n",
    "    # Montagem das matrizes globais\n",
    "    Sg, Mg, bg = assembly.global_matrices(mesh_data)\n",
    "\n",
    "    # Aplicar condições de contorno ABC\n",
    "    Sg, Mg, bg = assembly.apply_simple_bcs(Sg, Mg, bg, mesh_data)\n",
    "\n",
    "    # Vetor de potencial global\n",
    "    ug = spsolve((Sg + Mg).tocsr(), bg.toarray())\n",
    "\n",
    "    # Dicionário com os resultados\n",
    "    uh = {key+1: value for key, value in enumerate(ug)}\n",
    "\n",
    "    # Coeficientes de reflexão e transmissão\n",
    "    R_coeff = np.abs(uh[1])\n",
    "    u_inc = np.exp(-1j * K0 * mesh_data['nodes'][4]['xg'][0])\n",
    "    T_coeff = np.abs(u_inc + uh[4])\n",
    "    \n",
    "    # Salvar os resultados\n",
    "    data_resume[item] = {'R': R_coeff, 'T': T_coeff}"
   ]
  },
  {
   "cell_type": "markdown",
   "metadata": {},
   "source": [
    "## TABLE 4.14\n",
    "Magnitudes of Reflection and Transmission Coefficients for Lossy Dielectric Slab  \n",
    "$\\varepsilon_r = 2.7$ and $\\sigma = 5 \\times 10^{-3} S/m$  \n",
    "Exact Coefficients: $|R_e| = 0.2434$ and $|T_e| = 0.8384$"
   ]
  },
  {
   "cell_type": "code",
   "execution_count": 5,
   "metadata": {},
   "outputs": [
    {
     "data": {
      "text/html": [
       "<table border=\"1\" class=\"dataframe\">\n",
       "  <thead>\n",
       "    <tr style=\"text-align: right;\">\n",
       "      <th></th>\n",
       "      <th>Element Length</th>\n",
       "      <th>|R|</th>\n",
       "      <th>Error in |R| (%)</th>\n",
       "      <th>|T|</th>\n",
       "      <th>Error in |T| (%)</th>\n",
       "    </tr>\n",
       "  </thead>\n",
       "  <tbody>\n",
       "    <tr>\n",
       "      <th>0</th>\n",
       "      <td>lambda/20</td>\n",
       "      <td>0.2547</td>\n",
       "      <td>4.65</td>\n",
       "      <td>0.8601</td>\n",
       "      <td>2.59</td>\n",
       "    </tr>\n",
       "    <tr>\n",
       "      <th>1</th>\n",
       "      <td>lambda/40</td>\n",
       "      <td>0.2440</td>\n",
       "      <td>0.25</td>\n",
       "      <td>0.8444</td>\n",
       "      <td>0.71</td>\n",
       "    </tr>\n",
       "    <tr>\n",
       "      <th>2</th>\n",
       "      <td>lambda/80</td>\n",
       "      <td>0.2413</td>\n",
       "      <td>0.87</td>\n",
       "      <td>0.8400</td>\n",
       "      <td>0.20</td>\n",
       "    </tr>\n",
       "  </tbody>\n",
       "</table>"
      ],
      "text/plain": [
       "<IPython.core.display.HTML object>"
      ]
     },
     "metadata": {},
     "output_type": "display_data"
    }
   ],
   "source": [
    "exact_values = {'R': 0.2434, 'T': 0.8384}\n",
    "ps.table_resume(data_resume, exact_values)"
   ]
  },
  {
   "cell_type": "markdown",
   "metadata": {},
   "source": [
    "Conversão do arquivo Jupyter Notebook para um script Python: ``python -m nbconvert --to script name.ipynb``\n",
    "\n",
    "Belo Horizonte, Brazil. 2025.  \n",
    "Adilton Junio Ladeira Pereira - adt@ufmg.br  \n",
    "&copy; All rights reserved."
   ]
  }
 ],
 "metadata": {
  "kernelspec": {
   "display_name": "Python 3",
   "language": "python",
   "name": "python3"
  },
  "language_info": {
   "codemirror_mode": {
    "name": "ipython",
    "version": 3
   },
   "file_extension": ".py",
   "mimetype": "text/x-python",
   "name": "python",
   "nbconvert_exporter": "python",
   "pygments_lexer": "ipython3",
   "version": "3.12.8"
  }
 },
 "nbformat": 4,
 "nbformat_minor": 2
}
