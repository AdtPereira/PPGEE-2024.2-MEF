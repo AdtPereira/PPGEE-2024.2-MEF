{
 "cells": [
  {
   "cell_type": "code",
   "execution_count": null,
   "metadata": {},
   "outputs": [],
   "source": [
    "import numpy as np\n",
    "import import_ipynb\n",
    "from scipy.sparse import lil_matrix\n",
    "from fem_processing import gaussian_quadrature as gauss_quad"
   ]
  },
  {
   "cell_type": "markdown",
   "metadata": {},
   "source": [
    "# `local_matrices()`"
   ]
  },
  {
   "cell_type": "code",
   "execution_count": 55,
   "metadata": {},
   "outputs": [],
   "source": [
    "def local_matrices(cell):\n",
    "    # Initialize the local matrices\n",
    "    Ne = len(cell['conn'])\n",
    "    Se = np.zeros((Ne, Ne), dtype='complex128') # Matriz de rigidez do elemento\n",
    "    Me = np.zeros((Ne, Ne), dtype='complex128') # Matriz de massa do elemento\n",
    "    be = np.zeros((Ne, 1), dtype='complex128')  # Vetor de carga do elemento\n",
    "\n",
    "    # Obter os pontos e pesos da quadratura de ordem 4\n",
    "    points, weights = gauss_quad.general_1d(n=4)\n",
    "    for xi, wk in zip(points, weights):\n",
    "        # Material properties\n",
    "        pe = cell['p(x)']\n",
    "        qe = cell['q(x)']\n",
    "        fe = cell['f(x)']\n",
    "\n",
    "        # Shape functions and derivatives\n",
    "        phi = np.array([[1 - xi], [xi]])\n",
    "        grad_phi = np.array([[-1, 1]])\n",
    "        \n",
    "        # Jacobian\n",
    "        Je = cell['geo']['jacobian'] \n",
    "        \n",
    "        # Determinante do Jacobiano\n",
    "        Jdet, Jinv = abs(Je), 1/Je\n",
    "        \n",
    "        # Matriz de rigidez\n",
    "        Se += (Jinv * grad_phi).T @ (pe * Jinv * grad_phi) * Jdet * wk\n",
    "\n",
    "        # Produto externo para criar a matriz de massa M_ij \n",
    "        # phi @ phi.T = phi.T * phi = [[phi1*phi1, phi1*phi2], [phi2*phi1, phi2*phi2]]\n",
    "        Me += qe * phi.T * phi * Jdet * wk\n",
    "\n",
    "        # Element right-hand-side vector\n",
    "        be += fe * phi * Jdet * wk\n",
    "    \n",
    "    return Se, Me, be"
   ]
  },
  {
   "cell_type": "markdown",
   "metadata": {},
   "source": [
    "# `global_matrices()`"
   ]
  },
  {
   "cell_type": "code",
   "execution_count": 56,
   "metadata": {},
   "outputs": [],
   "source": [
    "def global_matrices(mesh_data):\n",
    "    # Inicializa a matriz global como uma matriz esparsa zero (tamanho NxN)\n",
    "    Nnodes = len(mesh_data['nodes'])\n",
    "    Sg = lil_matrix((Nnodes, Nnodes), dtype='complex128')\n",
    "    Mg = lil_matrix((Nnodes, Nnodes), dtype='complex128')\n",
    "    bg = lil_matrix((Nnodes, 1), dtype='complex128')\n",
    "\n",
    "    # Início do processo de montagem\n",
    "    for cell in mesh_data['cell'].values(): \n",
    "        Se, Me, be = local_matrices(cell)\n",
    "\n",
    "        # loop sobre os nós locais de cada elemento\n",
    "        for i, ig in enumerate(cell['conn']):\n",
    "            ig = int(ig)-1\n",
    "            for j, jg in enumerate(cell['conn']):\n",
    "                jg = int(jg)-1\n",
    "                Sg[ig, jg] += Se[i, j]\n",
    "                Mg[ig, jg] += Me[i, j]\n",
    "                \n",
    "            # preenche o vetor global b\n",
    "            bg[ig, 0] += be[i, 0]\n",
    "\n",
    "    return Sg, Mg, bg"
   ]
  },
  {
   "cell_type": "markdown",
   "metadata": {},
   "source": [
    "# `apply_simple_abc()`"
   ]
  },
  {
   "cell_type": "code",
   "execution_count": 57,
   "metadata": {},
   "outputs": [],
   "source": [
    "def apply_simple_abc(Sg, mesh_data):\n",
    "    for key, node in mesh_data['nodes'].items():\n",
    "        # Verifica se o nó é do tipo ABC\n",
    "        if node['bc']['type'] == 'ABC':  \n",
    "            e = int(key) - 1\n",
    "            print(f\"Applying ABC at node {key} with value {node['bc']['value']}\")\n",
    "            Sg[e, e] += node['bc']['value']\n",
    "\n",
    "    return Sg"
   ]
  },
  {
   "cell_type": "markdown",
   "metadata": {},
   "source": [
    "# `apply_simple_dirichlet()`"
   ]
  },
  {
   "cell_type": "code",
   "execution_count": 58,
   "metadata": {},
   "outputs": [],
   "source": [
    "def apply_simple_dirichlet(Sg, Mg, bg, mesh_data):\n",
    "    for key, node in mesh_data['nodes'].items():\n",
    "        # Verifica se o nó é do tipo Dirichlet\n",
    "        if node['bc']['type'] == 'Dirichlet':  \n",
    "            e = int(key) - 1\n",
    "            print(f\"Applying Dirichlet at node {key} with value {node['bc']['value']}\")\n",
    "\n",
    "            # Zera a linha e coluna correspondente ao nó de Dirichlet\n",
    "            Sg[e, :] = 0\n",
    "            Mg[e, :] = 0\n",
    "            \n",
    "            # Define o valor 1 na diagonal para evitar singularidade\n",
    "            Sg[e, e] = 0.5\n",
    "            Mg[e, e] = 0.5\n",
    "            \n",
    "            # Ajusta o vetor de forças com o valor de Dirichlet\n",
    "            bg[e, 0] = node['bc']['value']\n",
    "\n",
    "    return Sg, Mg, bg"
   ]
  },
  {
   "cell_type": "markdown",
   "metadata": {},
   "source": [
    "# `apply_simple_bcs()`"
   ]
  },
  {
   "cell_type": "code",
   "execution_count": 59,
   "metadata": {},
   "outputs": [],
   "source": [
    "def apply_simple_bcs(Sg, Mg, bg, mesh_data):\n",
    "    for key, node in mesh_data['nodes'].items():\n",
    "        e = int(key) - 1\n",
    "        # Verifica se o nó é do tipo ABC\n",
    "        if node['bc']['type'] == 'ABC':  \n",
    "            print(f\"Applying ABC at node {key} with value {node['bc']['value']}\")\n",
    "            Sg[e, e] += node['bc']['value']\n",
    "            \n",
    "        # Verifica se o nó é do tipo Dirichlet\n",
    "        elif node['bc']['type'] == 'Dirichlet':  \n",
    "            print(f\"Applying Dirichlet at node {key} with value {node['bc']['value']}\")\n",
    "\n",
    "            # Zera a linha e coluna correspondente ao nó de Dirichlet\n",
    "            Sg[e, :] = 0\n",
    "            Mg[e, :] = 0\n",
    "            \n",
    "            # Define o valor 1 na diagonal para evitar singularidade\n",
    "            Sg[e, e] = 0.5\n",
    "            Mg[e, e] = 0.5\n",
    "            \n",
    "            # Ajusta o vetor de forças com o valor de Dirichlet\n",
    "            bg[e, 0] = node['bc']['value']\n",
    "\n",
    "    return Sg, Mg, bg"
   ]
  },
  {
   "cell_type": "markdown",
   "metadata": {},
   "source": [
    "Conversão do arquivo Jupyter Notebook para um script Python: ``python -m nbconvert --to script name.ipynb``\n",
    "\n",
    "Belo Horizonte, Brazil. 2025.  \n",
    "Adilton Junio Ladeira Pereira - adt@ufmg.br  \n",
    "&copy; All rights reserved."
   ]
  }
 ],
 "metadata": {
  "kernelspec": {
   "display_name": "Python 3",
   "language": "python",
   "name": "python3"
  },
  "language_info": {
   "codemirror_mode": {
    "name": "ipython",
    "version": 3
   },
   "file_extension": ".py",
   "mimetype": "text/x-python",
   "name": "python",
   "nbconvert_exporter": "python",
   "pygments_lexer": "ipython3",
   "version": "3.12.8"
  }
 },
 "nbformat": 4,
 "nbformat_minor": 2
}
