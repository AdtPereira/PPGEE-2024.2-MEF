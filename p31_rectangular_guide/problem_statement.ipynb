{
 "cells": [
  {
   "cell_type": "code",
   "execution_count": null,
   "metadata": {},
   "outputs": [],
   "source": [
    "import os\n",
    "import gmsh\n",
    "import numpy as np\n",
    "import import_ipynb\n",
    "from matplotlib.tri import Triangulation\n",
    "import matplotlib.pyplot as plt\n",
    "\n",
    "# Importando notebooks diretamente\n",
    "try:\n",
    "    from fem_pre_processing import create_domain\n",
    "    from fem_processing import boundary_conditions\n",
    "    from fem_pos_processing import graph_results\n",
    "except ModuleNotFoundError as e:\n",
    "    print(f\"Modules were not found: {e}\")\n",
    "except ImportError as e:\n",
    "    print(f\"Error in import: {e}\")"
   ]
  },
  {
   "cell_type": "markdown",
   "metadata": {},
   "source": [
    "# `create_mesh_domain()`"
   ]
  },
  {
   "cell_type": "code",
   "execution_count": null,
   "metadata": {},
   "outputs": [],
   "source": [
    "def create_mesh_domain(element_type, BOUNDARY, MATERIAL, h, auto_save=True, view_mesh=False):\n",
    "    type, order = element_type\n",
    "    a = 8e-2  \n",
    "    b = 4e-2 \n",
    "    vertices = [(0, 0, 0), (a, 0, 0), (a, b, 0), (0, b, 0)]\n",
    "\n",
    "    # Define a new model\n",
    "    gmsh.initialize()\n",
    "    gmsh.model.add(\"rectangular_guide\")\n",
    "\n",
    "    # Define the points of the domain.\n",
    "    point_tags = create_domain.add_points(vertices, h)\n",
    "\n",
    "    # Criar linhas para formar as bordas do quadrado\n",
    "    line_tags = create_domain.add_lines(point_tags)\n",
    "    \n",
    "    # Criar um loop de linha e uma superfície plana\n",
    "    surface_tag = create_domain.add_surface(line_tags)\n",
    "\n",
    "    # Definindo as curvas de contorno de Dirichlet (dim=1)\n",
    "    gmsh.model.addPhysicalGroup(dim=1, tags=line_tags, tag=BOUNDARY[0]['tag'], name=BOUNDARY[0]['name'])\n",
    "\n",
    "    # Adicionar grupos físicos para Dim=2 (superfícies)\n",
    "    gmsh.model.addPhysicalGroup(dim=2, tags=[surface_tag], tag=MATERIAL[0]['tag'], name=MATERIAL[0]['name'])\n",
    "\n",
    "    # Gerar a malha 2D\n",
    "    gmsh.option.setNumber(\"Mesh.SaveAll\", 1)\n",
    "\n",
    "    # Define a ordem dos elementos\n",
    "    gmsh.model.mesh.generate(2)\n",
    "    gmsh.model.mesh.setOrder(order)\n",
    "\n",
    "    # Visualizar a malha no ambiente Gmsh (opcional)\n",
    "    if view_mesh:\n",
    "        gmsh.fltk.run()\n",
    "    \n",
    "    if auto_save:\n",
    "        os.makedirs(\"pre_processing/mesh\", exist_ok=True)\n",
    "        file_path = f\"pre_processing/mesh/rectangular_guide_domain_{type}{order}.msh\"\n",
    "        gmsh.write(file_path)\n",
    "        gmsh.finalize()"
   ]
  },
  {
   "cell_type": "markdown",
   "metadata": {},
   "source": [
    "# `apply_physics()`"
   ]
  },
  {
   "cell_type": "code",
   "execution_count": 2,
   "metadata": {},
   "outputs": [],
   "source": [
    "def apply_physics(FINITE_ELEMENT, mesh_data):\n",
    "    \"\"\"\n",
    "    Adiciona uma nova chave 'source' a cada dicionário em conn_data.\n",
    "    \n",
    "    Parâmetros:\n",
    "    - mesh_data: Dicionário contendo os dados da malha.\n",
    "    - element_type: Tuple (tipo do elemento, ordem).\n",
    "    \n",
    "    Retorna:\n",
    "    - mesh_data: O dicionário atualizado com a chave 'source' em cada elemento de conn_data.\n",
    "    \"\"\"\n",
    "    # Desempacotar o tipo de elemento\n",
    "    type, element_order = FINITE_ELEMENT\n",
    "    \n",
    "    # Dictionary with all nodes in the mesh\n",
    "    cell_data = mesh_data['cell']\n",
    "    nodes_data = mesh_data['nodes']\n",
    "\n",
    "    for key, cell in mesh_data['cell'].items():\n",
    "        # Calcular o valor de 'a' de acordo com a física do problema\n",
    "        mur = cell['material']['relative_magnetic_permeability']\n",
    "        er = cell['material']['relative_electric_permittivity']\n",
    "\n",
    "        # Adicionar a nova chave 'material' ao dicionário da célula\n",
    "        cell['stiffness_a_value'] = 1\n",
    "        cell['mass_a_value'] = 1\n",
    "        \n",
    "        # Dictionary with boundary nodes\n",
    "        pec_nodes = {idx: node for idx, node in enumerate(cell['conn'])\n",
    "                        if nodes_data[node]['bc']['type'] == 'PEC'}  \n",
    "\n",
    "        bgt_nodes = {idx: node for idx, node in enumerate(cell['conn'])\n",
    "                         if nodes_data[node]['bc']['type'] == 'BGT'}\n",
    "        \n",
    "        # Verifica tipo de fronteira absorvente (ABC)\n",
    "        if len(pec_nodes) > 1:\n",
    "            cell_data[key]['abc'] = {'type': 'PEC', 'conn_idx': pec_nodes}\n",
    "            \n",
    "        elif len(bgt_nodes) > 1:\n",
    "            cell_data[key]['abc'] = {'type': 'BGT', 'conn_idx': bgt_nodes}\n",
    "            \n",
    "        else:\n",
    "            cell_data[key]['abc'] = {'type': None, 'conn_idx': None}\n",
    "\n",
    "        # Adicionar a nova chave 'source' ao dicionário da célula\n",
    "        cell['source'] = {'type': 'free_source', 'value': 0}  \n",
    "    \n",
    "    return mesh_data"
   ]
  },
  {
   "cell_type": "markdown",
   "metadata": {},
   "source": [
    "# `waveguide_modes()`"
   ]
  },
  {
   "cell_type": "code",
   "execution_count": null,
   "metadata": {},
   "outputs": [],
   "source": [
    "def waveguide_modes(m_max, n_max, mode_type):\n",
    "    \"\"\"\n",
    "    Calcula os modos TE ou TM para um guia de onda retangular.\n",
    "\n",
    "    Parâmetros:\n",
    "    a (float): Dimensão transversal a (em metros).\n",
    "    b (float): Dimensão transversal b (em metros).\n",
    "    m_max (int): Número máximo de modos para m.\n",
    "    n_max (int): Número máximo de modos para n.\n",
    "    mode_type (str): Tipo de modo, 'TE' ou 'TM'.\n",
    "\n",
    "    Retorna:\n",
    "    dict: Dicionário com os modos e seus respectivos kc.\n",
    "    \"\"\"\n",
    "    # Dimensões do guia de onda retangular\n",
    "    a, b = 8e-2, 4e-2 \n",
    "\n",
    "    if mode_type not in ['TE', 'TM']:\n",
    "        raise ValueError(\"mode_type deve ser 'TE' ou 'TM'\")\n",
    "\n",
    "    modes = {}\n",
    "    for m in range(m_max + 1):\n",
    "        for n in range(n_max + 1):\n",
    "            if mode_type == 'TE' and m == 0 and n == 0:\n",
    "                continue  # Excluir o modo (0,0) para TE\n",
    "            if mode_type == 'TM' and (m == 0 or n == 0):\n",
    "                continue  # Excluir modos onde m=0 ou n=0 para TM\n",
    "\n",
    "            kc = np.sqrt((m * np.pi / a)**2 + (n * np.pi / b)**2)\n",
    "            modes[f\"{mode_type}_{m}{n}\"] = kc\n",
    "\n",
    "    # Ordenar os autovalores de te_modes e listar os cinco menores\n",
    "    sorted_te_modes = sorted(modes.items(), key=lambda x: x[1])\n",
    "    five_smallest_modes = sorted_te_modes[:m_max]\n",
    "\n",
    "    # Imprimir os cinco menores autovalores dos modos TE\n",
    "    print(f\"\\nCinco menores autovalores analíticos dos modos {mode_type}:\")\n",
    "    for mode, kc in five_smallest_modes:\n",
    "        print(f\"{mode}: kc2 = {kc**2:.3f} rad2/m2\")\n",
    "    \n",
    "    return five_smallest_modes"
   ]
  },
  {
   "cell_type": "markdown",
   "metadata": {},
   "source": [
    "# `calculate_error()`"
   ]
  },
  {
   "cell_type": "code",
   "execution_count": null,
   "metadata": {},
   "outputs": [],
   "source": [
    "def calculate_error(reference_modes, computed_modes):\n",
    "    \"\"\"\n",
    "    Calcula o erro entre os valores de referência (modos analíticos) e os modos computados numericamente.\n",
    "\n",
    "    Parâmetros:\n",
    "    reference_modes (list): Lista de tuplas representando os modos analíticos, onde cada tupla contém o nome do modo e o valor de kc.\n",
    "    computed_modes (list): Lista de valores computados numericamente para os menores kc^2.\n",
    "\n",
    "    Retorna:\n",
    "    dict: Um dicionário contendo os erros absolutos para cada modo correspondente.\n",
    "    \"\"\"\n",
    "    # Extrair os valores de kc do dicionário de referência\n",
    "    reference_values = [kc for _, kc in reference_modes]\n",
    "\n",
    "    # Verificar se os tamanhos são compatíveis\n",
    "    if len(reference_values) != len(computed_modes):\n",
    "        raise ValueError(\"O número de modos de referência e os modos computados devem ser iguais.\")\n",
    "\n",
    "    # Calcular kc^2 para os valores de referência\n",
    "    reference_kc_squared = [kc**2 for kc in reference_values]\n",
    "\n",
    "    # Calcular os erros percentuais\n",
    "    errors = [abs(ref - comp)/ref * 100 for ref, comp in zip(reference_kc_squared, computed_modes)]\n",
    "\n",
    "    # Retornar os erros em um dicionário\n",
    "    errors_dict = {name: error for (name, _), error in zip(reference_modes, errors)}\n",
    "\n",
    "    for mode, error in errors_dict.items():\n",
    "        print(f\"Modo {mode}: Erro percentual = {error:.4f}\")"
   ]
  },
  {
   "cell_type": "markdown",
   "metadata": {},
   "source": [
    "# `potential_and_gradient()`"
   ]
  },
  {
   "cell_type": "code",
   "execution_count": 4,
   "metadata": {},
   "outputs": [],
   "source": [
    "def potential_and_gradient(x, y):\n",
    "    return 0, np.zeros((2,1))"
   ]
  },
  {
   "cell_type": "markdown",
   "metadata": {},
   "source": [
    "# `get_modes_pattern()`"
   ]
  },
  {
   "cell_type": "code",
   "execution_count": null,
   "metadata": {},
   "outputs": [],
   "source": [
    "def get_modes_pattern(mesh_data, eigenvalues, eigenvectors, modes):\n",
    "    # Solução aproximada\n",
    "    for i, eigenvalue in enumerate(eigenvalues):\n",
    "        # Solução aproximada global\n",
    "        u_h = boundary_conditions.global_potentials_solution(mesh_data, eigenvectors[:, i])\n",
    "\n",
    "        # Extraindo as coordenadas globais dos nós (x, y) e a matriz de conectividade\n",
    "        xg, yg, conn = graph_results.structured_data(mesh_data)\n",
    "\n",
    "        # Para elementos P1 (3 nós por elemento)\n",
    "        triangulation = Triangulation(xg, yg, conn)\n",
    "\n",
    "        plt.figure(figsize=(8, 6))\n",
    "        plt.tricontour(triangulation, list(u_h.values()), cmap='viridis')\n",
    "        plt.title(rf'Solução Aproximada para Autovalor $\\lambda_{i}$ = {eigenvalue:.3e}. Modo {modes[i][0]}')\n",
    "        plt.xlabel(r'$x$')\n",
    "        plt.ylabel(r'$y$')\n",
    "        plt.tight_layout()"
   ]
  },
  {
   "cell_type": "markdown",
   "metadata": {},
   "source": [
    "Conversão do arquivo Jupyter Notebook para um script Python: ``python -m nbconvert --to script name.ipynb``\n",
    "\n",
    "Belo Horizonte, Brazil. 2024.  \n",
    "Adilton Junio Ladeira Pereira - adt@ufmg.br  \n",
    "&copy; All rights reserved."
   ]
  }
 ],
 "metadata": {
  "kernelspec": {
   "display_name": "Python 3",
   "language": "python",
   "name": "python3"
  },
  "language_info": {
   "codemirror_mode": {
    "name": "ipython",
    "version": 3
   },
   "file_extension": ".py",
   "mimetype": "text/x-python",
   "name": "python",
   "nbconvert_exporter": "python",
   "pygments_lexer": "ipython3",
   "version": "3.12.8"
  }
 },
 "nbformat": 4,
 "nbformat_minor": 2
}
