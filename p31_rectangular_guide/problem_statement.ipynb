{
 "cells": [
  {
   "cell_type": "code",
   "execution_count": null,
   "metadata": {},
   "outputs": [],
   "source": [
    "import os\n",
    "import gmsh\n",
    "import numpy as np\n",
    "import import_ipynb\n",
    "import matplotlib.pyplot as plt\n",
    "from matplotlib.tri import Triangulation\n",
    "from fem_pre_processing import read_mesh\n",
    "from fem_processing import gaussian_quadrature, matrices_assembly\n",
    "from fem_pos_processing import graph_results as graph"
   ]
  },
  {
   "cell_type": "markdown",
   "metadata": {},
   "source": [
    "# `apply_physics()`"
   ]
  },
  {
   "cell_type": "code",
   "execution_count": 2,
   "metadata": {},
   "outputs": [],
   "source": [
    "def apply_physics(FINITE_ELEMENT, mesh_data):\n",
    "    \"\"\"\n",
    "    Adiciona uma nova chave 'source' a cada dicionário em conn_data.\n",
    "    \n",
    "    Parâmetros:\n",
    "    - mesh_data: Dicionário contendo os dados da malha.\n",
    "    - element_type: Tuple (tipo do elemento, ordem).\n",
    "    \n",
    "    Retorna:\n",
    "    - mesh_data: O dicionário atualizado com a chave 'source' em cada elemento de conn_data.\n",
    "    \"\"\"\n",
    "    # Dictionary with all nodes in the mesh\n",
    "    cell_data = mesh_data['cell']\n",
    "    nodes_data = mesh_data['nodes']\n",
    "\n",
    "    for key, cell in mesh_data['cell'].items():\n",
    "        # Adicionar as propriedades do materiais ao dicionário da célula\n",
    "        cell['stiffness_term'] = []\n",
    "        cell['mass_term'] = []\n",
    "        cell['source'] = []\n",
    "\n",
    "        # Get the global coordinates of the nodes\n",
    "        ai = [nodes_data[idx]['xg'] for idx in cell['conn']]\n",
    "\n",
    "        # Get the Gauss points and weights\n",
    "        gauss_points, _ = gaussian_quadrature.gauss_data(FINITE_ELEMENT)\n",
    "        \n",
    "        # Adicionar a nova chave 'material' ao dicionário da célula\n",
    "        for xik in gauss_points: \n",
    "            xg_e, yg_e = matrices_assembly.isomapping_to_global_coordinates(FINITE_ELEMENT, ai, xik)\n",
    "            cell['stiffness_term'].append(np.eye(2))\n",
    "            cell['mass_term'].append(1)           \n",
    "        \n",
    "            # Adicionar a nova chave 'source' ao dicionário da célula\n",
    "            cell['source'].append(0)\n",
    "\n",
    "        # Dictionary with boundary nodes\n",
    "        cell_data[key]['abc'] = {'type': None, 'conn_idx': None}\n",
    "    \n",
    "    return mesh_data"
   ]
  },
  {
   "cell_type": "markdown",
   "metadata": {},
   "source": [
    "# `create_rectangular_guide()`"
   ]
  },
  {
   "cell_type": "code",
   "execution_count": null,
   "metadata": {},
   "outputs": [],
   "source": [
    "def create_rectangular_guide(FINITE_ELEMENT, BOUNDARY, MATERIAL, h, auto_save=True, view_mesh=False):\n",
    "    mesh_data = {}\n",
    "    type, order = FINITE_ELEMENT\n",
    "\n",
    "    # Dimensões do guia de onda retangular\n",
    "    a, b = 8e-2, 4e-2 \n",
    "\n",
    "    # Inicializar o Gmsh\n",
    "    gmsh.initialize()\n",
    "    gmsh.model.add(\"rectangular_guide\")\n",
    "\n",
    "    # Criar superfície retangular\n",
    "    TagSurface = gmsh.model.occ.addRectangle(0, 0, 0, a, b)\n",
    "    gmsh.model.occ.synchronize()\n",
    "    gmsh.option.setNumber(\"Mesh.MeshSizeMin\", h)\n",
    "    gmsh.option.setNumber(\"Mesh.MeshSizeMax\", h)\n",
    "    gmsh.model.mesh.generate(dim=2)\n",
    "    gmsh.model.mesh.setOrder(order)\n",
    "\n",
    "    # Obter os contornos (curvas, dim=1) de cada superfície\n",
    "    outDimTags = gmsh.model.getBoundary([(2, TagSurface)], oriented=True, recursive=False)\n",
    "\n",
    "    # Exibir os TAGs das curvas associadas a cada contorno\n",
    "    tagList_boundary = [Dimtags[1] for Dimtags in outDimTags]\n",
    "\n",
    "    # Definindo as curvas de contorno de Dirichlet (dim=1)\n",
    "    gmsh.model.addPhysicalGroup(dim=1, tags=tagList_boundary, tag=BOUNDARY[0]['tag'], name=BOUNDARY[0]['name'])\n",
    "\n",
    "    # Adicionar grupos físicos para Dim=2 (superfícies)\n",
    "    gmsh.model.addPhysicalGroup(dim=2, tags=[TagSurface], tag=MATERIAL[0]['tag'], name=MATERIAL[0]['name'])\n",
    "\n",
    "    if view_mesh:\n",
    "        gmsh.fltk.run()\n",
    "    \n",
    "    if auto_save:\n",
    "        os.makedirs(\"pre_processing/mesh\", exist_ok=True)\n",
    "        file_path = f\"pre_processing/mesh/rectangular_guide_domain_{type}{order}.msh\"\n",
    "        print(f\"Malha salva em {file_path}\")\n",
    "        gmsh.write(file_path)\n",
    "        read_mesh.basic_info()\n",
    "\n",
    "    # Create mesh Structure Data from gmsh\n",
    "    mesh_data['cell'] = read_mesh.get_cell_data(MATERIAL)\n",
    "    mesh_data['nodes'] = read_mesh.get_nodes_data(BOUNDARY)\n",
    "    mesh_data['edges'] = read_mesh.get_edge_data()\n",
    "\n",
    "    # Apply physics to the problem\n",
    "    mesh_data = apply_physics(FINITE_ELEMENT, mesh_data)\n",
    "    \n",
    "    gmsh.finalize()\n",
    "\n",
    "    return mesh_data"
   ]
  },
  {
   "cell_type": "markdown",
   "metadata": {},
   "source": [
    "# `waveguide_modes()`"
   ]
  },
  {
   "cell_type": "code",
   "execution_count": null,
   "metadata": {},
   "outputs": [],
   "source": [
    "def waveguide_modes(m_max, n_max, mode_type):\n",
    "    \"\"\"\n",
    "    Calcula os modos TE ou TM para um guia de onda retangular.\n",
    "\n",
    "    Parâmetros:\n",
    "    a (float): Dimensão transversal a (em metros).\n",
    "    b (float): Dimensão transversal b (em metros).\n",
    "    m_max (int): Número máximo de modos para m.\n",
    "    n_max (int): Número máximo de modos para n.\n",
    "    mode_type (str): Tipo de modo, 'TE' ou 'TM'.\n",
    "\n",
    "    Retorna:\n",
    "    dict: Dicionário com os modos e seus respectivos kc.\n",
    "    \"\"\"\n",
    "    # Dimensões do guia de onda retangular\n",
    "    a, b = 8e-2, 4e-2 \n",
    "\n",
    "    if mode_type not in ['TE', 'TM']:\n",
    "        raise ValueError(\"mode_type deve ser 'TE' ou 'TM'\")\n",
    "\n",
    "    modes = {}\n",
    "    for m in range(m_max + 1):\n",
    "        for n in range(n_max + 1):\n",
    "            if mode_type == 'TE' and m == 0 and n == 0:\n",
    "                continue  # Excluir o modo (0,0) para TE\n",
    "            if mode_type == 'TM' and (m == 0 or n == 0):\n",
    "                continue  # Excluir modos onde m=0 ou n=0 para TM\n",
    "\n",
    "            kc = np.sqrt((m * np.pi / a)**2 + (n * np.pi / b)**2)\n",
    "            modes[f\"{mode_type}_{m}{n}\"] = kc\n",
    "\n",
    "    # Ordenar os autovalores de te_modes e listar os cinco menores\n",
    "    sorted_te_modes = sorted(modes.items(), key=lambda x: x[1])\n",
    "    five_smallest_modes = sorted_te_modes[:m_max]\n",
    "\n",
    "    # Imprimir os cinco menores autovalores dos modos TE\n",
    "    print(f\"\\nCinco menores autovalores analíticos dos modos {mode_type}:\")\n",
    "    for mode, kc in five_smallest_modes:\n",
    "        print(f\"{mode}: kc2 = {kc**2:.3f} rad2/m2\")\n",
    "    \n",
    "    return five_smallest_modes"
   ]
  },
  {
   "cell_type": "markdown",
   "metadata": {},
   "source": [
    "# `calculate_error()`"
   ]
  },
  {
   "cell_type": "code",
   "execution_count": 2,
   "metadata": {},
   "outputs": [],
   "source": [
    "def calculate_error(reference_modes, computed_modes):\n",
    "    \"\"\"\n",
    "    Calcula o erro entre os valores de referência (modos analíticos) e os modos computados numericamente.\n",
    "\n",
    "    Parâmetros:\n",
    "    reference_modes (list): Lista de tuplas representando os modos analíticos, onde cada tupla contém o nome do modo e o valor de kc.\n",
    "    computed_modes (list): Lista de valores computados numericamente para os menores kc^2.\n",
    "\n",
    "    Retorna:\n",
    "    dict: Um dicionário contendo os erros absolutos para cada modo correspondente.\n",
    "    \"\"\"\n",
    "    # Extrair os valores de kc do dicionário de referência\n",
    "    reference_values = [kc for _, kc in reference_modes]\n",
    "\n",
    "    # Verificar se os tamanhos são compatíveis\n",
    "    if len(reference_values) != len(computed_modes):\n",
    "        raise ValueError(\"O número de modos de referência e os modos computados devem ser iguais.\")\n",
    "\n",
    "    # Calcular kc^2 para os valores de referência\n",
    "    reference_kc_squared = [kc**2 for kc in reference_values]\n",
    "\n",
    "    # Calcular os erros percentuais\n",
    "    errors = [abs(ref - comp)/ref * 100 for ref, comp in zip(reference_kc_squared, computed_modes)]\n",
    "\n",
    "    # Retornar os erros em um dicionário\n",
    "    errors_dict = {name: error for (name, _), error in zip(reference_modes, errors)}\n",
    "\n",
    "    for mode, error in errors_dict.items():\n",
    "        print(f\"Modo {mode}: Erro percentual = {error:.4f}\")"
   ]
  },
  {
   "cell_type": "markdown",
   "metadata": {},
   "source": [
    "# `potential_and_gradient()`"
   ]
  },
  {
   "cell_type": "code",
   "execution_count": 4,
   "metadata": {},
   "outputs": [],
   "source": [
    "def potential_and_gradient(x, y):\n",
    "    return 0, np.zeros((2,1))"
   ]
  },
  {
   "cell_type": "markdown",
   "metadata": {},
   "source": [
    "# `get_modes_pattern()`"
   ]
  },
  {
   "cell_type": "code",
   "execution_count": null,
   "metadata": {},
   "outputs": [],
   "source": [
    "def get_modes_pattern(mesh_data, eigenvalues, eigenvectors, modes, type='abs'):\n",
    "    # Solução aproximada\n",
    "    for i, eigenvalue in enumerate(eigenvalues):\n",
    "        # Solução aproximada global\n",
    "        uh = matrices_assembly.global_potentials_solution(mesh_data, eigenvectors[:, i])\n",
    "\n",
    "        # Extraindo as coordenadas globais dos nós (x, y) e a matriz de conectividade\n",
    "        xg, yg, conn = graph.structured_data(mesh_data)\n",
    "\n",
    "        # Para elementos P1 (3 nós por elemento)\n",
    "        triangulation = Triangulation(xg, yg, conn)\n",
    "\n",
    "        # Conversão do dicionário de soluções para lista\n",
    "        if type == 'real':\n",
    "            uh = np.real(list(uh.values()))\n",
    "        elif type == 'imag':\n",
    "            uh = np.imag(list(uh.values()))\n",
    "        elif type == 'abs':\n",
    "            uh = np.abs(list(uh.values()))\n",
    "        else:\n",
    "            raise ValueError(\"Tipo de solução inválida. Use 'real', 'imag' ou 'abs'.\")\n",
    "    \n",
    "        plt.figure(figsize=(8, 6))\n",
    "        plt.tricontour(triangulation, uh, cmap='viridis')\n",
    "        plt.title(rf'Solução Aproximada para Autovalor $\\lambda_{i}$ = {eigenvalue:.3f}. Modo {modes[i][0]}')\n",
    "        plt.xlabel(r'$x$')\n",
    "        plt.ylabel(r'$y$')\n",
    "        plt.tight_layout()"
   ]
  },
  {
   "cell_type": "markdown",
   "metadata": {},
   "source": [
    "# `plot_dispersive_curve()`"
   ]
  },
  {
   "cell_type": "code",
   "execution_count": null,
   "metadata": {},
   "outputs": [],
   "source": [
    "def plot_dispersive_curve(eigenvalues):\n",
    "\n",
    "    # Constante de onda de corte do modo TE10 (1/m)\n",
    "    kc_10 = np.sqrt(eigenvalues[0])   \n",
    "\n",
    "    # Varredura de k (# Evita k=0)\n",
    "    k = np.linspace(1 * kc_10, 4 * kc_10, 500)  \n",
    "\n",
    "    # Cálculo da dispersão para o modo TE10\n",
    "    beta = np.sqrt(k**2 - kc_10**2)  \n",
    "\n",
    "    # Normalização\n",
    "    k_normalized = k / kc_10\n",
    "    beta_normalized = beta / k\n",
    "\n",
    "    # Plota o gráfico de dispersão\n",
    "    plt.figure(figsize=(8, 6))\n",
    "    plt.plot(k_normalized, beta_normalized, label=\"Modo TE10\", color=\"blue\")\n",
    "\n",
    "    # Destaque da faixa de operação monomodo\n",
    "    plt.axvline(1, color=\"red\", linestyle=\"--\", label=\"k = k_c10\")\n",
    "    plt.axvline(4, color=\"green\", linestyle=\"--\", label='k = 4k_c10')\n",
    "\n",
    "    # Configurações do gráfico\n",
    "    plt.xlabel(r\"$k/k_{c10}$\", fontsize=12)\n",
    "    plt.ylabel(r\"$\\beta/k$\", fontsize=12)\n",
    "    plt.title(\"Curva de Dispersão do Modo TE10\", fontsize=14)\n",
    "    plt.legend()\n",
    "    plt.grid(True, linestyle=\"--\", alpha=0.7)\n",
    "    plt.tight_layout()\n",
    "    plt.show()  "
   ]
  },
  {
   "cell_type": "markdown",
   "metadata": {},
   "source": [
    "Conversão do arquivo Jupyter Notebook para um script Python: ``python -m nbconvert --to script name.ipynb``\n",
    "\n",
    "Belo Horizonte, Brazil. 2024.  \n",
    "Adilton Junio Ladeira Pereira - adt@ufmg.br  \n",
    "&copy; All rights reserved."
   ]
  }
 ],
 "metadata": {
  "kernelspec": {
   "display_name": "Python 3",
   "language": "python",
   "name": "python3"
  },
  "language_info": {
   "codemirror_mode": {
    "name": "ipython",
    "version": 3
   },
   "file_extension": ".py",
   "mimetype": "text/x-python",
   "name": "python",
   "nbconvert_exporter": "python",
   "pygments_lexer": "ipython3",
   "version": "3.12.8"
  }
 },
 "nbformat": 4,
 "nbformat_minor": 2
}
