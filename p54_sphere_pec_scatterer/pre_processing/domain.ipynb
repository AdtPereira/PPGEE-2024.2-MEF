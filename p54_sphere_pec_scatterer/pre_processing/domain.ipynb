{
 "cells": [
  {
   "cell_type": "markdown",
   "metadata": {},
   "source": [
    "# Imports"
   ]
  },
  {
   "cell_type": "code",
   "execution_count": 25,
   "metadata": {},
   "outputs": [],
   "source": [
    "import gmsh\n",
    "import numpy as np\n",
    "from scipy.constants import mu_0, epsilon_0"
   ]
  },
  {
   "cell_type": "markdown",
   "metadata": {},
   "source": [
    "# Mesh Parameters"
   ]
  },
  {
   "cell_type": "code",
   "execution_count": 26,
   "metadata": {},
   "outputs": [],
   "source": [
    "FINITE_ELEMENT = (\"Tetrahedron\", 1)\n",
    "BOUNDARY = [{'tag': 201, 'type': 'Dirichlet', 'value': 0.0, 'name': 'nxE=0'}]\n",
    "MATERIAL = [{'tag': 301, 'name': 'free_space', 'ur': 1, 'er': 1}]\n",
    "element, order = FINITE_ELEMENT"
   ]
  },
  {
   "cell_type": "markdown",
   "metadata": {},
   "source": [
    "# Geometrical Data"
   ]
  },
  {
   "cell_type": "code",
   "execution_count": 27,
   "metadata": {},
   "outputs": [],
   "source": [
    "OMEGA = 2 * np.pi * 3E8\n",
    "K0 = OMEGA * np.sqrt(mu_0 * epsilon_0)\n",
    "WAVELENGTH = 2 * np.pi / K0\n",
    "\n",
    "h = WAVELENGTH*2    # Tamanho do elemento finito\n",
    "L = WAVELENGTH/2    # Lado do cubo externo\n",
    "ra = WAVELENGTH/2   # Raio da esfera\n",
    "x0 = WAVELENGTH     # Lado do cubo interno"
   ]
  },
  {
   "cell_type": "markdown",
   "metadata": {},
   "source": [
    "# Gmsh Initialize"
   ]
  },
  {
   "cell_type": "code",
   "execution_count": 28,
   "metadata": {},
   "outputs": [],
   "source": [
    "gmsh.initialize()\n",
    "gmsh.model.add(\"cavity_pml\")\n",
    "factory = gmsh.model.occ"
   ]
  },
  {
   "cell_type": "markdown",
   "metadata": {},
   "source": [
    "## Define domain"
   ]
  },
  {
   "cell_type": "code",
   "execution_count": 29,
   "metadata": {},
   "outputs": [],
   "source": [
    "# PML cúbicas Inferior Esquerda\n",
    "region_a = factory.addBox(-x0-L, -x0-L, +x0, L, L, L)\n",
    "region_b = factory.addBox(-x0-L, -x0-L, -x0-L, L, L, L)\n",
    "\n",
    "# PML cúbicas Inferior Direita\n",
    "region_c = factory.addBox(x0, -x0-L, +x0, L, L, L)\n",
    "region_d = factory.addBox(x0, -x0-L, -x0-L, L, L, L)\n",
    "\n",
    "# PML cúbicas Superior Direita\n",
    "region_e = factory.addBox(x0, x0, +x0, L, L, L)\n",
    "region_f = factory.addBox(x0, x0, -x0-L, L, L, L)\n",
    "\n",
    "# PML cúbicas Inferior Esquerda\n",
    "region_g = factory.addBox(-x0-L, x0, +x0, L, L, L)\n",
    "region_h = factory.addBox(-x0-L, x0, -x0-L, L, L, L)\n",
    "\n",
    "# PML longitudinais Inferiores\n",
    "region_1 = factory.addBox(x0, -x0-L, -x0, L, L, 2*x0)\n",
    "region_2 = factory.addBox(-x0-L, -x0-L, -x0, L, L, 2*x0)\n",
    "\n",
    "# PML longitudinais Superiores\n",
    "region_3 = factory.addBox(x0, x0, -x0, L, L, 2*x0)\n",
    "region_4 = factory.addBox(-x0-L, x0, -x0, L, L, 2*x0)\n",
    "\n",
    "# PML horizontais Inferiores\n",
    "region_5 = factory.addBox(-x0, -x0-L, x0, 2*x0, L, L)\n",
    "region_6 = factory.addBox(-x0, -x0-L, -x0-L, 2*x0, L, L)\n",
    "\n",
    "# PML horizontais superiores\n",
    "region_7 = factory.addBox(-x0, x0, x0, 2*x0, L, L)\n",
    "region_8 = factory.addBox(-x0, x0, -x0-L, 2*x0, L, L)\n",
    "\n",
    "# PML verticais direita\n",
    "region_9 = factory.addBox(x0, -x0, x0, L, 2*x0, L)\n",
    "region_10 = factory.addBox(x0, -x0, -x0-L, L, 2*x0, L)\n",
    "\n",
    "# PML verticais esquerda\n",
    "region_11 = factory.addBox(-x0-L, -x0, x0, L, 2*x0, L)\n",
    "region_12 = factory.addBox(-x0-L, -x0, -x0-L, L, 2*x0, L)\n",
    "\n",
    "# PML Piso e Teto\n",
    "region_13 = factory.addBox(-x0, -x0-L, -x0, 2*x0, L, 2*x0)\n",
    "region_14 = factory.addBox(-x0, x0, -x0, 2*x0, L, 2*x0)\n",
    "\n",
    "# PML Parede Direita e Esquerda\n",
    "region_15 = factory.addBox(x0, -x0, -x0, L, 2*x0, 2*x0)\n",
    "region_16 = factory.addBox(-x0-L, -x0, -x0, L, 2*x0, 2*x0)\n",
    "\n",
    "# PML Parede Frontal e Traseira\n",
    "region_17 = factory.addBox(-x0, -x0, x0, 2*x0, 2*x0, L)\n",
    "region_18 = factory.addBox(-x0, -x0, -x0-L, 2*x0, 2*x0, L)\n",
    "\n",
    "# Criar região do espaço livre (cubo interno)\n",
    "region_fs = factory.addBox(-x0, -x0, -x0, 2*x0, 2*x0, 2*x0)\n",
    "\n",
    "# Criar região do espalhador (esfera)\n",
    "# sphere = factory.addSphere(0, 0, 0, ra)"
   ]
  },
  {
   "cell_type": "code",
   "execution_count": 30,
   "metadata": {},
   "outputs": [],
   "source": [
    "# Regiões PML em termos de coordenadas\n",
    "PML_xyz = [region_a, region_b, region_c, region_d, region_e, region_f, region_g, region_h]\n",
    "PML_xy = [region_1, region_2, region_3, region_4]\n",
    "PML_yz = [region_5, region_6, region_7, region_8]\n",
    "PML_xz = [region_9, region_10, region_11, region_12]\n",
    "PML_y = [region_13, region_14]\n",
    "PML_x = [region_15, region_16]\n",
    "PML_z = [region_17, region_18]\n",
    "\n",
    "# Fragmentar todas as regiões para garantir interfaces conformais\n",
    "PML_list = PML_xy + PML_yz + PML_xz + PML_y + PML_x + PML_z + PML_xyz\n",
    "objectDimTags = [(3, region_fs)] + [(3, item) for item in PML_list]\n",
    "outDimTags, _ = factory.fragment(objectDimTags, objectDimTags)\n",
    "\n",
    "# Subtrair a esfera do espaço livre\n",
    "# outDimTags_omega_s, _ = factory.cut([(3, region_fs)], [(3, sphere)], removeTool=True)                   \n",
    "\n",
    "# Sincronizar\n",
    "factory.synchronize()"
   ]
  },
  {
   "cell_type": "markdown",
   "metadata": {},
   "source": [
    "## Mesh Size "
   ]
  },
  {
   "cell_type": "code",
   "execution_count": 31,
   "metadata": {},
   "outputs": [],
   "source": [
    "gmsh.option.setNumber(\"Mesh.MeshSizeMax\", h)\n",
    "gmsh.option.setNumber(\"Mesh.MeshSizeMin\", h)\n",
    "gmsh.model.mesh.generate(dim=3)\n",
    "gmsh.model.mesh.setOrder(order)"
   ]
  },
  {
   "cell_type": "markdown",
   "metadata": {},
   "source": [
    "## 1. Mesh Elements by Dimension\n",
    "### Dimension 0 (1-node point)"
   ]
  },
  {
   "cell_type": "code",
   "execution_count": 32,
   "metadata": {},
   "outputs": [
    {
     "name": "stdout",
     "output_type": "stream",
     "text": [
      "elemTypes: [15]\n",
      "elemTags: [array([ 1,  2,  3,  4,  5,  6,  7,  8,  9, 10, 11, 12, 13, 14, 15, 16, 17,\n",
      "       18, 19, 20, 21, 22, 23, 24, 25, 26, 27, 28, 29, 30, 31, 32, 33, 34,\n",
      "       35, 36, 37, 38, 39, 40, 41, 42, 43, 44, 45, 46, 47, 48, 49, 50, 51,\n",
      "       52, 53, 54, 55, 56, 57, 58, 59, 60, 61, 62, 63, 64], dtype=uint64)]\n",
      "Total elements: [64]\n",
      "elemNodeTags: [array([ 1,  2,  3,  4,  5,  6,  7,  8,  9, 10, 11, 12, 13, 14, 15, 16, 17,\n",
      "       18, 19, 20, 21, 22, 23, 24, 25, 26, 27, 28, 29, 30, 31, 32, 33, 34,\n",
      "       35, 36, 37, 38, 39, 40, 41, 42, 43, 44, 45, 46, 47, 48, 49, 50, 51,\n",
      "       52, 53, 54, 55, 56, 57, 58, 59, 60, 61, 62, 63, 64], dtype=uint64)]\n",
      "Total element nodes: [64]\n"
     ]
    }
   ],
   "source": [
    "elementTypes, elementTags, nodeTags = gmsh.model.mesh.getElements(dim=0)\n",
    "print(f\"elemTypes: {elementTypes}\")\n",
    "print(f\"elemTags: {elementTags}\")\n",
    "print(f\"Total elements: {[len(elementTag) for elementTag in elementTags]}\")\n",
    "print(f\"elemNodeTags: {nodeTags}\")\n",
    "print(f\"Total element nodes: {[len(nodeTag) for nodeTag in nodeTags]}\")"
   ]
  },
  {
   "cell_type": "markdown",
   "metadata": {},
   "source": [
    "### Dimension 1 (2-node line)"
   ]
  },
  {
   "cell_type": "code",
   "execution_count": 33,
   "metadata": {},
   "outputs": [
    {
     "name": "stdout",
     "output_type": "stream",
     "text": [
      "elemTypes: [1]\n",
      "elemTags: [array([ 65,  66,  67,  68,  69,  70,  71,  72,  73,  74,  75,  76,  77,\n",
      "        78,  79,  80,  81,  82,  83,  84,  85,  86,  87,  88,  89,  90,\n",
      "        91,  92,  93,  94,  95,  96,  97,  98,  99, 100, 101, 102, 103,\n",
      "       104, 105, 106, 107, 108, 109, 110, 111, 112, 113, 114, 115, 116,\n",
      "       117, 118, 119, 120, 121, 122, 123, 124, 125, 126, 127, 128, 129,\n",
      "       130, 131, 132, 133, 134, 135, 136, 137, 138, 139, 140, 141, 142,\n",
      "       143, 144, 145, 146, 147, 148, 149, 150, 151, 152, 153, 154, 155,\n",
      "       156, 157, 158, 159, 160, 161, 162, 163, 164, 165, 166, 167, 168,\n",
      "       169, 170, 171, 172, 173, 174, 175, 176, 177, 178, 179, 180, 181,\n",
      "       182, 183, 184, 185, 186, 187, 188, 189, 190, 191, 192, 193, 194,\n",
      "       195, 196, 197, 198, 199, 200, 201, 202, 203, 204, 205, 206, 207,\n",
      "       208], dtype=uint64)]\n",
      "Total elements: [144]\n",
      "elemNodeTags: [array([ 1,  2,  2,  3,  4,  3,  1,  4,  5,  6,  6,  7,  8,  7,  5,  8,  1,\n",
      "        5,  2,  6,  4,  8,  3,  7,  9, 10, 10,  6,  9,  5, 11, 12, 12, 13,\n",
      "       14, 13, 11, 14,  9, 11, 10, 12,  5, 14,  6, 13, 15, 16, 16, 17, 18,\n",
      "       17, 15, 18, 19, 20, 20,  2, 19,  1, 15, 19, 16, 20, 18,  1, 17,  2,\n",
      "        7, 21, 22, 21,  8, 22, 23, 24, 24, 25, 26, 25, 23, 26,  8, 23,  7,\n",
      "       24, 22, 26, 21, 25, 27, 28, 28, 29, 30, 29, 27, 30,  3, 31, 32, 31,\n",
      "        4, 32, 27,  4, 28,  3, 30, 32, 29, 31, 20, 33, 33, 34,  2, 34, 10,\n",
      "       35, 35, 36,  6, 36, 20, 10, 33, 35, 34, 36, 37, 19, 38,  1, 37, 38,\n",
      "       39,  9, 40,  5, 39, 40, 37, 39, 19,  9, 38, 40,  3, 41, 41, 42, 31,\n",
      "       42,  7, 43, 43, 44, 21, 44, 41, 43, 31, 21, 42, 44, 45,  4, 46, 32,\n",
      "       45, 46, 47,  8, 48, 22, 47, 48, 45, 47, 46, 48, 32, 22, 36, 43, 13,\n",
      "       49, 49, 50, 24, 50, 13, 24, 36, 49, 43, 50, 40, 47, 51, 14, 14, 23,\n",
      "       52, 23, 51, 52, 40, 51, 47, 52, 17, 53, 53, 54, 28, 54, 17, 28, 34,\n",
      "       41, 53, 34, 54, 41, 55, 18, 18, 27, 56, 27, 55, 56, 38, 45, 55, 38,\n",
      "       56, 45, 16, 57, 57, 53, 57, 33, 58, 15, 58, 55, 58, 37, 12, 59, 59,\n",
      "       49, 35, 59, 60, 11, 60, 51, 39, 60, 50, 61, 25, 61, 44, 61, 62, 26,\n",
      "       52, 62, 48, 62, 54, 63, 29, 63, 63, 42, 64, 30, 56, 64, 64, 46],\n",
      "      dtype=uint64)]\n",
      "Total element nodes: [288]\n"
     ]
    }
   ],
   "source": [
    "elementTypes, elementTags, nodeTags = gmsh.model.mesh.getElements(dim=1)\n",
    "print(f\"elemTypes: {elementTypes}\")\n",
    "print(f\"elemTags: {elementTags}\")\n",
    "print(f\"Total elements: {[len(elementTag) for elementTag in elementTags]}\")\n",
    "print(f\"elemNodeTags: {nodeTags}\")\n",
    "print(f\"Total element nodes: {[len(nodeTag) for nodeTag in nodeTags]}\")"
   ]
  },
  {
   "cell_type": "markdown",
   "metadata": {},
   "source": [
    "### Dimension 2 (3-node triangle)"
   ]
  },
  {
   "cell_type": "code",
   "execution_count": 34,
   "metadata": {},
   "outputs": [
    {
     "name": "stdout",
     "output_type": "stream",
     "text": [
      "elemTypes: [2]\n",
      "elemTags: [array([209, 210, 211, 212, 213, 214, 215, 216, 217, 218, 219, 220, 221,\n",
      "       222, 223, 224, 225, 226, 227, 228, 229, 230, 231, 232, 233, 234,\n",
      "       235, 236, 237, 238, 239, 240, 241, 242, 243, 244, 245, 246, 247,\n",
      "       248, 249, 250, 251, 252, 253, 254, 255, 256, 257, 258, 259, 260,\n",
      "       261, 262, 263, 264, 265, 266, 267, 268, 269, 270, 271, 272, 273,\n",
      "       274, 275, 276, 277, 278, 279, 280, 281, 282, 283, 284, 285, 286,\n",
      "       287, 288, 289, 290, 291, 292, 293, 294, 295, 296, 297, 298, 299,\n",
      "       300, 301, 302, 303, 304, 305, 306, 307, 308, 309, 310, 311, 312,\n",
      "       313, 314, 315, 316, 317, 318, 319, 320, 321, 322, 323, 324, 325,\n",
      "       326, 327, 328, 329, 330, 331, 332, 333, 334, 335, 336, 337, 338,\n",
      "       339, 340, 341, 342, 343, 344, 345, 346, 347, 348, 349, 350, 351,\n",
      "       352, 353, 354, 355, 356, 357, 358, 359, 360, 361, 362, 363, 364,\n",
      "       365, 366, 367, 368, 369, 370, 371, 372, 373, 374, 375, 376, 377,\n",
      "       378, 379, 380, 381, 382, 383, 384, 385, 386, 387, 388, 389, 390,\n",
      "       391, 392, 393, 394, 395, 396, 397, 398, 399, 400, 401, 402, 403,\n",
      "       404, 405, 406, 407, 408, 409, 410, 411, 412, 413, 414, 415, 416,\n",
      "       417, 418, 419, 420, 421, 422, 423, 424, 425, 426, 427, 428, 429,\n",
      "       430, 431, 432, 433, 434, 435, 436, 437, 438, 439, 440, 441, 442,\n",
      "       443, 444, 445, 446, 447, 448, 449, 450, 451, 452, 453, 454, 455,\n",
      "       456, 457, 458, 459, 460, 461, 462, 463, 464, 465, 466, 467, 468,\n",
      "       469, 470, 471, 472, 473, 474, 475, 476, 477, 478, 479, 480, 481,\n",
      "       482, 483, 484, 485, 486, 487, 488, 489, 490, 491, 492, 493, 494,\n",
      "       495, 496, 497, 498, 499, 500, 501, 502, 503, 504, 505, 506, 507,\n",
      "       508, 509, 510, 511, 512, 513, 514, 515, 516, 517, 518, 519, 520,\n",
      "       521, 522, 523, 524, 525, 526, 527, 528, 529, 530, 531, 532, 533,\n",
      "       534, 535, 536, 537, 538, 539, 540, 541, 542, 543, 544],\n",
      "      dtype=uint64)]\n",
      "Total elements: [336]\n",
      "elemNodeTags: [array([  1,   2,  65, ...,  56,  64, 124], dtype=uint64)]\n",
      "Total element nodes: [1008]\n"
     ]
    }
   ],
   "source": [
    "elementTypes, elementTags, nodeTags = gmsh.model.mesh.getElements(dim=2)\n",
    "print(f\"elemTypes: {elementTypes}\")\n",
    "print(f\"elemTags: {elementTags}\")\n",
    "print(f\"Total elements: {[len(elementTag) for elementTag in elementTags]}\")\n",
    "print(f\"elemNodeTags: {nodeTags}\")\n",
    "print(f\"Total element nodes: {[len(nodeTag) for nodeTag in nodeTags]}\")"
   ]
  },
  {
   "cell_type": "markdown",
   "metadata": {},
   "source": [
    "### Dimension 3 (4-node tetrahedron)"
   ]
  },
  {
   "cell_type": "code",
   "execution_count": 35,
   "metadata": {},
   "outputs": [
    {
     "name": "stdout",
     "output_type": "stream",
     "text": [
      "elemTypes: [4]\n",
      "elemTags: [array([545, 546, 547, 548, 549, 550, 551, 552, 553, 554, 555, 556, 557,\n",
      "       558, 559, 560, 561, 562, 563, 564, 565, 566, 567, 568, 569, 570,\n",
      "       571, 572, 573, 574, 575, 576, 577, 578, 579, 580, 581, 582, 583,\n",
      "       584, 585, 586, 587, 588, 589, 590, 591, 592, 593, 594, 595, 596,\n",
      "       597, 598, 599, 600, 601, 602, 603, 604, 605, 606, 607, 608, 609,\n",
      "       610, 611, 612, 613, 614, 615, 616, 617, 618, 619, 620, 621, 622,\n",
      "       623, 624, 625, 626, 627, 628, 629, 630, 631, 632, 633, 634, 635,\n",
      "       636, 637, 638, 639, 640, 641, 642, 643, 644, 645, 646, 647, 648,\n",
      "       649, 650, 651, 652, 653, 654, 655, 656, 657, 658, 659, 660, 661,\n",
      "       662, 663, 664, 665, 666, 667, 668, 669, 670, 671, 672, 673, 674,\n",
      "       675, 676, 677, 678, 679, 680, 681, 682, 683, 684, 685, 686, 687,\n",
      "       688, 689, 690, 691, 692, 693, 694, 695, 696, 697, 698, 699, 700,\n",
      "       701, 702, 703, 704, 705, 706, 707, 708, 709, 710, 711, 712, 713,\n",
      "       714, 715, 716, 717, 718, 719, 720, 721, 722, 723, 724, 725, 726,\n",
      "       727, 728, 729, 730, 731, 732, 733, 734, 735, 736, 737, 738, 739,\n",
      "       740, 741, 742, 743, 744, 745, 746, 747, 748, 749, 750, 751, 752,\n",
      "       753, 754, 755, 756, 757, 758, 759, 760, 761, 762, 763, 764, 765,\n",
      "       766, 767, 768, 769, 770, 771, 772, 773, 774, 775, 776, 777, 778,\n",
      "       779, 780, 781, 782, 783, 784, 785, 786, 787, 788, 789, 790, 791,\n",
      "       792, 793, 794, 795, 796, 797, 798, 799, 800, 801, 802, 803, 804,\n",
      "       805, 806, 807, 808, 809, 810, 811, 812, 813, 814, 815, 816, 817,\n",
      "       818, 819, 820, 821, 822, 823, 824, 825, 826, 827, 828, 829, 830,\n",
      "       831, 832, 833, 834, 835, 836, 837, 838, 839, 840, 841, 842, 843,\n",
      "       844, 845, 846, 847, 848, 849, 850, 851, 852, 853, 854, 855, 856,\n",
      "       857, 858, 859, 860, 861, 862, 863, 864, 865, 866, 867, 868, 869,\n",
      "       870, 871, 872, 873, 874, 875, 876, 877, 878, 879, 880, 881, 882,\n",
      "       883, 884, 885, 886, 887, 888, 889, 890, 891, 892, 893, 894, 895,\n",
      "       896, 897, 898, 899, 900, 901, 902, 903, 904, 905, 906, 907, 908,\n",
      "       909, 910, 911, 912, 913, 914, 915, 916, 917, 918, 919, 920, 921,\n",
      "       922, 923, 924, 925, 926, 927, 928, 929, 930, 931, 932, 933, 934,\n",
      "       935, 936, 937, 938, 939, 940, 941, 942, 943, 944, 945, 946, 947,\n",
      "       948, 949, 950, 951, 952, 953, 954, 955, 956, 957, 958, 959, 960,\n",
      "       961, 962, 963, 964, 965, 966, 967, 968, 969, 970, 971, 972, 973,\n",
      "       974, 975, 976, 977, 978, 979, 980, 981, 982, 983, 984, 985, 986,\n",
      "       987, 988, 989, 990, 991, 992, 993, 994, 995, 996], dtype=uint64)]\n",
      "Total elements: [452]\n",
      "elemNodeTags: [array([ 91, 103, 101, ...,   2,  65,  67], dtype=uint64)]\n",
      "Total element nodes: [1808]\n"
     ]
    }
   ],
   "source": [
    "elementTypes, elementTags, nodeTags = gmsh.model.mesh.getElements(dim=3)\n",
    "print(f\"elemTypes: {elementTypes}\")\n",
    "print(f\"elemTags: {elementTags}\")\n",
    "print(f\"Total elements: {[len(elementTag) for elementTag in elementTags]}\")\n",
    "print(f\"elemNodeTags: {nodeTags}\")\n",
    "print(f\"Total element nodes: {[len(nodeTag) for nodeTag in nodeTags]}\")"
   ]
  },
  {
   "cell_type": "markdown",
   "metadata": {},
   "source": [
    "## 2. Geometrical Entities by Dimension\n",
    "### Dimension 0 (points)"
   ]
  },
  {
   "cell_type": "code",
   "execution_count": 36,
   "metadata": {},
   "outputs": [
    {
     "name": "stdout",
     "output_type": "stream",
     "text": [
      "Total 0-D entities: 64\n",
      "dimTags: [(0, 1), (0, 2), (0, 3), (0, 4), (0, 5)] ...\n"
     ]
    }
   ],
   "source": [
    "dimTags = gmsh.model.getEntities(0)\n",
    "print(f\"Total 0-D entities: {len(dimTags)}\")\n",
    "print(f\"dimTags: {dimTags[:5]} ...\")"
   ]
  },
  {
   "cell_type": "markdown",
   "metadata": {},
   "source": [
    "## Dimension 1 (lines)"
   ]
  },
  {
   "cell_type": "code",
   "execution_count": 37,
   "metadata": {},
   "outputs": [
    {
     "name": "stdout",
     "output_type": "stream",
     "text": [
      "Total 1-D entities: 144\n",
      "dimTags: [(1, 1), (1, 2), (1, 3), (1, 4), (1, 5)] ...\n"
     ]
    }
   ],
   "source": [
    "dimTags = gmsh.model.getEntities(1)\n",
    "print(f\"Total 1-D entities: {len(dimTags)}\")\n",
    "print(f\"dimTags: {dimTags[:5]} ...\")"
   ]
  },
  {
   "cell_type": "markdown",
   "metadata": {},
   "source": [
    "## Dimension 2 (surfaces)"
   ]
  },
  {
   "cell_type": "code",
   "execution_count": 38,
   "metadata": {},
   "outputs": [
    {
     "name": "stdout",
     "output_type": "stream",
     "text": [
      "Total 2-D entities: 108\n",
      "dimTags: [(2, 1), (2, 2), (2, 3), (2, 4), (2, 5)] ...\n"
     ]
    }
   ],
   "source": [
    "dimTags = gmsh.model.getEntities(2)\n",
    "print(f\"Total 2-D entities: {len(dimTags)}\")\n",
    "print(f\"dimTags: {dimTags[:5]} ...\")"
   ]
  },
  {
   "cell_type": "markdown",
   "metadata": {},
   "source": [
    "## 1. _Edge mapping_"
   ]
  },
  {
   "cell_type": "code",
   "execution_count": 39,
   "metadata": {},
   "outputs": [
    {
     "name": "stdout",
     "output_type": "stream",
     "text": [
      "Total number of edges: 663\n",
      "Total number of edgeNodes: 1326\n"
     ]
    }
   ],
   "source": [
    "gmsh.model.mesh.createEdges()\n",
    "edgeTags, edgeNodes = gmsh.model.mesh.getAllEdges()\n",
    "print(f\"Total number of edges: {len(edgeTags)}\")\n",
    "print(f\"Total number of edgeNodes: {len(edgeNodes)}\")"
   ]
  },
  {
   "cell_type": "code",
   "execution_count": 40,
   "metadata": {},
   "outputs": [],
   "source": [
    "# Criar edge_mapping\n",
    "edge_mapping = {tuple(sorted([edgeNodes[2*i], edgeNodes[2*i + 1]])): tag\n",
    "                 for i, tag in enumerate(sorted(edgeTags))}"
   ]
  },
  {
   "cell_type": "code",
   "execution_count": 41,
   "metadata": {},
   "outputs": [
    {
     "name": "stdout",
     "output_type": "stream",
     "text": [
      "(67, 70): 1\n",
      "(65, 67): 2\n",
      "(67, 69): 3\n",
      "(66, 70): 4\n",
      "(68, 69): 5\n",
      "(66, 69): 6\n",
      "(66, 68): 7\n",
      "(40, 69): 8\n",
      "(7, 99): 9\n",
      "(3, 99): 10\n"
     ]
    }
   ],
   "source": [
    "for key in list(edge_mapping.keys())[:10]:\n",
    "    print(f\"{key}: {edge_mapping[key]}\")"
   ]
  },
  {
   "cell_type": "markdown",
   "metadata": {},
   "source": [
    "## 2. _Face mapping_"
   ]
  },
  {
   "cell_type": "code",
   "execution_count": 42,
   "metadata": {},
   "outputs": [
    {
     "name": "stdout",
     "output_type": "stream",
     "text": [
      "Total number of faces: 988\n",
      "Total number of faceNodes: 2964\n"
     ]
    }
   ],
   "source": [
    "gmsh.model.mesh.createFaces()\n",
    "faceTags, faceNodes = gmsh.model.mesh.getAllFaces(3)\n",
    "print(f\"Total number of faces: {len(faceTags)}\")\n",
    "print(f\"Total number of faceNodes: {len(faceNodes)}\")"
   ]
  },
  {
   "cell_type": "code",
   "execution_count": 43,
   "metadata": {},
   "outputs": [],
   "source": [
    "# Criar face_mapping\n",
    "face_mapping = {tuple(sorted([faceNodes[3*i], faceNodes[3*i + 1], faceNodes[3*i + 2]])): tag\n",
    "                 for i, tag in enumerate(sorted(faceTags))}"
   ]
  },
  {
   "cell_type": "code",
   "execution_count": 44,
   "metadata": {},
   "outputs": [
    {
     "name": "stdout",
     "output_type": "stream",
     "text": [
      "(5, 66, 67): 1\n",
      "(7, 68, 70): 2\n",
      "(8, 66, 68): 3\n",
      "(1, 65, 67): 4\n",
      "(6, 66, 70): 5\n",
      "(4, 65, 68): 6\n",
      "(3, 65, 68): 7\n",
      "(5, 67, 69): 8\n",
      "(1, 67, 69): 9\n",
      "(5, 66, 69): 10\n"
     ]
    }
   ],
   "source": [
    "for key in list(face_mapping.keys())[:10]:\n",
    "    print(f\"{key}: {face_mapping[key]}\")"
   ]
  },
  {
   "cell_type": "markdown",
   "metadata": {},
   "source": [
    "## 3. Applying _Physical Groups_\n",
    "### 3.1 Surfaces"
   ]
  },
  {
   "cell_type": "code",
   "execution_count": 45,
   "metadata": {},
   "outputs": [
    {
     "ename": "NameError",
     "evalue": "name 'rectangular_cavity' is not defined",
     "output_type": "error",
     "traceback": [
      "\u001b[1;31m---------------------------------------------------------------------------\u001b[0m",
      "\u001b[1;31mNameError\u001b[0m                                 Traceback (most recent call last)",
      "Cell \u001b[1;32mIn[45], line 2\u001b[0m\n\u001b[0;32m      1\u001b[0m \u001b[38;5;66;03m# Obter os contornos (superfícies, dim=2) do volume\u001b[39;00m\n\u001b[1;32m----> 2\u001b[0m BoundaryDimTags \u001b[38;5;241m=\u001b[39m gmsh\u001b[38;5;241m.\u001b[39mmodel\u001b[38;5;241m.\u001b[39mgetBoundary([(\u001b[38;5;241m3\u001b[39m, \u001b[43mrectangular_cavity\u001b[49m)], oriented\u001b[38;5;241m=\u001b[39m\u001b[38;5;28;01mTrue\u001b[39;00m, recursive\u001b[38;5;241m=\u001b[39m\u001b[38;5;28;01mFalse\u001b[39;00m)\n\u001b[0;32m      3\u001b[0m \u001b[38;5;28mprint\u001b[39m(\u001b[38;5;124mf\u001b[39m\u001b[38;5;124m\"\u001b[39m\u001b[38;5;124mBoundaryDimTags: \u001b[39m\u001b[38;5;132;01m{\u001b[39;00mBoundaryDimTags\u001b[38;5;132;01m}\u001b[39;00m\u001b[38;5;124m\"\u001b[39m)\n",
      "\u001b[1;31mNameError\u001b[0m: name 'rectangular_cavity' is not defined"
     ]
    }
   ],
   "source": [
    "# Obter os contornos (superfícies, dim=2) do volume\n",
    "BoundaryDimTags = gmsh.model.getBoundary([(3, rectangular_cavity)], oriented=True, recursive=False)\n",
    "print(f\"BoundaryDimTags: {BoundaryDimTags}\")"
   ]
  },
  {
   "cell_type": "code",
   "execution_count": null,
   "metadata": {},
   "outputs": [],
   "source": [
    "# Exibir os TAGs das superfícies associadas a cada contorno\n",
    "BoundaryTags = [Dimtags[1] for Dimtags in BoundaryDimTags]\n",
    "\n",
    "# Definindo as superfícies de contorno de Dirichlet (dim=2)\n",
    "gmsh.model.addPhysicalGroup(dim=2, tags=BoundaryTags, tag=BOUNDARY[0]['tag'], name=BOUNDARY[0]['name'])\n",
    "\n",
    "# Adicionar grupos físicos para Dim=3 (volume)\n",
    "gmsh.model.addPhysicalGroup(dim=3, tags=[rectangular_cavity], tag=MATERIAL[0]['tag'], name=MATERIAL[0]['name'])"
   ]
  },
  {
   "cell_type": "markdown",
   "metadata": {},
   "source": [
    "## 5. Geometrical Entities by Dimension\n",
    "dimTags (vector of pairs of integers)\n",
    "### Dimension 0 (Points)"
   ]
  },
  {
   "cell_type": "code",
   "execution_count": null,
   "metadata": {},
   "outputs": [],
   "source": [
    "gmsh.model.getEntities(dim=0)"
   ]
  },
  {
   "cell_type": "markdown",
   "metadata": {},
   "source": [
    "### Dimension 1 (Edges)"
   ]
  },
  {
   "cell_type": "markdown",
   "metadata": {},
   "source": [
    "gmsh.model.getEntities(dim=1)"
   ]
  },
  {
   "cell_type": "markdown",
   "metadata": {},
   "source": [
    "### Dimension 2 (Surfaces)"
   ]
  },
  {
   "cell_type": "code",
   "execution_count": null,
   "metadata": {},
   "outputs": [],
   "source": [
    "gmsh.model.getEntities(dim=2)"
   ]
  },
  {
   "cell_type": "markdown",
   "metadata": {},
   "source": [
    "### Dimension 3 (Regions)"
   ]
  },
  {
   "cell_type": "code",
   "execution_count": null,
   "metadata": {},
   "outputs": [],
   "source": [
    "gmsh.model.getEntities(dim=3)"
   ]
  },
  {
   "cell_type": "markdown",
   "metadata": {},
   "source": [
    "## 6. ``mesh_data['cell']``: Material Physical Groups (dim=3)"
   ]
  },
  {
   "cell_type": "code",
   "execution_count": null,
   "metadata": {},
   "outputs": [],
   "source": [
    "cell_data = {}\n",
    "for material in MATERIAL:\n",
    "    # Obter as entidades físicas (grupo físico) associadas ao material\n",
    "    MaterialEntitiesTags = gmsh.model.getEntitiesForPhysicalGroup(dim=3, tag=material['tag'])\n",
    "    print(f\"Entities of {material['name']} with dim3: {MaterialEntitiesTags}\")\n",
    "    \n",
    "    for EntityTag in MaterialEntitiesTags:\n",
    "        elementTypes, elementTags, nodeTags = gmsh.model.mesh.getElements(dim=3, tag=EntityTag)\n",
    "        print(f\"mesh_elements of entity (dim, tag) = (3, {EntityTag}): elemTags = {elementTags}\")\n",
    "        print(f\"mesh_elements of entity (dim, tag) = (3, {EntityTag}): nodeTags = {nodeTags}\")\n",
    "        \n",
    "        for elemType, elemTag, elemNode in zip(elementTypes, elementTags, nodeTags):            \n",
    "            # Obter as propriedades do elemento\n",
    "            _, _, _, nodes_per_element, _, _ = gmsh.model.mesh.getElementProperties(elemType)\n",
    "\n",
    "            # Número de elementos\n",
    "            N_tet = len(elemNode) // nodes_per_element\n",
    "\n",
    "            # Criar dicionário associando cada elemento à sua conectividade de nós\n",
    "            for i, Tag in enumerate(elemTag):                \n",
    "                # Obter a conectividade do elemento\n",
    "                # conn_node = list(sorted(elemNodes[0][4 * i : 4 * (i + 1)])) \n",
    "                conn_node = elemNode[nodes_per_element * i: nodes_per_element * (i + 1)].tolist()\n",
    "                conn_std = sorted(conn_node)\n",
    "\n",
    "                # Tetrahedron element\n",
    "                if nodes_per_element == 4:\n",
    "                    conn_edge = [\n",
    "                        edge_mapping[(conn_std[0], conn_std[1])],  # e1: 1 -> 2\n",
    "                        edge_mapping[(conn_std[0], conn_std[2])],  # e2: 1 -> 3\n",
    "                        edge_mapping[(conn_std[0], conn_std[3])],  # e3: 1 -> 4\n",
    "                        edge_mapping[(conn_std[1], conn_std[2])],  # e4: 2 -> 3\n",
    "                        edge_mapping[(conn_std[1], conn_std[3])],  # e5: 2 -> 4\n",
    "                        edge_mapping[(conn_std[2], conn_std[3])]   # e6: 3 -> 4\n",
    "                    ]\n",
    "\n",
    "                    # Conectividade de faces (cada face tem 3 nós)\n",
    "                    conn_face = [\n",
    "                        sorted([conn_node[0], conn_node[1], conn_node[2]]),  # Face 1\n",
    "                        sorted([conn_node[0], conn_node[1], conn_node[3]]),  # Face 2\n",
    "                        sorted([conn_node[0], conn_node[2], conn_node[3]]),  # Face 3\n",
    "                        sorted([conn_node[1], conn_node[2], conn_node[3]])   # Face 4\n",
    "                    ]\n",
    "                \n",
    "                # Adicionar ao dicionário de células\n",
    "                cell_data[Tag] = {\n",
    "                    'tag': Tag,\n",
    "                    'conn': conn_node,\n",
    "                    'conn_sorted': conn_std,\n",
    "                    'conn_edge': conn_edge,\n",
    "                    'conn_face': conn_face,\n",
    "                    # 'geo': {'centroid': None, 'dim': None},\n",
    "                    # 'contour': {'type': None, 'conn_contour': None},\n",
    "                    'material': material['tag']}"
   ]
  },
  {
   "cell_type": "code",
   "execution_count": null,
   "metadata": {},
   "outputs": [],
   "source": [
    "# Adiciona nova chave sequencial ao cell_data\n",
    "cell_data = {i+1: cell_data[Tag] for i, Tag in enumerate(cell_data)}; cell_data"
   ]
  },
  {
   "cell_type": "markdown",
   "metadata": {},
   "source": [
    "## 7. `mesh_data['boundary']`: Boundary Physical Groups (dim=2)"
   ]
  },
  {
   "cell_type": "code",
   "execution_count": null,
   "metadata": {},
   "outputs": [],
   "source": [
    "boundary_data = {}\n",
    "for bc in BOUNDARY:\n",
    "    # Obter as entidades físicas (grupo físico) associadas ao contorno\n",
    "    BoundaryEntitiesTags = gmsh.model.getEntitiesForPhysicalGroup(dim=2, tag=bc['tag'])\n",
    "    print(f\"Entities of {bc['name']} with dim2: {BoundaryEntitiesTags}\")\n",
    "    \n",
    "    for EntityTag in BoundaryEntitiesTags:\n",
    "        elementTypes, elementTags, nodeTags = gmsh.model.mesh.getElements(dim=2, tag=EntityTag)\n",
    "        print(f\"mesh_elements of entity (dim, tag) = (2, {EntityTag}): elemTags = {elementTags}\")\n",
    "        print(f\"mesh_elements of entity (dim, tag) = (2, {EntityTag}): nodeTags = {nodeTags}\")\n",
    "        \n",
    "        for elemType, elemTag, elemNode in zip(elementTypes, elementTags, nodeTags):   \n",
    "            # Obter as propriedades do elemento\n",
    "            _, _, _, nodes_per_element, _, _ = gmsh.model.mesh.getElementProperties(elemType)\n",
    "\n",
    "            # Número de elementos\n",
    "            N_tri = len(elemNode) // nodes_per_element             \n",
    "\n",
    "            # Criar dicionário associando cada elemento à sua conectividade de nós\n",
    "            for i, Tag in enumerate(elemTag):    \n",
    "                # Obter a conectividade do elemento            \n",
    "                # conn_node = list(sorted(nodeTags[0][3 * i : 3 * (i + 1)]))\n",
    "                conn_node = elemNode[nodes_per_element * i: nodes_per_element * (i + 1)].tolist()\n",
    "                conn_std = sorted(conn_node)\n",
    "\n",
    "                # Triangular element\n",
    "                if nodes_per_element == 3:\n",
    "                    conn_edge = [\n",
    "                        edge_mapping[(conn_std[0], conn_std[1])],  # e1: 1 -> 2\n",
    "                        edge_mapping[(conn_std[0], conn_std[2])],  # e2: 1 -> 3\n",
    "                        edge_mapping[(conn_std[1], conn_std[2])],  # e3: 2 -> 3\n",
    "                    ]\n",
    "\n",
    "                # Dicionário de contorno\n",
    "                boundary_data[Tag] = {\n",
    "                    'tag': Tag,\n",
    "                    'conn': conn_node,\n",
    "                    'conn_sorted': conn_std,\n",
    "                    'conn_edge': conn_edge,\n",
    "                    'boundary': bc['tag']}"
   ]
  },
  {
   "cell_type": "code",
   "execution_count": null,
   "metadata": {},
   "outputs": [],
   "source": [
    "# Adiciona nova chave sequencial ao boundary_data\n",
    "boundary_data = {i+1: boundary_data[Tag] for i, Tag in enumerate(boundary_data)}; boundary_data"
   ]
  },
  {
   "cell_type": "markdown",
   "metadata": {},
   "source": [
    "# Gmsh Finalize"
   ]
  },
  {
   "cell_type": "code",
   "execution_count": null,
   "metadata": {},
   "outputs": [],
   "source": [
    "# Visualizar a malha no ambiente Gmsh (opcional)\n",
    "gmsh.fltk.run()\n",
    "\n",
    "# Finalizar o Gmsh\n",
    "gmsh.finalize()"
   ]
  }
 ],
 "metadata": {
  "kernelspec": {
   "display_name": "Python 3",
   "language": "python",
   "name": "python3"
  },
  "language_info": {
   "codemirror_mode": {
    "name": "ipython",
    "version": 3
   },
   "file_extension": ".py",
   "mimetype": "text/x-python",
   "name": "python",
   "nbconvert_exporter": "python",
   "pygments_lexer": "ipython3",
   "version": "3.12.9"
  }
 },
 "nbformat": 4,
 "nbformat_minor": 2
}
