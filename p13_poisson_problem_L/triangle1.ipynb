{
 "cells": [
  {
   "cell_type": "code",
   "execution_count": 1,
   "metadata": {},
   "outputs": [
    {
     "name": "stdout",
     "output_type": "stream",
     "text": [
      "Project root added to sys.path: C:\\Users\\adilt\\OneDrive\\01 ACADEMIA\\06 MODELOS\\8.FEM\\ppgee\\projects\n",
      "Todas as propriedades foram verificadas com sucesso para os elementos P1!\n",
      "Todas as propriedades foram verificadas com sucesso para os elementos P2!\n",
      "Todas as propriedades foram verificadas com sucesso para os elementos P3!\n",
      "Todas as propriedades foram verificadas com sucesso para os elementos Q1!\n",
      "Todas as propriedades foram verificadas com sucesso para os elementos Q2!\n",
      "Modules imports were successful!\n",
      "Modules imports were successful!\n",
      "Modules imports were successful!\n"
     ]
    }
   ],
   "source": [
    "import sys\n",
    "import numpy as np\n",
    "import import_ipynb\n",
    "from scipy.sparse.linalg import spsolve\n",
    "from pathlib import Path\n",
    "\n",
    "# Adicionar o diretório raiz do projeto ao sys.path\n",
    "project_root = Path().resolve().parent  \n",
    "sys.path.append(str(project_root))\n",
    "\n",
    "# Verifique se os caminhos foram adicionados\n",
    "print(\"Project root added to sys.path:\", project_root)\n",
    "\n",
    "# Importando notebooks diretamente\n",
    "try:\n",
    "    import problem_statement as ps  \n",
    "    from pre_processing import create_domain, read_mesh\n",
    "    from fem_processing import boundary_conditions, matrices_assembly\n",
    "    from pos_processing import graph_results\n",
    "    print(\"Modules imports were successful!\")\n",
    "except ModuleNotFoundError as e:\n",
    "    print(f\"Modules were not found: {e}\")\n",
    "except ImportError as e:\n",
    "    print(f\"Error in import: {e}\")\n",
    "    \n",
    "#run ../setup_project.py"
   ]
  },
  {
   "cell_type": "markdown",
   "metadata": {},
   "source": [
    "# Project 1: Poisson Problem at L Domain \n",
    "# 3-noded Linear Triangular Elements, $P_1$\n",
    "## Pre-processor module\n",
    "### Geometry and mesh Domain"
   ]
  },
  {
   "cell_type": "code",
   "execution_count": 2,
   "metadata": {},
   "outputs": [
    {
     "name": "stdout",
     "output_type": "stream",
     "text": [
      "Model L_domain_Triangle1 (2D)\n",
      "Info     : 13 geometric entities\n",
      "Info     : 2 Physical Groups\n",
      "Info     : 17 nodes in total\n",
      "Info     : 20 2-D elements in total\n"
     ]
    }
   ],
   "source": [
    "ELEMENT = (\"Triangle\", 1)\n",
    "BOUNDARY = [{'type': 'Dirichlet', 'tag': 101, 'value': 0.0, 'name': 'entire_boundary'}]\n",
    "MATERIAL = [{'type': 'material_constant_a', 'tag': 201, 'value': 1, 'name': 'entire_domain'}]\n",
    "\n",
    "# Create mesh from file geometry\n",
    "create_domain.L_geometry(ELEMENT, BOUNDARY, lc=1, view_mesh=True)\n",
    "mesh_data = read_mesh.get_data(ELEMENT, BOUNDARY, MATERIAL, model='L', info_mode=False)"
   ]
  },
  {
   "cell_type": "markdown",
   "metadata": {},
   "source": [
    "### Mesh Data Dictionaries"
   ]
  },
  {
   "cell_type": "code",
   "execution_count": 3,
   "metadata": {},
   "outputs": [
    {
     "data": {
      "text/plain": [
       "[{'TagID': 1,\n",
       "  'global_coord': (0.0, 0.0),\n",
       "  'bc': {'type': 'Dirichlet', 'value': 0.0}}]"
      ]
     },
     "execution_count": 3,
     "metadata": {},
     "output_type": "execute_result"
    }
   ],
   "source": [
    "mesh_nodes = mesh_data['nodes_data']; mesh_nodes[:1]"
   ]
  },
  {
   "cell_type": "code",
   "execution_count": 4,
   "metadata": {},
   "outputs": [
    {
     "data": {
      "text/plain": [
       "[{'TagID': 13,\n",
       "  'conn_list': [10, 13, 16],\n",
       "  'material': {'type': 'material_constant_a',\n",
       "   'tag': 201,\n",
       "   'value': 1,\n",
       "   'name': 'entire_domain'}}]"
      ]
     },
     "execution_count": 4,
     "metadata": {},
     "output_type": "execute_result"
    }
   ],
   "source": [
    "conn_data = mesh_data['conn_data']; conn_data[:1]"
   ]
  },
  {
   "cell_type": "code",
   "execution_count": 5,
   "metadata": {},
   "outputs": [],
   "source": [
    "nodes = [node['global_coord'] for node in mesh_data['nodes_data']]\n",
    "conn = [element['conn_list'] for element in mesh_data['conn_data']]"
   ]
  },
  {
   "cell_type": "markdown",
   "metadata": {},
   "source": [
    "### Figure 1: Rectangular meshed domain $\\Omega=[0,1]^2$"
   ]
  },
  {
   "cell_type": "code",
   "execution_count": 6,
   "metadata": {},
   "outputs": [
    {
     "name": "stdout",
     "output_type": "stream",
     "text": [
      "Arquivo salvo em: c:\\Users\\adilt\\OneDrive\\01 ACADEMIA\\06 MODELOS\\8.FEM\\ppgee\\projects\\p13_L_domain_poisson\\pre_processing\\pictures\\L_meshed_domain_Triangle1.svg\n"
     ]
    }
   ],
   "source": [
    "graph_results.plot_mesh(mesh_data, ELEMENT, model='L')"
   ]
  },
  {
   "cell_type": "markdown",
   "metadata": {},
   "source": [
    "<figure>\n",
    "    <img src=\"pre_processing/pictures/L_meshed_domain_Triangle1.svg\" alt=\"Fig.1\" style=\"width:100%;\" />\n",
    "    <figcaption>Figure 1: Rectangular meshed domain $\\Omega=[0,1]^2$.</figcaption>\n",
    "</figure>"
   ]
  },
  {
   "cell_type": "markdown",
   "metadata": {},
   "source": [
    "### Assembly Matrices\n",
    "#### `assembly.global_nodes_coordinates()` "
   ]
  },
  {
   "cell_type": "code",
   "execution_count": 7,
   "metadata": {},
   "outputs": [
    {
     "name": "stdout",
     "output_type": "stream",
     "text": [
      "'a_1' Global coordinates: [(2.752797989558076e-12, 1.0), (-0.3916417253665321, 0.2820677427439965), (0.1178335817045444, 0.4041559357628871)]\n",
      "'x_1' x-coordinates: [2.752797989558076e-12, -0.3916417253665321, 0.1178335817045444]\n",
      "'y_1' y-coordinates: [1.0, 0.2820677427439965, 0.4041559357628871]\n"
     ]
    }
   ],
   "source": [
    "ai, xi, yi = matrices_assembly.global_nodes_coordinates(0, mesh_data)\n",
    "print(f\"'a_1' Global coordinates: {ai}\")\n",
    "print(f\"'x_1' x-coordinates: {xi}\")\n",
    "print(f\"'y_1' y-coordinates: {yi}\")"
   ]
  },
  {
   "cell_type": "markdown",
   "metadata": {},
   "source": [
    "#### `map_to_physical_coordinates()`"
   ]
  },
  {
   "cell_type": "code",
   "execution_count": 8,
   "metadata": {},
   "outputs": [
    {
     "name": "stdout",
     "output_type": "stream",
     "text": [
      "'e_1' Master coordinates: (1, 0) --> Global coordinates: (-0.3916417253665321, 0.2820677427439965)\n"
     ]
    }
   ],
   "source": [
    "xi_master = (1, 0)\n",
    "xg, yg = matrices_assembly.isomapping_to_global_coordinates(ai, xi_master, ELEMENT)\n",
    "print(f\"'e_1' Master coordinates: {xi_master} --> Global coordinates: ({xg}, {yg})\")"
   ]
  },
  {
   "cell_type": "markdown",
   "metadata": {},
   "source": [
    "#### `apply_physics()`"
   ]
  },
  {
   "cell_type": "code",
   "execution_count": 9,
   "metadata": {},
   "outputs": [
    {
     "data": {
      "text/plain": [
       "[{'TagID': 13,\n",
       "  'conn_list': [10, 13, 16],\n",
       "  'material': {'type': 'material_constant_a',\n",
       "   'tag': 201,\n",
       "   'value': 1,\n",
       "   'name': 'entire_domain',\n",
       "   'a_value': 1},\n",
       "  'source': {'type': 'analytical_source_fx', 'value': 0}}]"
      ]
     },
     "execution_count": 9,
     "metadata": {},
     "output_type": "execute_result"
    }
   ],
   "source": [
    "mesh_data = ps.apply_physics(mesh_data, ELEMENT)\n",
    "mesh_data['conn_data'][:1]"
   ]
  },
  {
   "cell_type": "markdown",
   "metadata": {},
   "source": [
    "#### Material Propriety, $a$"
   ]
  },
  {
   "cell_type": "code",
   "execution_count": 10,
   "metadata": {},
   "outputs": [
    {
     "name": "stdout",
     "output_type": "stream",
     "text": [
      "Material 'a' values: \n",
      " [1 1 1 1 1 1 1 1 1 1 1 1 1 1 1 1 1 1 1 1]\n"
     ]
    }
   ],
   "source": [
    "a = [element['material']['a_value'] for element in mesh_data['conn_data']]\n",
    "print(\"Material 'a' values: \\n\", np.array(a))"
   ]
  },
  {
   "cell_type": "markdown",
   "metadata": {},
   "source": [
    "#### Source: Analytical source, $f(x)$"
   ]
  },
  {
   "cell_type": "code",
   "execution_count": 11,
   "metadata": {},
   "outputs": [
    {
     "name": "stdout",
     "output_type": "stream",
     "text": [
      "Source vector Fx: \n",
      " [0 0 0 0 0 0 0 0 0 0 0 0 0 0 0 0 0 0 0 0]\n"
     ]
    }
   ],
   "source": [
    "Fx = [element['source']['value'] for element in mesh_data['conn_data']]\n",
    "print(\"Source vector Fx: \\n\", np.array(Fx))"
   ]
  },
  {
   "cell_type": "markdown",
   "metadata": {},
   "source": [
    "#### Linear Jacobian"
   ]
  },
  {
   "cell_type": "code",
   "execution_count": 12,
   "metadata": {},
   "outputs": [
    {
     "name": "stdout",
     "output_type": "stream",
     "text": [
      "Jacobian matrix for element e_0:\n",
      " [[-0.39164173 -0.71793226]\n",
      " [ 0.11783358 -0.59584406]]\n",
      "Determinant of the Jacobian matrix for element e_0: 0.31795392666059685\n"
     ]
    }
   ],
   "source": [
    "Je = matrices_assembly.jacobian(e=0, mesh_data=mesh_data, element_type=ELEMENT, xik=(0, 0)) \n",
    "Jdet, Jinv = np.linalg.det(Je), np.linalg.inv(Je)\n",
    "print(\"Jacobian matrix for element e_0:\\n\", Je)\n",
    "print(\"Determinant of the Jacobian matrix for element e_0:\", Jdet)"
   ]
  },
  {
   "cell_type": "markdown",
   "metadata": {},
   "source": [
    "#### Local Elements $e_1$"
   ]
  },
  {
   "cell_type": "code",
   "execution_count": 13,
   "metadata": {},
   "outputs": [
    {
     "name": "stdout",
     "output_type": "stream",
     "text": [
      "Local stiffness matrix for element e_1:\n",
      " [[ 0.43162011  0.01999067 -0.45161078]\n",
      " [ 0.01999067  0.58013893 -0.6001296 ]\n",
      " [-0.45161078 -0.6001296   1.05174038]]\n",
      "Local load vector for element e_1:\n",
      " [[0.]\n",
      " [0.]\n",
      " [0.]]\n",
      "Area of element e_1:  0.15897696333029843\n"
     ]
    }
   ],
   "source": [
    "Ae, Fe, areae = matrices_assembly.linear_local_matrices(e=0, mesh_data=mesh_data)\n",
    "print(\"Local stiffness matrix for element e_1:\\n\", Ae)\n",
    "print(\"Local load vector for element e_1:\\n\", Fe)\n",
    "print(\"Area of element e_1: \", areae)"
   ]
  },
  {
   "cell_type": "markdown",
   "metadata": {},
   "source": [
    "#### Global “stiffness” matrix, $A_g$"
   ]
  },
  {
   "cell_type": "code",
   "execution_count": 14,
   "metadata": {},
   "outputs": [
    {
     "name": "stdout",
     "output_type": "stream",
     "text": [
      "Global matrix shape: (17, 17)\n"
     ]
    }
   ],
   "source": [
    "Ag, fg = matrices_assembly.get_global_matrix(mesh_data, ELEMENT)\n",
    "print(\"Global matrix shape:\", Ag.shape)"
   ]
  },
  {
   "cell_type": "markdown",
   "metadata": {},
   "source": [
    "### Imposition of Boundary Conditions"
   ]
  },
  {
   "cell_type": "code",
   "execution_count": 15,
   "metadata": {},
   "outputs": [
    {
     "name": "stdout",
     "output_type": "stream",
     "text": [
      "The entire domain has 17 nodes: 5 free nodes and 12 Dirichlet nodes.\n",
      "Free nodes: \n",
      " [13 14 15 16 17]\n",
      "Dirichlet nodes: \n",
      " [ 1  2  3  4  5  6  7  8  9 10 11 12]\n",
      "Dirichlet nodes values: \n",
      " [0. 0. 0. 0. 0. 0. 0. 0. 0. 0. 0. 0.]\n"
     ]
    }
   ],
   "source": [
    "dirichlet_nodes = [\n",
    "    node['TagID'] for node in mesh_data['nodes_data'] if node['bc']['type'] == 'Dirichlet']\n",
    "dirichlet_values = [\n",
    "    node['bc']['value'] for node in mesh_data['nodes_data'] if node['bc']['type'] == 'Dirichlet']\n",
    "free_nodes = [\n",
    "    node['TagID'] for node in mesh_data['nodes_data'] if node['bc']['type'] == 'Free']\n",
    "\n",
    "print(f\"The entire domain has {len(nodes)} nodes: \" \n",
    "      f\"{len(nodes) - len(dirichlet_nodes)} free nodes and {len(dirichlet_nodes)} Dirichlet nodes.\")\n",
    "print(\"Free nodes: \\n\", np.array(free_nodes))\n",
    "print(\"Dirichlet nodes: \\n\", np.array(dirichlet_nodes))\n",
    "print(\"Dirichlet nodes values: \\n\", np.array(dirichlet_values))"
   ]
  },
  {
   "cell_type": "markdown",
   "metadata": {},
   "source": [
    "### `assign_dirichlet_potential()`"
   ]
  },
  {
   "cell_type": "code",
   "execution_count": 16,
   "metadata": {},
   "outputs": [
    {
     "data": {
      "text/plain": [
       "[{'TagID': 1,\n",
       "  'global_coord': (0.0, 0.0),\n",
       "  'bc': {'type': 'Dirichlet', 'value': 0.0}},\n",
       " {'TagID': 2,\n",
       "  'global_coord': (0.0, -1.0),\n",
       "  'bc': {'type': 'Dirichlet', 'value': 0.0}},\n",
       " {'TagID': 3,\n",
       "  'global_coord': (1.0, -1.0),\n",
       "  'bc': {'type': 'Dirichlet', 'value': 0.6299605249474365}},\n",
       " {'TagID': 4,\n",
       "  'global_coord': (1.0, 1.0),\n",
       "  'bc': {'type': 'Dirichlet', 'value': 1.2599210498948732}},\n",
       " {'TagID': 5,\n",
       "  'global_coord': (-1.0, 1.0),\n",
       "  'bc': {'type': 'Dirichlet', 'value': 0.629960524947437}},\n",
       " {'TagID': 6,\n",
       "  'global_coord': (-1.0, 0.0),\n",
       "  'bc': {'type': 'Dirichlet', 'value': 1.2246467991473532e-16}},\n",
       " {'TagID': 7,\n",
       "  'global_coord': (0.0, -0.2305846405365542),\n",
       "  'bc': {'type': 'Dirichlet', 'value': 0.0}},\n",
       " {'TagID': 8,\n",
       "  'global_coord': (0.0, -0.5519932425989125),\n",
       "  'bc': {'type': 'Dirichlet', 'value': 0.0}},\n",
       " {'TagID': 9,\n",
       "  'global_coord': (1.0, -2.752797989558076e-12),\n",
       "  'bc': {'type': 'Dirichlet', 'value': 0.866025403783521}},\n",
       " {'TagID': 10,\n",
       "  'global_coord': (2.752797989558076e-12, 1.0),\n",
       "  'bc': {'type': 'Dirichlet', 'value': 0.8660254037853562}},\n",
       " {'TagID': 11,\n",
       "  'global_coord': (-0.551993242601698, 0.0),\n",
       "  'bc': {'type': 'Dirichlet', 'value': 8.240749115744919e-17}},\n",
       " {'TagID': 12,\n",
       "  'global_coord': (-0.2305846405379479, 0.0),\n",
       "  'bc': {'type': 'Dirichlet', 'value': 4.605015558309308e-17}},\n",
       " {'TagID': 13,\n",
       "  'global_coord': (-0.3916417253665321, 0.2820677427439965),\n",
       "  'bc': {'type': 'Free', 'value': None}},\n",
       " {'TagID': 14,\n",
       "  'global_coord': (0.2820677427432404, -0.3916417253651895),\n",
       "  'bc': {'type': 'Free', 'value': None}},\n",
       " {'TagID': 15,\n",
       "  'global_coord': (0.3832760662684473, 0.1411783684503992),\n",
       "  'bc': {'type': 'Free', 'value': None}},\n",
       " {'TagID': 16,\n",
       "  'global_coord': (0.1178335817045444, 0.4041559357628871),\n",
       "  'bc': {'type': 'Free', 'value': None}},\n",
       " {'TagID': 17,\n",
       "  'global_coord': (0.5478847727084085, 0.552397492733339),\n",
       "  'bc': {'type': 'Free', 'value': None}}]"
      ]
     },
     "execution_count": 16,
     "metadata": {},
     "output_type": "execute_result"
    }
   ],
   "source": [
    "potential_function = lambda x, y: ps.potential_and_gradient(x, y)[0]\n",
    "boundary_conditions.assign_dirichlet_potential(mesh_data, potential_function)\n",
    "dirichlet_values = [\n",
    "    node['bc']['value'] for node in mesh_data['nodes_data'] if node['bc']['type'] == 'Dirichlet']\n",
    "mesh_data['nodes_data']"
   ]
  },
  {
   "cell_type": "markdown",
   "metadata": {},
   "source": [
    "### Mapping Global nodes to reduced system\n",
    "\n",
    "This code creates a dictionary called ``global_to_reduced``, which maps the global indices of the mesh nodes to the reduced indices, i.e. the indices that correspond only to the nodes that are not in the _Dirichlet boundary conditions_."
   ]
  },
  {
   "cell_type": "code",
   "execution_count": 17,
   "metadata": {},
   "outputs": [
    {
     "name": "stdout",
     "output_type": "stream",
     "text": [
      "Global to reduced nodes mapping:\n"
     ]
    },
    {
     "data": {
      "text/plain": [
       "{13: 0, 14: 1, 15: 2, 16: 3, 17: 4}"
      ]
     },
     "execution_count": 17,
     "metadata": {},
     "output_type": "execute_result"
    }
   ],
   "source": [
    "global_to_reduced = {node: i for i, node in enumerate(\n",
    "        idx_n for idx_n in range(1, len(nodes)+1) if idx_n not in dirichlet_nodes\n",
    "    )}\n",
    "print(\"Global to reduced nodes mapping:\"); global_to_reduced"
   ]
  },
  {
   "cell_type": "markdown",
   "metadata": {},
   "source": [
    "## Processor Module\n",
    "### Asymmetric Global matrix $A_g$ with boundary conditions"
   ]
  },
  {
   "cell_type": "code",
   "execution_count": 18,
   "metadata": {},
   "outputs": [
    {
     "name": "stdout",
     "output_type": "stream",
     "text": [
      "Global matrix shape: (17, 17)\n"
     ]
    }
   ],
   "source": [
    "Ag, fg = boundary_conditions.apply_simple_dirichlet(Ag, fg, mesh_data)\n",
    "print(\"Global matrix shape:\", Ag.shape)"
   ]
  },
  {
   "cell_type": "markdown",
   "metadata": {},
   "source": [
    "### Global Potential Vector"
   ]
  },
  {
   "cell_type": "code",
   "execution_count": 19,
   "metadata": {},
   "outputs": [
    {
     "name": "stdout",
     "output_type": "stream",
     "text": [
      "The solution vector u is: \n",
      " [0.00000000e+00 0.00000000e+00 6.29960525e-01 1.25992105e+00\n",
      " 6.29960525e-01 1.22464680e-16 0.00000000e+00 0.00000000e+00\n",
      " 8.66025404e-01 8.66025404e-01 8.24074912e-17 4.60501556e-17\n",
      " 2.44532100e-01 2.43987077e-01 4.99327889e-01 5.04675082e-01\n",
      " 8.31677996e-01]\n"
     ]
    }
   ],
   "source": [
    "# Make sure Ag is in CSR format for efficiency\n",
    "# Convert fg to a dense format or keep it sparse as needed\n",
    "# Solve the linear system Ag * u = fg\n",
    "u = spsolve(Ag.tocsr(), fg.toarray())\n",
    "print(\"The solution vector u is: \\n\", u)"
   ]
  },
  {
   "cell_type": "markdown",
   "metadata": {},
   "source": [
    "### Reduced Global matrix $A_{gr}$ with boundary conditions"
   ]
  },
  {
   "cell_type": "code",
   "execution_count": 20,
   "metadata": {},
   "outputs": [
    {
     "name": "stdout",
     "output_type": "stream",
     "text": [
      "Reduced global matrix shape: (5, 5)\n",
      "Reduced global matrix: \n",
      "   (0, 0)\t4.333772835004987\n",
      "  (0, 3)\t-0.777265974537105\n",
      "  (1, 1)\t4.313831477824053\n",
      "  (1, 2)\t-0.7040590023883485\n",
      "  (2, 1)\t-0.7040590023883485\n",
      "  (2, 2)\t3.828327007949706\n",
      "  (2, 3)\t-0.8017755903637804\n",
      "  (2, 4)\t-0.8909770334083817\n",
      "  (3, 0)\t-0.777265974537105\n",
      "  (3, 2)\t-0.8017755903637804\n",
      "  (3, 3)\t3.8210177591383294\n",
      "  (3, 4)\t-0.8165085500261808\n",
      "  (4, 2)\t-0.8909770334083817\n",
      "  (4, 3)\t-0.8165085500261808\n",
      "  (4, 4)\t4.077741722128871\n",
      "Reduced force vector: \n",
      "   (0, 0)\t0.6674798031287459\n",
      "  (1, 0)\t0.7009628383613447\n",
      "  (2, 0)\t0.5941669901908456\n",
      "  (3, 0)\t0.6588848608226595\n",
      "  (4, 0)\t2.534406862910594\n"
     ]
    }
   ],
   "source": [
    "Agr, fgr = boundary_conditions.get_reduced_global_matrix(mesh_data, ELEMENT)\n",
    "print(\"Reduced global matrix shape:\", Agr.shape)\n",
    "print(\"Reduced global matrix: \\n\", Agr)\n",
    "print(\"Reduced force vector: \\n\", fgr)"
   ]
  },
  {
   "cell_type": "markdown",
   "metadata": {},
   "source": [
    "### Global Potential Vector"
   ]
  },
  {
   "cell_type": "code",
   "execution_count": 21,
   "metadata": {},
   "outputs": [
    {
     "name": "stdout",
     "output_type": "stream",
     "text": [
      "The reduced solution vector ur is: \n",
      " [0.2445321  0.24398708 0.49932789 0.50467508 0.831678  ]\n",
      "The global potential vector V is: \n",
      " [0.00000000e+00 0.00000000e+00 6.29960525e-01 1.25992105e+00\n",
      " 6.29960525e-01 1.22464680e-16 0.00000000e+00 0.00000000e+00\n",
      " 8.66025404e-01 8.66025404e-01 8.24074912e-17 4.60501556e-17\n",
      " 2.44532100e-01 2.43987077e-01 4.99327889e-01 5.04675082e-01\n",
      " 8.31677996e-01]\n"
     ]
    }
   ],
   "source": [
    "ur = spsolve(Agr.tocsr(), fgr.toarray())\n",
    "potential_u = boundary_conditions.get_global_potentials(mesh_data, ur)\n",
    "print(\"The reduced solution vector ur is: \\n\", ur)\n",
    "print(\"The global potential vector V is: \\n\", potential_u)"
   ]
  },
  {
   "cell_type": "markdown",
   "metadata": {},
   "source": [
    "### Solution at each element"
   ]
  },
  {
   "cell_type": "code",
   "execution_count": 22,
   "metadata": {},
   "outputs": [
    {
     "name": "stdout",
     "output_type": "stream",
     "text": [
      "The solution u for Node Element is: \n",
      " [[8.66025404e-01 2.44532100e-01 5.04675082e-01]\n",
      " [2.43987077e-01 8.66025404e-01 4.99327889e-01]\n",
      " [6.29960525e-01 8.66025404e-01 2.43987077e-01]\n",
      " [8.66025404e-01 6.29960525e-01 2.44532100e-01]\n",
      " [0.00000000e+00 4.99327889e-01 5.04675082e-01]\n",
      " [2.44532100e-01 0.00000000e+00 5.04675082e-01]\n",
      " [0.00000000e+00 2.43987077e-01 4.99327889e-01]\n",
      " [8.66025404e-01 1.25992105e+00 8.31677996e-01]\n",
      " [1.25992105e+00 8.66025404e-01 8.31677996e-01]\n",
      " [0.00000000e+00 0.00000000e+00 2.43987077e-01]\n",
      " [8.24074912e-17 4.60501556e-17 2.44532100e-01]\n",
      " [5.04675082e-01 4.99327889e-01 8.31677996e-01]\n",
      " [4.99327889e-01 8.66025404e-01 8.31677996e-01]\n",
      " [8.66025404e-01 5.04675082e-01 8.31677996e-01]\n",
      " [0.00000000e+00 0.00000000e+00 2.43987077e-01]\n",
      " [4.60501556e-17 0.00000000e+00 2.44532100e-01]\n",
      " [0.00000000e+00 6.29960525e-01 2.43987077e-01]\n",
      " [0.00000000e+00 0.00000000e+00 2.43987077e-01]\n",
      " [6.29960525e-01 1.22464680e-16 2.44532100e-01]\n",
      " [1.22464680e-16 8.24074912e-17 2.44532100e-01]]\n"
     ]
    }
   ],
   "source": [
    "u_list = []\n",
    "for e in range(len(conn)):\n",
    "    uh_values = [potential_u[id - 1] for id in conn[e]]\n",
    "    u_list.append(uh_values)\n",
    "print(\"The solution u for Node Element is: \\n\", np.array(u_list))"
   ]
  },
  {
   "cell_type": "code",
   "execution_count": 23,
   "metadata": {},
   "outputs": [
    {
     "name": "stdout",
     "output_type": "stream",
     "text": [
      "Element e_13: Potential 'u' interpolate at xi = (1, 0) --> u(xi): 0.866025403783521\n"
     ]
    }
   ],
   "source": [
    "xi_master = (1,0)\n",
    "element = 13\n",
    "u_at_node = matrices_assembly.isomapping_to_global_coordinates(u_list[element-1], xi_master, ELEMENT)\n",
    "print(f\"Element e_{element}: Potential 'u' interpolate at xi = {xi_master} --> u(xi): {u_at_node[0]}\")"
   ]
  },
  {
   "cell_type": "markdown",
   "metadata": {},
   "source": [
    "## Post-Processor"
   ]
  },
  {
   "cell_type": "code",
   "execution_count": 24,
   "metadata": {},
   "outputs": [
    {
     "name": "stdout",
     "output_type": "stream",
     "text": [
      "Arquivo salvo em: c:\\Users\\adilt\\OneDrive\\01 ACADEMIA\\06 MODELOS\\8.FEM\\ppgee\\projects\\p13_L_domain_poisson\\pos_processing\\pictures\\L_domain_solution_Triangle1.svg\n",
      "Arquivo salvo em: c:\\Users\\adilt\\OneDrive\\01 ACADEMIA\\06 MODELOS\\8.FEM\\ppgee\\projects\\p13_L_domain_poisson\\pos_processing\\pictures\\L_analytical_solution.svg\n"
     ]
    }
   ],
   "source": [
    "graph_results.approximate_fem_solution(ELEMENT, mesh_data, potential_u, model='L')\n",
    "graph_results.L_analytical_solution(potential_function)"
   ]
  },
  {
   "cell_type": "markdown",
   "metadata": {},
   "source": [
    "### Figure 2: Scalar Field Distribution on a Numeric Triangular Mesh\n",
    "<figure>\n",
    "    <img src=\"pos_processing/pictures/L_domain_solution_Triangle1.svg\" alt=\"Fig.2\" style=\"width:100%;\" />\n",
    "    <figcaption>Figure 2: Post-Processor: Scalar Field Distribution.</figcaption>\n",
    "</figure>\n",
    "\n",
    "### Figure 3: Analytical Scalar Field Distribution\n",
    "<figure>\n",
    "    <img src=\"pos_processing/pictures/L_analytical_solution.svg\" alt=\"Fig.3\" style=\"width:100%;\" />\n",
    "    <figcaption>Figure 4: Analytical Scalar Field Distribution on a Triangular Mesh.</figcaption>\n",
    "</figure>"
   ]
  },
  {
   "cell_type": "markdown",
   "metadata": {},
   "source": [
    "Conversão do arquivo Jupyter Notebook para um script Python: ``python -m nbconvert --to script name.ipynb``\n",
    "\n",
    "Belo Horizonte, Brazil. 2024.  \n",
    "Adilton Junio Ladeira Pereira - adt@ufmg.br  \n",
    "&copy; All rights reserved."
   ]
  }
 ],
 "metadata": {
  "kernelspec": {
   "display_name": "Python 3",
   "language": "python",
   "name": "python3"
  },
  "language_info": {
   "codemirror_mode": {
    "name": "ipython",
    "version": 3
   },
   "file_extension": ".py",
   "mimetype": "text/x-python",
   "name": "python",
   "nbconvert_exporter": "python",
   "pygments_lexer": "ipython3",
   "version": "3.12.7"
  }
 },
 "nbformat": 4,
 "nbformat_minor": 2
}
