{
 "cells": [
  {
   "cell_type": "code",
   "execution_count": null,
   "metadata": {},
   "outputs": [],
   "source": [
    "import import_ipynb\n",
    "import numpy as np"
   ]
  },
  {
   "cell_type": "markdown",
   "metadata": {},
   "source": [
    "# Project 1: Poisson Problem at $L$ Domain   \n",
    "\n",
    "Considere a geometria L apresentada na Figura $(1)$.\n",
    "\n",
    "<figure>\n",
    "    <img src=\"pre_processing/pictures/L_domain.png\" alt=\"Fig.1\" style=\"width:20%;\" />\n",
    "    <figcaption>Figure 1: Geometry of L domain.</figcaption>\n",
    "</figure>\n",
    "\n",
    "Não há cargas no domínio e a solução exata para o problema é\n",
    "\n",
    "$$\n",
    "V(r, \\theta) = r^{2/3} sin \\left( \\frac{2\\theta}{3} + \\frac{\\pi}{3} \\right)\n",
    "\\tag{1}\n",
    "$$\n",
    "\n",
    "onde $r$ e $\\theta$ são as coordenadas polares, \n",
    "\n",
    "$$\n",
    "\\begin{cases}\n",
    "r = \\sqrt{x^2 + y^2}  \\\\\n",
    "\\theta = arctan(y/x) \\tag{2}\n",
    "\\end{cases}\n",
    "$$\n",
    "\n",
    "A variação de $\\theta$ para a geometria é $-\\pi/2 \\leq \\theta \\leq \\pi$.\n",
    "\n",
    "As condições de contorno são todas de Dirichlet e podem ser calculadas utilizando a expressão da solução exata sobre as fronteiras.\n",
    "\n",
    "Usar malhas com densidades diferentes e verificar a convergência da sua solução à medida que refinna a malha. Calcule os erros na norma $L_2$ e na norma de energia. A melhor forma de verificar a convergência é traçar gráfios em escala _log-log_ da norma do erro em função de h. Se tudo estiver correto, em escala _log-log_ você obterá retas cujas inclinações fornecerão as taxas de convergência."
   ]
  },
  {
   "cell_type": "markdown",
   "metadata": {},
   "source": [
    "# `apply_physics()`"
   ]
  },
  {
   "cell_type": "code",
   "execution_count": null,
   "metadata": {},
   "outputs": [],
   "source": [
    "def apply_physics(mesh_data, element_type):\n",
    "    \"\"\"\n",
    "    Adiciona uma nova chave 'source' a cada dicionário em conn_data.\n",
    "    \n",
    "    Parâmetros:\n",
    "    - mesh_data: Dicionário contendo os dados da malha.\n",
    "    - element_type: Tuple (tipo do elemento, ordem).\n",
    "    \n",
    "    Retorna:\n",
    "    - mesh_data: O dicionário atualizado com a chave 'source' em cada elemento de conn_data.\n",
    "    \"\"\"\n",
    "    # Desempacotar o tipo de elemento\n",
    "    type, order = element_type\n",
    "    \n",
    "    # Lista de coordenadas globais dos nós\n",
    "    nodes = [node['global_coord'] for node in mesh_data['nodes_data']]\n",
    "    \n",
    "    for cell in mesh_data['conn_data']:\n",
    "        # Obter os índices dos nós conectados ao elemento\n",
    "        conn = cell['conn_list']\n",
    "\n",
    "        if type == 'Triangle':\n",
    "            # Para elementos P1, P2 ou P3, usar os 3 vértices principais\n",
    "            if order in [1, 2, 3]:\n",
    "                vertices = conn[:3]\n",
    "            else:\n",
    "                raise ValueError(\"Tipo de elemento não suportado para triângulos: P1, P2 ou P3 são esperados.\")\n",
    "\n",
    "            # Obter as coordenadas dos vértices do triângulo\n",
    "            v1, v2, v3 = [nodes[idx - 1] for idx in vertices]\n",
    "\n",
    "            # Cálculo do baricentro\n",
    "            x_centroid = (v1[0] + v2[0] + v3[0]) / 3\n",
    "            y_centroid = (v1[1] + v2[1] + v3[1]) / 3\n",
    "\n",
    "        elif type == 'Quadrangle':\n",
    "            # Para elementos quadrangulares Q1 e Q2, considerar todos os nós\n",
    "            if order in [1, 2]:\n",
    "                vertices = conn[:4]\n",
    "            else:\n",
    "                raise ValueError(\"Tipo de elemento não suportado para quadriláteros: Q1 ou Q2 são esperados.\")\n",
    "\n",
    "            # Obter as coordenadas dos vértices do quadrilátero\n",
    "            vertex_coords = [nodes[idx - 1] for idx in vertices]\n",
    "\n",
    "            # Cálculo do centro do elemento\n",
    "            x_centroid = sum(v[0] for v in vertex_coords) / len(vertex_coords)\n",
    "            y_centroid = sum(v[1] for v in vertex_coords) / len(vertex_coords)\n",
    "\n",
    "        else:\n",
    "            raise ValueError(\"Tipo de elemento não suportado: apenas Triangle ou Quadrilateral são esperados.\")\n",
    "\n",
    "        # Adicionar nova chave 'a_value' - Poisson problem\n",
    "        cell['material']['a_value'] = cell['material']['value']\n",
    "\n",
    "        # Adicionar a nova chave 'source' ao dicionário da célula\n",
    "        cell['source'] = {\n",
    "            'type': 'analytical_source_fx',\n",
    "            'value': 0\n",
    "        }\n",
    "\n",
    "    return mesh_data"
   ]
  },
  {
   "cell_type": "markdown",
   "metadata": {},
   "source": [
    "# `set_analytical_solution()`"
   ]
  },
  {
   "cell_type": "code",
   "execution_count": null,
   "metadata": {},
   "outputs": [],
   "source": [
    "def potential_and_gradient(x, y):\n",
    "    \"\"\"\n",
    "    Calcula a solução analítica u(x, y) e seu gradiente em coordenadas cartesianas.\n",
    "\n",
    "    Parâmetros:\n",
    "    - x, y: Coordenadas cartesianas do ponto.\n",
    "\n",
    "    Retorna:\n",
    "    - u: Valor da solução analítica no ponto (x, y).\n",
    "    - grad_u: Vetor gradiente da solução analítica no ponto (x, y).\n",
    "    \"\"\"\n",
    "    # Converter para coordenadas polares\n",
    "    r = np.sqrt(x**2 + y**2)\n",
    "    theta = np.arctan2(y, x)\n",
    "\n",
    "    # Solução analítica\n",
    "    u = r**(2/3) * np.sin(2 * theta / 3 + np.pi / 3)\n",
    "    \n",
    "    # Verificação para evitar problemas numéricos em R ~ 0\n",
    "    epsilon = 1e-10\n",
    "    if r < epsilon:\n",
    "        return u, np.array([0.0, 0.0])  # Gradiente indefinido no ponto singular\n",
    "    \n",
    "    # Derivadas parciais em coordenadas polares\n",
    "    du_dR = (2 / 3) * r**(-1/3) * np.sin(2 * theta / 3 + np.pi / 3)\n",
    "    du_dtheta = r**(2/3) * (2 / 3) * np.cos(2 * theta / 3 + np.pi / 3)\n",
    "    \n",
    "    # Gradiente em coordenadas cartesianas\n",
    "    grad_x = du_dR * (x / r) - (1 / r) * du_dtheta * (y / r)\n",
    "    grad_y = du_dR * (y / r) + (1 / r) * du_dtheta * (x / r)\n",
    "    grad_u = np.array([grad_x, grad_y])\n",
    "\n",
    "    return u, grad_u"
   ]
  },
  {
   "cell_type": "markdown",
   "metadata": {},
   "source": [
    "Conversão do arquivo Jupyter Notebook para um script Python: ``python -m nbconvert --to script name.ipynb``\n",
    "\n",
    "Belo Horizonte, Brazil. 2024.  \n",
    "Adilton Junio Ladeira Pereira - adt@ufmg.br  \n",
    "&copy; All rights reserved."
   ]
  }
 ],
 "metadata": {
  "kernelspec": {
   "display_name": "Python 3",
   "language": "python",
   "name": "python3"
  },
  "language_info": {
   "codemirror_mode": {
    "name": "ipython",
    "version": 3
   },
   "file_extension": ".py",
   "mimetype": "text/x-python",
   "name": "python",
   "nbconvert_exporter": "python",
   "pygments_lexer": "ipython3",
   "version": "3.12.7"
  }
 },
 "nbformat": 4,
 "nbformat_minor": 2
}
