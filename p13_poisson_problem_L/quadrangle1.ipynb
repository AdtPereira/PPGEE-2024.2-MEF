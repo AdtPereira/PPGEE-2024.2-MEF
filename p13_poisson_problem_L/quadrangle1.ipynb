{
 "cells": [
  {
   "cell_type": "code",
   "execution_count": 15,
   "metadata": {},
   "outputs": [
    {
     "name": "stdout",
     "output_type": "stream",
     "text": [
      "Project root added to sys.path: C:\\Users\\adilt\\OneDrive\\01 ACADEMIA\\06 MODELOS\\8.FEM\\ppgee\\projects\n",
      "Modules imports were successful!\n"
     ]
    }
   ],
   "source": [
    "import sys\n",
    "import numpy as np\n",
    "import import_ipynb\n",
    "from scipy.sparse.linalg import spsolve\n",
    "from pathlib import Path\n",
    "\n",
    "# Adicionar o diretório raiz do projeto ao sys.path\n",
    "project_root = Path().resolve().parent  \n",
    "sys.path.append(str(project_root))\n",
    "\n",
    "# Verifique se os caminhos foram adicionados\n",
    "print(\"Project root added to sys.path:\", project_root)\n",
    "\n",
    "# Importando notebooks diretamente\n",
    "try:\n",
    "    import problem_statement as ps  \n",
    "    from pre_processing import create_domain, read_mesh\n",
    "    from fem_processing import boundary_conditions\n",
    "    from pos_processing import graph_results\n",
    "    print(\"Modules imports were successful!\")\n",
    "except ModuleNotFoundError as e:\n",
    "    print(f\"Modules were not found: {e}\")\n",
    "except ImportError as e:\n",
    "    print(f\"Error in import: {e}\")\n",
    "    \n",
    "#run ../setup_project.py"
   ]
  },
  {
   "cell_type": "markdown",
   "metadata": {},
   "source": [
    "# Project 1: Poisson Problem at L Domain "
   ]
  },
  {
   "cell_type": "markdown",
   "metadata": {},
   "source": [
    "# Bilinear Quadrilateral Lagrangian Element $Q_1$\n",
    "## Pre-processor module\n",
    "### Geometry and mesh Domain"
   ]
  },
  {
   "cell_type": "code",
   "execution_count": 16,
   "metadata": {},
   "outputs": [
    {
     "name": "stdout",
     "output_type": "stream",
     "text": [
      "Model L_domain_Quadrangle1 (2D)\n",
      "Info     : 13 geometric entities\n",
      "Info     : 2 Physical Groups\n",
      "Info     : 760 nodes in total\n",
      "Info     : 707 2-D elements in total\n"
     ]
    }
   ],
   "source": [
    "FINITE_ELEMENT = (\"Quadrangle\", 1)\n",
    "BOUNDARY = [{'type': 'Dirichlet', 'tag': 101, 'value': 0.0, 'name': 'entire_boundary'}]\n",
    "MATERIAL = [{'type': 'material_constant_a', 'tag': 201, 'value': 1, 'name': 'entire_domain'}]\n",
    "\n",
    "# Create mesh from file geometry\n",
    "create_domain.L_geometry(FINITE_ELEMENT, BOUNDARY, lc=0.1, view_mesh=False)\n",
    "mesh_data = read_mesh.get_data(FINITE_ELEMENT, BOUNDARY, MATERIAL, model='L')"
   ]
  },
  {
   "cell_type": "markdown",
   "metadata": {},
   "source": [
    "### Figure 1: L meshed domain"
   ]
  },
  {
   "cell_type": "code",
   "execution_count": 17,
   "metadata": {},
   "outputs": [
    {
     "name": "stdout",
     "output_type": "stream",
     "text": [
      "Arquivo salvo em: c:\\Users\\adilt\\OneDrive\\01 ACADEMIA\\06 MODELOS\\8.FEM\\ppgee\\projects\\p13_L_domain_poisson\\pre_processing\\pictures\\L_meshed_domain_Quadrangle1.svg\n"
     ]
    }
   ],
   "source": [
    "graph_results.plot_mesh(mesh_data, FINITE_ELEMENT, model='L')"
   ]
  },
  {
   "cell_type": "markdown",
   "metadata": {},
   "source": [
    "<figure>\n",
    "    <img src=\"pre_processing/pictures/L_meshed_domain_Quadrangle1.svg\" alt=\"Fig.1\" style=\"width:100%;\" />\n",
    "    <figcaption>Figure 1: Rectangular meshed domain $\\Omega=[0,1]^2$.</figcaption>\n",
    "</figure>"
   ]
  },
  {
   "cell_type": "code",
   "execution_count": 18,
   "metadata": {},
   "outputs": [],
   "source": [
    "nodes = [node['global_coord'] for node in mesh_data['nodes_data']]\n",
    "conn = [element['conn_list'] for element in mesh_data['conn_data']]"
   ]
  },
  {
   "cell_type": "markdown",
   "metadata": {},
   "source": [
    "#### `apply_physics()`"
   ]
  },
  {
   "cell_type": "code",
   "execution_count": 19,
   "metadata": {},
   "outputs": [
    {
     "data": {
      "text/plain": [
       "[{'TagID': 105,\n",
       "  'conn_list': [141, 548, 416, 450],\n",
       "  'material': {'type': 'material_constant_a',\n",
       "   'tag': 201,\n",
       "   'value': 1,\n",
       "   'name': 'entire_domain',\n",
       "   'a_value': 1},\n",
       "  'source': {'type': 'analytical_source_fx', 'value': 0}}]"
      ]
     },
     "execution_count": 19,
     "metadata": {},
     "output_type": "execute_result"
    }
   ],
   "source": [
    "mesh_data = ps.apply_physics(mesh_data, FINITE_ELEMENT)\n",
    "mesh_data['conn_data'][:1]"
   ]
  },
  {
   "cell_type": "markdown",
   "metadata": {},
   "source": [
    "### Imposition of Boundary Conditions"
   ]
  },
  {
   "cell_type": "code",
   "execution_count": 20,
   "metadata": {},
   "outputs": [
    {
     "name": "stdout",
     "output_type": "stream",
     "text": [
      "The entire domain has 760 nodes: 656 free nodes and 104 Dirichlet nodes.\n"
     ]
    }
   ],
   "source": [
    "dirichlet_nodes = [\n",
    "    node['TagID'] for node in mesh_data['nodes_data'] if node['bc']['type'] == 'Dirichlet']\n",
    "dirichlet_values = [\n",
    "    node['bc']['value'] for node in mesh_data['nodes_data'] if node['bc']['type'] == 'Dirichlet']\n",
    "free_nodes = [\n",
    "    node['TagID'] for node in mesh_data['nodes_data'] if node['bc']['type'] == 'Free']\n",
    "\n",
    "print(f\"The entire domain has {len(nodes)} nodes: \" \n",
    "      f\"{len(nodes) - len(dirichlet_nodes)} free nodes and {len(dirichlet_nodes)} Dirichlet nodes.\")"
   ]
  },
  {
   "cell_type": "markdown",
   "metadata": {},
   "source": [
    "### `assign_dirichlet_potential()`"
   ]
  },
  {
   "cell_type": "code",
   "execution_count": 21,
   "metadata": {},
   "outputs": [],
   "source": [
    "potential_function = lambda x, y: ps.potential_and_gradient(x, y)[0]\n",
    "boundary_conditions.assign_dirichlet_potential(mesh_data, potential_function)"
   ]
  },
  {
   "cell_type": "markdown",
   "metadata": {},
   "source": [
    "### Reduced Global matrix $A_{gr}$ with boundary conditions"
   ]
  },
  {
   "cell_type": "code",
   "execution_count": 22,
   "metadata": {},
   "outputs": [
    {
     "name": "stdout",
     "output_type": "stream",
     "text": [
      "Reduced global matrix shape: (656, 656)\n"
     ]
    }
   ],
   "source": [
    "Agr, fgr = boundary_conditions.get_reduced_global_matrix(mesh_data, FINITE_ELEMENT)\n",
    "print(\"Reduced global matrix shape:\", Agr.shape)"
   ]
  },
  {
   "cell_type": "markdown",
   "metadata": {},
   "source": [
    "## Processor Module\n",
    "### Reduced Global matrix"
   ]
  },
  {
   "cell_type": "code",
   "execution_count": 23,
   "metadata": {},
   "outputs": [],
   "source": [
    "ur = spsolve(Agr.tocsr(), fgr.toarray())\n",
    "potential_u = boundary_conditions.get_global_potentials(mesh_data, ur)"
   ]
  },
  {
   "cell_type": "markdown",
   "metadata": {},
   "source": [
    "## Post-Processor"
   ]
  },
  {
   "cell_type": "code",
   "execution_count": 24,
   "metadata": {},
   "outputs": [
    {
     "name": "stdout",
     "output_type": "stream",
     "text": [
      "Arquivo salvo em: c:\\Users\\adilt\\OneDrive\\01 ACADEMIA\\06 MODELOS\\8.FEM\\ppgee\\projects\\p13_L_domain_poisson\\pos_processing\\pictures\\L_domain_solution_Quadrangle1_not_structured.svg\n"
     ]
    }
   ],
   "source": [
    "graph_results.approximate_not_structured_quadrangles(FINITE_ELEMENT, mesh_data, potential_u, model='L')"
   ]
  },
  {
   "cell_type": "markdown",
   "metadata": {},
   "source": [
    "### Figure 2: Scalar Field Distribution on a Numeric Triangular Mesh\n",
    "<figure>\n",
    "    <img src=\"pos_processing/pictures/L_domain_solution_Quadrangle1_not_structured.svg\" alt=\"Fig.2\" style=\"width:100%;\" />\n",
    "    <figcaption>Figure 2: Post-Processor: Scalar Field Distribution.</figcaption>\n",
    "</figure>\n",
    "\n",
    "### Figure 3: Analytical Scalar Field Distribution\n",
    "<figure>\n",
    "    <img src=\"pos_processing/pictures/L_analytical_solution.svg\" alt=\"Fig.3\" style=\"width:100%;\" />\n",
    "    <figcaption>Figure 4: Analytical Scalar Field Distribution on a Triangular Mesh.</figcaption>\n",
    "</figure>"
   ]
  },
  {
   "cell_type": "markdown",
   "metadata": {},
   "source": [
    "Conversão do arquivo Jupyter Notebook para um script Python: ``python -m nbconvert --to script name.ipynb``\n",
    "\n",
    "Belo Horizonte, Brazil. 2024.  \n",
    "Adilton Junio Ladeira Pereira - adt@ufmg.br  \n",
    "&copy; All rights reserved."
   ]
  }
 ],
 "metadata": {
  "kernelspec": {
   "display_name": "Python 3",
   "language": "python",
   "name": "python3"
  },
  "language_info": {
   "codemirror_mode": {
    "name": "ipython",
    "version": 3
   },
   "file_extension": ".py",
   "mimetype": "text/x-python",
   "name": "python",
   "nbconvert_exporter": "python",
   "pygments_lexer": "ipython3",
   "version": "3.12.7"
  }
 },
 "nbformat": 4,
 "nbformat_minor": 2
}
