{
 "cells": [
  {
   "cell_type": "code",
   "execution_count": 1,
   "metadata": {},
   "outputs": [
    {
     "name": "stdout",
     "output_type": "stream",
     "text": [
      "Project root added to sys.path: C:\\Users\\adilt\\OneDrive\\01 ACADEMIA\\06 MODELOS\\8.FEM\\ppgee\\projects\n",
      "Todas as propriedades foram verificadas com sucesso para os elementos P1!\n",
      "Todas as propriedades foram verificadas com sucesso para os elementos P2!\n",
      "Todas as propriedades foram verificadas com sucesso para os elementos P3!\n",
      "Todas as propriedades foram verificadas com sucesso para os elementos Q1!\n",
      "Todas as propriedades foram verificadas com sucesso para os elementos Q2!\n",
      "Modules imports were successful!\n"
     ]
    }
   ],
   "source": [
    "import sys\n",
    "from pathlib import Path\n",
    "import import_ipynb\n",
    "import numpy as np\n",
    "import gmsh\n",
    "from scipy.sparse.linalg import spsolve\n",
    "from analytical_solution import potential_and_gradient\n",
    "\n",
    "# Adicionar o diretório raiz do projeto ao sys.path\n",
    "project_root = Path().resolve().parent  \n",
    "sys.path.append(str(project_root))\n",
    "\n",
    "# Verifique se os caminhos foram adicionados\n",
    "print(\"Project root added to sys.path:\", project_root)\n",
    "\n",
    "# Importando notebooks diretamente\n",
    "try:\n",
    "    from pre_processing import domain, read_mesh\n",
    "    from fem_processing import boundary_conditions\n",
    "    from pos_processing import graph_results, error_evaluation\n",
    "    print(\"Modules imports were successful!\")\n",
    "except ModuleNotFoundError as e:\n",
    "    print(f\"Modules were not found: {e}\")\n",
    "except ImportError as e:\n",
    "    print(f\"Error in import: {e}\")"
   ]
  },
  {
   "cell_type": "markdown",
   "metadata": {},
   "source": [
    "# Project 1: Poisson Problem at $L$ Domain   \n",
    "\n",
    "Considere a geometria L apresentada na Figura $(1)$.\n",
    "\n",
    "<figure>\n",
    "    <img src=\"pre_processing/pictures/L_domain.png\" alt=\"Fig.1\" style=\"width:20%;\" />\n",
    "    <figcaption>Figure 1: Geometry of L domain.</figcaption>\n",
    "</figure>\n",
    "\n",
    "Não há cargas no domínio e a solução exata para o problema é\n",
    "\n",
    "$$\n",
    "V(r, \\theta) = r^{2/3} sin \\left( \\frac{2\\theta}{3} + \\frac{\\pi}{3} \\right)\n",
    "\\tag{1}\n",
    "$$\n",
    "\n",
    "onde $r$ e $\\theta$ são as coordenadas polares, \n",
    "\n",
    "$$\n",
    "\\begin{cases}\n",
    "r = \\sqrt{x^2 + y^2}  \\\\\n",
    "\\theta = arctan(y/x) \\tag{2}\n",
    "\\end{cases}\n",
    "$$\n",
    "\n",
    "A variação de $\\theta$ para a geometria é $-\\pi/2 \\leq \\theta \\leq \\pi$.\n",
    "\n",
    "As condições de contorno são todas de Dirichlet e podem ser calculadas utilizando a expressão da solução exata sobre as fronteiras.\n",
    "\n",
    "Usar malhas com densidades diferentes e verificar a convergência da sua solução à medida que refinna a malha. Calcule os erros na norma $L_2$ e na norma de energia. A melhor forma de verificar a convergência é traçar gráfios em escala _log-log_ da norma do erro em função de h. Se tudo estiver correto, em escala _log-log_ você obterá retas cujas inclinações fornecerão as taxas de convergência."
   ]
  },
  {
   "cell_type": "markdown",
   "metadata": {},
   "source": [
    "# `setTypeProblem()`"
   ]
  },
  {
   "cell_type": "code",
   "execution_count": 2,
   "metadata": {},
   "outputs": [],
   "source": [
    "def setTypeProblem(element_type, lc):\n",
    "    mesh_data = {}\n",
    "    gmsh.initialize()\n",
    "    \n",
    "    BOUNDARY = [{'type': 'Dirichlet', 'tag': 101, 'value': 0.0, 'name': 'entire_boundary'}]\n",
    "    MATERIAL = [{'type': 'material_constant_a', 'tag': 201, 'value': 1, 'name': 'entire_domain'}]\n",
    "    domain.get_L_geometry(element_type, BOUNDARY, lc, auto_save=False)\n",
    "    \n",
    "    # Create mesh Structure Data from gmsh\n",
    "    mesh_data['nodes_data'] = read_mesh.get_nodes_data(BOUNDARY)\n",
    "    mesh_data['conn_data'] = read_mesh.get_conn_data(MATERIAL)\n",
    "    gmsh.finalize()  \n",
    "\n",
    "    # Set FEM Problem\n",
    "    rho = np.zeros(len(mesh_data['conn_data']))\n",
    "    potential_function = lambda x, y: potential_and_gradient(x, y)[0]\n",
    "    boundary_conditions.assign_dirichlet_potential(mesh_data, potential_function)\n",
    "    Agr, fgr = boundary_conditions.get_reduced_global_matrix(mesh_data, rho, element_type)\n",
    "    ur = spsolve(Agr.tocsr(), fgr.toarray())\n",
    "    u = boundary_conditions.global_potential_vector(mesh_data, ur)\n",
    "\n",
    "    return u, mesh_data"
   ]
  },
  {
   "cell_type": "markdown",
   "metadata": {},
   "source": [
    "# `convergence()`"
   ]
  },
  {
   "cell_type": "code",
   "execution_count": 3,
   "metadata": {},
   "outputs": [],
   "source": [
    "element_types = [('Triangle', 1), ('Triangle', 2), ('Triangle', 3),\n",
    "                 ('Quadrangle', 1), ('Quadrangle', 2)]\n",
    "analytical_solution = lambda x, y: potential_and_gradient(x, y)\n",
    "mesh_sizes = [1 / (2**i) for i in range(2, 5)]\n",
    "\n",
    "# Inicialização dos dicionários para armazenar erros e capacitâncias\n",
    "errors_l2 = {et: [] for et in element_types}\n",
    "errors_energy = {et: [] for et in element_types}\n",
    "capacitances = {et: [] for et in element_types}\n",
    "\n",
    "for lc in mesh_sizes:  # Loop para cada refinamento de malha\n",
    "    for element_type in element_types:  # Loop para cada tipo de elemento\n",
    "        # Resolve a solução numérica u_h para o tipo de problema\n",
    "        uh, mesh_data = setTypeProblem(element_type, lc)  \n",
    "        \n",
    "        # Calcula o erro L2, o erro de energia e a energia total\n",
    "        l2, energy, total_energy = error_evaluation.get_errors_and_energy(\n",
    "            mesh_data, element_type, uh, analytical_solution)\n",
    "\n",
    "        # Acumula os resultados nos dicionários correspondentes\n",
    "        errors_l2[element_type].append(l2)\n",
    "        errors_energy[element_type].append(energy)"
   ]
  },
  {
   "cell_type": "markdown",
   "metadata": {},
   "source": [
    "# Graphics"
   ]
  },
  {
   "cell_type": "code",
   "execution_count": 4,
   "metadata": {},
   "outputs": [
    {
     "name": "stdout",
     "output_type": "stream",
     "text": [
      "Arquivo salvo em: c:\\Users\\adilt\\OneDrive\\01 ACADEMIA\\06 MODELOS\\8.FEM\\ppgee\\projects\\3_L_domain\\pos_processing\\pictures\\L_convergence_L2.svg\n",
      "Arquivo salvo em: c:\\Users\\adilt\\OneDrive\\01 ACADEMIA\\06 MODELOS\\8.FEM\\ppgee\\projects\\3_L_domain\\pos_processing\\pictures\\L_convergence_Energy.svg\n"
     ]
    }
   ],
   "source": [
    "graph_results.plot_convergence_with_slope(mesh_sizes, errors_l2, model='L', name='L2')\n",
    "graph_results.plot_convergence_with_slope(mesh_sizes, errors_energy, model='L', name='Energy')"
   ]
  },
  {
   "cell_type": "markdown",
   "metadata": {},
   "source": [
    "### Figure 1: Error Convergence for $L_2$ norm\n",
    "<figure>\n",
    "    <img src=\"pos_processing/pictures/L_convergence_L2.svg\" alt=\"Fig.1\" style=\"width:100%;\" />\n",
    "    <figcaption>Figure 1: Convergence of the numerical solution for $L_2$ norm of the error.</figcaption>\n",
    "</figure>\n",
    "\n",
    "### Figure 2: Error Convergence for _Energy_ norm\n",
    "<figure>\n",
    "    <img src=\"pos_processing/pictures/L_convergence_Energy.svg\" alt=\"Fig.2\" style=\"width:100%;\" />\n",
    "    <figcaption>Figure 2: Convergence of the numerical solution for Energy norm of the error.</figcaption>\n",
    "</figure>"
   ]
  },
  {
   "cell_type": "markdown",
   "metadata": {},
   "source": [
    "Conversão do arquivo Jupyter Notebook para um script Python: ``python -m nbconvert --to script name.ipynb``\n",
    "\n",
    "Belo Horizonte, Brazil. 2024.  \n",
    "Adilton Junio Ladeira Pereira - adt@ufmg.br  \n",
    "&copy; All rights reserved."
   ]
  }
 ],
 "metadata": {
  "kernelspec": {
   "display_name": "Python 3",
   "language": "python",
   "name": "python3"
  },
  "language_info": {
   "codemirror_mode": {
    "name": "ipython",
    "version": 3
   },
   "file_extension": ".py",
   "mimetype": "text/x-python",
   "name": "python",
   "nbconvert_exporter": "python",
   "pygments_lexer": "ipython3",
   "version": "3.12.7"
  }
 },
 "nbformat": 4,
 "nbformat_minor": 2
}
