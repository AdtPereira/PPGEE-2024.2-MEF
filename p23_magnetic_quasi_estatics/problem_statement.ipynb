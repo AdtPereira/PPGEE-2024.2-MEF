{
 "cells": [
  {
   "cell_type": "code",
   "execution_count": null,
   "metadata": {},
   "outputs": [],
   "source": [
    "import import_ipynb\n",
    "import numpy as np\n",
    "from scipy.constants import epsilon_0, mu_0"
   ]
  },
  {
   "cell_type": "markdown",
   "metadata": {},
   "source": [
    "# Project 2: Magnetic Shielding, Spherical Shell of Permeable Material in a Uniform Field\n",
    "\n",
    "Considere um cabo coaxial com dois dielétricos apresentado na Figura $(1)$.\n",
    "\n",
    "<figure>\n",
    "    <img src=\"pre_processing/pictures/coaxial_longitudinal.png\" alt=\"Fig.1\" style=\"width:20%;\" />\n",
    "    <figcaption>Figure 1: Geometry of Axial-Symmetric Problem.</figcaption>\n",
    "</figure>"
   ]
  },
  {
   "cell_type": "markdown",
   "metadata": {},
   "source": [
    "# `apply_physics()`"
   ]
  },
  {
   "cell_type": "code",
   "execution_count": null,
   "metadata": {},
   "outputs": [],
   "source": [
    "def apply_physics(mesh_data, element_type):\n",
    "    \"\"\"\n",
    "    Adiciona uma nova chave 'source' a cada dicionário em conn_data.\n",
    "    \n",
    "    Parâmetros:\n",
    "    - mesh_data: Dicionário contendo os dados da malha.\n",
    "    - element_type: Tuple (tipo do elemento, ordem).\n",
    "    \n",
    "    Retorna:\n",
    "    - mesh_data: O dicionário atualizado com a chave 'source' em cada elemento de conn_data.\n",
    "    \"\"\"\n",
    "    # Desempacotar o tipo de elemento\n",
    "    type, element_order = element_type\n",
    "    \n",
    "    for cell in mesh_data['conn_data']:\n",
    "        # Calcular o valor de 'a' de acordo com a física do problema\n",
    "        mur = cell['material']['relative_magnetic_permeability']\n",
    "        \n",
    "        # Adicionar a nova chave 'material' ao dicionário da célula\n",
    "        if cell['material']['name'] == 'conductive_shell':\n",
    "            sigma = cell['material']['electric_conductivity']\n",
    "            cell['mass_a_value'] = sigma\n",
    "\n",
    "        cell['stiffness_a_value'] = 1/(mur * mu_0)\n",
    "        \n",
    "        # Adicionar a nova chave 'source' ao dicionário da célula\n",
    "        cell['source'] = {\n",
    "            'type': 'free_source',\n",
    "            'value': 0\n",
    "        }\n",
    "\n",
    "    return mesh_data"
   ]
  },
  {
   "cell_type": "markdown",
   "metadata": {},
   "source": [
    "# `potential_and_gradient()`"
   ]
  },
  {
   "cell_type": "code",
   "execution_count": null,
   "metadata": {},
   "outputs": [],
   "source": [
    "def potential_and_gradient(x, y):\n",
    "    return 0, np.zeros((2,1))"
   ]
  },
  {
   "cell_type": "markdown",
   "metadata": {},
   "source": [
    "Conversão do arquivo Jupyter Notebook para um script Python: ``python -m nbconvert --to script name.ipynb``\n",
    "\n",
    "Belo Horizonte, Brazil. 2024.  \n",
    "Adilton Junio Ladeira Pereira - adt@ufmg.br  \n",
    "&copy; All rights reserved."
   ]
  }
 ],
 "metadata": {
  "kernelspec": {
   "display_name": "Python 3",
   "language": "python",
   "name": "python3"
  },
  "language_info": {
   "codemirror_mode": {
    "name": "ipython",
    "version": 3
   },
   "file_extension": ".py",
   "mimetype": "text/x-python",
   "name": "python",
   "nbconvert_exporter": "python",
   "pygments_lexer": "ipython3",
   "version": "3.12.7"
  }
 },
 "nbformat": 4,
 "nbformat_minor": 2
}
