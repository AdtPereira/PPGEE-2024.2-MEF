{
 "cells": [
  {
   "cell_type": "code",
   "execution_count": 1,
   "metadata": {},
   "outputs": [
    {
     "name": "stdout",
     "output_type": "stream",
     "text": [
      "Project root added to sys.path: C:\\Users\\adilt\\OneDrive\\01 ACADEMIA\\06 MODELOS\\8.FEM\\ppgee\\projects\n",
      "Todas as propriedades foram verificadas com sucesso para os elementos P1!\n",
      "Todas as propriedades foram verificadas com sucesso para os elementos P2!\n",
      "Todas as propriedades foram verificadas com sucesso para os elementos P3!\n",
      "Todas as propriedades foram verificadas com sucesso para os elementos Q1!\n",
      "Todas as propriedades foram verificadas com sucesso para os elementos Q2!\n",
      "Modules imports were successful!\n",
      "Modules imports were successful!\n",
      "Modules imports were successful!\n",
      "Modules imports were successful!\n"
     ]
    }
   ],
   "source": [
    "import sys\n",
    "import numpy as np\n",
    "import import_ipynb\n",
    "from pathlib import Path\n",
    "from scipy.sparse.linalg import spsolve\n",
    "\n",
    "# Adicionar o diretório raiz do projeto ao sys.path\n",
    "project_root = Path().resolve().parent  \n",
    "sys.path.append(str(project_root))\n",
    "\n",
    "# Verifique se os caminhos foram adicionados\n",
    "print(\"Project root added to sys.path:\", project_root)\n",
    "\n",
    "# Importando notebooks diretamente\n",
    "try:\n",
    "    import problem_statement as ps\n",
    "    from pre_processing import create_domain, read_mesh\n",
    "    from fem_processing import boundary_conditions, matrices_assembly\n",
    "    from pos_processing import graph_results, fem_analysis\n",
    "    print(\"Modules imports were successful!\")\n",
    "except ModuleNotFoundError as e:\n",
    "    print(f\"Modules were not found: {e}\")\n",
    "except ImportError as e:\n",
    "    print(f\"Error in import: {e}\")\n",
    "    \n",
    "#run ../setup_project.py"
   ]
  },
  {
   "cell_type": "markdown",
   "metadata": {},
   "source": [
    "# Project 2: Coaxial Cable with longitudinal symmetry\n",
    "\n",
    "Considere a seção reta transversal de um cabo coaxial singelo apresentado na Figura $(1)$.\n",
    "\n",
    "<figure>\n",
    "    <img src=\"pre_processing/pictures/coaxial_longitudinal.png\" alt=\"Fig.1\" style=\"width:20%;\" />\n",
    "    <figcaption>Figure 1: Geometry of Coaxial Problem.</figcaption>\n",
    "</figure>\n",
    "\n",
    "# 6-noded Quadratic Triangular Elements, $P_2$\n",
    "## Pre-processor module\n",
    "### Geometry and mesh Domain"
   ]
  },
  {
   "cell_type": "code",
   "execution_count": 2,
   "metadata": {},
   "outputs": [
    {
     "name": "stdout",
     "output_type": "stream",
     "text": [
      "Gerando malha com elementos triangulares de ordem P2 ...\n",
      "Malha salva em pre_processing/mesh/coax_long_domain_Triangle2.msh\n",
      "Model coax_long_domain_Triangle2 (2D)\n",
      "Info     : 9 geometric entities\n",
      "Info     : 4 Physical Groups\n",
      "Info     : 6131 nodes in total\n",
      "Info     : 3002 2-D elements in total\n"
     ]
    }
   ],
   "source": [
    "FINITE_ELEMENT = (\"Triangle\", 2)\n",
    "\n",
    "BOUNDARY = [{'type': 'Dirichlet', 'tag': 101, 'value': 0, 'name': 'outer_sheath'}]\n",
    "\n",
    "MATERIAL = [{'tag': 201, 'name': 'core', 'relative_magnetic_permeability': 1},\n",
    "            {'tag': 202, 'name': 'dielectric', 'relative_magnetic_permeability': 1},\n",
    "            {'tag': 203, 'name': 'sheath', 'relative_magnetic_permeability': 1}]\n",
    "\n",
    "# Criar geometria coaxial\n",
    "create_domain.coaxial_longitudinal(FINITE_ELEMENT, BOUNDARY, MATERIAL, h=1E-3, view_mesh=False)\n",
    "\n",
    "# Create mesh from file geometry\n",
    "mesh_data = read_mesh.get_data(FINITE_ELEMENT, BOUNDARY, MATERIAL, model='coax_long')"
   ]
  },
  {
   "cell_type": "markdown",
   "metadata": {},
   "source": [
    "### Mesh Data Dictionaries"
   ]
  },
  {
   "cell_type": "code",
   "execution_count": 3,
   "metadata": {},
   "outputs": [
    {
     "data": {
      "text/plain": [
       "[{'TagID': 302,\n",
       "  'conn_list': [883, 913, 824, 948, 949, 950],\n",
       "  'material': {'tag': 201,\n",
       "   'name': 'core',\n",
       "   'relative_magnetic_permeability': 1}}]"
      ]
     },
     "execution_count": 3,
     "metadata": {},
     "output_type": "execute_result"
    }
   ],
   "source": [
    "conn_data = mesh_data['conn_data']; conn_data[:1]"
   ]
  },
  {
   "cell_type": "code",
   "execution_count": 4,
   "metadata": {},
   "outputs": [
    {
     "data": {
      "text/plain": [
       "[{'TagID': 1,\n",
       "  'global_coord': (0.01, 0.0),\n",
       "  'bc': {'type': 'Free', 'value': None}}]"
      ]
     },
     "execution_count": 4,
     "metadata": {},
     "output_type": "execute_result"
    }
   ],
   "source": [
    "mesh_nodes = mesh_data['nodes_data']; mesh_nodes[:1]"
   ]
  },
  {
   "cell_type": "markdown",
   "metadata": {},
   "source": [
    "### ``Nodes`` and ``conn`` list"
   ]
  },
  {
   "cell_type": "code",
   "execution_count": 5,
   "metadata": {},
   "outputs": [],
   "source": [
    "nodes = [node['global_coord'] for node in mesh_data['nodes_data']]\n",
    "conn = [element['conn_list'] for element in mesh_data['conn_data']]"
   ]
  },
  {
   "cell_type": "markdown",
   "metadata": {},
   "source": [
    "### Figure 1: Coaxial meshed domain "
   ]
  },
  {
   "cell_type": "code",
   "execution_count": 6,
   "metadata": {},
   "outputs": [
    {
     "name": "stdout",
     "output_type": "stream",
     "text": [
      "Arquivo salvo em: c:\\Users\\adilt\\OneDrive\\01 ACADEMIA\\06 MODELOS\\8.FEM\\ppgee\\projects\\p21_coaxial_magnetostatics\\pre_processing\\pictures\\coax_long_meshed_domain_Triangle2.svg\n"
     ]
    }
   ],
   "source": [
    "graph_results.plot_mesh(mesh_data, FINITE_ELEMENT, model='coax_long', Numbering=False)"
   ]
  },
  {
   "cell_type": "markdown",
   "metadata": {},
   "source": [
    "<figure>\n",
    "    <img src=\"pre_processing/pictures/coax_long_meshed_domain_Triangle2.svg\" alt=\"Fig.1\" style=\"width:100%;\" />\n",
    "    <figcaption>Figure 1: Coaxial meshed domain.</figcaption>\n",
    "</figure>"
   ]
  },
  {
   "cell_type": "markdown",
   "metadata": {},
   "source": [
    "### Assembly Matrices\n",
    "#### `assembly.global_nodes_coordinates()` "
   ]
  },
  {
   "cell_type": "code",
   "execution_count": 7,
   "metadata": {},
   "outputs": [
    {
     "name": "stdout",
     "output_type": "stream",
     "text": [
      "'a_1' Global coordinates: [(-0.006838045274302086, 0.004491270025444997), (-0.007942853716170466, 0.00439813878217982), (-0.007329955473093625, 0.003660359087928205), (-0.007390449495236277, 0.004444704403812409), (-0.007636404594632046, 0.004029248935054013), (-0.007084000373697856, 0.004075814556686601)]\n",
      "'x_1' x-coordinates: [-0.006838045274302086, -0.007942853716170466, -0.007329955473093625, -0.007390449495236277, -0.007636404594632046, -0.007084000373697856]\n",
      "'y_1' y-coordinates: [0.004491270025444997, 0.00439813878217982, 0.003660359087928205, 0.004444704403812409, 0.004029248935054013, 0.004075814556686601]\n"
     ]
    }
   ],
   "source": [
    "ai, xi, yi = matrices_assembly.global_nodes_coordinates(0, mesh_data)\n",
    "print(f\"'a_1' Global coordinates: {ai}\")\n",
    "print(f\"'x_1' x-coordinates: {xi}\")\n",
    "print(f\"'y_1' y-coordinates: {yi}\")"
   ]
  },
  {
   "cell_type": "markdown",
   "metadata": {},
   "source": [
    "#### `map_to_physical_coordinates()`"
   ]
  },
  {
   "cell_type": "code",
   "execution_count": 8,
   "metadata": {},
   "outputs": [
    {
     "name": "stdout",
     "output_type": "stream",
     "text": [
      "'e_1' Master coordinates: (1, 0) --> Global coordinates: (-0.007942853716170466, 0.00439813878217982)\n"
     ]
    }
   ],
   "source": [
    "xi_master = (1, 0)\n",
    "xg, yg = matrices_assembly.isomapping_to_global_coordinates(ai, xi_master, FINITE_ELEMENT)\n",
    "print(f\"'e_1' Master coordinates: {xi_master} --> Global coordinates: ({xg}, {yg})\")"
   ]
  },
  {
   "cell_type": "markdown",
   "metadata": {},
   "source": [
    "#### `apply_physics()`"
   ]
  },
  {
   "cell_type": "code",
   "execution_count": 9,
   "metadata": {},
   "outputs": [
    {
     "data": {
      "text/plain": [
       "[{'TagID': 302,\n",
       "  'conn_list': [883, 913, 824, 948, 949, 950],\n",
       "  'material': {'tag': 201,\n",
       "   'name': 'core',\n",
       "   'relative_magnetic_permeability': 1},\n",
       "  'source': {'type': 'uniform_current_density_Jz', 'value': 3183.098861837907},\n",
       "  'stiffness_a_value': 795774.7150262763}]"
      ]
     },
     "execution_count": 9,
     "metadata": {},
     "output_type": "execute_result"
    }
   ],
   "source": [
    "mesh_data = ps.apply_physics(mesh_data, FINITE_ELEMENT)\n",
    "mesh_data['conn_data'][:1]"
   ]
  },
  {
   "cell_type": "markdown",
   "metadata": {},
   "source": [
    "#### Material Proprieties, $k_a$"
   ]
  },
  {
   "cell_type": "code",
   "execution_count": 10,
   "metadata": {},
   "outputs": [
    {
     "name": "stdout",
     "output_type": "stream",
     "text": [
      "Stiffness Material values:  [795774.7150262763, 795774.7150262763, 795774.7150262763]\n",
      "Mass Material values:  []\n"
     ]
    }
   ],
   "source": [
    "Ka = [cell['stiffness_a_value'] for cell in mesh_data['conn_data']]\n",
    "Ma = [cell['mass_a_value'] for cell in mesh_data['conn_data'] if 'mass_a_value' in cell.keys()]\n",
    "print(\"Stiffness Material values: \", Ka[:3])\n",
    "print(\"Mass Material values: \", Ma[:3])"
   ]
  },
  {
   "cell_type": "markdown",
   "metadata": {},
   "source": [
    "#### Source: Current density, $J_z$"
   ]
  },
  {
   "cell_type": "code",
   "execution_count": 11,
   "metadata": {},
   "outputs": [
    {
     "name": "stdout",
     "output_type": "stream",
     "text": [
      "Source current density vector Jz: \n",
      " [3183.098861837907]\n"
     ]
    }
   ],
   "source": [
    "Jz = [element['source']['value'] for element in mesh_data['conn_data']]\n",
    "print(\"Source current density vector Jz: \\n\", Jz[:1])"
   ]
  },
  {
   "cell_type": "markdown",
   "metadata": {},
   "source": [
    "#### Jacobian Matrix Transform"
   ]
  },
  {
   "cell_type": "code",
   "execution_count": 12,
   "metadata": {},
   "outputs": [
    {
     "name": "stdout",
     "output_type": "stream",
     "text": [
      "Jacobian matrix for element e_0:\n",
      " [[-1.10480844e-03 -9.31312433e-05]\n",
      " [-4.91910199e-04 -8.30910938e-04]]\n",
      "Determinant of the Jacobian matrix for element e_0: 8.721852098210483e-07\n"
     ]
    }
   ],
   "source": [
    "Je = matrices_assembly.jacobian(e=0, mesh_data=mesh_data, element_type=FINITE_ELEMENT, xik=(0, 0)) \n",
    "Jdet, Jinv = np.linalg.det(Je), np.linalg.inv(Je)\n",
    "print(\"Jacobian matrix for element e_0:\\n\", Je)\n",
    "print(\"Determinant of the Jacobian matrix for element e_0:\", Jdet)"
   ]
  },
  {
   "cell_type": "markdown",
   "metadata": {},
   "source": [
    "#### Local Elements $e_1$"
   ]
  },
  {
   "cell_type": "code",
   "execution_count": 13,
   "metadata": {},
   "outputs": [
    {
     "name": "stdout",
     "output_type": "stream",
     "text": [
      "Local stiffness matrix for element e_1:\n",
      " [[ 4.19683451e+05  4.73741726e+04  9.25203102e+04 -1.89496689e+05\n",
      "  -2.75763028e-03 -3.70081242e+05]\n",
      " [ 4.73741726e+04  4.25351909e+05  9.44097981e+04 -1.89496691e+05\n",
      "  -3.77639191e+05  1.82582958e-03]\n",
      " [ 9.25203102e+04  9.44097981e+04  5.60790322e+05  2.70104104e-03\n",
      "  -3.77639191e+05 -3.70081242e+05]\n",
      " [-1.89496689e+05 -1.89496691e+05  2.70104104e-03  1.87443424e+06\n",
      "  -7.40162478e+05 -7.55278389e+05]\n",
      " [-2.75763028e-03 -3.77639191e+05 -3.77639191e+05 -7.40162478e+05\n",
      "   1.87443424e+06 -3.78993376e+05]\n",
      " [-3.70081242e+05  1.82582958e-03 -3.70081242e+05 -7.55278389e+05\n",
      "  -3.78993376e+05  1.87443425e+06]]\n",
      "Local load vector for element e_1:\n",
      " [[ 1.11183903e-12]\n",
      " [-1.88591225e-14]\n",
      " [-1.88582331e-14]\n",
      " [ 4.62708621e-04]\n",
      " [ 4.62708617e-04]\n",
      " [ 4.62708621e-04]]\n",
      "Area of element e_1:  4.3609260054959637e-07\n"
     ]
    }
   ],
   "source": [
    "#Ae, fe, areae = matrices_assembly.linear_local_matrices(e=0, mesh_data=mesh_data)\n",
    "Ae, fe, Me, area_e = matrices_assembly.higher_order_local_matrices(0, mesh_data, FINITE_ELEMENT)\n",
    "print(\"Local stiffness matrix for element e_1:\\n\", Ae)\n",
    "print(\"Local load vector for element e_1:\\n\", fe)\n",
    "print(\"Area of element e_1: \", area_e)"
   ]
  },
  {
   "cell_type": "markdown",
   "metadata": {},
   "source": [
    "#### Global “stiffness” matrix, $A_g$"
   ]
  },
  {
   "cell_type": "code",
   "execution_count": 14,
   "metadata": {},
   "outputs": [
    {
     "name": "stdout",
     "output_type": "stream",
     "text": [
      "Global matrix shape: (6131, 6131)\n"
     ]
    }
   ],
   "source": [
    "Ag, fg, Mg = matrices_assembly.get_global_matrix(mesh_data, FINITE_ELEMENT)\n",
    "print(\"Global matrix shape:\", Ag.shape)"
   ]
  },
  {
   "cell_type": "markdown",
   "metadata": {},
   "source": [
    "### Imposition of Boundary Conditions"
   ]
  },
  {
   "cell_type": "code",
   "execution_count": 15,
   "metadata": {},
   "outputs": [
    {
     "name": "stdout",
     "output_type": "stream",
     "text": [
      "The entire domain has 6131 nodes: 5879 free nodes and 252 Dirichlet nodes.\n"
     ]
    }
   ],
   "source": [
    "dirichlet_data = {node['TagID']: node['bc']['value'] for node in mesh_data['nodes_data'] if node['bc']['type'] == 'Dirichlet'}\n",
    "Nu = len(mesh_data['nodes_data'])\n",
    "Nd = len(dirichlet_data)\n",
    "print(f\"The entire domain has {Nu} nodes: {Nu - Nd} free nodes and {Nd} Dirichlet nodes.\")"
   ]
  },
  {
   "cell_type": "markdown",
   "metadata": {},
   "source": [
    "### Mapping Global nodes to reduced system\n",
    "\n",
    "This code creates a dictionary called ``global_to_reduced``, which maps the global indices of the mesh nodes to the reduced indices, i.e. the indices that correspond only to the nodes that are not in the _Dirichlet boundary conditions_."
   ]
  },
  {
   "cell_type": "code",
   "execution_count": null,
   "metadata": {},
   "outputs": [],
   "source": [
    "global_to_reduced = {node: i for i, node in enumerate(\n",
    "        idx_n for idx_n in range(1, len(nodes)+1) if idx_n not in dirichlet_data)}"
   ]
  },
  {
   "cell_type": "markdown",
   "metadata": {},
   "source": [
    "## Processor Module\n",
    "### Reduced Global matrix $A_{gr}$ with boundary conditions"
   ]
  },
  {
   "cell_type": "code",
   "execution_count": 17,
   "metadata": {},
   "outputs": [
    {
     "name": "stdout",
     "output_type": "stream",
     "text": [
      "Reduced global matrix shape: (5879, 5879)\n"
     ]
    }
   ],
   "source": [
    "Agr, fgr, Mgr = boundary_conditions.get_reduced_global_matrices(mesh_data, FINITE_ELEMENT)\n",
    "print(\"Reduced global matrix shape:\", Agr.shape)"
   ]
  },
  {
   "cell_type": "markdown",
   "metadata": {},
   "source": [
    "### Global Potential Vector"
   ]
  },
  {
   "cell_type": "code",
   "execution_count": 18,
   "metadata": {},
   "outputs": [
    {
     "name": "stdout",
     "output_type": "stream",
     "text": [
      "Reduced solution vector ur shape:  (5879,)\n",
      "Global potential vector V shape:  (6131,)\n"
     ]
    }
   ],
   "source": [
    "ur = spsolve(Agr.tocsr(), fgr.toarray())\n",
    "potential_u = boundary_conditions.get_global_potentials(mesh_data, ur)\n",
    "print(\"Reduced solution vector ur shape: \", ur.shape)\n",
    "print(\"Global potential vector V shape: \", potential_u.shape)"
   ]
  },
  {
   "cell_type": "markdown",
   "metadata": {},
   "source": [
    "### Solution at each element"
   ]
  },
  {
   "cell_type": "code",
   "execution_count": 19,
   "metadata": {},
   "outputs": [
    {
     "name": "stdout",
     "output_type": "stream",
     "text": [
      "The solution u for Node Element is: \n",
      " [[1.58003601e-07 1.42501066e-07 1.57807490e-07 1.50559787e-07\n",
      "  1.50384374e-07 1.58138624e-07]\n",
      " [1.55959125e-07 1.59632064e-07 1.42255468e-07 1.58047641e-07\n",
      "  1.51200447e-07 1.49506237e-07]\n",
      " [1.42255468e-07 1.38793745e-07 1.55959125e-07 1.40755282e-07\n",
      "  1.47617099e-07 1.49506237e-07]]\n"
     ]
    }
   ],
   "source": [
    "u_list = []\n",
    "for e in range(len(conn)):\n",
    "    uh_values = [potential_u[id - 1] for id in conn[e]]\n",
    "    u_list.append(uh_values)\n",
    "print(\"The solution u for Node Element is: \\n\", np.array(u_list[:3]))"
   ]
  },
  {
   "cell_type": "markdown",
   "metadata": {},
   "source": [
    "## Post-Processor"
   ]
  },
  {
   "cell_type": "code",
   "execution_count": 20,
   "metadata": {},
   "outputs": [
    {
     "name": "stdout",
     "output_type": "stream",
     "text": [
      "Arquivo salvo em: c:\\Users\\adilt\\OneDrive\\01 ACADEMIA\\06 MODELOS\\8.FEM\\ppgee\\projects\\p21_coaxial_magnetostatics\\pos_processing\\pictures\\coax_long_domain_solution_Triangle2.svg\n"
     ]
    }
   ],
   "source": [
    "graph_results.approximate_fem_solution(FINITE_ELEMENT, mesh_data, potential_u, model='coax_long')"
   ]
  },
  {
   "cell_type": "markdown",
   "metadata": {},
   "source": [
    "### Figure 2: Scalar Field Distribution on a Triangular Mesh\n",
    "\n",
    "<figure>\n",
    "    <img src=\"pos_processing/pictures/coax_long_domain_solution_Triangle2.svg\" alt=\"Fig.2\" style=\"width:80%;\" />\n",
    "    <figcaption>Figure 2: Scalar Field Distribution on a Triangular Mesh.</figcaption>\n",
    "</figure>"
   ]
  },
  {
   "cell_type": "markdown",
   "metadata": {},
   "source": [
    "### Magnetic Energy Stored"
   ]
  },
  {
   "cell_type": "code",
   "execution_count": 21,
   "metadata": {},
   "outputs": [
    {
     "name": "stdout",
     "output_type": "stream",
     "text": [
      "Total magnetic energy stored: 8.5076e-08 J.\n"
     ]
    }
   ],
   "source": [
    "analytical_solution = lambda x, y: ps.potential_and_gradient(x, y)\n",
    "norm_l2, norm_energy, total_energy = fem_analysis.errors_and_energy(\n",
    "            mesh_data, FINITE_ELEMENT, potential_u, analytical_solution)\n",
    "print(f\"Total magnetic energy stored: {total_energy:.5} J.\")"
   ]
  },
  {
   "cell_type": "markdown",
   "metadata": {},
   "source": [
    "### `magnetic_field(mesh_data, element_type, uh)`"
   ]
  },
  {
   "cell_type": "code",
   "execution_count": 22,
   "metadata": {},
   "outputs": [
    {
     "name": "stdout",
     "output_type": "stream",
     "text": [
      "Arquivo salvo em: c:\\Users\\adilt\\OneDrive\\01 ACADEMIA\\06 MODELOS\\8.FEM\\ppgee\\projects\\p21_coaxial_magnetostatics\\pos_processing\\pictures\\b_field_Triangle2.svg\n",
      "Arquivo salvo em: c:\\Users\\adilt\\OneDrive\\01 ACADEMIA\\06 MODELOS\\8.FEM\\ppgee\\projects\\p21_coaxial_magnetostatics\\pos_processing\\pictures\\radial_b_profile_Triangle2.svg\n"
     ]
    }
   ],
   "source": [
    "B_field = fem_analysis.magnetic_field_density(mesh_data, FINITE_ELEMENT, potential_u)\n",
    "graph_results.magnetic_field_distribution(mesh_data, B_field, FINITE_ELEMENT)\n",
    "graph_results.radial_profile(mesh_data, B_field, FINITE_ELEMENT)"
   ]
  },
  {
   "cell_type": "markdown",
   "metadata": {},
   "source": [
    "### Figure 3: Magnetic field density distribution\n",
    "\n",
    "<figure>\n",
    "    <img src=\"pos_processing/pictures/b_field_Triangle2.svg\" alt=\"Fig.3\" style=\"width:90%;\" />\n",
    "    <figcaption>Figure 3: Magnetic field density distribution.</figcaption>\n",
    "</figure>\n",
    "\n",
    "### Figure 4: Magnetic density field radial profile\n",
    "\n",
    "<figure>\n",
    "    <img src=\"pos_processing/pictures/radial_b_profile_Triangle2.svg\" alt=\"Fig.4\" style=\"width:90%;\" />\n",
    "    <figcaption>Figure 4: Magnetic field density radial profile.</figcaption>\n",
    "</figure>"
   ]
  },
  {
   "cell_type": "markdown",
   "metadata": {},
   "source": [
    "Conversão do arquivo Jupyter Notebook para um script Python: ``python -m nbconvert --to script name.ipynb``\n",
    "\n",
    "Belo Horizonte, Brazil. 2024.  \n",
    "Adilton Junio Ladeira Pereira - adt@ufmg.br  \n",
    "&copy; All rights reserved."
   ]
  }
 ],
 "metadata": {
  "kernelspec": {
   "display_name": "Python 3",
   "language": "python",
   "name": "python3"
  },
  "language_info": {
   "codemirror_mode": {
    "name": "ipython",
    "version": 3
   },
   "file_extension": ".py",
   "mimetype": "text/x-python",
   "name": "python",
   "nbconvert_exporter": "python",
   "pygments_lexer": "ipython3",
   "version": "3.12.8"
  }
 },
 "nbformat": 4,
 "nbformat_minor": 2
}
