{
 "cells": [
  {
   "cell_type": "code",
   "execution_count": null,
   "metadata": {},
   "outputs": [],
   "source": [
    "import import_ipynb\n",
    "import numpy as np\n",
    "from scipy.constants import epsilon_0, mu_0"
   ]
  },
  {
   "cell_type": "markdown",
   "metadata": {},
   "source": [
    "# Project 2: Coaxial Longitudinal Problem \n",
    "\n",
    "Considere um cabo coaxial com dois dielétricos apresentado na Figura $(1)$.\n",
    "\n",
    "<figure>\n",
    "    <img src=\"pre_processing/pictures/coaxial_longitudinal.png\" alt=\"Fig.1\" style=\"width:20%;\" />\n",
    "    <figcaption>Figure 1: Geometry of Coaxial Problem.</figcaption>\n",
    "</figure>"
   ]
  },
  {
   "cell_type": "markdown",
   "metadata": {},
   "source": [
    "# `uniform_current_density()`"
   ]
  },
  {
   "cell_type": "code",
   "execution_count": null,
   "metadata": {},
   "outputs": [],
   "source": [
    "def uniform_current_density(e, mesh_data, Icc):\n",
    "    \"\"\"\n",
    "    Calcula a densidade de corrente uniforme nas regiões condutoras\n",
    "    de um cabo coaxial.\n",
    "\n",
    "    Parâmetros:\n",
    "    - I: Corrente total (A)\n",
    "    - a: Raio do condutor interno (m)\n",
    "    - b: Raio interno da blindagem (m)\n",
    "    - c: Raio externo da blindagem (m)\n",
    "\n",
    "    Retorna:\n",
    "    - J_inner: Densidade de corrente no núcleo (A/m²)\n",
    "    - J_outer: Densidade de corrente na blindagem (A/m²)\n",
    "    \"\"\"\n",
    "    material_tag = mesh_data['conn_data'][e]['material']['tag']\n",
    "    radii = {'a': 1e-2, 'b': np.sqrt(3) * 1e-2, 'c': 2e-2}  \n",
    "\n",
    "    # Área do condutor interno\n",
    "    A_inner = np.pi * radii['a']**2\n",
    "    \n",
    "    # Área da blindagem\n",
    "    A_outer = np.pi * (radii['c']**2 - radii['b']**2)\n",
    "    \n",
    "    # Densidades de corrente\n",
    "    if material_tag == 201:\n",
    "        Jz = Icc / A_inner\n",
    "    elif material_tag == 202:\n",
    "        Jz = 0\n",
    "    elif material_tag == 203:\n",
    "        Jz = -Icc / A_outer\n",
    "\n",
    "    return Jz"
   ]
  },
  {
   "cell_type": "markdown",
   "metadata": {},
   "source": [
    "# `calculate_current_density()`"
   ]
  },
  {
   "cell_type": "code",
   "execution_count": null,
   "metadata": {},
   "outputs": [],
   "source": [
    "def calculate_current_density(e, mesh_data, element_type, Icc):\n",
    "    \"\"\"\n",
    "    Calcula a densidade de corrente uniforme por elemento.\n",
    "    \n",
    "    Parâmetros:\n",
    "    - conn_data: Lista de elementos, cada um com 'conn_list' e 'material'.\n",
    "    - mesh_nodes: Lista de nós com 'TagID' e 'global_coord'.\n",
    "    - total_current: Corrente total aplicada (A).\n",
    "    \n",
    "    Retorna:\n",
    "    - Lista de densidades de corrente por elemento.\n",
    "    \"\"\"\n",
    "    # Desempacotar o tipo de elemento\n",
    "    type_name, order = element_type\n",
    "    \n",
    "    # Lista de coordenadas globais dos nós\n",
    "    nodes = [node['global_coord'] for node in mesh_data['nodes_data']]\n",
    "    conn = [element['conn_list'] for element in mesh_data['conn_data']]\n",
    "    \n",
    "    # Nodes coordinates of element e\n",
    "    ai = [nodes[node - 1] for node in conn[e]]; \n",
    "\n",
    "    if type_name == 'Triangle':\n",
    "        # Para elementos P1, P2 ou P3, usar os 3 vértices principais\n",
    "        if order in [1, 2, 3]:\n",
    "            ai = ai[:3]\n",
    "        else:\n",
    "            raise ValueError(\"Tipo de elemento não suportado para triângulos: P1, P2 ou P3 são esperados.\")\n",
    "\n",
    "        # Obter as coordenadas dos vértices do triângulo\n",
    "        (x1, y1), (x2, y2), (x3, y3) = ai\n",
    "    \n",
    "        # Calcular a área do triângulo\n",
    "        e_area = 0.5 * abs(x1 * (y2 - y3) + x2 * (y3 - y1) + x3 * (y1 - y2))\n",
    "        \n",
    "    # Corrente do elemento (assumindo corrente uniforme pela área total)\n",
    "    material_tag = mesh_data['conn_data'][e]['material']['tag']\n",
    "    if material_tag == 201:  # Núcleo\n",
    "        Jz = Icc / e_area\n",
    "    elif material_tag == 202:  # Dielétrico\n",
    "        Jz = 0\n",
    "    elif material_tag == 203:  # Blindagem\n",
    "        Jz = -Icc / e_area             \n",
    "    \n",
    "    return Jz"
   ]
  },
  {
   "cell_type": "markdown",
   "metadata": {},
   "source": [
    "# `apply_physics()`"
   ]
  },
  {
   "cell_type": "code",
   "execution_count": null,
   "metadata": {},
   "outputs": [],
   "source": [
    "def apply_physics(mesh_data, element_type):\n",
    "    \"\"\"\n",
    "    Adiciona uma nova chave 'source' a cada elemento em conn_data.\n",
    "    \n",
    "    Parâmetros:\n",
    "    - mesh_data: Dicionário contendo os dados da malha.\n",
    "    \n",
    "    Retorna:\n",
    "    - mesh_data: O dicionário atualizado com a chave 'source' em cada elemento de conn_data.\n",
    "    \"\"\"\n",
    "    # Lista de células e suas conectividades\n",
    "    type, order = element_type\n",
    "    \n",
    "    for e, cell in enumerate(mesh_data['conn_data']):\n",
    "        # Adicionar a nova chave 'source'\n",
    "        cell['source'] = {\n",
    "            'type': 'uniform_current_density_Jz',\n",
    "            'value': uniform_current_density(e, mesh_data, Icc=1)\n",
    "        }\n",
    "\n",
    "        # Adicionar nova chave 'a_value' \n",
    "        mur = cell['material']['relative_magnetic_permeability'] \n",
    "        cell['stiffness_a_value'] = 1/(mur * mu_0)\n",
    "\n",
    "    return mesh_data"
   ]
  },
  {
   "cell_type": "markdown",
   "metadata": {},
   "source": [
    "# `potential_and_gradient()`"
   ]
  },
  {
   "cell_type": "code",
   "execution_count": null,
   "metadata": {},
   "outputs": [],
   "source": [
    "def potential_and_gradient(x, y):\n",
    "    return 0, np.zeros((2,1))"
   ]
  },
  {
   "cell_type": "markdown",
   "metadata": {},
   "source": [
    "Conversão do arquivo Jupyter Notebook para um script Python: ``python -m nbconvert --to script name.ipynb``\n",
    "\n",
    "Belo Horizonte, Brazil. 2024.  \n",
    "Adilton Junio Ladeira Pereira - adt@ufmg.br  \n",
    "&copy; All rights reserved."
   ]
  }
 ],
 "metadata": {
  "kernelspec": {
   "display_name": "Python 3",
   "language": "python",
   "name": "python3"
  },
  "language_info": {
   "codemirror_mode": {
    "name": "ipython",
    "version": 3
   },
   "file_extension": ".py",
   "mimetype": "text/x-python",
   "name": "python",
   "nbconvert_exporter": "python",
   "pygments_lexer": "ipython3",
   "version": "3.12.7"
  }
 },
 "nbformat": 4,
 "nbformat_minor": 2
}
