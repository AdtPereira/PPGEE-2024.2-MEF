{
 "cells": [
  {
   "cell_type": "code",
   "execution_count": 1,
   "metadata": {},
   "outputs": [
    {
     "name": "stdout",
     "output_type": "stream",
     "text": [
      "Project root added to sys.path: C:\\Users\\adilt\\OneDrive\\01 ACADEMIA\\06 MODELOS\\8.FEM\\ppgee\\projects\n",
      "Todas as propriedades foram verificadas com sucesso para os elementos P1!\n",
      "Todas as propriedades foram verificadas com sucesso para os elementos P2!\n",
      "Todas as propriedades foram verificadas com sucesso para os elementos P3!\n",
      "Todas as propriedades foram verificadas com sucesso para os elementos Q1!\n",
      "Todas as propriedades foram verificadas com sucesso para os elementos Q2!\n",
      "Modules imports were successful!\n",
      "Modules imports were successful!\n",
      "Modules imports were successful!\n"
     ]
    }
   ],
   "source": [
    "import sys\n",
    "import numpy as np\n",
    "import import_ipynb\n",
    "from scipy.sparse.linalg import spsolve\n",
    "from pathlib import Path\n",
    "\n",
    "# Adicionar o diretório raiz do projeto ao sys.path\n",
    "project_root = Path().resolve().parent  \n",
    "sys.path.append(str(project_root))\n",
    "\n",
    "# Verifique se os caminhos foram adicionados\n",
    "print(\"Project root added to sys.path:\", project_root)\n",
    "\n",
    "# Importando notebooks diretamente\n",
    "try:\n",
    "    import problem_statement as ps  \n",
    "    from fem_pre_processing import read_mesh\n",
    "    from fem_processing import boundary_conditions, matrices_assembly\n",
    "    from fem_pos_processing import graph_results\n",
    "    print(\"Modules imports were successful!\")\n",
    "except ModuleNotFoundError as en:\n",
    "    print(f\"Modules were not found: {en}\")\n",
    "except ImportError as en:\n",
    "    print(f\"Error in import: {en}\")\n",
    "    \n",
    "#run ../setup_project.py"
   ]
  },
  {
   "cell_type": "markdown",
   "metadata": {},
   "source": [
    "# Project 1: Poisson Problem at Rectangular Domain $\\Omega = [0,1]^2$\n",
    "\n",
    "Considere um problema de _Poisson_ 2D em $\\Omega = [0,1]^2$\n",
    "\n",
    "$$\n",
    "-\\nabla \\cdot \\left( \\nabla u(x,y) \\right) = f(x,y)\n",
    "\\tag{1}\n",
    "$$\n",
    "\n",
    "onde,\n",
    "$$\n",
    "f(x,y) = 2\\pi^2 \\, sin(\\pi x) \\, sin(\\pi y)\n",
    "\\tag{2}\n",
    "$$\n",
    "\n",
    "cujas condições de contorno são $u=0$ em $\\partial \\Omega$.\n",
    "\n",
    "A solução analítica deste problema é\n",
    "\n",
    "$$\n",
    "u(x,y) = sin(\\pi x) \\, sin(\\pi y)\n",
    "\\tag{3}\n",
    "$$\n",
    "\n",
    "Implemente um programa de elementos finitos utilizando elementos triangulares $P_1$ para resolver o Problema de Valor de Contorno $(1)$.\n",
    "\n",
    "# 3-noded Linear Triangular Elements, $P_1$\n",
    "## Pre-processor module\n",
    "## Geometry and mesh Domain"
   ]
  },
  {
   "cell_type": "code",
   "execution_count": 2,
   "metadata": {},
   "outputs": [
    {
     "name": "stdout",
     "output_type": "stream",
     "text": [
      "Model rectangular_domain_Triangle1 (2D)\n",
      "Info     : 9 geometric entities\n",
      "Info     : 2 Physical Groups\n",
      "Info     : 5 nodes in total\n",
      "Info     : 4 2-D elements in total\n"
     ]
    }
   ],
   "source": [
    "FINITE_ELEMENT = (\"Triangle\", 1)\n",
    "BOUNDARY = [{'tag': 101, 'type': 'Dirichlet', 'value': 0.0, 'name': 'omega'}]\n",
    "MATERIAL = [{'tag': 201, 'name': 'free_space', 'a_constant': 1}]\n",
    "\n",
    "# Create mesh from file geometry\n",
    "ps.create_domain(FINITE_ELEMENT, BOUNDARY, MATERIAL, h=1, view_mesh=False)\n",
    "\n",
    "# Read mesh data\n",
    "mesh_data = read_mesh.get_data(FINITE_ELEMENT, BOUNDARY, MATERIAL, model='rectangular', info_mode=False)"
   ]
  },
  {
   "cell_type": "markdown",
   "metadata": {},
   "source": [
    "## Mesh Data Dictionaries"
   ]
  },
  {
   "cell_type": "code",
   "execution_count": 3,
   "metadata": {},
   "outputs": [
    {
     "data": {
      "text/plain": [
       "{1: {'Tag': 9,\n",
       "  'conn': [1, 2, 5],\n",
       "  'material': {'tag': 201, 'name': 'free_space', 'a_constant': 1}},\n",
       " 2: {'Tag': 10,\n",
       "  'conn': [4, 1, 5],\n",
       "  'material': {'tag': 201, 'name': 'free_space', 'a_constant': 1}},\n",
       " 3: {'Tag': 11,\n",
       "  'conn': [2, 3, 5],\n",
       "  'material': {'tag': 201, 'name': 'free_space', 'a_constant': 1}},\n",
       " 4: {'Tag': 12,\n",
       "  'conn': [3, 4, 5],\n",
       "  'material': {'tag': 201, 'name': 'free_space', 'a_constant': 1}}}"
      ]
     },
     "execution_count": 3,
     "metadata": {},
     "output_type": "execute_result"
    }
   ],
   "source": [
    "cell_data = mesh_data['cell']; cell_data"
   ]
  },
  {
   "cell_type": "code",
   "execution_count": 4,
   "metadata": {},
   "outputs": [
    {
     "data": {
      "text/plain": [
       "{1: {'xg': (0.0, 0.0), 'bc': {'type': 'Dirichlet', 'value': 0.0}},\n",
       " 2: {'xg': (1.0, 0.0), 'bc': {'type': 'Dirichlet', 'value': 0.0}},\n",
       " 3: {'xg': (1.0, 1.0), 'bc': {'type': 'Dirichlet', 'value': 0.0}},\n",
       " 4: {'xg': (0.0, 1.0), 'bc': {'type': 'Dirichlet', 'value': 0.0}},\n",
       " 5: {'xg': (0.5, 0.5), 'bc': {'type': 'Free', 'value': None}}}"
      ]
     },
     "execution_count": 4,
     "metadata": {},
     "output_type": "execute_result"
    }
   ],
   "source": [
    "nodes_data = mesh_data['nodes']; nodes_data"
   ]
  },
  {
   "cell_type": "code",
   "execution_count": 5,
   "metadata": {},
   "outputs": [
    {
     "data": {
      "text/plain": [
       "{1: [1, 2, 5], 2: [4, 1, 5], 3: [2, 3, 5], 4: [3, 4, 5]}"
      ]
     },
     "execution_count": 5,
     "metadata": {},
     "output_type": "execute_result"
    }
   ],
   "source": [
    "conn = {key: cell['conn'] for key, cell in cell_data.items()}; conn"
   ]
  },
  {
   "cell_type": "markdown",
   "metadata": {},
   "source": [
    "## Figure 1: Rectangular meshed domain $\\Omega=[0,1]^2$"
   ]
  },
  {
   "cell_type": "code",
   "execution_count": 6,
   "metadata": {},
   "outputs": [
    {
     "name": "stdout",
     "output_type": "stream",
     "text": [
      "Arquivo salvo em: c:\\Users\\adilt\\OneDrive\\01 ACADEMIA\\06 MODELOS\\8.FEM\\ppgee\\projects\\p11_rectangular_poisson\\pre_processing\\pictures\\rectangular_meshed_domain_Triangle1.svg\n"
     ]
    }
   ],
   "source": [
    "graph_results.plot_mesh(FINITE_ELEMENT, mesh_data, model='rectangular', Numbering=True)"
   ]
  },
  {
   "cell_type": "markdown",
   "metadata": {},
   "source": [
    "<figure>\n",
    "    <img src=\"pre_processing/pictures/rectangular_meshed_domain_Triangle1.svg\" alt=\"Fig.1\" style=\"width:100%;\" />\n",
    "    <figcaption>Figure 1: Rectangular meshed domain $\\Omega=[0,1]^2$.</figcaption>\n",
    "</figure>"
   ]
  },
  {
   "cell_type": "markdown",
   "metadata": {},
   "source": [
    "## `apply_physics()`"
   ]
  },
  {
   "cell_type": "code",
   "execution_count": 7,
   "metadata": {},
   "outputs": [
    {
     "data": {
      "text/plain": [
       "{1: {'Tag': 9,\n",
       "  'conn': [1, 2, 5],\n",
       "  'material': {'tag': 201, 'name': 'free_space', 'a_constant': 1},\n",
       "  'stiffness_a_value': 1,\n",
       "  'mass_a_value': 1,\n",
       "  'source': {'type': 'analytical_source_fx', 'value': 9.869604401089356}},\n",
       " 2: {'Tag': 10,\n",
       "  'conn': [4, 1, 5],\n",
       "  'material': {'tag': 201, 'name': 'free_space', 'a_constant': 1},\n",
       "  'stiffness_a_value': 1,\n",
       "  'mass_a_value': 1,\n",
       "  'source': {'type': 'analytical_source_fx', 'value': 9.869604401089356}},\n",
       " 3: {'Tag': 11,\n",
       "  'conn': [2, 3, 5],\n",
       "  'material': {'tag': 201, 'name': 'free_space', 'a_constant': 1},\n",
       "  'stiffness_a_value': 1,\n",
       "  'mass_a_value': 1,\n",
       "  'source': {'type': 'analytical_source_fx', 'value': 9.869604401089356}},\n",
       " 4: {'Tag': 12,\n",
       "  'conn': [3, 4, 5],\n",
       "  'material': {'tag': 201, 'name': 'free_space', 'a_constant': 1},\n",
       "  'stiffness_a_value': 1,\n",
       "  'mass_a_value': 1,\n",
       "  'source': {'type': 'analytical_source_fx', 'value': 9.869604401089356}}}"
      ]
     },
     "execution_count": 7,
     "metadata": {},
     "output_type": "execute_result"
    }
   ],
   "source": [
    "mesh_data = ps.apply_physics(FINITE_ELEMENT, mesh_data); mesh_data['cell']"
   ]
  },
  {
   "cell_type": "markdown",
   "metadata": {},
   "source": [
    "## ``global_nodes_coordinates()``"
   ]
  },
  {
   "cell_type": "code",
   "execution_count": 8,
   "metadata": {},
   "outputs": [
    {
     "data": {
      "text/plain": [
       "{1: (0.0, 0.0), 2: (1.0, 0.0), 3: (1.0, 1.0), 4: (0.0, 1.0), 5: (0.5, 0.5)}"
      ]
     },
     "execution_count": 8,
     "metadata": {},
     "output_type": "execute_result"
    }
   ],
   "source": [
    "nodes_coord = {key: value['xg'] for key, value in nodes_data.items()}; nodes_coord"
   ]
  },
  {
   "cell_type": "markdown",
   "metadata": {},
   "source": [
    "## $x_g, y_g$ global coordinate"
   ]
  },
  {
   "cell_type": "code",
   "execution_count": 9,
   "metadata": {},
   "outputs": [
    {
     "data": {
      "text/plain": [
       "{1: 0.0, 2: 1.0, 3: 1.0, 4: 0.0, 5: 0.5}"
      ]
     },
     "execution_count": 9,
     "metadata": {},
     "output_type": "execute_result"
    }
   ],
   "source": [
    "xg = {key: value['xg'][0] for key, value in nodes_data.items()}; xg"
   ]
  },
  {
   "cell_type": "markdown",
   "metadata": {},
   "source": [
    "## $a_e = (x_e, y_e)$ global element coordinate"
   ]
  },
  {
   "cell_type": "code",
   "execution_count": 10,
   "metadata": {},
   "outputs": [
    {
     "name": "stdout",
     "output_type": "stream",
     "text": [
      "'a_e' global coordinates: \n"
     ]
    },
    {
     "data": {
      "text/plain": [
       "{1: [(0.0, 0.0), (1.0, 0.0), (0.5, 0.5)],\n",
       " 2: [(0.0, 1.0), (0.0, 0.0), (0.5, 0.5)],\n",
       " 3: [(1.0, 0.0), (1.0, 1.0), (0.5, 0.5)],\n",
       " 4: [(1.0, 1.0), (0.0, 1.0), (0.5, 0.5)]}"
      ]
     },
     "execution_count": 10,
     "metadata": {},
     "output_type": "execute_result"
    }
   ],
   "source": [
    "ai = {key: [nodes_data[id]['xg'] for id in node_ids] for key, node_ids in conn.items()}\n",
    "xi = {key: [coord[0] for coord in coords] for key, coords in ai.items()}\n",
    "yi = {key: [coord[1] for coord in coords] for key, coords in ai.items()}\n",
    "print(\"'a_e' global coordinates: \"); ai"
   ]
  },
  {
   "cell_type": "code",
   "execution_count": 11,
   "metadata": {},
   "outputs": [
    {
     "name": "stdout",
     "output_type": "stream",
     "text": [
      "'a_1' global coordinates: \n"
     ]
    },
    {
     "data": {
      "text/plain": [
       "[(0.0, 0.0), (1.0, 0.0), (0.5, 0.5)]"
      ]
     },
     "execution_count": 11,
     "metadata": {},
     "output_type": "execute_result"
    }
   ],
   "source": [
    "print(\"'a_1' global coordinates: \"); ai[1]"
   ]
  },
  {
   "cell_type": "code",
   "execution_count": 12,
   "metadata": {},
   "outputs": [
    {
     "name": "stdout",
     "output_type": "stream",
     "text": [
      "'Node 2' global coordinates: \n"
     ]
    },
    {
     "data": {
      "text/plain": [
       "(1.0, 0.0)"
      ]
     },
     "execution_count": 12,
     "metadata": {},
     "output_type": "execute_result"
    }
   ],
   "source": [
    "print(\"'Node 2' global coordinates: \"); nodes_data[2]['xg']"
   ]
  },
  {
   "cell_type": "code",
   "execution_count": 13,
   "metadata": {},
   "outputs": [
    {
     "name": "stdout",
     "output_type": "stream",
     "text": [
      "'x_1' x-coordinates: \n"
     ]
    },
    {
     "data": {
      "text/plain": [
       "[0.0, 1.0, 0.5]"
      ]
     },
     "execution_count": 13,
     "metadata": {},
     "output_type": "execute_result"
    }
   ],
   "source": [
    "print(\"'x_1' x-coordinates: \"); xi[1]"
   ]
  },
  {
   "cell_type": "markdown",
   "metadata": {},
   "source": [
    "## `map_to_physical_coordinates()`"
   ]
  },
  {
   "cell_type": "code",
   "execution_count": 14,
   "metadata": {},
   "outputs": [
    {
     "name": "stdout",
     "output_type": "stream",
     "text": [
      "'e_1' Master coordinates: (0, 1) --> Global coordinates: (0.5, 0.5)\n"
     ]
    }
   ],
   "source": [
    "xi_master = (0, 1)\n",
    "xg_1, yg_1 = matrices_assembly.isomapping_to_global_coordinates(ai[1], xi_master, FINITE_ELEMENT)\n",
    "print(f\"'e_1' Master coordinates: {xi_master} --> Global coordinates: ({xg_1}, {yg_1})\")"
   ]
  },
  {
   "cell_type": "markdown",
   "metadata": {},
   "source": [
    "## Material Proprieties, $k_a$"
   ]
  },
  {
   "cell_type": "code",
   "execution_count": 15,
   "metadata": {},
   "outputs": [
    {
     "data": {
      "text/plain": [
       "{1: 1, 2: 1, 3: 1, 4: 1}"
      ]
     },
     "execution_count": 15,
     "metadata": {},
     "output_type": "execute_result"
    }
   ],
   "source": [
    "ka = {key: value['stiffness_a_value'] for key, value in cell_data.items()}; ka"
   ]
  },
  {
   "cell_type": "markdown",
   "metadata": {},
   "source": [
    "## Source: Analytical source, $f(x)$"
   ]
  },
  {
   "cell_type": "code",
   "execution_count": 16,
   "metadata": {},
   "outputs": [
    {
     "data": {
      "text/plain": [
       "{1: 9.869604401089356,\n",
       " 2: 9.869604401089356,\n",
       " 3: 9.869604401089356,\n",
       " 4: 9.869604401089356}"
      ]
     },
     "execution_count": 16,
     "metadata": {},
     "output_type": "execute_result"
    }
   ],
   "source": [
    "fx = {key: value['source']['value'] for key, value in cell_data.items()}; fx"
   ]
  },
  {
   "cell_type": "markdown",
   "metadata": {},
   "source": [
    "## Jacobian Matrix Transform"
   ]
  },
  {
   "cell_type": "code",
   "execution_count": 17,
   "metadata": {},
   "outputs": [
    {
     "name": "stdout",
     "output_type": "stream",
     "text": [
      "Jacobian matrix for element e_1:\n",
      " [[1.  0. ]\n",
      " [0.5 0.5]]\n",
      "Determinant of the Jacobian matrix for element e_1: 0.5\n"
     ]
    }
   ],
   "source": [
    "Je = matrices_assembly.jacobian(FINITE_ELEMENT, mesh_data, e=1, xik=(0, 0)) \n",
    "Jdet, Jinv = np.linalg.det(Je), np.linalg.inv(Je)\n",
    "print(\"Jacobian matrix for element e_1:\\n\", Je)\n",
    "print(\"Determinant of the Jacobian matrix for element e_1:\", Jdet)"
   ]
  },
  {
   "cell_type": "markdown",
   "metadata": {},
   "source": [
    "## Local Elements $e_1$"
   ]
  },
  {
   "cell_type": "code",
   "execution_count": 18,
   "metadata": {},
   "outputs": [
    {
     "ename": "KeyError",
     "evalue": "'abc'",
     "output_type": "error",
     "traceback": [
      "\u001b[1;31m---------------------------------------------------------------------------\u001b[0m",
      "\u001b[1;31mKeyError\u001b[0m                                  Traceback (most recent call last)",
      "Cell \u001b[1;32mIn[18], line 1\u001b[0m\n\u001b[1;32m----> 1\u001b[0m Ae, fe, Me, area_e \u001b[38;5;241m=\u001b[39m \u001b[43mmatrices_assembly\u001b[49m\u001b[38;5;241;43m.\u001b[39;49m\u001b[43mlocal_matrices\u001b[49m\u001b[43m(\u001b[49m\u001b[43mFINITE_ELEMENT\u001b[49m\u001b[43m,\u001b[49m\u001b[43m \u001b[49m\u001b[43mmesh_data\u001b[49m\u001b[43m,\u001b[49m\u001b[43m \u001b[49m\u001b[43me\u001b[49m\u001b[38;5;241;43m=\u001b[39;49m\u001b[38;5;241;43m1\u001b[39;49m\u001b[43m)\u001b[49m\n\u001b[0;32m      2\u001b[0m \u001b[38;5;28mprint\u001b[39m(\u001b[38;5;124m\"\u001b[39m\u001b[38;5;124mLocal stiffness matrix for element e_1:\u001b[39m\u001b[38;5;130;01m\\n\u001b[39;00m\u001b[38;5;124m\"\u001b[39m, Ae)\n\u001b[0;32m      3\u001b[0m \u001b[38;5;28mprint\u001b[39m(\u001b[38;5;124m\"\u001b[39m\u001b[38;5;124mLocal load vector for element e_1:\u001b[39m\u001b[38;5;130;01m\\n\u001b[39;00m\u001b[38;5;124m\"\u001b[39m, fe)\n",
      "File \u001b[1;32m<string>:60\u001b[0m, in \u001b[0;36mlocal_matrices\u001b[1;34m(FINITE_ELEMENT, mesh_data, e)\u001b[0m\n",
      "\u001b[1;31mKeyError\u001b[0m: 'abc'"
     ]
    }
   ],
   "source": [
    "Ae, fe, Me, area_e = matrices_assembly.local_matrices(FINITE_ELEMENT, mesh_data, e=1)\n",
    "print(\"Local stiffness matrix for element e_1:\\n\", Ae)\n",
    "print(\"Local load vector for element e_1:\\n\", fe)\n",
    "print(\"Area of element e_1: \", area_e)"
   ]
  },
  {
   "cell_type": "markdown",
   "metadata": {},
   "source": [
    "## Global “stiffness” matrix, $A_g$"
   ]
  },
  {
   "cell_type": "code",
   "execution_count": 19,
   "metadata": {},
   "outputs": [
    {
     "name": "stdout",
     "output_type": "stream",
     "text": [
      "Global matrix shape: (5, 5)\n"
     ]
    }
   ],
   "source": [
    "Ag, fg, Mg = matrices_assembly.global_matrix(FINITE_ELEMENT, mesh_data)\n",
    "print(\"Global matrix shape:\", Ag.shape)"
   ]
  },
  {
   "cell_type": "markdown",
   "metadata": {},
   "source": [
    "## Imposition of Boundary Conditions\n",
    "### $Dirichlet$ nodes"
   ]
  },
  {
   "cell_type": "code",
   "execution_count": 20,
   "metadata": {},
   "outputs": [
    {
     "data": {
      "text/plain": [
       "{1: {'xg': (0.0, 0.0), 'bc': {'type': 'Dirichlet', 'value': 0.0}},\n",
       " 2: {'xg': (1.0, 0.0), 'bc': {'type': 'Dirichlet', 'value': 0.0}},\n",
       " 3: {'xg': (1.0, 1.0), 'bc': {'type': 'Dirichlet', 'value': 0.0}},\n",
       " 4: {'xg': (0.0, 1.0), 'bc': {'type': 'Dirichlet', 'value': 0.0}}}"
      ]
     },
     "execution_count": 20,
     "metadata": {},
     "output_type": "execute_result"
    }
   ],
   "source": [
    "dirichlet_nodes = {key: value \n",
    "                   for key, value in nodes_data.items() if value['bc']['type'] == 'Dirichlet'}\n",
    "dirichlet_nodes"
   ]
  },
  {
   "cell_type": "code",
   "execution_count": 21,
   "metadata": {},
   "outputs": [
    {
     "name": "stdout",
     "output_type": "stream",
     "text": [
      "The entire domain has 5 nodes: 1 free nodes; 4 Dirichlet nodes.\n"
     ]
    }
   ],
   "source": [
    "Nn = len(nodes_data); Nd = len(dirichlet_nodes)\n",
    "print(f\"The entire domain has {Nn} nodes: {Nn - Nd} free nodes; {Nd} Dirichlet nodes.\")"
   ]
  },
  {
   "cell_type": "code",
   "execution_count": 22,
   "metadata": {},
   "outputs": [
    {
     "data": {
      "text/plain": [
       "{5: {'xg': (0.5, 0.5), 'bc': {'type': 'Free', 'value': None}}}"
      ]
     },
     "execution_count": 22,
     "metadata": {},
     "output_type": "execute_result"
    }
   ],
   "source": [
    "free_nodes = {key: value for key, value in nodes_data.items() if value['bc']['type'] != 'Dirichlet'}; free_nodes"
   ]
  },
  {
   "cell_type": "markdown",
   "metadata": {},
   "source": [
    "## Mapping Global nodes to reduced system\n",
    "\n",
    "This code creates a dictionary called ``global_to_reduced``, which maps the global indices of the mesh nodes to the reduced indices, i.e. the indices that correspond only to the nodes that are not in the _Dirichlet boundary conditions_."
   ]
  },
  {
   "cell_type": "code",
   "execution_count": 23,
   "metadata": {},
   "outputs": [
    {
     "data": {
      "text/plain": [
       "{5: 1}"
      ]
     },
     "execution_count": 23,
     "metadata": {},
     "output_type": "execute_result"
    }
   ],
   "source": [
    "{global_id: idx + 1 for idx, global_id in enumerate(free_nodes.keys())}"
   ]
  },
  {
   "cell_type": "markdown",
   "metadata": {},
   "source": [
    "## Processor Module\n",
    "## Asymmetric Global matrix $A_g$ with boundary conditions"
   ]
  },
  {
   "cell_type": "code",
   "execution_count": 24,
   "metadata": {},
   "outputs": [
    {
     "name": "stdout",
     "output_type": "stream",
     "text": [
      "Global matrix shape: (5, 5)\n"
     ]
    }
   ],
   "source": [
    "Ag, fg = boundary_conditions.apply_simple_dirichlet(Ag, fg, mesh_data)\n",
    "print(\"Global matrix shape:\", Ag.shape)"
   ]
  },
  {
   "cell_type": "markdown",
   "metadata": {},
   "source": [
    "## Global Potential Vector"
   ]
  },
  {
   "cell_type": "code",
   "execution_count": 25,
   "metadata": {},
   "outputs": [
    {
     "name": "stdout",
     "output_type": "stream",
     "text": [
      "The solution vector u is: \n",
      " [0.        +0.j 0.        +0.j 0.        +0.j 0.        +0.j\n",
      " 0.82246703+0.j]\n"
     ]
    }
   ],
   "source": [
    "# Make sure Ag is in CSR format for efficiency\n",
    "# Convert fg to a dense format or keep it sparse as needed\n",
    "# Solve the linear system Ag * u = fg\n",
    "ug = spsolve(Ag.tocsr(), fg.toarray())\n",
    "print(\"The solution vector u is: \\n\", ug)"
   ]
  },
  {
   "cell_type": "markdown",
   "metadata": {},
   "source": [
    "## Reduced Global matrix $A_{gr}$ with boundary conditions"
   ]
  },
  {
   "cell_type": "code",
   "execution_count": 26,
   "metadata": {},
   "outputs": [
    {
     "name": "stdout",
     "output_type": "stream",
     "text": [
      "Reduced global matrix shape: (1, 1)\n"
     ]
    }
   ],
   "source": [
    "Agr, fgr, Mgr = boundary_conditions.reduced_global_matrices(FINITE_ELEMENT, mesh_data)\n",
    "print(\"Reduced global matrix shape:\", Agr.shape)"
   ]
  },
  {
   "cell_type": "markdown",
   "metadata": {},
   "source": [
    "## Global Potential Solution"
   ]
  },
  {
   "cell_type": "code",
   "execution_count": 27,
   "metadata": {},
   "outputs": [
    {
     "name": "stdout",
     "output_type": "stream",
     "text": [
      "Reduced solution vector ur:  [0.82246703+0.j]\n",
      "Global potential vector V: \n"
     ]
    },
    {
     "data": {
      "text/plain": [
       "{1: 0.0, 2: 0.0, 3: 0.0, 4: 0.0, 5: (0.822467033424113+0j)}"
      ]
     },
     "execution_count": 27,
     "metadata": {},
     "output_type": "execute_result"
    }
   ],
   "source": [
    "ur = spsolve(Agr.tocsr(), fgr.toarray())\n",
    "potential_u = boundary_conditions.global_potentials_solution(mesh_data, ur)\n",
    "print(\"Reduced solution vector ur: \", ur)\n",
    "print(\"Global potential vector V: \"); potential_u"
   ]
  },
  {
   "cell_type": "markdown",
   "metadata": {},
   "source": [
    "## Solution at each element"
   ]
  },
  {
   "cell_type": "code",
   "execution_count": 28,
   "metadata": {},
   "outputs": [
    {
     "name": "stdout",
     "output_type": "stream",
     "text": [
      "The complete solution for each cell.\n"
     ]
    },
    {
     "data": {
      "text/plain": [
       "{1: [0.0, 0.0, (0.822467033424113+0j)],\n",
       " 2: [0.0, 0.0, (0.822467033424113+0j)],\n",
       " 3: [0.0, 0.0, (0.822467033424113+0j)],\n",
       " 4: [0.0, 0.0, (0.822467033424113+0j)]}"
      ]
     },
     "execution_count": 28,
     "metadata": {},
     "output_type": "execute_result"
    }
   ],
   "source": [
    "u_for_cell = {}\n",
    "for en, cell in mesh_data['cell'].items():\n",
    "    u_e = []\n",
    "    for node in cell['conn']:\n",
    "        u_e.append(potential_u[node])\n",
    "    u_for_cell[en] = u_e\n",
    "\n",
    "print(\"The complete solution for each cell.\"); u_for_cell"
   ]
  },
  {
   "cell_type": "markdown",
   "metadata": {},
   "source": [
    "## Interpolate Solution at element, $e_n$"
   ]
  },
  {
   "cell_type": "code",
   "execution_count": 29,
   "metadata": {},
   "outputs": [
    {
     "name": "stdout",
     "output_type": "stream",
     "text": [
      "Element e_1: Potential 'u' interpolate at xi = (0, 0.5) --> u(xi): [0.41123352+0.j]\n"
     ]
    }
   ],
   "source": [
    "xi_master = (0, 0.5)\n",
    "en = 1\n",
    "u_at_node = matrices_assembly.isomapping_to_global_coordinates(u_for_cell[en], xi_master, FINITE_ELEMENT)\n",
    "\n",
    "print(f\"Element e_{en}: Potential 'u' interpolate at xi = {xi_master} --> u(xi): {u_at_node}\")"
   ]
  },
  {
   "cell_type": "markdown",
   "metadata": {},
   "source": [
    "## Post-Processor"
   ]
  },
  {
   "cell_type": "code",
   "execution_count": null,
   "metadata": {},
   "outputs": [
    {
     "name": "stdout",
     "output_type": "stream",
     "text": [
      "Arquivo salvo em: c:\\Users\\adilt\\OneDrive\\01 ACADEMIA\\06 MODELOS\\8.FEM\\ppgee\\projects\\p11_rectangular_poisson\\pos_processing\\pictures\\fem_solution_Triangle1.svg\n",
      "Arquivo salvo em: c:\\Users\\adilt\\OneDrive\\01 ACADEMIA\\06 MODELOS\\8.FEM\\ppgee\\projects\\p11_rectangular_poisson\\pos_processing\\pictures\\fem_solution_griddata_Triangle1.svg\n"
     ]
    }
   ],
   "source": [
    "graph_results.fem_solution(FINITE_ELEMENT, mesh_data, potential_u, type='real')\n",
    "graph_results.fem_griddata(FINITE_ELEMENT, mesh_data, potential_u, type='real')\n",
    "ps.plot_analytical_solution(Npts=100)"
   ]
  },
  {
   "cell_type": "markdown",
   "metadata": {},
   "source": [
    "### Figure 2: Scalar Field Distribution on a Triangular Mesh\n",
    "<figure>\n",
    "    <img src=\"pos_processing/pictures/fem_solution_Triangle1.svg\" alt=\"Fig.2\" style=\"width:100%;\" />\n",
    "    <figcaption>Figure 2: Post-Processor: Scalar Field Distribution.</figcaption>\n",
    "</figure>\n",
    "\n",
    "### Figure 3: Scalar Field Distribution\n",
    "<figure>\n",
    "    <img src=\"pos_processing/pictures/fem_solution_griddata_Triangle1.svg\" alt=\"Fig.3\" style=\"width:100%;\" />\n",
    "    <figcaption>Figure 3: Post-Processor: Scalar Field Distribution and Triangular Mesh.</figcaption>\n",
    "</figure>\n",
    "\n",
    "### Figure 4: Analytical Scalar Field Distribution on a Triangular Mesh\n",
    "<figure>\n",
    "    <img src=\"pos_processing/pictures/analytical_solution.svg\" alt=\"Fig.4\" style=\"width:100%;\" />\n",
    "    <figcaption>Figure 4: Analytical Scalar Field Distribution on a Triangular Mesh.</figcaption>\n",
    "</figure>"
   ]
  },
  {
   "cell_type": "markdown",
   "metadata": {},
   "source": [
    "Conversão do arquivo Jupyter Notebook para um script Python: ``python -m nbconvert --to script name.ipynb``\n",
    "\n",
    "Belo Horizonte, Brazil. 2024.  \n",
    "Adilton Junio Ladeira Pereira - adt@ufmg.br  \n",
    "&copy; All rights reserved."
   ]
  }
 ],
 "metadata": {
  "kernelspec": {
   "display_name": "Python 3",
   "language": "python",
   "name": "python3"
  },
  "language_info": {
   "codemirror_mode": {
    "name": "ipython",
    "version": 3
   },
   "file_extension": ".py",
   "mimetype": "text/x-python",
   "name": "python",
   "nbconvert_exporter": "python",
   "pygments_lexer": "ipython3",
   "version": "3.12.8"
  }
 },
 "nbformat": 4,
 "nbformat_minor": 2
}
