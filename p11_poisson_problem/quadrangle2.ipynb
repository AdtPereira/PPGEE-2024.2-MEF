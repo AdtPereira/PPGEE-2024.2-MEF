{
 "cells": [
  {
   "cell_type": "code",
   "execution_count": 1,
   "metadata": {},
   "outputs": [
    {
     "name": "stdout",
     "output_type": "stream",
     "text": [
      "Project root added to sys.path: C:\\Users\\adilt\\OneDrive\\01 ACADEMIA\\06 MODELOS\\8.FEM\\ppgee\\projects\n",
      "Todas as propriedades foram verificadas com sucesso para os elementos P1!\n",
      "Todas as propriedades foram verificadas com sucesso para os elementos P2!\n",
      "Todas as propriedades foram verificadas com sucesso para os elementos P3!\n",
      "Todas as propriedades foram verificadas com sucesso para os elementos Q1!\n",
      "Todas as propriedades foram verificadas com sucesso para os elementos Q2!\n",
      "Modules imports were successful!\n",
      "Modules imports were successful!\n",
      "Modules imports were successful!\n"
     ]
    }
   ],
   "source": [
    "import sys\n",
    "import import_ipynb\n",
    "import numpy as np\n",
    "from scipy.sparse.linalg import spsolve\n",
    "from pathlib import Path\n",
    "\n",
    "# Adicionar o diretório raiz do projeto ao sys.path\n",
    "project_root = Path().resolve().parent  \n",
    "sys.path.append(str(project_root))\n",
    "\n",
    "# Verifique se os caminhos foram adicionados\n",
    "print(\"Project root added to sys.path:\", project_root)\n",
    "\n",
    "# Importando notebooks diretamente\n",
    "try:\n",
    "    import problem_statement as ps\n",
    "    from pre_processing import create_domain, read_mesh\n",
    "    from fem_processing import boundary_conditions\n",
    "    from pos_processing import graph_results\n",
    "    print(\"Modules imports were successful!\")\n",
    "except ModuleNotFoundError as e:\n",
    "    print(f\"Modules were not found: {e}\")\n",
    "except ImportError as e:\n",
    "    print(f\"Error in import: {e}\")\n",
    "    \n",
    "#run ../setup_project.py"
   ]
  },
  {
   "cell_type": "markdown",
   "metadata": {},
   "source": [
    "# Project 1: Poisson Problem at Rectangular Domain $\\Omega = [0,1]^2$\n",
    "\n",
    "Considere um problema de _Poisson_ 2D em $\\Omega = [0,1]^2$\n",
    "\n",
    "$$\n",
    "-\\nabla \\cdot \\left( \\nabla u(x,y) \\right) = f(x,y)\n",
    "\\tag{1}\n",
    "$$\n",
    "\n",
    "onde,\n",
    "$$\n",
    "f(x,y) = 2\\pi^2 \\, sin(\\pi x) \\, sin(\\pi y)\n",
    "\\tag{2}\n",
    "$$\n",
    "\n",
    "cujas condições de contorno são $u=0$ em $\\partial \\Omega$.\n",
    "\n",
    "A solução analítica deste problema é\n",
    "\n",
    "$$\n",
    "u(x,y) = sin(\\pi x) \\, sin(\\pi y)\n",
    "\\tag{3}\n",
    "$$\n",
    "\n",
    "Implemente um programa de elementos finitos utilizando elementos triangulares $P_2$ para resolver o Problema de Valor de Contorno $(1)$."
   ]
  },
  {
   "cell_type": "markdown",
   "metadata": {},
   "source": [
    "# 9-noded Quadratic Quadrilateral Lagrangian Element $Q_2$\n",
    "## Pre-processor module\n",
    "### Geometry and mesh Domain"
   ]
  },
  {
   "cell_type": "code",
   "execution_count": 2,
   "metadata": {},
   "outputs": [
    {
     "name": "stdout",
     "output_type": "stream",
     "text": [
      "Model rectangular_domain_Quadrangle2 (2D)\n",
      "Info     : 9 geometric entities\n",
      "Info     : 2 Physical Groups\n",
      "Info     : 1681 nodes in total\n",
      "Info     : 400 2-D elements in total\n",
      "Arquivo salvo em: c:\\Users\\adilt\\OneDrive\\01 ACADEMIA\\06 MODELOS\\8.FEM\\ppgee\\projects\\p11_rectangular_poisson\\pre_processing\\pictures\\rectangular_meshed_domain_Quadrangle2.svg\n"
     ]
    }
   ],
   "source": [
    "FINITE_ELEMENT = (\"Quadrangle\", 2)\n",
    "BOUNDARY_CONDITIONS = [{'type': 'Dirichlet', 'tag': 101, 'value': 0.0, 'name': 'entire_boundary'}]\n",
    "MATERIAL_PROPRIETIES = [{'type': 'material_constant_a', 'tag': 201, 'value': 1, 'name': 'entire_domain'}]\n",
    "\n",
    "# Create mesh from file geometry\n",
    "create_domain.rectangular_geometry(FINITE_ELEMENT, BOUNDARY_CONDITIONS, lc=0.05, view_mesh=False)\n",
    "mesh_data = read_mesh.get_data(FINITE_ELEMENT, BOUNDARY_CONDITIONS, MATERIAL_PROPRIETIES, model='rectangular')\n",
    "graph_results.plot_mesh(mesh_data, FINITE_ELEMENT, model='rectangular')"
   ]
  },
  {
   "cell_type": "markdown",
   "metadata": {},
   "source": [
    "### Figure 1: Rectangular meshed domain $\\Omega=[0,1]^2$\n",
    "\n",
    "<figure>\n",
    "    <img src=\"pre_processing/pictures/rectangular_meshed_domain_Quadrangle2.svg\" alt=\"Fig.1\" style=\"width:100%;\" />\n",
    "    <figcaption>Figure 1: Rectangular meshed domain $\\Omega=[0,1]^2$.</figcaption>\n",
    "</figure>"
   ]
  },
  {
   "cell_type": "code",
   "execution_count": 3,
   "metadata": {},
   "outputs": [],
   "source": [
    "nodes = [node['global_coord'] for node in mesh_data['nodes_data']]\n",
    "conn = [element['conn_list'] for element in mesh_data['conn_data']]"
   ]
  },
  {
   "cell_type": "markdown",
   "metadata": {},
   "source": [
    "#### `apply_physics()`"
   ]
  },
  {
   "cell_type": "code",
   "execution_count": 4,
   "metadata": {},
   "outputs": [
    {
     "data": {
      "text/plain": [
       "[{'TagID': 85,\n",
       "  'conn_list': [1, 5, 161, 140, 24, 522, 523, 160, 524],\n",
       "  'material': {'type': 'material_constant_a',\n",
       "   'tag': 201,\n",
       "   'value': 1,\n",
       "   'name': 'entire_domain',\n",
       "   'a_value': 1},\n",
       "  'source': {'type': 'analytical_source_fx', 'value': 0.12151120784720292}}]"
      ]
     },
     "execution_count": 4,
     "metadata": {},
     "output_type": "execute_result"
    }
   ],
   "source": [
    "mesh_data = ps.apply_physics(mesh_data, FINITE_ELEMENT)\n",
    "mesh_data['conn_data'][:1]"
   ]
  },
  {
   "cell_type": "markdown",
   "metadata": {},
   "source": [
    "### Imposition of Boundary Conditions"
   ]
  },
  {
   "cell_type": "code",
   "execution_count": 5,
   "metadata": {},
   "outputs": [
    {
     "name": "stdout",
     "output_type": "stream",
     "text": [
      "The entire domain has 1681 nodes: 1521 free nodes and 160 Dirichlet nodes.\n"
     ]
    }
   ],
   "source": [
    "dirichlet_nodes = [\n",
    "    node['TagID'] for node in mesh_data['nodes_data'] if node['bc']['type'] == 'Dirichlet']\n",
    "dirichlet_values = [\n",
    "    node['bc']['value'] for node in mesh_data['nodes_data'] if node['bc']['type'] == 'Dirichlet']\n",
    "free_nodes = [\n",
    "    node['TagID'] for node in mesh_data['nodes_data'] if node['bc']['type'] == 'Free']\n",
    "\n",
    "print(f\"The entire domain has {len(nodes)} nodes: \" \n",
    "      f\"{len(nodes) - len(dirichlet_nodes)} free nodes and {len(dirichlet_nodes)} Dirichlet nodes.\")"
   ]
  },
  {
   "cell_type": "markdown",
   "metadata": {},
   "source": [
    "### Reduced Global matrix $A_{gr}$ with boundary conditions"
   ]
  },
  {
   "cell_type": "code",
   "execution_count": 6,
   "metadata": {},
   "outputs": [
    {
     "name": "stdout",
     "output_type": "stream",
     "text": [
      "Reduced global matrix shape: (1521, 1521)\n"
     ]
    }
   ],
   "source": [
    "Agr, fgr = boundary_conditions.get_reduced_global_matrix(mesh_data, FINITE_ELEMENT)\n",
    "print(\"Reduced global matrix shape:\", Agr.shape)"
   ]
  },
  {
   "cell_type": "markdown",
   "metadata": {},
   "source": [
    "## Processor Module\n",
    "### Reduced Global matrix"
   ]
  },
  {
   "cell_type": "code",
   "execution_count": 7,
   "metadata": {},
   "outputs": [],
   "source": [
    "ur = spsolve(Agr.tocsr(), fgr.toarray())\n",
    "potential_u = boundary_conditions.get_global_potentials(mesh_data, ur)"
   ]
  },
  {
   "cell_type": "markdown",
   "metadata": {},
   "source": [
    "## Post-Processor"
   ]
  },
  {
   "cell_type": "code",
   "execution_count": 8,
   "metadata": {},
   "outputs": [
    {
     "name": "stdout",
     "output_type": "stream",
     "text": [
      "Arquivo salvo em: c:\\Users\\adilt\\OneDrive\\01 ACADEMIA\\06 MODELOS\\8.FEM\\ppgee\\projects\\p11_rectangular_poisson\\pos_processing\\pictures\\rectangular_domain_solution_Quadrangle2_griddata.svg\n"
     ]
    }
   ],
   "source": [
    "graph_results.approximate_fem_griddata(FINITE_ELEMENT, mesh_data, potential_u, model='rectangular')"
   ]
  },
  {
   "cell_type": "markdown",
   "metadata": {},
   "source": [
    "### Figure 3: Scalar Field Distribution\n",
    "\n",
    "<figure>\n",
    "    <img src=\"pos_processing/pictures/rectangular_domain_solution_Quadrangle2_griddata.svg\" alt=\"Fig.3\" style=\"width:100%;\" />\n",
    "    <figcaption>Figure 3: Post-Processor: Scalar Field Distribution and Triangular Mesh.</figcaption>\n",
    "</figure>"
   ]
  },
  {
   "cell_type": "markdown",
   "metadata": {},
   "source": [
    "Conversão do arquivo Jupyter Notebook para um script Python: ``python -m nbconvert --to script name.ipynb``\n",
    "\n",
    "Belo Horizonte, Brazil. 2024.  \n",
    "Adilton Junio Ladeira Pereira - adt@ufmg.br  \n",
    "&copy; All rights reserved."
   ]
  }
 ],
 "metadata": {
  "kernelspec": {
   "display_name": "Python 3",
   "language": "python",
   "name": "python3"
  },
  "language_info": {
   "codemirror_mode": {
    "name": "ipython",
    "version": 3
   },
   "file_extension": ".py",
   "mimetype": "text/x-python",
   "name": "python",
   "nbconvert_exporter": "python",
   "pygments_lexer": "ipython3",
   "version": "3.12.7"
  }
 },
 "nbformat": 4,
 "nbformat_minor": 2
}
