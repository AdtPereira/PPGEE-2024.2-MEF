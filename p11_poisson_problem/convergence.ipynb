{
 "cells": [
  {
   "cell_type": "code",
   "execution_count": 1,
   "metadata": {},
   "outputs": [
    {
     "name": "stdout",
     "output_type": "stream",
     "text": [
      "Project root added to sys.path: C:\\Users\\adilt\\OneDrive\\05 GIT\\PPGEE-2024.2-MEF\n",
      "Todas as propriedades foram verificadas com sucesso para os elementos P1!\n",
      "Todas as propriedades foram verificadas com sucesso para os elementos P2!\n",
      "Todas as propriedades foram verificadas com sucesso para os elementos P3!\n",
      "Todas as propriedades foram verificadas com sucesso para os elementos Q1!\n",
      "Todas as propriedades foram verificadas com sucesso para os elementos Q2!\n",
      "Modules imports were successful!\n"
     ]
    }
   ],
   "source": [
    "import sys\n",
    "import import_ipynb\n",
    "from scipy.sparse.linalg import spsolve\n",
    "from pathlib import Path\n",
    "\n",
    "# Adicionar o diretório raiz do projeto ao sys.path\n",
    "project_root = Path().resolve().parent  \n",
    "sys.path.append(str(project_root))\n",
    "print(\"Project root added to sys.path:\", project_root)\n",
    "\n",
    "# Importando notebooks diretamente\n",
    "try:\n",
    "    import problem_statement as ps  \n",
    "    from fem_processing import boundary_conditions\n",
    "    from fem_pos_processing import graph_results, fem_analysis\n",
    "    print(\"Modules imports were successful!\")\n",
    "except ModuleNotFoundError as en:\n",
    "    print(f\"Modules were not found: {en}\")\n",
    "except ImportError as en:\n",
    "    print(f\"Error in import: {en}\")\n",
    "    \n",
    "#run ../setup_project.py"
   ]
  },
  {
   "cell_type": "markdown",
   "metadata": {},
   "source": [
    "# Project 1: Poisson Problem in a rectangular domain\n",
    "\n",
    "Considere um problema de _Poisson_ 2D em $\\Omega = [0,1]^2$\n",
    "\n",
    "$$\n",
    "-\\nabla \\cdot \\left( \\nabla u(x,y) \\right) = f(x,y)\n",
    "\\tag{1}\n",
    "$$\n",
    "\n",
    "onde,\n",
    "$$\n",
    "f(x,y) = 2\\pi^2 \\, sin(\\pi x) \\, sin(\\pi y)\n",
    "\\tag{2}\n",
    "$$\n",
    "\n",
    "cujas condições de contorno são $u=0$ em $\\partial \\Omega$.\n",
    "\n",
    "A solução analítica deste problema é\n",
    "\n",
    "$$\n",
    "u(x,y) = sin(\\pi x) \\, sin(\\pi y)\n",
    "\\tag{3}\n",
    "$$\n",
    "\n",
    "Implemente um programa de elementos finitos para resolver o Problema de Valor de Contorno $(1)$.   \n",
    "\n",
    "Usar malhas com densidades diferentes e verificar a convergência da sua solução à medida que refinna a malha. Calcule os erros na norma $L_2$ e na norma de energia. A melhor forma de verificar a convergência é traçar gráfios em escala _log-log_ da norma do erro em função de h. Se tudo estiver correto, em escala _log-log_ você obterá retas cujas inclinações fornecerão as taxas de convergência."
   ]
  },
  {
   "cell_type": "markdown",
   "metadata": {},
   "source": [
    "# `setTypeProblem()`"
   ]
  },
  {
   "cell_type": "code",
   "execution_count": 2,
   "metadata": {},
   "outputs": [],
   "source": [
    "def setTypeProblem(FINITE_ELEMENT, h):\n",
    "    # Create mesh using gmsh\n",
    "    BOUNDARY = [{'tag': 101, 'type': 'Dirichlet', 'value': 0.0, 'name': 'omega'}]\n",
    "    MATERIAL = [{'tag': 201, 'name': 'free_space', 'a_constant': 1}]\n",
    "    \n",
    "    # Create mesh Structure Data from gmsh\n",
    "    mesh_data = ps.create_domain(FINITE_ELEMENT, BOUNDARY, MATERIAL, h, auto_save=False)\n",
    "    \n",
    "    # Get FEM solution\n",
    "    Agr, fgr, Mgr, Pgr, Qgr = boundary_conditions.reduced_global_matrices(FINITE_ELEMENT, mesh_data)\n",
    "    uhr = spsolve(Agr.tocsr(), fgr.toarray())\n",
    "    uh =  boundary_conditions.global_potentials_solution(mesh_data, uhr)\n",
    "    return uh, mesh_data"
   ]
  },
  {
   "cell_type": "markdown",
   "metadata": {},
   "source": [
    "# Convergence Analysis"
   ]
  },
  {
   "cell_type": "code",
   "execution_count": 3,
   "metadata": {},
   "outputs": [],
   "source": [
    "element_types = [('Triangle', 1), ('Triangle', 2), ('Triangle', 3)]\n",
    "#element_types = [('Quadrangle', 1), ('Quadrangle', 2)]\n",
    "u = lambda x, y: ps.set_analytical_solution(x, y)\n",
    "mesh_sizes = [1 / (2**i) for i in range(2, 6)]\n",
    "\n",
    "# Inicialização dos dicionários para armazenar erros acumulados para cada tipo de elemento\n",
    "errors_l2 = {et: [] for et in element_types}\n",
    "errors_energy = {et: [] for et in element_types}\n",
    "\n",
    "for h in mesh_sizes:  \n",
    "    for FINITE_ELEMENT in element_types:  \n",
    "        # Resolve a solução numérica uh para o tipo de elemento e refinamento de malha\n",
    "        uh, mesh_data = setTypeProblem(FINITE_ELEMENT, h)  \n",
    "        \n",
    "        # Calcula o erro L2, o erro de energia e a energia total\n",
    "        l2, energy, _ = fem_analysis.errors_and_energy(FINITE_ELEMENT, mesh_data, uh, u)\n",
    "\n",
    "        # Acumula os erros nos dicionários correspondentes\n",
    "        errors_l2[FINITE_ELEMENT].append(l2)\n",
    "        errors_energy[FINITE_ELEMENT].append(energy)"
   ]
  },
  {
   "cell_type": "markdown",
   "metadata": {},
   "source": [
    "# Graphics"
   ]
  },
  {
   "cell_type": "code",
   "execution_count": 4,
   "metadata": {},
   "outputs": [
    {
     "name": "stdout",
     "output_type": "stream",
     "text": [
      "Arquivo salvo em: c:\\Users\\adilt\\OneDrive\\05 GIT\\PPGEE-2024.2-MEF\\p11_poisson_problem\\pos_processing\\pictures\\rectangular_convergence_L2.svg\n",
      "Arquivo salvo em: c:\\Users\\adilt\\OneDrive\\05 GIT\\PPGEE-2024.2-MEF\\p11_poisson_problem\\pos_processing\\pictures\\rectangular_convergence_Energy.svg\n"
     ]
    }
   ],
   "source": [
    "graph_results.plot_convergence(mesh_sizes, errors_l2, model='rectangular', name='L2')\n",
    "graph_results.plot_convergence(mesh_sizes, errors_energy, model='rectangular', name='Energy')"
   ]
  },
  {
   "cell_type": "markdown",
   "metadata": {},
   "source": [
    "### Figure 1: Error Convergence for $L_2$ norm\n",
    "<figure>\n",
    "    <img src=\"pos_processing/pictures/rectangular_convergence_L2.svg\" alt=\"Fig.1\" style=\"width:80%;\" />\n",
    "    <figcaption>Figure 1: Convergence of the numerical solution for $L_2$ norm of the error</figcaption>\n",
    "</figure>\n",
    "\n",
    "### Figure 2: Error Convergence for _Energy_ norm\n",
    "<figure>\n",
    "    <img src=\"pos_processing/pictures/rectangular_convergence_Energy.svg\" alt=\"Fig.2\" style=\"width:80%;\" />\n",
    "    <figcaption>Figure 2: Convergence of the numerical solution for Energy norm of the error</figcaption>\n",
    "</figure>"
   ]
  },
  {
   "cell_type": "markdown",
   "metadata": {},
   "source": [
    "Conversão do arquivo Jupyter Notebook para um script Python: ``python -m nbconvert --to script name.ipynb``\n",
    "\n",
    "Belo Horizonte, Brazil. 2024.  \n",
    "Adilton Junio Ladeira Pereira - adt@ufmg.br  \n",
    "&copy; All rights reserved."
   ]
  }
 ],
 "metadata": {
  "kernelspec": {
   "display_name": "Python 3",
   "language": "python",
   "name": "python3"
  },
  "language_info": {
   "codemirror_mode": {
    "name": "ipython",
    "version": 3
   },
   "file_extension": ".py",
   "mimetype": "text/x-python",
   "name": "python",
   "nbconvert_exporter": "python",
   "pygments_lexer": "ipython3",
   "version": "3.12.8"
  }
 },
 "nbformat": 4,
 "nbformat_minor": 2
}
