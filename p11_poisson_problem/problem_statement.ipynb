{
 "cells": [
  {
   "cell_type": "code",
   "execution_count": null,
   "metadata": {},
   "outputs": [],
   "source": [
    "import gmsh\n",
    "import sys\n",
    "import os\n",
    "import import_ipynb\n",
    "import numpy as np\n",
    "import matplotlib.pyplot as plt\n",
    "from pathlib import Path\n",
    "\n",
    "# Adicionar o diretório raiz do projeto ao sys.path\n",
    "project_root = Path().resolve().parent  \n",
    "sys.path.append(str(project_root))\n",
    "\n",
    "from fem_pos_processing import graph_results"
   ]
  },
  {
   "cell_type": "markdown",
   "metadata": {},
   "source": [
    "# Rectangular Domain $\\Omega = [0,1]^2$\n",
    "\n",
    "Para manter a compatibilidade com seu código, você pode considerar que, em cada elemento, a função \n",
    "$f(x,y) = 2\\pi^2 \\, sin(\\pi x) \\, sin(\\pi y)$ é constante e igual ao seu valor no baricentro do triângulo. As coordenadas do baricentro podem ser calculadas por\n",
    "\n",
    "$$\n",
    "x_b = \\frac{1}{3} \\sum_{i=1}^{3} x_i \\qquad y_b = \\frac{1}{3} \\sum_{i=1}^{3} y_i\n",
    "$$\n",
    "\n",
    "Então, gere os dados do vetor `rho` logo após ler os dados da malha. Considere isso como parte do seu pre-processamento."
   ]
  },
  {
   "cell_type": "markdown",
   "metadata": {},
   "source": [
    "# `create_domain()`"
   ]
  },
  {
   "cell_type": "code",
   "execution_count": null,
   "metadata": {},
   "outputs": [],
   "source": [
    "def add_points(points, lc):\n",
    "    point_tags = []\n",
    "    for i, (x, y, z) in enumerate(points):\n",
    "        tag = gmsh.model.geo.addPoint(x, y, z, lc, i + 1)\n",
    "        point_tags.append(tag)\n",
    "    return point_tags"
   ]
  },
  {
   "cell_type": "code",
   "execution_count": null,
   "metadata": {},
   "outputs": [],
   "source": [
    "def add_lines(point_tags):\n",
    "    line_tags = []\n",
    "    for i in range(len(point_tags)):\n",
    "        start_point = point_tags[i]\n",
    "        # a % b retorna o resto da divisão inteira de 'a' por 'b', quando a é maior que b;\n",
    "        # ou retorna o próprio número 'a' quando ele é menor que 'b', pois a divisão inteira resulta em 0 e todo o valor de a se torna o resto;\n",
    "        # ou retorna 0 quando 'a' é múltiplo de 'b'.\n",
    "        end_point = point_tags[(i + 1) % len(point_tags)]  \n",
    "        tag = gmsh.model.geo.addLine(start_point, end_point)\n",
    "        line_tags.append(tag)\n",
    "    return line_tags"
   ]
  },
  {
   "cell_type": "code",
   "execution_count": null,
   "metadata": {},
   "outputs": [],
   "source": [
    "def add_surface(line_tags):\n",
    "    tag_curve = gmsh.model.geo.addCurveLoop(line_tags)\n",
    "    tag_surface = gmsh.model.geo.addPlaneSurface([tag_curve])\n",
    "    gmsh.model.geo.synchronize()\n",
    "    return tag_surface"
   ]
  },
  {
   "cell_type": "code",
   "execution_count": null,
   "metadata": {},
   "outputs": [],
   "source": [
    "def create_domain(FINITE_ELEMENT, BOUNDARY, MATERIAL, h, auto_save=True, view_mesh=False):\n",
    "    type, order = FINITE_ELEMENT\n",
    "    vertices = [(0, 0, 0), (1, 0, 0), (1, 1, 0), (0, 1, 0)]\n",
    "\n",
    "    # Define a new model\n",
    "    gmsh.initialize()\n",
    "    gmsh.model.add(\"rectangular_domain\")\n",
    "\n",
    "    # Define the points of the domain.\n",
    "    point_tags = add_points(vertices, h)\n",
    "\n",
    "    # Criar linhas para formar as bordas do quadrado\n",
    "    line_tags = add_lines(point_tags)\n",
    "    \n",
    "    # Criar um loop de linha e uma superfície plana\n",
    "    free_space = add_surface(line_tags)\n",
    "\n",
    "    # Adicionar grupos físicos para Dim=1\n",
    "    for i, tag in enumerate([line_tags]):\n",
    "        gmsh.model.addPhysicalGroup(1, tags=tag, tag=BOUNDARY[i]['tag'], name=BOUNDARY[i]['name'])\n",
    "\n",
    "    # Adicionar grupos físicos para Dim=2\n",
    "    gmsh.model.addPhysicalGroup(2, [free_space], tag=MATERIAL[0]['tag'], name=MATERIAL[0]['name'])  \n",
    "    \n",
    "    # Gerar a malha 2D\n",
    "    gmsh.option.setNumber(\"Mesh.SaveAll\", 1)\n",
    "\n",
    "    # Definir o tipo de elemento\n",
    "    if type == 'Quadrangle':\n",
    "        gmsh.model.mesh.setTransfiniteSurface(free_space, \"Alternate\")\n",
    "        gmsh.model.mesh.setRecombine(2, free_space)\n",
    "\n",
    "    # Define a ordem dos elementos\n",
    "    gmsh.model.mesh.generate(2)\n",
    "    gmsh.model.mesh.setOrder(order)\n",
    "\n",
    "    # Visualizar a malha no ambiente Gmsh (opcional)\n",
    "    if view_mesh:\n",
    "        gmsh.fltk.run()\n",
    "    \n",
    "    if auto_save:\n",
    "        os.makedirs(\"pre_processing/mesh\", exist_ok=True)\n",
    "        file_path = f\"pre_processing/mesh/rectangular_domain_{type}{order}.msh\"\n",
    "        gmsh.write(file_path)\n",
    "        gmsh.finalize()"
   ]
  },
  {
   "cell_type": "markdown",
   "metadata": {},
   "source": [
    "# `apply_physics()`"
   ]
  },
  {
   "cell_type": "code",
   "execution_count": null,
   "metadata": {},
   "outputs": [],
   "source": [
    "def apply_physics(FINITE_ELEMENT, mesh_data):\n",
    "    \"\"\"\n",
    "    Adiciona uma nova chave 'source' a cada dicionário em conn_data.\n",
    "    \n",
    "    Parâmetros:\n",
    "    - mesh_data: Dicionário contendo os dados da malha.\n",
    "    - element_type: Tuple (tipo do elemento, ordem).\n",
    "    \n",
    "    Retorna:\n",
    "    - mesh_data: O dicionário atualizado com a chave 'source' em cada elemento de conn_data.\n",
    "    \"\"\"\n",
    "    # Desempacotar o tipo de elemento\n",
    "    type, order = FINITE_ELEMENT\n",
    "    \n",
    "    # Função fonte\n",
    "    source_function = lambda x, y: 2 * np.pi**2 * np.sin(np.pi * x) * np.sin(np.pi * y)\n",
    "\n",
    "    for cell in mesh_data['cell'].values():\n",
    "        # Obter os índices dos nós conectados ao elemento\n",
    "        conn = cell['conn']\n",
    "\n",
    "        if type == 'Triangle':\n",
    "            # Para elementos P1, P2 ou P3, usar os 3 vértices principais\n",
    "            if order in [1, 2, 3]:\n",
    "                vertices = conn[:3]\n",
    "            else:\n",
    "                raise ValueError(\"Tipo de elemento não suportado para triângulos: P1, P2 ou P3 são esperados.\")\n",
    "\n",
    "            # Obter as coordenadas dos vértices do triângulo\n",
    "            v1, v2, v3 = [mesh_data['nodes'][idx]['xg'] for idx in vertices]\n",
    "\n",
    "            # Cálculo do baricentro\n",
    "            x_centroid = (v1[0] + v2[0] + v3[0]) / 3\n",
    "            y_centroid = (v1[1] + v2[1] + v3[1]) / 3\n",
    "\n",
    "        elif type == 'Quadrangle':\n",
    "            # Para elementos quadrangulares Q1 e Q2, considerar todos os nós\n",
    "            if order in [1, 2]:\n",
    "                vertices = conn[:4]\n",
    "            else:\n",
    "                raise ValueError(\"Tipo de elemento não suportado para quadriláteros: Q1 ou Q2 são esperados.\")\n",
    "\n",
    "            # Obter as coordenadas dos vértices do quadrilátero\n",
    "            vertex_coords = [mesh_data['nodes'][idx]['xg'] for idx in vertices]\n",
    "\n",
    "            # Cálculo do centro do elemento\n",
    "            x_centroid = sum(v[0] for v in vertex_coords) / len(vertex_coords)\n",
    "            y_centroid = sum(v[1] for v in vertex_coords) / len(vertex_coords)\n",
    "\n",
    "        else:\n",
    "            raise ValueError(\"Tipo de elemento não suportado: apenas Triangle ou Quadrilateral são esperados.\")\n",
    "\n",
    "        # Adicionar a nova chave 'material' ao dicionário da célula\n",
    "        cell['stiffness_a_value'] = cell['material']['a_constant']\n",
    "        cell['mass_a_value'] = 1\n",
    "\n",
    "        # Adicionar a nova chave 'source' ao dicionário da célula\n",
    "        cell['source'] = {\n",
    "            'type': 'analytical_source_fx',\n",
    "            'value': source_function(x_centroid, y_centroid)\n",
    "        }\n",
    "\n",
    "    return mesh_data"
   ]
  },
  {
   "cell_type": "markdown",
   "metadata": {},
   "source": [
    "# `set_analytical_solution()`"
   ]
  },
  {
   "cell_type": "code",
   "execution_count": null,
   "metadata": {},
   "outputs": [],
   "source": [
    "def potential_and_gradient(x, y):\n",
    "    u = np.sin(np.pi * x) * np.sin(np.pi * y)\n",
    "    grad_u = np.array([np.pi * np.cos(np.pi * x) * np.sin(np.pi * y),\n",
    "                       np.pi * np.sin(np.pi * x) * np.cos(np.pi * y)])\n",
    "    return u, grad_u"
   ]
  },
  {
   "cell_type": "markdown",
   "metadata": {},
   "source": [
    "# `plot_analytical_solution()`"
   ]
  },
  {
   "cell_type": "code",
   "execution_count": null,
   "metadata": {},
   "outputs": [],
   "source": [
    "def plot_analytical_solution(Npts):\n",
    "    # Definindo a solução analítica u(x, y) e a função fonte f(x, y)\n",
    "    u = lambda x, y: np.sin(np.pi * x) * np.sin(np.pi * y)\n",
    "    f = lambda x, y: 2 * np.pi**2 * np.sin(np.pi * x) * np.sin(np.pi * y)\n",
    "    \n",
    "    # Criando uma malha para o domínio [0, 1] x [0, 1]\n",
    "    x = np.linspace(0, 1, Npts)\n",
    "    y = np.linspace(0, 1, Npts)\n",
    "    mesh_x, mes_y = np.meshgrid(x, y)\n",
    "\n",
    "    # Plotando a solução u(x, y)\n",
    "    plt.figure(figsize=(12, 5))\n",
    "    plt.subplot(1, 2, 1)\n",
    "    plt.contourf(mesh_x, mes_y, u(mesh_x, mes_y), cmap='viridis')\n",
    "    plt.colorbar()\n",
    "    plt.title(r'Analytical Solution $u(x, y)$')\n",
    "    plt.xlabel(r'$x$')\n",
    "    plt.ylabel(r'$y$')\n",
    "\n",
    "    # Plotando f(x, y)\n",
    "    plt.subplot(1, 2, 2)\n",
    "    plt.contourf(mesh_x, mes_y, f(mesh_x, mes_y), cmap='gray')\n",
    "    plt.colorbar()\n",
    "    plt.title(r'Source function $f(x, y)$')\n",
    "    plt.xlabel(r'$x$')\n",
    "    plt.ylabel(r'$y$')\n",
    "    plt.tight_layout()\n",
    "    \n",
    "    # Salvar a figura\n",
    "    filepath = graph_results.get_dir(f\"pos_processing/pictures/analytical_solution.svg\")\n",
    "    plt.savefig(filepath, format=\"svg\")\n",
    "    plt.close()\n",
    "    print(f\"Arquivo salvo em: {filepath}\")"
   ]
  }
 ],
 "metadata": {
  "kernelspec": {
   "display_name": "Python 3",
   "language": "python",
   "name": "python3"
  },
  "language_info": {
   "name": "python",
   "version": "3.12.6"
  }
 },
 "nbformat": 4,
 "nbformat_minor": 2
}
