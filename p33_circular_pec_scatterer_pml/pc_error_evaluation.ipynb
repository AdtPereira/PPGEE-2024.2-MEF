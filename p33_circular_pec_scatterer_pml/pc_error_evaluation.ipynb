{
 "cells": [
  {
   "cell_type": "code",
   "execution_count": 1,
   "metadata": {},
   "outputs": [
    {
     "name": "stdout",
     "output_type": "stream",
     "text": [
      "Project root added to sys.path: C:\\Users\\adilt\\OneDrive\\05_GIT\\PPGEE-2024.2-MEF\n",
      "Todas as propriedades foram verificadas com sucesso para os elementos P1!\n",
      "Todas as propriedades foram verificadas com sucesso para os elementos P2!\n",
      "Todas as propriedades foram verificadas com sucesso para os elementos P3!\n",
      "Todas as propriedades foram verificadas com sucesso para os elementos Q1!\n",
      "Todas as propriedades foram verificadas com sucesso para os elementos Q2!\n",
      "Modules imports were successful!\n"
     ]
    }
   ],
   "source": [
    "import sys\n",
    "import numpy as np\n",
    "import import_ipynb\n",
    "from pathlib import Path\n",
    "from scipy.sparse.linalg import spsolve\n",
    "from IPython.display import SVG, display\n",
    "from scipy.constants import mu_0, epsilon_0\n",
    "\n",
    "# Adicionar o diretório raiz do projeto ao sys.path\n",
    "project_root = Path().resolve().parent  \n",
    "sys.path.append(str(project_root))\n",
    "print(\"Project root added to sys.path:\", project_root)\n",
    "\n",
    "# Importando notebooks diretamente\n",
    "try:\n",
    "    import problem_statement as ps\n",
    "    print(\"Modules imports were successful!\")\n",
    "except ModuleNotFoundError as e:\n",
    "    print(f\"Modules were not found: {e}\")\n",
    "except ImportError as e:\n",
    "    print(f\"Error in import: {e}\")"
   ]
  },
  {
   "cell_type": "markdown",
   "metadata": {},
   "source": [
    "# Project 3: Problem 3 (p33)"
   ]
  },
  {
   "cell_type": "markdown",
   "metadata": {},
   "source": [
    "## Physics Constants"
   ]
  },
  {
   "cell_type": "code",
   "execution_count": 2,
   "metadata": {},
   "outputs": [],
   "source": [
    "K0 = 2 * np.pi * 3E8 * np.sqrt(mu_0 * epsilon_0)\n",
    "WAVELENGTH = 2 * np.pi / K0"
   ]
  },
  {
   "cell_type": "markdown",
   "metadata": {},
   "source": [
    "## 3-noded Linear Triangular Elements, $P_1$"
   ]
  },
  {
   "cell_type": "code",
   "execution_count": 3,
   "metadata": {},
   "outputs": [],
   "source": [
    "FINITE_ELEMENT = (\"Triangle\", 1)\n",
    "\n",
    "BOUNDARY = [{'tag': 101, 'type': 'Dirichlet', 'value': None, 'name': 'circular_scatterer'}]\n",
    "\n",
    "MATERIAL = [{'tag': 201, 'name': 'free_space', 'relative_magnetic_permeability': 1, 'relative_electric_permittivity': 1},\n",
    "            {'tag': 301, 'name': 'PML_a','relative_magnetic_permeability': 1, 'relative_electric_permittivity': 1},\n",
    "            {'tag': 302, 'name': 'PML_b','relative_magnetic_permeability': 1, 'relative_electric_permittivity': 1},\n",
    "            {'tag': 303, 'name': 'PML_c','relative_magnetic_permeability': 1, 'relative_electric_permittivity': 1},\n",
    "            {'tag': 304, 'name': 'PML_d','relative_magnetic_permeability': 1, 'relative_electric_permittivity': 1},\n",
    "            {'tag': 401, 'name': 'PML_I','relative_magnetic_permeability': 1, 'relative_electric_permittivity': 1},\n",
    "            {'tag': 402, 'name': 'PML_II','relative_magnetic_permeability': 1, 'relative_electric_permittivity': 1},\n",
    "            {'tag': 403, 'name': 'PML_III','relative_magnetic_permeability': 1, 'relative_electric_permittivity': 1},\n",
    "            {'tag': 404, 'name': 'PML_IV','relative_magnetic_permeability': 1, 'relative_electric_permittivity': 1}]\n"
   ]
  },
  {
   "cell_type": "markdown",
   "metadata": {},
   "source": [
    "## FEM Formulation"
   ]
  },
  {
   "cell_type": "code",
   "execution_count": 4,
   "metadata": {},
   "outputs": [
    {
     "name": "stdout",
     "output_type": "stream",
     "text": [
      "Malha salva em pre_processing/mesh/rectangular_pml_domain_Triangle1.msh\n",
      "Model rectangular_pml (2D)\n",
      "Info     : 51 geometric entities\n",
      "Info     : 10 Physical Groups\n",
      "Info     : 3905 nodes in total\n",
      "Info     : 7491 2 elements in total\n",
      "Malha salva em pre_processing/mesh/rectangular_pml_domain_Triangle1.msh\n",
      "Model rectangular_pml (2D)\n",
      "Info     : 51 geometric entities\n",
      "Info     : 10 Physical Groups\n",
      "Info     : 4674 nodes in total\n",
      "Info     : 9005 2 elements in total\n",
      "Malha salva em pre_processing/mesh/rectangular_pml_domain_Triangle1.msh\n",
      "Model rectangular_pml (2D)\n",
      "Info     : 51 geometric entities\n",
      "Info     : 10 Physical Groups\n",
      "Info     : 5478 nodes in total\n",
      "Info     : 10597 2 elements in total\n",
      "Error dictionary:\n",
      " {0.2: 0.6449982767319129, 0.3: 0.34199621353873255, 0.4: 0.05104745887471685}\n"
     ]
    }
   ],
   "source": [
    "error_dict = {}\n",
    "for L_value in [0.2, 0.3, 0.4]:\n",
    "    # Criar geometria\n",
    "    GEOMETRY = {'h': WAVELENGTH/25, 'L': WAVELENGTH*L_value, 'ra': WAVELENGTH*0.5, 'x0': 1*WAVELENGTH}\n",
    "    mesh_data = ps.create_p4_domain(FINITE_ELEMENT, BOUNDARY, MATERIAL, GEOMETRY, view_mesh=False)\n",
    "\n",
    "    # Parâmetros da PML\n",
    "    PML_DESIGN = {'x0': GEOMETRY['x0'], 'n': 2.0, 'R': 1E-4}\n",
    "\n",
    "    # Aplicar as propriedades da PML\n",
    "    mesh_data = ps.apply_pml_physics(FINITE_ELEMENT, PML_DESIGN, mesh_data)\n",
    "\n",
    "    # Montagem das matrizes globais\n",
    "    Sg, Mg, bg = ps.pml_global_matrices(FINITE_ELEMENT, mesh_data)\n",
    "\n",
    "    # Aplicar condições de contorno ABC\n",
    "    Sg, Mg, bg = ps.apply_simple_bcs(Sg, Mg, bg, mesh_data)\n",
    "\n",
    "    # Solução do problema matricial\n",
    "    uh = spsolve((Sg + Mg).tocsr(), bg.toarray())\n",
    "\n",
    "    # Dicionário com os resultados numéricos\n",
    "    ezh = {key+1: value for key, value in enumerate(uh)}\n",
    "\n",
    "    # Domínio físico do problema\n",
    "    physical_mesh_data = ps.get_physical_mesh_data(mesh_data)\n",
    "    ez_phy = {key: ps.ez_at_node(node, GEOMETRY['ra'])\n",
    "                for key, node in physical_mesh_data['nodes'].items()}\n",
    "    \n",
    "    # Filtrar a solução numérica para o domínio físico\n",
    "    ezh_phy = {key: ezh[key] \n",
    "               for key in mesh_data['nodes'] if key in physical_mesh_data['nodes']}\n",
    "    \n",
    "    # Cálculo do erro\n",
    "    ez_exact = np.array(list(ez_phy.values()))\n",
    "    ez_approx = np.array(list(ezh_phy.values()))\n",
    "    error_dict[L_value] = ps.calculate_error(ez_exact, ez_approx)\n",
    "\n",
    "print(\"Error dictionary:\\n\", error_dict)"
   ]
  },
  {
   "cell_type": "markdown",
   "metadata": {},
   "source": [
    "Conversão do arquivo Jupyter Notebook para um script Python: ``python -m nbconvert --to script name.ipynb``\n",
    "\n",
    "Belo Horizonte, Brazil. 2025.  \n",
    "Adilton Junio Ladeira Pereira - adt@ufmg.br  \n",
    "&copy; All rights reserved."
   ]
  }
 ],
 "metadata": {
  "kernelspec": {
   "display_name": "Python 3",
   "language": "python",
   "name": "python3"
  },
  "language_info": {
   "codemirror_mode": {
    "name": "ipython",
    "version": 3
   },
   "file_extension": ".py",
   "mimetype": "text/x-python",
   "name": "python",
   "nbconvert_exporter": "python",
   "pygments_lexer": "ipython3",
   "version": "3.12.8"
  }
 },
 "nbformat": 4,
 "nbformat_minor": 2
}
